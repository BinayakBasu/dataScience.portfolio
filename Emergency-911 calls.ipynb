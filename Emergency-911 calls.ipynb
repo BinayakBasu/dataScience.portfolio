{
 "cells": [
  {
   "cell_type": "markdown",
   "metadata": {},
   "source": [
    "# 911 calls capstone project"
   ]
  },
  {
   "cell_type": "code",
   "execution_count": 1,
   "metadata": {},
   "outputs": [],
   "source": [
    "# importing libraries \n",
    "import pandas as pd \n",
    "import numpy as np \n",
    "import matplotlib.pyplot as plt \n",
    "import seaborn as sns \n",
    "%matplotlib inline\n",
    "sns.set_style('darkgrid')\n",
    "import datetime"
   ]
  },
  {
   "cell_type": "code",
   "execution_count": 2,
   "metadata": {},
   "outputs": [],
   "source": [
    "# read data using the pandas \n",
    "data_911 = pd.read_csv(\"911.csv\")"
   ]
  },
  {
   "cell_type": "markdown",
   "metadata": {},
   "source": [
    "## A. Basic dataset exploration "
   ]
  },
  {
   "cell_type": "code",
   "execution_count": 3,
   "metadata": {},
   "outputs": [
    {
     "data": {
      "text/plain": [
       "(663522, 9)"
      ]
     },
     "execution_count": 3,
     "metadata": {},
     "output_type": "execute_result"
    }
   ],
   "source": [
    "# shape of the data \n",
    "data_911.shape"
   ]
  },
  {
   "cell_type": "markdown",
   "metadata": {},
   "source": [
    "The pandas .shape attribute returns the overall structure of data in a tuple.\n",
    "\n",
    "Here there are 663522 rows and 9 columns"
   ]
  },
  {
   "cell_type": "code",
   "execution_count": 4,
   "metadata": {},
   "outputs": [
    {
     "data": {
      "text/plain": [
       "lat          float64\n",
       "lng          float64\n",
       "desc          object\n",
       "zip          float64\n",
       "title         object\n",
       "timeStamp     object\n",
       "twp           object\n",
       "addr          object\n",
       "e              int64\n",
       "dtype: object"
      ]
     },
     "execution_count": 4,
     "metadata": {},
     "output_type": "execute_result"
    }
   ],
   "source": [
    "# data types of various columns \n",
    "data_911.dtypes "
   ]
  },
  {
   "cell_type": "markdown",
   "metadata": {},
   "source": [
    "The description of the columns are noted down below as available in kaggle\n",
    "\n",
    "1. lat : latitude \n",
    "\n",
    "2. lng : longitude \n",
    "\n",
    "3. desc : Description of Emergency\n",
    "\n",
    "4. zip = zip code \n",
    "\n",
    "5. title : Title of Emergency\n",
    "\n",
    "6. timeStamp : Date and time of the call\n",
    "\n",
    "7. twp : Township\n",
    "\n",
    "8. addr : general address\n",
    "\n",
    "9. e : Index column, always 1"
   ]
  },
  {
   "cell_type": "markdown",
   "metadata": {},
   "source": [
    "**Looking for mismatch of data types**: lat, lng , zip must be of type string"
   ]
  },
  {
   "cell_type": "code",
   "execution_count": 5,
   "metadata": {},
   "outputs": [],
   "source": [
    "# using dictionary to convert specific columns\n",
    "convert_dict = {'lat':str , 'lng': str, 'zip': str} \n",
    "data_911 = data_911.astype(convert_dict) # using .astype attribute to convert the sata type "
   ]
  },
  {
   "cell_type": "code",
   "execution_count": 6,
   "metadata": {},
   "outputs": [
    {
     "name": "stdout",
     "output_type": "stream",
     "text": [
      "<class 'pandas.core.frame.DataFrame'>\n",
      "RangeIndex: 663522 entries, 0 to 663521\n",
      "Data columns (total 9 columns):\n",
      " #   Column     Non-Null Count   Dtype \n",
      "---  ------     --------------   ----- \n",
      " 0   lat        663522 non-null  object\n",
      " 1   lng        663522 non-null  object\n",
      " 2   desc       663522 non-null  object\n",
      " 3   zip        663522 non-null  object\n",
      " 4   title      663522 non-null  object\n",
      " 5   timeStamp  663522 non-null  object\n",
      " 6   twp        663229 non-null  object\n",
      " 7   addr       663522 non-null  object\n",
      " 8   e          663522 non-null  int64 \n",
      "dtypes: int64(1), object(8)\n",
      "memory usage: 25.3+ MB\n"
     ]
    }
   ],
   "source": [
    "data_911.info()"
   ]
  },
  {
   "cell_type": "code",
   "execution_count": 7,
   "metadata": {},
   "outputs": [
    {
     "data": {
      "text/plain": [
       "0    2015-12-10 17:10:52\n",
       "1    2015-12-10 17:29:21\n",
       "2    2015-12-10 14:39:21\n",
       "3    2015-12-10 16:47:36\n",
       "4    2015-12-10 16:56:52\n",
       "5    2015-12-10 15:39:04\n",
       "6    2015-12-10 16:46:48\n",
       "7    2015-12-10 16:17:05\n",
       "8    2015-12-10 16:51:42\n",
       "9    2015-12-10 17:35:41\n",
       "Name: timeStamp, dtype: object"
      ]
     },
     "execution_count": 7,
     "metadata": {},
     "output_type": "execute_result"
    }
   ],
   "source": [
    "data_911['timeStamp'][:10]"
   ]
  },
  {
   "cell_type": "markdown",
   "metadata": {},
   "source": [
    "**convert timeStamp to datetime format**"
   ]
  },
  {
   "cell_type": "code",
   "execution_count": 8,
   "metadata": {},
   "outputs": [
    {
     "name": "stdout",
     "output_type": "stream",
     "text": [
      "<class 'pandas.core.frame.DataFrame'>\n",
      "RangeIndex: 663522 entries, 0 to 663521\n",
      "Data columns (total 9 columns):\n",
      " #   Column     Non-Null Count   Dtype         \n",
      "---  ------     --------------   -----         \n",
      " 0   lat        663522 non-null  object        \n",
      " 1   lng        663522 non-null  object        \n",
      " 2   desc       663522 non-null  object        \n",
      " 3   zip        663522 non-null  object        \n",
      " 4   title      663522 non-null  object        \n",
      " 5   timeStamp  663522 non-null  datetime64[ns]\n",
      " 6   twp        663229 non-null  object        \n",
      " 7   addr       663522 non-null  object        \n",
      " 8   e          663522 non-null  int64         \n",
      "dtypes: datetime64[ns](1), int64(1), object(7)\n",
      "memory usage: 27.8+ MB\n"
     ]
    }
   ],
   "source": [
    "data_911['timeStamp']=pd.to_datetime(data_911['timeStamp'], format='%Y-%m-%d %H:%M:%S.%f')\n",
    "data_911.info()"
   ]
  },
  {
   "cell_type": "code",
   "execution_count": 9,
   "metadata": {},
   "outputs": [
    {
     "name": "stdout",
     "output_type": "stream",
     "text": [
      "<class 'pandas.core.frame.DataFrame'>\n",
      "RangeIndex: 663522 entries, 0 to 663521\n",
      "Data columns (total 11 columns):\n",
      " #   Column     Non-Null Count   Dtype         \n",
      "---  ------     --------------   -----         \n",
      " 0   lat        663522 non-null  object        \n",
      " 1   lng        663522 non-null  object        \n",
      " 2   desc       663522 non-null  object        \n",
      " 3   zip        663522 non-null  object        \n",
      " 4   title      663522 non-null  object        \n",
      " 5   timeStamp  663522 non-null  datetime64[ns]\n",
      " 6   twp        663229 non-null  object        \n",
      " 7   addr       663522 non-null  object        \n",
      " 8   e          663522 non-null  int64         \n",
      " 9   date       663522 non-null  object        \n",
      " 10  time       663522 non-null  object        \n",
      "dtypes: datetime64[ns](1), int64(1), object(9)\n",
      "memory usage: 32.9+ MB\n"
     ]
    }
   ],
   "source": [
    "#extracting the date and time from timeStamp\n",
    "data_911['date']=data_911['timeStamp'].dt.date\n",
    "data_911['time']=data_911['timeStamp'].dt.time\n",
    "data_911.info()"
   ]
  },
  {
   "cell_type": "code",
   "execution_count": 10,
   "metadata": {},
   "outputs": [],
   "source": [
    "#from date creating 3 new features which are day, month , year\n",
    "data_911['date']=data_911['date'].astype('str')\n",
    "\n",
    "day=[]\n",
    "month=[]\n",
    "year=[]\n",
    "for dates in data_911.index:\n",
    "    day.append(data_911['date'][dates].split('-')[2])\n",
    "    month.append(data_911['date'][dates].split('-')[1])\n",
    "    year.append(data_911['date'][dates].split('-')[0])\n",
    "    \n",
    "data_911['day']=day\n",
    "data_911['month']=month\n",
    "data_911['year']=year"
   ]
  },
  {
   "cell_type": "code",
   "execution_count": 11,
   "metadata": {},
   "outputs": [
    {
     "data": {
      "text/plain": [
       "array(['12', '01', '02', '03', '04', '05', '06', '07', '08', '09', '10',\n",
       "       '11'], dtype=object)"
      ]
     },
     "execution_count": 11,
     "metadata": {},
     "output_type": "execute_result"
    }
   ],
   "source": [
    "data_911['month'].unique()"
   ]
  },
  {
   "cell_type": "code",
   "execution_count": 12,
   "metadata": {},
   "outputs": [],
   "source": [
    "month_convert = {'01':'Jan','02':'Feb','03':'Mar','04':'Apr','05':'May','06':'Jun','07':'Jul',\n",
    "                '08':'Aug','09':'Sep','10':'Oct','11':'Nov','12':'Dec'}\n",
    "data_911['month']=data_911['month'].replace(month_convert)"
   ]
  },
  {
   "cell_type": "code",
   "execution_count": 13,
   "metadata": {},
   "outputs": [
    {
     "data": {
      "text/plain": [
       "array(['Dec', 'Jan', 'Feb', 'Mar', 'Apr', 'May', 'Jun', 'Jul', 'Aug',\n",
       "       'Sep', 'Oct', 'Nov'], dtype=object)"
      ]
     },
     "execution_count": 13,
     "metadata": {},
     "output_type": "execute_result"
    }
   ],
   "source": [
    "data_911['month'].unique()"
   ]
  },
  {
   "cell_type": "code",
   "execution_count": 14,
   "metadata": {},
   "outputs": [
    {
     "data": {
      "text/plain": [
       "array(['2015', '2016', '2017', '2018', '2019', '2020'], dtype=object)"
      ]
     },
     "execution_count": 14,
     "metadata": {},
     "output_type": "execute_result"
    }
   ],
   "source": [
    "data_911['year'].unique()"
   ]
  },
  {
   "cell_type": "code",
   "execution_count": 15,
   "metadata": {},
   "outputs": [
    {
     "data": {
      "text/plain": [
       "array(['10', '11', '12', '13', '14', '15', '16', '17', '18', '19', '20',\n",
       "       '21', '22', '23', '24', '25', '26', '27', '28', '29', '30', '31',\n",
       "       '01', '02', '03', '04', '05', '06', '07', '08', '09'], dtype=object)"
      ]
     },
     "execution_count": 15,
     "metadata": {},
     "output_type": "execute_result"
    }
   ],
   "source": [
    "data_911['day'].unique()"
   ]
  },
  {
   "cell_type": "code",
   "execution_count": 16,
   "metadata": {},
   "outputs": [
    {
     "data": {
      "text/plain": [
       "0    17:10:52\n",
       "1    17:29:21\n",
       "2    14:39:21\n",
       "3    16:47:36\n",
       "4    16:56:52\n",
       "5    15:39:04\n",
       "6    16:46:48\n",
       "7    16:17:05\n",
       "8    16:51:42\n",
       "9    17:35:41\n",
       "Name: time, dtype: object"
      ]
     },
     "execution_count": 16,
     "metadata": {},
     "output_type": "execute_result"
    }
   ],
   "source": [
    "data_911['time']=data_911['time'].astype('str')\n",
    "data_911['time'][:10]"
   ]
  },
  {
   "cell_type": "markdown",
   "metadata": {},
   "source": [
    "**Parts of the Day.**\n",
    "\n",
    "Morning 5 am to 12 pm (noon)\n",
    "\n",
    "Afternoon 12 pm to 5 pm.\n",
    "\n",
    "Evening 5 pm to 9 pm.\n",
    "\n",
    "Night 9 pm to 4 am."
   ]
  },
  {
   "cell_type": "code",
   "execution_count": 17,
   "metadata": {},
   "outputs": [],
   "source": [
    "# creating a new feature part of day\n",
    "hour=[]\n",
    "for time in data_911.index:\n",
    "    hour.append(data_911['time'][time].split(':')[0])\n",
    "\n",
    "data_911['part_of_day'] = hour"
   ]
  },
  {
   "cell_type": "code",
   "execution_count": 18,
   "metadata": {},
   "outputs": [
    {
     "data": {
      "text/plain": [
       "array(['17', '14', '16', '15', '18', '19', '20', '21', '22', '23', '00',\n",
       "       '01', '02', '03', '04', '05', '06', '07', '08', '09', '10', '11',\n",
       "       '12', '13'], dtype=object)"
      ]
     },
     "execution_count": 18,
     "metadata": {},
     "output_type": "execute_result"
    }
   ],
   "source": [
    "data_911['part_of_day'].unique()"
   ]
  },
  {
   "cell_type": "code",
   "execution_count": 19,
   "metadata": {},
   "outputs": [],
   "source": [
    "part_of_day_convert = {\n",
    "    '17':'Evening',\n",
    "    '14':'Afternoon',\n",
    "    '16':'Afternoon',\n",
    "    '15':'Afternoon', \n",
    "    '18':'Evening', \n",
    "    '19':'Evening', \n",
    "    '20':'Evening', \n",
    "    '21':'Night', \n",
    "    '22':'Night', \n",
    "    '23':'Night', \n",
    "    '00':'Night',\n",
    "    '01':'Night', \n",
    "    '02':'Night', \n",
    "    '03':'Night', \n",
    "    '04':'Night', \n",
    "    '05':'Morning', \n",
    "    '06':'Morning', \n",
    "    '07':'Morning', \n",
    "    '08':'Morning', \n",
    "    '09':'Morning', \n",
    "    '10':'Morning', \n",
    "    '11':'Morning', \n",
    "    '12':'Afternoon',\n",
    "    '13':'Afternoon'\n",
    "}\n",
    "\n",
    "data_911['part_of_day']=data_911['part_of_day'].replace(part_of_day_convert)"
   ]
  },
  {
   "cell_type": "code",
   "execution_count": 20,
   "metadata": {},
   "outputs": [
    {
     "data": {
      "text/plain": [
       "array(['Evening', 'Afternoon', 'Night', 'Morning'], dtype=object)"
      ]
     },
     "execution_count": 20,
     "metadata": {},
     "output_type": "execute_result"
    }
   ],
   "source": [
    "data_911['part_of_day'].unique()"
   ]
  },
  {
   "cell_type": "code",
   "execution_count": 21,
   "metadata": {},
   "outputs": [
    {
     "name": "stdout",
     "output_type": "stream",
     "text": [
      "<class 'pandas.core.frame.DataFrame'>\n",
      "RangeIndex: 663522 entries, 0 to 663521\n",
      "Data columns (total 15 columns):\n",
      " #   Column       Non-Null Count   Dtype         \n",
      "---  ------       --------------   -----         \n",
      " 0   lat          663522 non-null  object        \n",
      " 1   lng          663522 non-null  object        \n",
      " 2   desc         663522 non-null  object        \n",
      " 3   zip          663522 non-null  object        \n",
      " 4   title        663522 non-null  object        \n",
      " 5   timeStamp    663522 non-null  datetime64[ns]\n",
      " 6   twp          663229 non-null  object        \n",
      " 7   addr         663522 non-null  object        \n",
      " 8   e            663522 non-null  int64         \n",
      " 9   date         663522 non-null  datetime64[ns]\n",
      " 10  time         663522 non-null  datetime64[ns]\n",
      " 11  day          663522 non-null  object        \n",
      " 12  month        663522 non-null  object        \n",
      " 13  year         663522 non-null  object        \n",
      " 14  part_of_day  663522 non-null  object        \n",
      "dtypes: datetime64[ns](3), int64(1), object(11)\n",
      "memory usage: 48.1+ MB\n"
     ]
    }
   ],
   "source": [
    "data_911['date']=pd.to_datetime(data_911['date'], format='%Y-%m-%d')\n",
    "data_911['time']=pd.to_datetime(data_911['time'], format='%H:%M:%S')\n",
    "data_911.info()"
   ]
  },
  {
   "cell_type": "code",
   "execution_count": 22,
   "metadata": {},
   "outputs": [
    {
     "name": "stdout",
     "output_type": "stream",
     "text": [
      "<class 'pandas.core.frame.DataFrame'>\n",
      "RangeIndex: 663522 entries, 0 to 663521\n",
      "Data columns (total 16 columns):\n",
      " #   Column       Non-Null Count   Dtype         \n",
      "---  ------       --------------   -----         \n",
      " 0   lat          663522 non-null  object        \n",
      " 1   lng          663522 non-null  object        \n",
      " 2   desc         663522 non-null  object        \n",
      " 3   zip          663522 non-null  object        \n",
      " 4   title        663522 non-null  object        \n",
      " 5   timeStamp    663522 non-null  datetime64[ns]\n",
      " 6   twp          663229 non-null  object        \n",
      " 7   addr         663522 non-null  object        \n",
      " 8   e            663522 non-null  int64         \n",
      " 9   date         663522 non-null  datetime64[ns]\n",
      " 10  time         663522 non-null  datetime64[ns]\n",
      " 11  day          663522 non-null  object        \n",
      " 12  month        663522 non-null  object        \n",
      " 13  year         663522 non-null  object        \n",
      " 14  part_of_day  663522 non-null  object        \n",
      " 15  dow          663522 non-null  int64         \n",
      "dtypes: datetime64[ns](3), int64(2), object(11)\n",
      "memory usage: 53.2+ MB\n"
     ]
    }
   ],
   "source": [
    "# creating another feature dow( day of week) from date sp that I can later drop the day variable\n",
    "data_911['dow']= data_911['date'].dt.dayofweek\n",
    "data_911.info()"
   ]
  },
  {
   "cell_type": "code",
   "execution_count": 23,
   "metadata": {},
   "outputs": [
    {
     "name": "stdout",
     "output_type": "stream",
     "text": [
      "<class 'pandas.core.frame.DataFrame'>\n",
      "RangeIndex: 663522 entries, 0 to 663521\n",
      "Data columns (total 16 columns):\n",
      " #   Column       Non-Null Count   Dtype         \n",
      "---  ------       --------------   -----         \n",
      " 0   lat          663522 non-null  object        \n",
      " 1   lng          663522 non-null  object        \n",
      " 2   desc         663522 non-null  object        \n",
      " 3   zip          663522 non-null  object        \n",
      " 4   title        663522 non-null  object        \n",
      " 5   timeStamp    663522 non-null  datetime64[ns]\n",
      " 6   twp          663229 non-null  object        \n",
      " 7   addr         663522 non-null  object        \n",
      " 8   e            663522 non-null  int64         \n",
      " 9   date         663522 non-null  datetime64[ns]\n",
      " 10  time         663522 non-null  datetime64[ns]\n",
      " 11  day          663522 non-null  object        \n",
      " 12  month        663522 non-null  object        \n",
      " 13  year         663522 non-null  object        \n",
      " 14  part_of_day  663522 non-null  object        \n",
      " 15  dow          663522 non-null  object        \n",
      "dtypes: datetime64[ns](3), int64(1), object(12)\n",
      "memory usage: 50.6+ MB\n"
     ]
    }
   ],
   "source": [
    "dow_convert = {'6':'Sun','0':'Mon','1':'Tue','2':'Wed','3':'Thur','4':'Fri','5':'Sat'}\n",
    "\n",
    "data_911['dow'] = data_911['dow'].astype('str')\n",
    "data_911['dow'] = data_911['dow'].replace(dow_convert)\n",
    "\n",
    "data_911.info()"
   ]
  },
  {
   "cell_type": "markdown",
   "metadata": {},
   "source": [
    "**Drop time,timeStamp,day**"
   ]
  },
  {
   "cell_type": "code",
   "execution_count": 24,
   "metadata": {},
   "outputs": [],
   "source": [
    "data_911=data_911.drop(['timeStamp','day','time'], axis=1)"
   ]
  },
  {
   "cell_type": "code",
   "execution_count": 25,
   "metadata": {},
   "outputs": [
    {
     "name": "stdout",
     "output_type": "stream",
     "text": [
      "<class 'pandas.core.frame.DataFrame'>\n",
      "RangeIndex: 663522 entries, 0 to 663521\n",
      "Data columns (total 13 columns):\n",
      " #   Column       Non-Null Count   Dtype         \n",
      "---  ------       --------------   -----         \n",
      " 0   lat          663522 non-null  object        \n",
      " 1   lng          663522 non-null  object        \n",
      " 2   desc         663522 non-null  object        \n",
      " 3   zip          663522 non-null  object        \n",
      " 4   title        663522 non-null  object        \n",
      " 5   twp          663229 non-null  object        \n",
      " 6   addr         663522 non-null  object        \n",
      " 7   e            663522 non-null  int64         \n",
      " 8   date         663522 non-null  datetime64[ns]\n",
      " 9   month        663522 non-null  object        \n",
      " 10  year         663522 non-null  object        \n",
      " 11  part_of_day  663522 non-null  object        \n",
      " 12  dow          663522 non-null  object        \n",
      "dtypes: datetime64[ns](1), int64(1), object(11)\n",
      "memory usage: 38.0+ MB\n"
     ]
    }
   ],
   "source": [
    "data_911.info()"
   ]
  },
  {
   "cell_type": "code",
   "execution_count": 26,
   "metadata": {},
   "outputs": [
    {
     "data": {
      "text/html": [
       "<div>\n",
       "<style scoped>\n",
       "    .dataframe tbody tr th:only-of-type {\n",
       "        vertical-align: middle;\n",
       "    }\n",
       "\n",
       "    .dataframe tbody tr th {\n",
       "        vertical-align: top;\n",
       "    }\n",
       "\n",
       "    .dataframe thead th {\n",
       "        text-align: right;\n",
       "    }\n",
       "</style>\n",
       "<table border=\"1\" class=\"dataframe\">\n",
       "  <thead>\n",
       "    <tr style=\"text-align: right;\">\n",
       "      <th></th>\n",
       "      <th>lat</th>\n",
       "      <th>lng</th>\n",
       "      <th>desc</th>\n",
       "      <th>zip</th>\n",
       "      <th>title</th>\n",
       "      <th>twp</th>\n",
       "      <th>addr</th>\n",
       "      <th>e</th>\n",
       "      <th>date</th>\n",
       "      <th>month</th>\n",
       "      <th>year</th>\n",
       "      <th>part_of_day</th>\n",
       "      <th>dow</th>\n",
       "    </tr>\n",
       "  </thead>\n",
       "  <tbody>\n",
       "    <tr>\n",
       "      <th>86568</th>\n",
       "      <td>40.119318</td>\n",
       "      <td>-75.35226870000001</td>\n",
       "      <td>KOHN ST &amp; W AIRY ST;  NORRISTOWN; Station 308A...</td>\n",
       "      <td>19401.0</td>\n",
       "      <td>EMS: SUBJECT IN PAIN</td>\n",
       "      <td>NORRISTOWN</td>\n",
       "      <td>KOHN ST &amp; W AIRY ST</td>\n",
       "      <td>1</td>\n",
       "      <td>2016-07-23</td>\n",
       "      <td>Jul</td>\n",
       "      <td>2016</td>\n",
       "      <td>Night</td>\n",
       "      <td>Sat</td>\n",
       "    </tr>\n",
       "    <tr>\n",
       "      <th>174036</th>\n",
       "      <td>40.25566</td>\n",
       "      <td>-75.4524733</td>\n",
       "      <td>HALDEMAN RD &amp; DIEBER RD;  PERKIOMEN; Station 3...</td>\n",
       "      <td>19473.0</td>\n",
       "      <td>EMS: CARDIAC EMERGENCY</td>\n",
       "      <td>PERKIOMEN</td>\n",
       "      <td>HALDEMAN RD &amp; DIEBER RD</td>\n",
       "      <td>1</td>\n",
       "      <td>2017-03-06</td>\n",
       "      <td>Mar</td>\n",
       "      <td>2017</td>\n",
       "      <td>Morning</td>\n",
       "      <td>Mon</td>\n",
       "    </tr>\n",
       "    <tr>\n",
       "      <th>139396</th>\n",
       "      <td>40.0832162</td>\n",
       "      <td>-75.0922116</td>\n",
       "      <td>ELM AVE &amp; HUNTINGDON PIKE; ROCKLEDGE; 2016-12-...</td>\n",
       "      <td>19046.0</td>\n",
       "      <td>Traffic: VEHICLE ACCIDENT -</td>\n",
       "      <td>ROCKLEDGE</td>\n",
       "      <td>ELM AVE &amp; HUNTINGDON PIKE</td>\n",
       "      <td>1</td>\n",
       "      <td>2016-12-04</td>\n",
       "      <td>Dec</td>\n",
       "      <td>2016</td>\n",
       "      <td>Morning</td>\n",
       "      <td>Sun</td>\n",
       "    </tr>\n",
       "    <tr>\n",
       "      <th>451208</th>\n",
       "      <td>40.171463</td>\n",
       "      <td>-75.109705</td>\n",
       "      <td>YORK RD &amp; HORSHAM RD;  HATBORO; Station 384; 2...</td>\n",
       "      <td>19040.0</td>\n",
       "      <td>EMS: SUBJECT IN PAIN</td>\n",
       "      <td>HATBORO</td>\n",
       "      <td>YORK RD &amp; HORSHAM RD</td>\n",
       "      <td>1</td>\n",
       "      <td>2019-01-24</td>\n",
       "      <td>Jan</td>\n",
       "      <td>2019</td>\n",
       "      <td>Morning</td>\n",
       "      <td>Thur</td>\n",
       "    </tr>\n",
       "    <tr>\n",
       "      <th>467732</th>\n",
       "      <td>40.3246615</td>\n",
       "      <td>-75.32748470000001</td>\n",
       "      <td>N MAIN ST &amp; E LINCOLN AVE; TELFORD; 2019-03-04...</td>\n",
       "      <td>18969.0</td>\n",
       "      <td>Traffic: ROAD OBSTRUCTION -</td>\n",
       "      <td>TELFORD</td>\n",
       "      <td>N MAIN ST &amp; E LINCOLN AVE</td>\n",
       "      <td>1</td>\n",
       "      <td>2019-03-04</td>\n",
       "      <td>Mar</td>\n",
       "      <td>2019</td>\n",
       "      <td>Morning</td>\n",
       "      <td>Mon</td>\n",
       "    </tr>\n",
       "  </tbody>\n",
       "</table>\n",
       "</div>"
      ],
      "text/plain": [
       "               lat                 lng  \\\n",
       "86568    40.119318  -75.35226870000001   \n",
       "174036    40.25566         -75.4524733   \n",
       "139396  40.0832162         -75.0922116   \n",
       "451208   40.171463          -75.109705   \n",
       "467732  40.3246615  -75.32748470000001   \n",
       "\n",
       "                                                     desc      zip  \\\n",
       "86568   KOHN ST & W AIRY ST;  NORRISTOWN; Station 308A...  19401.0   \n",
       "174036  HALDEMAN RD & DIEBER RD;  PERKIOMEN; Station 3...  19473.0   \n",
       "139396  ELM AVE & HUNTINGDON PIKE; ROCKLEDGE; 2016-12-...  19046.0   \n",
       "451208  YORK RD & HORSHAM RD;  HATBORO; Station 384; 2...  19040.0   \n",
       "467732  N MAIN ST & E LINCOLN AVE; TELFORD; 2019-03-04...  18969.0   \n",
       "\n",
       "                              title         twp                       addr  e  \\\n",
       "86568          EMS: SUBJECT IN PAIN  NORRISTOWN        KOHN ST & W AIRY ST  1   \n",
       "174036       EMS: CARDIAC EMERGENCY   PERKIOMEN    HALDEMAN RD & DIEBER RD  1   \n",
       "139396  Traffic: VEHICLE ACCIDENT -   ROCKLEDGE  ELM AVE & HUNTINGDON PIKE  1   \n",
       "451208         EMS: SUBJECT IN PAIN     HATBORO       YORK RD & HORSHAM RD  1   \n",
       "467732  Traffic: ROAD OBSTRUCTION -     TELFORD  N MAIN ST & E LINCOLN AVE  1   \n",
       "\n",
       "             date month  year part_of_day   dow  \n",
       "86568  2016-07-23   Jul  2016       Night   Sat  \n",
       "174036 2017-03-06   Mar  2017     Morning   Mon  \n",
       "139396 2016-12-04   Dec  2016     Morning   Sun  \n",
       "451208 2019-01-24   Jan  2019     Morning  Thur  \n",
       "467732 2019-03-04   Mar  2019     Morning   Mon  "
      ]
     },
     "execution_count": 26,
     "metadata": {},
     "output_type": "execute_result"
    }
   ],
   "source": [
    "data_911.sample(5)# displays any random 5 observations (rows)"
   ]
  },
  {
   "cell_type": "markdown",
   "metadata": {},
   "source": [
    "**Dealing with the missing values**"
   ]
  },
  {
   "cell_type": "code",
   "execution_count": 27,
   "metadata": {},
   "outputs": [
    {
     "data": {
      "text/plain": [
       "lat            0.000000\n",
       "lng            0.000000\n",
       "desc           0.000000\n",
       "zip            0.000000\n",
       "title          0.000000\n",
       "twp            0.000442\n",
       "addr           0.000000\n",
       "e              0.000000\n",
       "date           0.000000\n",
       "month          0.000000\n",
       "year           0.000000\n",
       "part_of_day    0.000000\n",
       "dow            0.000000\n",
       "dtype: float64"
      ]
     },
     "execution_count": 27,
     "metadata": {},
     "output_type": "execute_result"
    }
   ],
   "source": [
    "data_911.isnull().mean()"
   ]
  },
  {
   "cell_type": "markdown",
   "metadata": {},
   "source": [
    "**So there is 0.04% missing values in twp**"
   ]
  },
  {
   "cell_type": "code",
   "execution_count": 28,
   "metadata": {},
   "outputs": [
    {
     "data": {
      "text/plain": [
       "LOWER MERION       55490\n",
       "ABINGTON           39947\n",
       "NORRISTOWN         37633\n",
       "UPPER MERION       36010\n",
       "CHELTENHAM         30574\n",
       "                   ...  \n",
       "EAST GREENVILLE     1316\n",
       "BRYN ATHYN          1254\n",
       "GREEN LANE           385\n",
       "PHILA COUNTY         267\n",
       "LEHIGH COUNTY        190\n",
       "Name: twp, Length: 68, dtype: int64"
      ]
     },
     "execution_count": 28,
     "metadata": {},
     "output_type": "execute_result"
    }
   ],
   "source": [
    "data_911['twp'].value_counts()"
   ]
  },
  {
   "cell_type": "markdown",
   "metadata": {},
   "source": [
    "**Since LOWER MERION is the undouted mode for twp I can replace the NA values with 'LOWER MERION' in twp column**"
   ]
  },
  {
   "cell_type": "code",
   "execution_count": 29,
   "metadata": {},
   "outputs": [],
   "source": [
    "data_911['twp'].fillna(value = 'LOWER MERION', inplace = True)"
   ]
  },
  {
   "cell_type": "code",
   "execution_count": 30,
   "metadata": {},
   "outputs": [
    {
     "data": {
      "text/plain": [
       "lat            0.0\n",
       "lng            0.0\n",
       "desc           0.0\n",
       "zip            0.0\n",
       "title          0.0\n",
       "twp            0.0\n",
       "addr           0.0\n",
       "e              0.0\n",
       "date           0.0\n",
       "month          0.0\n",
       "year           0.0\n",
       "part_of_day    0.0\n",
       "dow            0.0\n",
       "dtype: float64"
      ]
     },
     "execution_count": 30,
     "metadata": {},
     "output_type": "execute_result"
    }
   ],
   "source": [
    "data_911.isnull().mean()"
   ]
  },
  {
   "cell_type": "markdown",
   "metadata": {},
   "source": [
    "**Searching for duplicated values**"
   ]
  },
  {
   "cell_type": "code",
   "execution_count": 31,
   "metadata": {},
   "outputs": [
    {
     "data": {
      "text/html": [
       "<div>\n",
       "<style scoped>\n",
       "    .dataframe tbody tr th:only-of-type {\n",
       "        vertical-align: middle;\n",
       "    }\n",
       "\n",
       "    .dataframe tbody tr th {\n",
       "        vertical-align: top;\n",
       "    }\n",
       "\n",
       "    .dataframe thead th {\n",
       "        text-align: right;\n",
       "    }\n",
       "</style>\n",
       "<table border=\"1\" class=\"dataframe\">\n",
       "  <thead>\n",
       "    <tr style=\"text-align: right;\">\n",
       "      <th></th>\n",
       "      <th>lat</th>\n",
       "      <th>lng</th>\n",
       "      <th>desc</th>\n",
       "      <th>zip</th>\n",
       "      <th>title</th>\n",
       "      <th>twp</th>\n",
       "      <th>addr</th>\n",
       "      <th>e</th>\n",
       "      <th>date</th>\n",
       "      <th>month</th>\n",
       "      <th>year</th>\n",
       "      <th>part_of_day</th>\n",
       "      <th>dow</th>\n",
       "    </tr>\n",
       "  </thead>\n",
       "  <tbody>\n",
       "    <tr>\n",
       "      <th>823</th>\n",
       "      <td>40.3582695</td>\n",
       "      <td>-75.4431731</td>\n",
       "      <td>UPPER RIDGE RD &amp; PRICE RD;  MARLBOROUGH; Stati...</td>\n",
       "      <td>18073.0</td>\n",
       "      <td>EMS: ALTERED MENTAL STATUS</td>\n",
       "      <td>MARLBOROUGH</td>\n",
       "      <td>UPPER RIDGE RD &amp; PRICE RD</td>\n",
       "      <td>1</td>\n",
       "      <td>2015-12-12</td>\n",
       "      <td>Dec</td>\n",
       "      <td>2015</td>\n",
       "      <td>Evening</td>\n",
       "      <td>Sat</td>\n",
       "    </tr>\n",
       "    <tr>\n",
       "      <th>836</th>\n",
       "      <td>40.0860099</td>\n",
       "      <td>-75.38714159999999</td>\n",
       "      <td>DEKALB PIKE &amp; CROCKETT RD; UPPER MERION; 2015-...</td>\n",
       "      <td>19406.0</td>\n",
       "      <td>Traffic: DISABLED VEHICLE -</td>\n",
       "      <td>UPPER MERION</td>\n",
       "      <td>DEKALB PIKE &amp; CROCKETT RD</td>\n",
       "      <td>1</td>\n",
       "      <td>2015-12-12</td>\n",
       "      <td>Dec</td>\n",
       "      <td>2015</td>\n",
       "      <td>Evening</td>\n",
       "      <td>Sat</td>\n",
       "    </tr>\n",
       "    <tr>\n",
       "      <th>845</th>\n",
       "      <td>40.1330371</td>\n",
       "      <td>-75.40846309999999</td>\n",
       "      <td>SHANNONDELL DR &amp; SHANNONDELL BLVD;  LOWER PROV...</td>\n",
       "      <td>19403.0</td>\n",
       "      <td>EMS: HEAD INJURY</td>\n",
       "      <td>LOWER PROVIDENCE</td>\n",
       "      <td>SHANNONDELL DR &amp; SHANNONDELL BLVD</td>\n",
       "      <td>1</td>\n",
       "      <td>2015-12-12</td>\n",
       "      <td>Dec</td>\n",
       "      <td>2015</td>\n",
       "      <td>Night</td>\n",
       "      <td>Sat</td>\n",
       "    </tr>\n",
       "    <tr>\n",
       "      <th>846</th>\n",
       "      <td>40.08732</td>\n",
       "      <td>-75.4050546</td>\n",
       "      <td>N GULPH RD; UPPER MERION; 2015-12-12 @ 21:09:3...</td>\n",
       "      <td>nan</td>\n",
       "      <td>Fire: GAS-ODOR/LEAK</td>\n",
       "      <td>UPPER MERION</td>\n",
       "      <td>N GULPH RD</td>\n",
       "      <td>1</td>\n",
       "      <td>2015-12-12</td>\n",
       "      <td>Dec</td>\n",
       "      <td>2015</td>\n",
       "      <td>Night</td>\n",
       "      <td>Sat</td>\n",
       "    </tr>\n",
       "    <tr>\n",
       "      <th>847</th>\n",
       "      <td>40.08732</td>\n",
       "      <td>-75.4050546</td>\n",
       "      <td>N GULPH RD; UPPER MERION; 2015-12-12 @ 21:09:3...</td>\n",
       "      <td>nan</td>\n",
       "      <td>Fire: GAS-ODOR/LEAK</td>\n",
       "      <td>UPPER MERION</td>\n",
       "      <td>N GULPH RD</td>\n",
       "      <td>1</td>\n",
       "      <td>2015-12-12</td>\n",
       "      <td>Dec</td>\n",
       "      <td>2015</td>\n",
       "      <td>Night</td>\n",
       "      <td>Sat</td>\n",
       "    </tr>\n",
       "    <tr>\n",
       "      <th>...</th>\n",
       "      <td>...</td>\n",
       "      <td>...</td>\n",
       "      <td>...</td>\n",
       "      <td>...</td>\n",
       "      <td>...</td>\n",
       "      <td>...</td>\n",
       "      <td>...</td>\n",
       "      <td>...</td>\n",
       "      <td>...</td>\n",
       "      <td>...</td>\n",
       "      <td>...</td>\n",
       "      <td>...</td>\n",
       "      <td>...</td>\n",
       "    </tr>\n",
       "    <tr>\n",
       "      <th>643583</th>\n",
       "      <td>40.149218299999994</td>\n",
       "      <td>-75.3183804</td>\n",
       "      <td>OAK TREE RD &amp; PENN SQUARE RD; EAST NORRITON; 2...</td>\n",
       "      <td>19401.0</td>\n",
       "      <td>Fire: ELECTRICAL FIRE OUTSIDE</td>\n",
       "      <td>EAST NORRITON</td>\n",
       "      <td>OAK TREE RD &amp; PENN SQUARE RD</td>\n",
       "      <td>1</td>\n",
       "      <td>2020-06-03</td>\n",
       "      <td>Jun</td>\n",
       "      <td>2020</td>\n",
       "      <td>Evening</td>\n",
       "      <td>Wed</td>\n",
       "    </tr>\n",
       "    <tr>\n",
       "      <th>648409</th>\n",
       "      <td>40.2459473</td>\n",
       "      <td>-75.25068409999999</td>\n",
       "      <td>THOMAS RD &amp; VILSMEIER RD;  MONTGOMERY; Station...</td>\n",
       "      <td>19446.0</td>\n",
       "      <td>EMS: FALL VICTIM</td>\n",
       "      <td>MONTGOMERY</td>\n",
       "      <td>THOMAS RD &amp; VILSMEIER RD</td>\n",
       "      <td>1</td>\n",
       "      <td>2020-06-16</td>\n",
       "      <td>Jun</td>\n",
       "      <td>2020</td>\n",
       "      <td>Morning</td>\n",
       "      <td>Tue</td>\n",
       "    </tr>\n",
       "    <tr>\n",
       "      <th>648410</th>\n",
       "      <td>40.2459473</td>\n",
       "      <td>-75.25068409999999</td>\n",
       "      <td>THOMAS RD &amp; VILSMEIER RD;  MONTGOMERY; Station...</td>\n",
       "      <td>19446.0</td>\n",
       "      <td>EMS: FALL VICTIM</td>\n",
       "      <td>MONTGOMERY</td>\n",
       "      <td>THOMAS RD &amp; VILSMEIER RD</td>\n",
       "      <td>1</td>\n",
       "      <td>2020-06-16</td>\n",
       "      <td>Jun</td>\n",
       "      <td>2020</td>\n",
       "      <td>Morning</td>\n",
       "      <td>Tue</td>\n",
       "    </tr>\n",
       "    <tr>\n",
       "      <th>656197</th>\n",
       "      <td>40.021867799999995</td>\n",
       "      <td>-75.3170615</td>\n",
       "      <td>BRYN MAWR AVE; LOWER MERION; 2020-07-09 @ 08:2...</td>\n",
       "      <td>19010.0</td>\n",
       "      <td>Fire: TRANSFERRED CALL</td>\n",
       "      <td>LOWER MERION</td>\n",
       "      <td>BRYN MAWR AVE</td>\n",
       "      <td>1</td>\n",
       "      <td>2020-07-09</td>\n",
       "      <td>Jul</td>\n",
       "      <td>2020</td>\n",
       "      <td>Morning</td>\n",
       "      <td>Thur</td>\n",
       "    </tr>\n",
       "    <tr>\n",
       "      <th>660897</th>\n",
       "      <td>40.1935401</td>\n",
       "      <td>-75.29392790000001</td>\n",
       "      <td>OLD MORRIS RD &amp; NORTH WALES RD; UPPER GWYNEDD;...</td>\n",
       "      <td>19422.0</td>\n",
       "      <td>Traffic: VEHICLE ACCIDENT -</td>\n",
       "      <td>UPPER GWYNEDD</td>\n",
       "      <td>OLD MORRIS RD &amp; NORTH WALES RD</td>\n",
       "      <td>1</td>\n",
       "      <td>2020-07-22</td>\n",
       "      <td>Jul</td>\n",
       "      <td>2020</td>\n",
       "      <td>Morning</td>\n",
       "      <td>Wed</td>\n",
       "    </tr>\n",
       "  </tbody>\n",
       "</table>\n",
       "<p>240 rows × 13 columns</p>\n",
       "</div>"
      ],
      "text/plain": [
       "                       lat                 lng  \\\n",
       "823             40.3582695         -75.4431731   \n",
       "836             40.0860099  -75.38714159999999   \n",
       "845             40.1330371  -75.40846309999999   \n",
       "846               40.08732         -75.4050546   \n",
       "847               40.08732         -75.4050546   \n",
       "...                    ...                 ...   \n",
       "643583  40.149218299999994         -75.3183804   \n",
       "648409          40.2459473  -75.25068409999999   \n",
       "648410          40.2459473  -75.25068409999999   \n",
       "656197  40.021867799999995         -75.3170615   \n",
       "660897          40.1935401  -75.29392790000001   \n",
       "\n",
       "                                                     desc      zip  \\\n",
       "823     UPPER RIDGE RD & PRICE RD;  MARLBOROUGH; Stati...  18073.0   \n",
       "836     DEKALB PIKE & CROCKETT RD; UPPER MERION; 2015-...  19406.0   \n",
       "845     SHANNONDELL DR & SHANNONDELL BLVD;  LOWER PROV...  19403.0   \n",
       "846     N GULPH RD; UPPER MERION; 2015-12-12 @ 21:09:3...      nan   \n",
       "847     N GULPH RD; UPPER MERION; 2015-12-12 @ 21:09:3...      nan   \n",
       "...                                                   ...      ...   \n",
       "643583  OAK TREE RD & PENN SQUARE RD; EAST NORRITON; 2...  19401.0   \n",
       "648409  THOMAS RD & VILSMEIER RD;  MONTGOMERY; Station...  19446.0   \n",
       "648410  THOMAS RD & VILSMEIER RD;  MONTGOMERY; Station...  19446.0   \n",
       "656197  BRYN MAWR AVE; LOWER MERION; 2020-07-09 @ 08:2...  19010.0   \n",
       "660897  OLD MORRIS RD & NORTH WALES RD; UPPER GWYNEDD;...  19422.0   \n",
       "\n",
       "                                title               twp  \\\n",
       "823        EMS: ALTERED MENTAL STATUS       MARLBOROUGH   \n",
       "836       Traffic: DISABLED VEHICLE -      UPPER MERION   \n",
       "845                  EMS: HEAD INJURY  LOWER PROVIDENCE   \n",
       "846               Fire: GAS-ODOR/LEAK      UPPER MERION   \n",
       "847               Fire: GAS-ODOR/LEAK      UPPER MERION   \n",
       "...                               ...               ...   \n",
       "643583  Fire: ELECTRICAL FIRE OUTSIDE     EAST NORRITON   \n",
       "648409               EMS: FALL VICTIM        MONTGOMERY   \n",
       "648410               EMS: FALL VICTIM        MONTGOMERY   \n",
       "656197         Fire: TRANSFERRED CALL      LOWER MERION   \n",
       "660897    Traffic: VEHICLE ACCIDENT -     UPPER GWYNEDD   \n",
       "\n",
       "                                     addr  e       date month  year  \\\n",
       "823             UPPER RIDGE RD & PRICE RD  1 2015-12-12   Dec  2015   \n",
       "836             DEKALB PIKE & CROCKETT RD  1 2015-12-12   Dec  2015   \n",
       "845     SHANNONDELL DR & SHANNONDELL BLVD  1 2015-12-12   Dec  2015   \n",
       "846                            N GULPH RD  1 2015-12-12   Dec  2015   \n",
       "847                            N GULPH RD  1 2015-12-12   Dec  2015   \n",
       "...                                   ... ..        ...   ...   ...   \n",
       "643583       OAK TREE RD & PENN SQUARE RD  1 2020-06-03   Jun  2020   \n",
       "648409           THOMAS RD & VILSMEIER RD  1 2020-06-16   Jun  2020   \n",
       "648410           THOMAS RD & VILSMEIER RD  1 2020-06-16   Jun  2020   \n",
       "656197                      BRYN MAWR AVE  1 2020-07-09   Jul  2020   \n",
       "660897     OLD MORRIS RD & NORTH WALES RD  1 2020-07-22   Jul  2020   \n",
       "\n",
       "       part_of_day   dow  \n",
       "823        Evening   Sat  \n",
       "836        Evening   Sat  \n",
       "845          Night   Sat  \n",
       "846          Night   Sat  \n",
       "847          Night   Sat  \n",
       "...            ...   ...  \n",
       "643583     Evening   Wed  \n",
       "648409     Morning   Tue  \n",
       "648410     Morning   Tue  \n",
       "656197     Morning  Thur  \n",
       "660897     Morning   Wed  \n",
       "\n",
       "[240 rows x 13 columns]"
      ]
     },
     "execution_count": 31,
     "metadata": {},
     "output_type": "execute_result"
    }
   ],
   "source": [
    "data_911[data_911.duplicated()]"
   ]
  },
  {
   "cell_type": "code",
   "execution_count": 32,
   "metadata": {},
   "outputs": [
    {
     "data": {
      "text/plain": [
       "240"
      ]
     },
     "execution_count": 32,
     "metadata": {},
     "output_type": "execute_result"
    }
   ],
   "source": [
    "data_911.duplicated().sum()"
   ]
  },
  {
   "cell_type": "markdown",
   "metadata": {},
   "source": [
    "It will be better if I can drop the duplicates from the dataset "
   ]
  },
  {
   "cell_type": "code",
   "execution_count": 33,
   "metadata": {},
   "outputs": [
    {
     "data": {
      "text/plain": [
       "0"
      ]
     },
     "execution_count": 33,
     "metadata": {},
     "output_type": "execute_result"
    }
   ],
   "source": [
    "data_911.drop_duplicates(inplace=True)\n",
    "data_911.duplicated().sum()"
   ]
  },
  {
   "cell_type": "markdown",
   "metadata": {},
   "source": [
    "**Hence the duplicated values have been dropped**"
   ]
  },
  {
   "cell_type": "markdown",
   "metadata": {},
   "source": [
    "## Analyzing the data"
   ]
  },
  {
   "cell_type": "code",
   "execution_count": 34,
   "metadata": {},
   "outputs": [
    {
     "data": {
      "text/plain": [
       "Index(['lat', 'lng', 'desc', 'zip', 'title', 'twp', 'addr', 'e', 'date',\n",
       "       'month', 'year', 'part_of_day', 'dow'],\n",
       "      dtype='object')"
      ]
     },
     "execution_count": 34,
     "metadata": {},
     "output_type": "execute_result"
    }
   ],
   "source": [
    "data_911.columns"
   ]
  },
  {
   "cell_type": "code",
   "execution_count": 35,
   "metadata": {},
   "outputs": [
    {
     "data": {
      "text/plain": [
       "lat             25949\n",
       "lng             25980\n",
       "desc           663282\n",
       "zip               205\n",
       "title             148\n",
       "twp                68\n",
       "addr            41292\n",
       "e                   1\n",
       "date             1694\n",
       "month              12\n",
       "year                6\n",
       "part_of_day         4\n",
       "dow                 7\n",
       "dtype: int64"
      ]
     },
     "execution_count": 35,
     "metadata": {},
     "output_type": "execute_result"
    }
   ],
   "source": [
    "data_911.nunique()"
   ]
  },
  {
   "cell_type": "markdown",
   "metadata": {},
   "source": [
    "**Visualizing data based on the categorical variables:**\n",
    "1. zip\n",
    "2. title\n",
    "3. twp\n",
    "4. month\n",
    "5. year\n",
    "6. part_of_day\n",
    "7. dow"
   ]
  },
  {
   "cell_type": "code",
   "execution_count": 36,
   "metadata": {},
   "outputs": [
    {
     "data": {
      "text/plain": [
       "Index(['lat', 'lng', 'desc', 'zip', 'title', 'twp', 'addr', 'e', 'date',\n",
       "       'month', 'year', 'part_of_day', 'dow'],\n",
       "      dtype='object')"
      ]
     },
     "execution_count": 36,
     "metadata": {},
     "output_type": "execute_result"
    }
   ],
   "source": [
    "data_911.columns"
   ]
  },
  {
   "cell_type": "code",
   "execution_count": 37,
   "metadata": {},
   "outputs": [
    {
     "data": {
      "text/html": [
       "<div>\n",
       "<style scoped>\n",
       "    .dataframe tbody tr th:only-of-type {\n",
       "        vertical-align: middle;\n",
       "    }\n",
       "\n",
       "    .dataframe tbody tr th {\n",
       "        vertical-align: top;\n",
       "    }\n",
       "\n",
       "    .dataframe thead th {\n",
       "        text-align: right;\n",
       "    }\n",
       "</style>\n",
       "<table border=\"1\" class=\"dataframe\">\n",
       "  <thead>\n",
       "    <tr style=\"text-align: right;\">\n",
       "      <th></th>\n",
       "      <th>twp</th>\n",
       "      <th>e</th>\n",
       "    </tr>\n",
       "  </thead>\n",
       "  <tbody>\n",
       "    <tr>\n",
       "      <th>26</th>\n",
       "      <td>LOWER MERION</td>\n",
       "      <td>55763</td>\n",
       "    </tr>\n",
       "    <tr>\n",
       "      <th>0</th>\n",
       "      <td>ABINGTON</td>\n",
       "      <td>39927</td>\n",
       "    </tr>\n",
       "    <tr>\n",
       "      <th>35</th>\n",
       "      <td>NORRISTOWN</td>\n",
       "      <td>37616</td>\n",
       "    </tr>\n",
       "    <tr>\n",
       "      <th>57</th>\n",
       "      <td>UPPER MERION</td>\n",
       "      <td>35990</td>\n",
       "    </tr>\n",
       "    <tr>\n",
       "      <th>6</th>\n",
       "      <td>CHELTENHAM</td>\n",
       "      <td>30554</td>\n",
       "    </tr>\n",
       "    <tr>\n",
       "      <th>...</th>\n",
       "      <td>...</td>\n",
       "      <td>...</td>\n",
       "    </tr>\n",
       "    <tr>\n",
       "      <th>12</th>\n",
       "      <td>EAST GREENVILLE</td>\n",
       "      <td>1316</td>\n",
       "    </tr>\n",
       "    <tr>\n",
       "      <th>4</th>\n",
       "      <td>BRYN ATHYN</td>\n",
       "      <td>1254</td>\n",
       "    </tr>\n",
       "    <tr>\n",
       "      <th>15</th>\n",
       "      <td>GREEN LANE</td>\n",
       "      <td>385</td>\n",
       "    </tr>\n",
       "    <tr>\n",
       "      <th>39</th>\n",
       "      <td>PHILA COUNTY</td>\n",
       "      <td>267</td>\n",
       "    </tr>\n",
       "    <tr>\n",
       "      <th>22</th>\n",
       "      <td>LEHIGH COUNTY</td>\n",
       "      <td>190</td>\n",
       "    </tr>\n",
       "  </tbody>\n",
       "</table>\n",
       "<p>68 rows × 2 columns</p>\n",
       "</div>"
      ],
      "text/plain": [
       "                twp      e\n",
       "26     LOWER MERION  55763\n",
       "0          ABINGTON  39927\n",
       "35       NORRISTOWN  37616\n",
       "57     UPPER MERION  35990\n",
       "6        CHELTENHAM  30554\n",
       "..              ...    ...\n",
       "12  EAST GREENVILLE   1316\n",
       "4        BRYN ATHYN   1254\n",
       "15       GREEN LANE    385\n",
       "39     PHILA COUNTY    267\n",
       "22    LEHIGH COUNTY    190\n",
       "\n",
       "[68 rows x 2 columns]"
      ]
     },
     "execution_count": 37,
     "metadata": {},
     "output_type": "execute_result"
    }
   ],
   "source": [
    "data_p11_twp = data_911.groupby(['twp'], as_index=False)['e'].sum().sort_values(by='e',ascending=False)\n",
    "data_p11_twp"
   ]
  },
  {
   "cell_type": "code",
   "execution_count": 95,
   "metadata": {},
   "outputs": [
    {
     "data": {
      "text/plain": [
       "<AxesSubplot:xlabel='twp', ylabel='e'>"
      ]
     },
     "execution_count": 95,
     "metadata": {},
     "output_type": "execute_result"
    },
    {
     "data": {
      "image/png": "[encoded data removed]",
      "text/plain": [
       "<Figure size 576x576 with 1 Axes>"
      ]
     },
     "metadata": {},
     "output_type": "display_data"
    }
   ],
   "source": [
    "plt.figure(figsize=(8,8))\n",
    "sns.barplot(data=data_p11_twp.iloc[:5,:], x='twp', y='e',)"
   ]
  },
  {
   "cell_type": "code",
   "execution_count": 39,
   "metadata": {},
   "outputs": [
    {
     "data": {
      "text/plain": [
       "<AxesSubplot:xlabel='twp', ylabel='e'>"
      ]
     },
     "execution_count": 39,
     "metadata": {},
     "output_type": "execute_result"
    },
    {
     "data": {
      "image/png": "[encoded data removed]",
      "text/plain": [
       "<Figure size 576x576 with 1 Axes>"
      ]
     },
     "metadata": {},
     "output_type": "display_data"
    }
   ],
   "source": [
    "plt.figure(figsize=(8,8))\n",
    "sns.barplot(data=data_p11_twp.iloc[-5:,:], x='twp', y='e',)"
   ]
  },
  {
   "cell_type": "markdown",
   "metadata": {},
   "source": [
    "**Obs1.**\n",
    "1. LOWER MERION       \n",
    "2. ABINGTON           \n",
    "3. NORRISTOWN         \n",
    "4. UPPER MERION       \n",
    "5. CHELTENHAM         \n",
    "\n",
    "These are the top 5 townships from where 911 calls are the maximum. LOWER MERION , being the highest from which emergency calls have been recorded the most.\n",
    "\n",
    "1. EAST GREENVILLE\t\n",
    "2. BRYN ATHYN\t\n",
    "3. GREEN LANE\t\n",
    "4. PHILA COUNTY\t\n",
    "5. LEHIGH COUNTY\t\n",
    "\n",
    "These are the 5 townships from where least number of 911 phone calls have been received, LEHIGH COUNTY being the least. "
   ]
  },
  {
   "cell_type": "markdown",
   "metadata": {},
   "source": [
    "**Creating 2 fetaures from title i.e. title and title_subcat**"
   ]
  },
  {
   "cell_type": "code",
   "execution_count": 40,
   "metadata": {},
   "outputs": [
    {
     "data": {
      "text/plain": [
       "'Traffic'"
      ]
     },
     "execution_count": 40,
     "metadata": {},
     "output_type": "execute_result"
    }
   ],
   "source": [
    "data_911['title'][9].partition(':')[0]"
   ]
  },
  {
   "cell_type": "code",
   "execution_count": 41,
   "metadata": {},
   "outputs": [
    {
     "data": {
      "text/plain": [
       "':'"
      ]
     },
     "execution_count": 41,
     "metadata": {},
     "output_type": "execute_result"
    }
   ],
   "source": [
    "data_911['title'][9].partition(':')[1]"
   ]
  },
  {
   "cell_type": "code",
   "execution_count": 42,
   "metadata": {},
   "outputs": [
    {
     "data": {
      "text/plain": [
       "' VEHICLE ACCIDENT -'"
      ]
     },
     "execution_count": 42,
     "metadata": {},
     "output_type": "execute_result"
    }
   ],
   "source": [
    "data_911['title'][9].partition(':')[2]"
   ]
  },
  {
   "cell_type": "code",
   "execution_count": 43,
   "metadata": {},
   "outputs": [
    {
     "name": "stdout",
     "output_type": "stream",
     "text": [
      "['EMS', 'EMS', 'Fire', 'EMS', 'EMS']\n",
      "[' BACK PAINS/INJURY', ' DIABETIC EMERGENCY', ' GAS-ODOR/LEAK', ' CARDIAC EMERGENCY', ' DIZZINESS']\n"
     ]
    }
   ],
   "source": [
    "titles=[]\n",
    "titles_subcat=[]\n",
    "for i in data_911.index:\n",
    "    titles.append(data_911['title'][i].partition(':')[0])\n",
    "    titles_subcat.append(data_911['title'][i].partition(':')[2])\n",
    "print(titles[:5])\n",
    "print(titles_subcat[:5])"
   ]
  },
  {
   "cell_type": "code",
   "execution_count": 44,
   "metadata": {},
   "outputs": [
    {
     "data": {
      "text/plain": [
       "663282"
      ]
     },
     "execution_count": 44,
     "metadata": {},
     "output_type": "execute_result"
    }
   ],
   "source": [
    "len(titles)"
   ]
  },
  {
   "cell_type": "code",
   "execution_count": 45,
   "metadata": {},
   "outputs": [
    {
     "data": {
      "text/plain": [
       "663282"
      ]
     },
     "execution_count": 45,
     "metadata": {},
     "output_type": "execute_result"
    }
   ],
   "source": [
    "len(titles_subcat)"
   ]
  },
  {
   "cell_type": "code",
   "execution_count": 46,
   "metadata": {},
   "outputs": [],
   "source": [
    "data_911['title']= titles\n",
    "data_911['title_subcat'] = titles_subcat"
   ]
  },
  {
   "cell_type": "code",
   "execution_count": 47,
   "metadata": {},
   "outputs": [
    {
     "data": {
      "text/plain": [
       "0     EMS\n",
       "1     EMS\n",
       "2    Fire\n",
       "3     EMS\n",
       "4     EMS\n",
       "Name: title, dtype: object"
      ]
     },
     "execution_count": 47,
     "metadata": {},
     "output_type": "execute_result"
    }
   ],
   "source": [
    "data_911['title'][:5]"
   ]
  },
  {
   "cell_type": "code",
   "execution_count": 48,
   "metadata": {},
   "outputs": [
    {
     "data": {
      "text/plain": [
       "0      BACK PAINS/INJURY\n",
       "1     DIABETIC EMERGENCY\n",
       "2          GAS-ODOR/LEAK\n",
       "3      CARDIAC EMERGENCY\n",
       "4              DIZZINESS\n",
       "Name: title_subcat, dtype: object"
      ]
     },
     "execution_count": 48,
     "metadata": {},
     "output_type": "execute_result"
    }
   ],
   "source": [
    "data_911['title_subcat'][:5]"
   ]
  },
  {
   "cell_type": "code",
   "execution_count": 49,
   "metadata": {},
   "outputs": [
    {
     "data": {
      "text/plain": [
       "3"
      ]
     },
     "execution_count": 49,
     "metadata": {},
     "output_type": "execute_result"
    }
   ],
   "source": [
    "data_911['title'].nunique()"
   ]
  },
  {
   "cell_type": "code",
   "execution_count": 50,
   "metadata": {},
   "outputs": [
    {
     "data": {
      "text/plain": [
       "95"
      ]
     },
     "execution_count": 50,
     "metadata": {},
     "output_type": "execute_result"
    }
   ],
   "source": [
    "data_911['title_subcat'].nunique()"
   ]
  },
  {
   "cell_type": "code",
   "execution_count": 51,
   "metadata": {},
   "outputs": [
    {
     "data": {
      "text/plain": [
       "array([' BACK PAINS/INJURY', ' DIABETIC EMERGENCY', ' GAS-ODOR/LEAK',\n",
       "       ' CARDIAC EMERGENCY', ' DIZZINESS', ' HEAD INJURY',\n",
       "       ' NAUSEA/VOMITING', ' RESPIRATORY EMERGENCY', ' SYNCOPAL EPISODE',\n",
       "       ' VEHICLE ACCIDENT -', ' VEHICLE ACCIDENT', ' DISABLED VEHICLE -',\n",
       "       ' APPLIANCE FIRE', ' GENERAL WEAKNESS',\n",
       "       ' CARBON MONOXIDE DETECTOR', ' UNKNOWN MEDICAL EMERGENCY',\n",
       "       ' UNRESPONSIVE SUBJECT', ' ALTERED MENTAL STATUS', ' FIRE ALARM',\n",
       "       ' CVA/STROKE', ' ROAD OBSTRUCTION -', ' SUBJECT IN PAIN',\n",
       "       ' HEMORRHAGING', ' FALL VICTIM', ' ASSAULT VICTIM', ' SEIZURES',\n",
       "       ' MEDICAL ALERT ALARM', ' ABDOMINAL PAINS', ' PUMP DETAIL',\n",
       "       ' FIRE INVESTIGATION', ' OVERDOSE', ' MATERNITY',\n",
       "       ' UNCONSCIOUS SUBJECT', ' CHOKING', ' LACERATIONS',\n",
       "       ' TRASH/DUMPSTER FIRE', ' UNKNOWN TYPE FIRE', ' BUILDING FIRE',\n",
       "       ' ELECTRICAL FIRE OUTSIDE', ' DEBRIS/FLUIDS ON HIGHWAY',\n",
       "       ' DEBRIS/FLUIDS ON HIGHWAY -', ' FEVER', ' ALLERGIC REACTION',\n",
       "       ' VEHICLE LEAKING FUEL -', ' FRACTURE', ' BURN VICTIM',\n",
       "       ' RESCUE - GENERAL', ' WOODS/FIELD FIRE', ' FIRE SPECIAL SERVICE',\n",
       "       ' VEHICLE FIRE', ' VEHICLE FIRE -', ' WARRANT SERVICE',\n",
       "       ' S/B AT HELICOPTER LANDING', ' EMS SPECIAL SERVICE',\n",
       "       ' HAZARDOUS ROAD CONDITIONS -', ' RESCUE - ELEVATOR',\n",
       "       ' DEHYDRATION', ' SHOOTING', ' POISONING', ' TRANSFERRED CALL',\n",
       "       ' RESCUE - TECHNICAL', ' VEHICLE LEAKING FUEL', ' EYE INJURY',\n",
       "       ' ELECTROCUTION', ' STABBING', ' FIRE POLICE NEEDED',\n",
       "       ' AMPUTATION', ' ANIMAL BITE', ' HAZARDOUS MATERIALS INCIDENT',\n",
       "       ' TRAIN CRASH', ' RESCUE - WATER', ' CARDIAC ARREST',\n",
       "       ' PLANE CRASH', ' HEAT EXHAUSTION', ' ACTIVE SHOOTER',\n",
       "       ' DISABLED VEHICLE', ' POLICE INFORMATION', ' BOMB DEVICE FOUND',\n",
       "       ' INDUSTRIAL ACCIDENT', ' DROWNING', ' SUSPICIOUS',\n",
       "       ' ARMED SUBJECT', ' STANDBY FOR ANOTHER CO', ' HIT + RUN',\n",
       "       ' SUICIDE THREAT', ' ANIMAL COMPLAINT', ' PRISONER IN CUSTODY',\n",
       "       ' SUICIDE ATTEMPT', ' PUBLIC SERVICE', ' BOMB THREAT',\n",
       "       ' ELEVATOR EMERGENCY', ' HAZARDOUS ROAD CONDITIONS',\n",
       "       ' FOOT PATROL', ' ROAD OBSTRUCTION', ' BARRICADED SUBJECT'],\n",
       "      dtype=object)"
      ]
     },
     "execution_count": 51,
     "metadata": {},
     "output_type": "execute_result"
    }
   ],
   "source": [
    "data_911['title_subcat'].unique()"
   ]
  },
  {
   "cell_type": "code",
   "execution_count": 52,
   "metadata": {},
   "outputs": [
    {
     "data": {
      "text/plain": [
       "array(['BACK PAINS/INJURY', 'DIABETIC EMERGENCY', 'GAS-ODOR/LEAK',\n",
       "       'CARDIAC EMERGENCY', 'DIZZINESS', 'HEAD INJURY', 'NAUSEA/VOMITING',\n",
       "       'RESPIRATORY EMERGENCY', 'SYNCOPAL EPISODE', 'VEHICLE ACCIDENT',\n",
       "       'DISABLED VEHICLE', 'APPLIANCE FIRE', 'GENERAL WEAKNESS',\n",
       "       'CARBON MONOXIDE DETECTOR', 'UNKNOWN MEDICAL EMERGENCY',\n",
       "       'UNRESPONSIVE SUBJECT', 'ALTERED MENTAL STATUS', 'FIRE ALARM',\n",
       "       'CVA/STROKE', 'ROAD OBSTRUCTION', 'SUBJECT IN PAIN',\n",
       "       'HEMORRHAGING', 'FALL VICTIM', 'ASSAULT VICTIM', 'SEIZURES',\n",
       "       'MEDICAL ALERT ALARM', 'ABDOMINAL PAINS', 'PUMP DETAIL',\n",
       "       'FIRE INVESTIGATION', 'OVERDOSE', 'MATERNITY',\n",
       "       'UNCONSCIOUS SUBJECT', 'CHOKING', 'LACERATIONS',\n",
       "       'TRASH/DUMPSTER FIRE', 'UNKNOWN TYPE FIRE', 'BUILDING FIRE',\n",
       "       'ELECTRICAL FIRE OUTSIDE', 'DEBRIS/FLUIDS ON HIGHWAY', 'FEVER',\n",
       "       'ALLERGIC REACTION', 'VEHICLE LEAKING FUEL', 'FRACTURE',\n",
       "       'BURN VICTIM', 'RESCUE - GENERAL', 'WOODS/FIELD FIRE',\n",
       "       'FIRE SPECIAL SERVICE', 'VEHICLE FIRE', 'WARRANT SERVICE',\n",
       "       'S/B AT HELICOPTER LANDING', 'EMS SPECIAL SERVICE',\n",
       "       'HAZARDOUS ROAD CONDITIONS', 'RESCUE - ELEVATOR', 'DEHYDRATION',\n",
       "       'SHOOTING', 'POISONING', 'TRANSFERRED CALL', 'RESCUE - TECHNICAL',\n",
       "       'EYE INJURY', 'ELECTROCUTION', 'STABBING', 'FIRE POLICE NEEDED',\n",
       "       'AMPUTATION', 'ANIMAL BITE', 'HAZARDOUS MATERIALS INCIDENT',\n",
       "       'TRAIN CRASH', 'RESCUE - WATER', 'CARDIAC ARREST', 'PLANE CRASH',\n",
       "       'HEAT EXHAUSTION', 'ACTIVE SHOOTER', 'POLICE INFORMATION',\n",
       "       'BOMB DEVICE FOUND', 'INDUSTRIAL ACCIDENT', 'DROWNING',\n",
       "       'SUSPICIOUS', 'ARMED SUBJECT', 'STANDBY FOR ANOTHER CO',\n",
       "       'HIT + RUN', 'SUICIDE THREAT', 'ANIMAL COMPLAINT',\n",
       "       'PRISONER IN CUSTODY', 'SUICIDE ATTEMPT', 'PUBLIC SERVICE',\n",
       "       'BOMB THREAT', 'ELEVATOR EMERGENCY', 'FOOT PATROL',\n",
       "       'BARRICADED SUBJECT'], dtype=object)"
      ]
     },
     "execution_count": 52,
     "metadata": {},
     "output_type": "execute_result"
    }
   ],
   "source": [
    "titles_subcat=[]\n",
    "for i in data_911['title_subcat']:\n",
    "    titles_subcat.append(i.strip(' -'))\n",
    "\n",
    "data_911['title_subcat']=titles_subcat\n",
    "data_911['title_subcat'].unique()"
   ]
  },
  {
   "cell_type": "code",
   "execution_count": 53,
   "metadata": {},
   "outputs": [
    {
     "data": {
      "text/plain": [
       "88"
      ]
     },
     "execution_count": 53,
     "metadata": {},
     "output_type": "execute_result"
    }
   ],
   "source": [
    "data_911['title_subcat'].nunique()"
   ]
  },
  {
   "cell_type": "code",
   "execution_count": 54,
   "metadata": {},
   "outputs": [
    {
     "data": {
      "text/html": [
       "<div>\n",
       "<style scoped>\n",
       "    .dataframe tbody tr th:only-of-type {\n",
       "        vertical-align: middle;\n",
       "    }\n",
       "\n",
       "    .dataframe tbody tr th {\n",
       "        vertical-align: top;\n",
       "    }\n",
       "\n",
       "    .dataframe thead th {\n",
       "        text-align: right;\n",
       "    }\n",
       "</style>\n",
       "<table border=\"1\" class=\"dataframe\">\n",
       "  <thead>\n",
       "    <tr style=\"text-align: right;\">\n",
       "      <th></th>\n",
       "      <th>title</th>\n",
       "      <th>e</th>\n",
       "    </tr>\n",
       "  </thead>\n",
       "  <tbody>\n",
       "    <tr>\n",
       "      <th>0</th>\n",
       "      <td>EMS</td>\n",
       "      <td>332591</td>\n",
       "    </tr>\n",
       "    <tr>\n",
       "      <th>2</th>\n",
       "      <td>Traffic</td>\n",
       "      <td>230115</td>\n",
       "    </tr>\n",
       "    <tr>\n",
       "      <th>1</th>\n",
       "      <td>Fire</td>\n",
       "      <td>100576</td>\n",
       "    </tr>\n",
       "  </tbody>\n",
       "</table>\n",
       "</div>"
      ],
      "text/plain": [
       "     title       e\n",
       "0      EMS  332591\n",
       "2  Traffic  230115\n",
       "1     Fire  100576"
      ]
     },
     "execution_count": 54,
     "metadata": {},
     "output_type": "execute_result"
    }
   ],
   "source": [
    "data_911_title = data_911.groupby(['title'], as_index=False)['e'].sum().sort_values(by='e',ascending=False)\n",
    "data_911_title"
   ]
  },
  {
   "cell_type": "code",
   "execution_count": 55,
   "metadata": {},
   "outputs": [
    {
     "data": {
      "text/html": [
       "<div>\n",
       "<style scoped>\n",
       "    .dataframe tbody tr th:only-of-type {\n",
       "        vertical-align: middle;\n",
       "    }\n",
       "\n",
       "    .dataframe tbody tr th {\n",
       "        vertical-align: top;\n",
       "    }\n",
       "\n",
       "    .dataframe thead th {\n",
       "        text-align: right;\n",
       "    }\n",
       "</style>\n",
       "<table border=\"1\" class=\"dataframe\">\n",
       "  <thead>\n",
       "    <tr style=\"text-align: right;\">\n",
       "      <th></th>\n",
       "      <th>title_subcat</th>\n",
       "      <th>e</th>\n",
       "    </tr>\n",
       "  </thead>\n",
       "  <tbody>\n",
       "    <tr>\n",
       "      <th>83</th>\n",
       "      <td>VEHICLE ACCIDENT</td>\n",
       "      <td>184679</td>\n",
       "    </tr>\n",
       "    <tr>\n",
       "      <th>24</th>\n",
       "      <td>DISABLED VEHICLE</td>\n",
       "      <td>47897</td>\n",
       "    </tr>\n",
       "    <tr>\n",
       "      <th>34</th>\n",
       "      <td>FIRE ALARM</td>\n",
       "      <td>38436</td>\n",
       "    </tr>\n",
       "    <tr>\n",
       "      <th>32</th>\n",
       "      <td>FALL VICTIM</td>\n",
       "      <td>34670</td>\n",
       "    </tr>\n",
       "    <tr>\n",
       "      <th>64</th>\n",
       "      <td>RESPIRATORY EMERGENCY</td>\n",
       "      <td>34237</td>\n",
       "    </tr>\n",
       "    <tr>\n",
       "      <th>...</th>\n",
       "      <td>...</td>\n",
       "      <td>...</td>\n",
       "    </tr>\n",
       "    <tr>\n",
       "      <th>72</th>\n",
       "      <td>SUICIDE ATTEMPT</td>\n",
       "      <td>2</td>\n",
       "    </tr>\n",
       "    <tr>\n",
       "      <th>38</th>\n",
       "      <td>FOOT PATROL</td>\n",
       "      <td>1</td>\n",
       "    </tr>\n",
       "    <tr>\n",
       "      <th>47</th>\n",
       "      <td>HIT + RUN</td>\n",
       "      <td>1</td>\n",
       "    </tr>\n",
       "    <tr>\n",
       "      <th>6</th>\n",
       "      <td>ANIMAL COMPLAINT</td>\n",
       "      <td>1</td>\n",
       "    </tr>\n",
       "    <tr>\n",
       "      <th>57</th>\n",
       "      <td>PRISONER IN CUSTODY</td>\n",
       "      <td>1</td>\n",
       "    </tr>\n",
       "  </tbody>\n",
       "</table>\n",
       "<p>88 rows × 2 columns</p>\n",
       "</div>"
      ],
      "text/plain": [
       "             title_subcat       e\n",
       "83       VEHICLE ACCIDENT  184679\n",
       "24       DISABLED VEHICLE   47897\n",
       "34             FIRE ALARM   38436\n",
       "32            FALL VICTIM   34670\n",
       "64  RESPIRATORY EMERGENCY   34237\n",
       "..                    ...     ...\n",
       "72        SUICIDE ATTEMPT       2\n",
       "38            FOOT PATROL       1\n",
       "47              HIT + RUN       1\n",
       "6        ANIMAL COMPLAINT       1\n",
       "57    PRISONER IN CUSTODY       1\n",
       "\n",
       "[88 rows x 2 columns]"
      ]
     },
     "execution_count": 55,
     "metadata": {},
     "output_type": "execute_result"
    }
   ],
   "source": [
    "data_911_title_subcat = data_911.groupby(['title_subcat'], as_index=False)['e'].sum().sort_values(by='e',ascending=False)\n",
    "data_911_title_subcat"
   ]
  },
  {
   "cell_type": "code",
   "execution_count": 56,
   "metadata": {},
   "outputs": [
    {
     "data": {
      "text/plain": [
       "<AxesSubplot:xlabel='title', ylabel='e'>"
      ]
     },
     "execution_count": 56,
     "metadata": {},
     "output_type": "execute_result"
    },
    {
     "data": {
      "image/png": "[encoded data removed]",
      "text/plain": [
       "<Figure size 432x288 with 1 Axes>"
      ]
     },
     "metadata": {},
     "output_type": "display_data"
    }
   ],
   "source": [
    "sns.barplot(data=data_911_title, x='title', y='e')"
   ]
  },
  {
   "cell_type": "markdown",
   "metadata": {},
   "source": [
    "**Obs2. EMS is the most title of emergency while Fire is the least**"
   ]
  },
  {
   "cell_type": "code",
   "execution_count": 57,
   "metadata": {},
   "outputs": [],
   "source": [
    "data_titleandtitle_subcat = data_911.groupby(['title','title_subcat'], as_index=False)['e'].sum().sort_values(by='e', ascending=False)"
   ]
  },
  {
   "cell_type": "code",
   "execution_count": 58,
   "metadata": {},
   "outputs": [
    {
     "data": {
      "text/html": [
       "<div>\n",
       "<style scoped>\n",
       "    .dataframe tbody tr th:only-of-type {\n",
       "        vertical-align: middle;\n",
       "    }\n",
       "\n",
       "    .dataframe tbody tr th {\n",
       "        vertical-align: top;\n",
       "    }\n",
       "\n",
       "    .dataframe thead th {\n",
       "        text-align: right;\n",
       "    }\n",
       "</style>\n",
       "<table border=\"1\" class=\"dataframe\">\n",
       "  <thead>\n",
       "    <tr style=\"text-align: right;\">\n",
       "      <th></th>\n",
       "      <th>title</th>\n",
       "      <th>title_subcat</th>\n",
       "      <th>e</th>\n",
       "    </tr>\n",
       "  </thead>\n",
       "  <tbody>\n",
       "    <tr>\n",
       "      <th>145</th>\n",
       "      <td>Traffic</td>\n",
       "      <td>VEHICLE ACCIDENT</td>\n",
       "      <td>148315</td>\n",
       "    </tr>\n",
       "    <tr>\n",
       "      <th>142</th>\n",
       "      <td>Traffic</td>\n",
       "      <td>DISABLED VEHICLE</td>\n",
       "      <td>47889</td>\n",
       "    </tr>\n",
       "    <tr>\n",
       "      <th>98</th>\n",
       "      <td>Fire</td>\n",
       "      <td>FIRE ALARM</td>\n",
       "      <td>38320</td>\n",
       "    </tr>\n",
       "    <tr>\n",
       "      <th>31</th>\n",
       "      <td>EMS</td>\n",
       "      <td>FALL VICTIM</td>\n",
       "      <td>34663</td>\n",
       "    </tr>\n",
       "    <tr>\n",
       "      <th>59</th>\n",
       "      <td>EMS</td>\n",
       "      <td>RESPIRATORY EMERGENCY</td>\n",
       "      <td>34235</td>\n",
       "    </tr>\n",
       "    <tr>\n",
       "      <th>17</th>\n",
       "      <td>EMS</td>\n",
       "      <td>CARDIAC EMERGENCY</td>\n",
       "      <td>32321</td>\n",
       "    </tr>\n",
       "    <tr>\n",
       "      <th>76</th>\n",
       "      <td>EMS</td>\n",
       "      <td>VEHICLE ACCIDENT</td>\n",
       "      <td>25507</td>\n",
       "    </tr>\n",
       "    <tr>\n",
       "      <th>144</th>\n",
       "      <td>Traffic</td>\n",
       "      <td>ROAD OBSTRUCTION</td>\n",
       "      <td>23225</td>\n",
       "    </tr>\n",
       "    <tr>\n",
       "      <th>65</th>\n",
       "      <td>EMS</td>\n",
       "      <td>SUBJECT IN PAIN</td>\n",
       "      <td>19643</td>\n",
       "    </tr>\n",
       "    <tr>\n",
       "      <th>41</th>\n",
       "      <td>EMS</td>\n",
       "      <td>HEAD INJURY</td>\n",
       "      <td>18296</td>\n",
       "    </tr>\n",
       "    <tr>\n",
       "      <th>39</th>\n",
       "      <td>EMS</td>\n",
       "      <td>GENERAL WEAKNESS</td>\n",
       "      <td>11864</td>\n",
       "    </tr>\n",
       "    <tr>\n",
       "      <th>137</th>\n",
       "      <td>Fire</td>\n",
       "      <td>VEHICLE ACCIDENT</td>\n",
       "      <td>10857</td>\n",
       "    </tr>\n",
       "    <tr>\n",
       "      <th>61</th>\n",
       "      <td>EMS</td>\n",
       "      <td>SEIZURES</td>\n",
       "      <td>10816</td>\n",
       "    </tr>\n",
       "    <tr>\n",
       "      <th>68</th>\n",
       "      <td>EMS</td>\n",
       "      <td>SYNCOPAL EPISODE</td>\n",
       "      <td>10801</td>\n",
       "    </tr>\n",
       "    <tr>\n",
       "      <th>73</th>\n",
       "      <td>EMS</td>\n",
       "      <td>UNKNOWN MEDICAL EMERGENCY</td>\n",
       "      <td>10696</td>\n",
       "    </tr>\n",
       "    <tr>\n",
       "      <th>48</th>\n",
       "      <td>EMS</td>\n",
       "      <td>MEDICAL ALERT ALARM</td>\n",
       "      <td>10391</td>\n",
       "    </tr>\n",
       "    <tr>\n",
       "      <th>3</th>\n",
       "      <td>EMS</td>\n",
       "      <td>ALTERED MENTAL STATUS</td>\n",
       "      <td>10087</td>\n",
       "    </tr>\n",
       "    <tr>\n",
       "      <th>99</th>\n",
       "      <td>Fire</td>\n",
       "      <td>FIRE INVESTIGATION</td>\n",
       "      <td>9439</td>\n",
       "    </tr>\n",
       "    <tr>\n",
       "      <th>0</th>\n",
       "      <td>EMS</td>\n",
       "      <td>ABDOMINAL PAINS</td>\n",
       "      <td>9001</td>\n",
       "    </tr>\n",
       "    <tr>\n",
       "      <th>72</th>\n",
       "      <td>EMS</td>\n",
       "      <td>UNCONSCIOUS SUBJECT</td>\n",
       "      <td>8789</td>\n",
       "    </tr>\n",
       "  </tbody>\n",
       "</table>\n",
       "</div>"
      ],
      "text/plain": [
       "       title               title_subcat       e\n",
       "145  Traffic           VEHICLE ACCIDENT  148315\n",
       "142  Traffic           DISABLED VEHICLE   47889\n",
       "98      Fire                 FIRE ALARM   38320\n",
       "31       EMS                FALL VICTIM   34663\n",
       "59       EMS      RESPIRATORY EMERGENCY   34235\n",
       "17       EMS          CARDIAC EMERGENCY   32321\n",
       "76       EMS           VEHICLE ACCIDENT   25507\n",
       "144  Traffic           ROAD OBSTRUCTION   23225\n",
       "65       EMS            SUBJECT IN PAIN   19643\n",
       "41       EMS                HEAD INJURY   18296\n",
       "39       EMS           GENERAL WEAKNESS   11864\n",
       "137     Fire           VEHICLE ACCIDENT   10857\n",
       "61       EMS                   SEIZURES   10816\n",
       "68       EMS           SYNCOPAL EPISODE   10801\n",
       "73       EMS  UNKNOWN MEDICAL EMERGENCY   10696\n",
       "48       EMS        MEDICAL ALERT ALARM   10391\n",
       "3        EMS      ALTERED MENTAL STATUS   10087\n",
       "99      Fire         FIRE INVESTIGATION    9439\n",
       "0        EMS            ABDOMINAL PAINS    9001\n",
       "72       EMS        UNCONSCIOUS SUBJECT    8789"
      ]
     },
     "execution_count": 58,
     "metadata": {},
     "output_type": "execute_result"
    }
   ],
   "source": [
    "data_titleandtitle_subcat[:20]"
   ]
  },
  {
   "cell_type": "code",
   "execution_count": 59,
   "metadata": {},
   "outputs": [
    {
     "data": {
      "text/html": [
       "<div>\n",
       "<style scoped>\n",
       "    .dataframe tbody tr th:only-of-type {\n",
       "        vertical-align: middle;\n",
       "    }\n",
       "\n",
       "    .dataframe tbody tr th {\n",
       "        vertical-align: top;\n",
       "    }\n",
       "\n",
       "    .dataframe thead th {\n",
       "        text-align: right;\n",
       "    }\n",
       "</style>\n",
       "<table border=\"1\" class=\"dataframe\">\n",
       "  <thead>\n",
       "    <tr style=\"text-align: right;\">\n",
       "      <th></th>\n",
       "      <th>title</th>\n",
       "      <th>title_subcat</th>\n",
       "      <th>e</th>\n",
       "    </tr>\n",
       "  </thead>\n",
       "  <tbody>\n",
       "    <tr>\n",
       "      <th>123</th>\n",
       "      <td>Fire</td>\n",
       "      <td>ROAD OBSTRUCTION</td>\n",
       "      <td>2</td>\n",
       "    </tr>\n",
       "    <tr>\n",
       "      <th>122</th>\n",
       "      <td>Fire</td>\n",
       "      <td>RESPIRATORY EMERGENCY</td>\n",
       "      <td>2</td>\n",
       "    </tr>\n",
       "    <tr>\n",
       "      <th>110</th>\n",
       "      <td>Fire</td>\n",
       "      <td>NAUSEA/VOMITING</td>\n",
       "      <td>2</td>\n",
       "    </tr>\n",
       "    <tr>\n",
       "      <th>127</th>\n",
       "      <td>Fire</td>\n",
       "      <td>SUICIDE ATTEMPT</td>\n",
       "      <td>2</td>\n",
       "    </tr>\n",
       "    <tr>\n",
       "      <th>128</th>\n",
       "      <td>Fire</td>\n",
       "      <td>SUSPICIOUS</td>\n",
       "      <td>1</td>\n",
       "    </tr>\n",
       "    <tr>\n",
       "      <th>113</th>\n",
       "      <td>Fire</td>\n",
       "      <td>POISONING</td>\n",
       "      <td>1</td>\n",
       "    </tr>\n",
       "    <tr>\n",
       "      <th>102</th>\n",
       "      <td>Fire</td>\n",
       "      <td>FOOT PATROL</td>\n",
       "      <td>1</td>\n",
       "    </tr>\n",
       "    <tr>\n",
       "      <th>104</th>\n",
       "      <td>Fire</td>\n",
       "      <td>GENERAL WEAKNESS</td>\n",
       "      <td>1</td>\n",
       "    </tr>\n",
       "    <tr>\n",
       "      <th>44</th>\n",
       "      <td>EMS</td>\n",
       "      <td>HIT + RUN</td>\n",
       "      <td>1</td>\n",
       "    </tr>\n",
       "    <tr>\n",
       "      <th>93</th>\n",
       "      <td>Fire</td>\n",
       "      <td>DIZZINESS</td>\n",
       "      <td>1</td>\n",
       "    </tr>\n",
       "    <tr>\n",
       "      <th>108</th>\n",
       "      <td>Fire</td>\n",
       "      <td>HEMORRHAGING</td>\n",
       "      <td>1</td>\n",
       "    </tr>\n",
       "    <tr>\n",
       "      <th>116</th>\n",
       "      <td>Fire</td>\n",
       "      <td>PUBLIC SERVICE</td>\n",
       "      <td>1</td>\n",
       "    </tr>\n",
       "    <tr>\n",
       "      <th>115</th>\n",
       "      <td>Fire</td>\n",
       "      <td>PRISONER IN CUSTODY</td>\n",
       "      <td>1</td>\n",
       "    </tr>\n",
       "    <tr>\n",
       "      <th>23</th>\n",
       "      <td>EMS</td>\n",
       "      <td>DISABLED VEHICLE</td>\n",
       "      <td>1</td>\n",
       "    </tr>\n",
       "    <tr>\n",
       "      <th>91</th>\n",
       "      <td>Fire</td>\n",
       "      <td>DIABETIC EMERGENCY</td>\n",
       "      <td>1</td>\n",
       "    </tr>\n",
       "    <tr>\n",
       "      <th>78</th>\n",
       "      <td>EMS</td>\n",
       "      <td>VEHICLE LEAKING FUEL</td>\n",
       "      <td>1</td>\n",
       "    </tr>\n",
       "    <tr>\n",
       "      <th>89</th>\n",
       "      <td>Fire</td>\n",
       "      <td>CVA/STROKE</td>\n",
       "      <td>1</td>\n",
       "    </tr>\n",
       "    <tr>\n",
       "      <th>81</th>\n",
       "      <td>Fire</td>\n",
       "      <td>ANIMAL COMPLAINT</td>\n",
       "      <td>1</td>\n",
       "    </tr>\n",
       "    <tr>\n",
       "      <th>83</th>\n",
       "      <td>Fire</td>\n",
       "      <td>BARRICADED SUBJECT</td>\n",
       "      <td>1</td>\n",
       "    </tr>\n",
       "    <tr>\n",
       "      <th>53</th>\n",
       "      <td>EMS</td>\n",
       "      <td>POLICE INFORMATION</td>\n",
       "      <td>1</td>\n",
       "    </tr>\n",
       "  </tbody>\n",
       "</table>\n",
       "</div>"
      ],
      "text/plain": [
       "    title           title_subcat  e\n",
       "123  Fire       ROAD OBSTRUCTION  2\n",
       "122  Fire  RESPIRATORY EMERGENCY  2\n",
       "110  Fire        NAUSEA/VOMITING  2\n",
       "127  Fire        SUICIDE ATTEMPT  2\n",
       "128  Fire             SUSPICIOUS  1\n",
       "113  Fire              POISONING  1\n",
       "102  Fire            FOOT PATROL  1\n",
       "104  Fire       GENERAL WEAKNESS  1\n",
       "44    EMS              HIT + RUN  1\n",
       "93   Fire              DIZZINESS  1\n",
       "108  Fire           HEMORRHAGING  1\n",
       "116  Fire         PUBLIC SERVICE  1\n",
       "115  Fire    PRISONER IN CUSTODY  1\n",
       "23    EMS       DISABLED VEHICLE  1\n",
       "91   Fire     DIABETIC EMERGENCY  1\n",
       "78    EMS   VEHICLE LEAKING FUEL  1\n",
       "89   Fire             CVA/STROKE  1\n",
       "81   Fire       ANIMAL COMPLAINT  1\n",
       "83   Fire     BARRICADED SUBJECT  1\n",
       "53    EMS     POLICE INFORMATION  1"
      ]
     },
     "execution_count": 59,
     "metadata": {},
     "output_type": "execute_result"
    }
   ],
   "source": [
    "data_titleandtitle_subcat[-20:]"
   ]
  },
  {
   "cell_type": "markdown",
   "metadata": {},
   "source": [
    "**Among the title there are sub categories describing the type.Based on that I observe the following:**\n",
    "**Obs3.**\n",
    "1. Although EMS is the major title of emergency , VEHICLE ACCIDENT in Traffic is the most reported emergency among the sub categories \n",
    "2. Among EMS , the highest is the category FALL VICTIM \n",
    "3. Among Traffic , the highest is surely VEHICLE ACCIDENT\n",
    "4. Among Fire, the FIRE ALARM category has the major emergency calls."
   ]
  },
  {
   "cell_type": "code",
   "execution_count": 60,
   "metadata": {},
   "outputs": [
    {
     "data": {
      "image/png": "[encoded data removed]",
      "text/plain": [
       "<Figure size 432x288 with 1 Axes>"
      ]
     },
     "metadata": {},
     "output_type": "display_data"
    }
   ],
   "source": [
    "azx= sns.barplot(data=data_911_title_subcat[:5], x='title_subcat', y='e')\n",
    "azx.set_xticklabels(azx.get_xticklabels(), rotation=40, \n",
    "                                    ha=\"right\")\n",
    "plt.show(azx)"
   ]
  },
  {
   "cell_type": "code",
   "execution_count": 61,
   "metadata": {},
   "outputs": [
    {
     "data": {
      "image/png": "[encoded data removed]",
      "text/plain": [
       "<Figure size 432x288 with 1 Axes>"
      ]
     },
     "metadata": {},
     "output_type": "display_data"
    }
   ],
   "source": [
    "azx=sns.barplot(data=data_911_title_subcat[-5:], x='title_subcat', y='e')\n",
    "azx.set_xticklabels(azx.get_xticklabels(), rotation=40, \n",
    "                                    ha=\"right\")\n",
    "plt.show(azx)"
   ]
  },
  {
   "cell_type": "markdown",
   "metadata": {},
   "source": [
    "**Also as is clear from Obs3. that:**\n",
    "1. VEHICLE ACCIDENT\t\n",
    "2. DISABLED VEHICLE\t\n",
    "3. FIRE ALARM\t\n",
    "4. FALL VICTIM\t\n",
    "5. RESPIRATORY EMERGENCY \n",
    "\n",
    "The above series is arranged in descending order based on number of emergency calls. Clearly VEHICLE ACCIDENT tops the list. The list gives us the top five title sub categories of Emergency\n",
    "\n",
    "1. SUICIDE ATTEMPT\t\n",
    "2. FOOT PATROL\t\n",
    "3. HIT + RUN\t\n",
    "4. ANIMAL COMPLAINT\t\n",
    "5. PRISONER IN CUSTODY\t\n",
    "\n",
    "The above series is arranged in descending order based on number of emergency calls. Clearly PRISONER IN CUSTODY is the sub category which has the least number of emergency calls. The list gives us the bottom five title categories of Emergency."
   ]
  },
  {
   "cell_type": "code",
   "execution_count": 62,
   "metadata": {},
   "outputs": [
    {
     "data": {
      "text/html": [
       "<div>\n",
       "<style scoped>\n",
       "    .dataframe tbody tr th:only-of-type {\n",
       "        vertical-align: middle;\n",
       "    }\n",
       "\n",
       "    .dataframe tbody tr th {\n",
       "        vertical-align: top;\n",
       "    }\n",
       "\n",
       "    .dataframe thead th {\n",
       "        text-align: right;\n",
       "    }\n",
       "</style>\n",
       "<table border=\"1\" class=\"dataframe\">\n",
       "  <thead>\n",
       "    <tr style=\"text-align: right;\">\n",
       "      <th></th>\n",
       "      <th>month</th>\n",
       "      <th>e</th>\n",
       "    </tr>\n",
       "  </thead>\n",
       "  <tbody>\n",
       "    <tr>\n",
       "      <th>4</th>\n",
       "      <td>Jan</td>\n",
       "      <td>62312</td>\n",
       "    </tr>\n",
       "    <tr>\n",
       "      <th>6</th>\n",
       "      <td>Jun</td>\n",
       "      <td>60020</td>\n",
       "    </tr>\n",
       "    <tr>\n",
       "      <th>7</th>\n",
       "      <td>Mar</td>\n",
       "      <td>60015</td>\n",
       "    </tr>\n",
       "    <tr>\n",
       "      <th>5</th>\n",
       "      <td>Jul</td>\n",
       "      <td>59823</td>\n",
       "    </tr>\n",
       "    <tr>\n",
       "      <th>2</th>\n",
       "      <td>Dec</td>\n",
       "      <td>57677</td>\n",
       "    </tr>\n",
       "    <tr>\n",
       "      <th>8</th>\n",
       "      <td>May</td>\n",
       "      <td>57488</td>\n",
       "    </tr>\n",
       "    <tr>\n",
       "      <th>3</th>\n",
       "      <td>Feb</td>\n",
       "      <td>55423</td>\n",
       "    </tr>\n",
       "    <tr>\n",
       "      <th>0</th>\n",
       "      <td>Apr</td>\n",
       "      <td>53560</td>\n",
       "    </tr>\n",
       "    <tr>\n",
       "      <th>10</th>\n",
       "      <td>Oct</td>\n",
       "      <td>51239</td>\n",
       "    </tr>\n",
       "    <tr>\n",
       "      <th>9</th>\n",
       "      <td>Nov</td>\n",
       "      <td>50176</td>\n",
       "    </tr>\n",
       "    <tr>\n",
       "      <th>1</th>\n",
       "      <td>Aug</td>\n",
       "      <td>48355</td>\n",
       "    </tr>\n",
       "    <tr>\n",
       "      <th>11</th>\n",
       "      <td>Sep</td>\n",
       "      <td>47194</td>\n",
       "    </tr>\n",
       "  </tbody>\n",
       "</table>\n",
       "</div>"
      ],
      "text/plain": [
       "   month      e\n",
       "4    Jan  62312\n",
       "6    Jun  60020\n",
       "7    Mar  60015\n",
       "5    Jul  59823\n",
       "2    Dec  57677\n",
       "8    May  57488\n",
       "3    Feb  55423\n",
       "0    Apr  53560\n",
       "10   Oct  51239\n",
       "9    Nov  50176\n",
       "1    Aug  48355\n",
       "11   Sep  47194"
      ]
     },
     "execution_count": 62,
     "metadata": {},
     "output_type": "execute_result"
    }
   ],
   "source": [
    "data_911_month = data_911.groupby('month', as_index=False)['e'].sum().sort_values(by='e', ascending=False)\n",
    "data_911_month"
   ]
  },
  {
   "cell_type": "code",
   "execution_count": 100,
   "metadata": {},
   "outputs": [
    {
     "data": {
      "text/html": [
       "<div>\n",
       "<style scoped>\n",
       "    .dataframe tbody tr th:only-of-type {\n",
       "        vertical-align: middle;\n",
       "    }\n",
       "\n",
       "    .dataframe tbody tr th {\n",
       "        vertical-align: top;\n",
       "    }\n",
       "\n",
       "    .dataframe thead th {\n",
       "        text-align: right;\n",
       "    }\n",
       "</style>\n",
       "<table border=\"1\" class=\"dataframe\">\n",
       "  <thead>\n",
       "    <tr style=\"text-align: right;\">\n",
       "      <th></th>\n",
       "      <th>month</th>\n",
       "      <th>title</th>\n",
       "      <th>e</th>\n",
       "    </tr>\n",
       "  </thead>\n",
       "  <tbody>\n",
       "    <tr>\n",
       "      <th>12</th>\n",
       "      <td>Jan</td>\n",
       "      <td>EMS</td>\n",
       "      <td>30958</td>\n",
       "    </tr>\n",
       "    <tr>\n",
       "      <th>15</th>\n",
       "      <td>Jul</td>\n",
       "      <td>EMS</td>\n",
       "      <td>30026</td>\n",
       "    </tr>\n",
       "    <tr>\n",
       "      <th>21</th>\n",
       "      <td>Mar</td>\n",
       "      <td>EMS</td>\n",
       "      <td>29982</td>\n",
       "    </tr>\n",
       "    <tr>\n",
       "      <th>18</th>\n",
       "      <td>Jun</td>\n",
       "      <td>EMS</td>\n",
       "      <td>29506</td>\n",
       "    </tr>\n",
       "    <tr>\n",
       "      <th>24</th>\n",
       "      <td>May</td>\n",
       "      <td>EMS</td>\n",
       "      <td>29464</td>\n",
       "    </tr>\n",
       "    <tr>\n",
       "      <th>6</th>\n",
       "      <td>Dec</td>\n",
       "      <td>EMS</td>\n",
       "      <td>28769</td>\n",
       "    </tr>\n",
       "    <tr>\n",
       "      <th>0</th>\n",
       "      <td>Apr</td>\n",
       "      <td>EMS</td>\n",
       "      <td>28437</td>\n",
       "    </tr>\n",
       "    <tr>\n",
       "      <th>9</th>\n",
       "      <td>Feb</td>\n",
       "      <td>EMS</td>\n",
       "      <td>28329</td>\n",
       "    </tr>\n",
       "    <tr>\n",
       "      <th>30</th>\n",
       "      <td>Oct</td>\n",
       "      <td>EMS</td>\n",
       "      <td>25024</td>\n",
       "    </tr>\n",
       "    <tr>\n",
       "      <th>3</th>\n",
       "      <td>Aug</td>\n",
       "      <td>EMS</td>\n",
       "      <td>24409</td>\n",
       "    </tr>\n",
       "    <tr>\n",
       "      <th>33</th>\n",
       "      <td>Sep</td>\n",
       "      <td>EMS</td>\n",
       "      <td>23975</td>\n",
       "    </tr>\n",
       "    <tr>\n",
       "      <th>27</th>\n",
       "      <td>Nov</td>\n",
       "      <td>EMS</td>\n",
       "      <td>23712</td>\n",
       "    </tr>\n",
       "    <tr>\n",
       "      <th>14</th>\n",
       "      <td>Jan</td>\n",
       "      <td>Traffic</td>\n",
       "      <td>22268</td>\n",
       "    </tr>\n",
       "    <tr>\n",
       "      <th>23</th>\n",
       "      <td>Mar</td>\n",
       "      <td>Traffic</td>\n",
       "      <td>20900</td>\n",
       "    </tr>\n",
       "    <tr>\n",
       "      <th>8</th>\n",
       "      <td>Dec</td>\n",
       "      <td>Traffic</td>\n",
       "      <td>20859</td>\n",
       "    </tr>\n",
       "    <tr>\n",
       "      <th>20</th>\n",
       "      <td>Jun</td>\n",
       "      <td>Traffic</td>\n",
       "      <td>20637</td>\n",
       "    </tr>\n",
       "    <tr>\n",
       "      <th>17</th>\n",
       "      <td>Jul</td>\n",
       "      <td>Traffic</td>\n",
       "      <td>20136</td>\n",
       "    </tr>\n",
       "    <tr>\n",
       "      <th>26</th>\n",
       "      <td>May</td>\n",
       "      <td>Traffic</td>\n",
       "      <td>19337</td>\n",
       "    </tr>\n",
       "    <tr>\n",
       "      <th>29</th>\n",
       "      <td>Nov</td>\n",
       "      <td>Traffic</td>\n",
       "      <td>19114</td>\n",
       "    </tr>\n",
       "    <tr>\n",
       "      <th>11</th>\n",
       "      <td>Feb</td>\n",
       "      <td>Traffic</td>\n",
       "      <td>19004</td>\n",
       "    </tr>\n",
       "    <tr>\n",
       "      <th>32</th>\n",
       "      <td>Oct</td>\n",
       "      <td>Traffic</td>\n",
       "      <td>18532</td>\n",
       "    </tr>\n",
       "    <tr>\n",
       "      <th>2</th>\n",
       "      <td>Apr</td>\n",
       "      <td>Traffic</td>\n",
       "      <td>17009</td>\n",
       "    </tr>\n",
       "    <tr>\n",
       "      <th>5</th>\n",
       "      <td>Aug</td>\n",
       "      <td>Traffic</td>\n",
       "      <td>16350</td>\n",
       "    </tr>\n",
       "    <tr>\n",
       "      <th>35</th>\n",
       "      <td>Sep</td>\n",
       "      <td>Traffic</td>\n",
       "      <td>15969</td>\n",
       "    </tr>\n",
       "    <tr>\n",
       "      <th>19</th>\n",
       "      <td>Jun</td>\n",
       "      <td>Fire</td>\n",
       "      <td>9877</td>\n",
       "    </tr>\n",
       "    <tr>\n",
       "      <th>16</th>\n",
       "      <td>Jul</td>\n",
       "      <td>Fire</td>\n",
       "      <td>9661</td>\n",
       "    </tr>\n",
       "    <tr>\n",
       "      <th>22</th>\n",
       "      <td>Mar</td>\n",
       "      <td>Fire</td>\n",
       "      <td>9133</td>\n",
       "    </tr>\n",
       "    <tr>\n",
       "      <th>13</th>\n",
       "      <td>Jan</td>\n",
       "      <td>Fire</td>\n",
       "      <td>9086</td>\n",
       "    </tr>\n",
       "    <tr>\n",
       "      <th>25</th>\n",
       "      <td>May</td>\n",
       "      <td>Fire</td>\n",
       "      <td>8687</td>\n",
       "    </tr>\n",
       "    <tr>\n",
       "      <th>1</th>\n",
       "      <td>Apr</td>\n",
       "      <td>Fire</td>\n",
       "      <td>8114</td>\n",
       "    </tr>\n",
       "    <tr>\n",
       "      <th>10</th>\n",
       "      <td>Feb</td>\n",
       "      <td>Fire</td>\n",
       "      <td>8090</td>\n",
       "    </tr>\n",
       "    <tr>\n",
       "      <th>7</th>\n",
       "      <td>Dec</td>\n",
       "      <td>Fire</td>\n",
       "      <td>8049</td>\n",
       "    </tr>\n",
       "    <tr>\n",
       "      <th>31</th>\n",
       "      <td>Oct</td>\n",
       "      <td>Fire</td>\n",
       "      <td>7683</td>\n",
       "    </tr>\n",
       "    <tr>\n",
       "      <th>4</th>\n",
       "      <td>Aug</td>\n",
       "      <td>Fire</td>\n",
       "      <td>7596</td>\n",
       "    </tr>\n",
       "    <tr>\n",
       "      <th>28</th>\n",
       "      <td>Nov</td>\n",
       "      <td>Fire</td>\n",
       "      <td>7350</td>\n",
       "    </tr>\n",
       "    <tr>\n",
       "      <th>34</th>\n",
       "      <td>Sep</td>\n",
       "      <td>Fire</td>\n",
       "      <td>7250</td>\n",
       "    </tr>\n",
       "  </tbody>\n",
       "</table>\n",
       "</div>"
      ],
      "text/plain": [
       "   month    title      e\n",
       "12   Jan      EMS  30958\n",
       "15   Jul      EMS  30026\n",
       "21   Mar      EMS  29982\n",
       "18   Jun      EMS  29506\n",
       "24   May      EMS  29464\n",
       "6    Dec      EMS  28769\n",
       "0    Apr      EMS  28437\n",
       "9    Feb      EMS  28329\n",
       "30   Oct      EMS  25024\n",
       "3    Aug      EMS  24409\n",
       "33   Sep      EMS  23975\n",
       "27   Nov      EMS  23712\n",
       "14   Jan  Traffic  22268\n",
       "23   Mar  Traffic  20900\n",
       "8    Dec  Traffic  20859\n",
       "20   Jun  Traffic  20637\n",
       "17   Jul  Traffic  20136\n",
       "26   May  Traffic  19337\n",
       "29   Nov  Traffic  19114\n",
       "11   Feb  Traffic  19004\n",
       "32   Oct  Traffic  18532\n",
       "2    Apr  Traffic  17009\n",
       "5    Aug  Traffic  16350\n",
       "35   Sep  Traffic  15969\n",
       "19   Jun     Fire   9877\n",
       "16   Jul     Fire   9661\n",
       "22   Mar     Fire   9133\n",
       "13   Jan     Fire   9086\n",
       "25   May     Fire   8687\n",
       "1    Apr     Fire   8114\n",
       "10   Feb     Fire   8090\n",
       "7    Dec     Fire   8049\n",
       "31   Oct     Fire   7683\n",
       "4    Aug     Fire   7596\n",
       "28   Nov     Fire   7350\n",
       "34   Sep     Fire   7250"
      ]
     },
     "execution_count": 100,
     "metadata": {},
     "output_type": "execute_result"
    }
   ],
   "source": [
    "data_911_month_title = data_911.groupby(['month','title'], as_index=False)['e'].sum().sort_values(by='e', ascending=False)\n",
    "data_911_month_title"
   ]
  },
  {
   "cell_type": "code",
   "execution_count": 63,
   "metadata": {},
   "outputs": [
    {
     "data": {
      "text/plain": [
       "<AxesSubplot:xlabel='month', ylabel='e'>"
      ]
     },
     "execution_count": 63,
     "metadata": {},
     "output_type": "execute_result"
    },
    {
     "data": {
      "image/png": "[encoded data removed]",
      "text/plain": [
       "<Figure size 432x288 with 1 Axes>"
      ]
     },
     "metadata": {},
     "output_type": "display_data"
    }
   ],
   "source": [
    "sns.barplot(data=data_911_month, x='month', y='e')"
   ]
  },
  {
   "cell_type": "code",
   "execution_count": 101,
   "metadata": {},
   "outputs": [
    {
     "data": {
      "text/plain": [
       "<AxesSubplot:xlabel='month', ylabel='e'>"
      ]
     },
     "execution_count": 101,
     "metadata": {},
     "output_type": "execute_result"
    },
    {
     "data": {
      "image/png": "[encoded data removed]",
      "text/plain": [
       "<Figure size 432x288 with 1 Axes>"
      ]
     },
     "metadata": {},
     "output_type": "display_data"
    }
   ],
   "source": [
    "sns.barplot(data=data_911_month_title, x='month', y='e',hue='title')"
   ]
  },
  {
   "cell_type": "code",
   "execution_count": 64,
   "metadata": {},
   "outputs": [
    {
     "data": {
      "text/html": [
       "<div>\n",
       "<style scoped>\n",
       "    .dataframe tbody tr th:only-of-type {\n",
       "        vertical-align: middle;\n",
       "    }\n",
       "\n",
       "    .dataframe tbody tr th {\n",
       "        vertical-align: top;\n",
       "    }\n",
       "\n",
       "    .dataframe thead th {\n",
       "        text-align: right;\n",
       "    }\n",
       "</style>\n",
       "<table border=\"1\" class=\"dataframe\">\n",
       "  <thead>\n",
       "    <tr style=\"text-align: right;\">\n",
       "      <th></th>\n",
       "      <th>year</th>\n",
       "      <th>e</th>\n",
       "    </tr>\n",
       "  </thead>\n",
       "  <tbody>\n",
       "    <tr>\n",
       "      <th>3</th>\n",
       "      <td>2018</td>\n",
       "      <td>151515</td>\n",
       "    </tr>\n",
       "    <tr>\n",
       "      <th>4</th>\n",
       "      <td>2019</td>\n",
       "      <td>148978</td>\n",
       "    </tr>\n",
       "    <tr>\n",
       "      <th>1</th>\n",
       "      <td>2016</td>\n",
       "      <td>142334</td>\n",
       "    </tr>\n",
       "    <tr>\n",
       "      <th>2</th>\n",
       "      <td>2017</td>\n",
       "      <td>140319</td>\n",
       "    </tr>\n",
       "    <tr>\n",
       "      <th>5</th>\n",
       "      <td>2020</td>\n",
       "      <td>72231</td>\n",
       "    </tr>\n",
       "    <tr>\n",
       "      <th>0</th>\n",
       "      <td>2015</td>\n",
       "      <td>7905</td>\n",
       "    </tr>\n",
       "  </tbody>\n",
       "</table>\n",
       "</div>"
      ],
      "text/plain": [
       "   year       e\n",
       "3  2018  151515\n",
       "4  2019  148978\n",
       "1  2016  142334\n",
       "2  2017  140319\n",
       "5  2020   72231\n",
       "0  2015    7905"
      ]
     },
     "execution_count": 64,
     "metadata": {},
     "output_type": "execute_result"
    }
   ],
   "source": [
    "data_911_year = data_911.groupby('year', as_index=False)['e'].sum().sort_values(by='e', ascending=False)\n",
    "data_911_year"
   ]
  },
  {
   "cell_type": "code",
   "execution_count": 65,
   "metadata": {},
   "outputs": [
    {
     "data": {
      "text/plain": [
       "<AxesSubplot:xlabel='year', ylabel='e'>"
      ]
     },
     "execution_count": 65,
     "metadata": {},
     "output_type": "execute_result"
    },
    {
     "data": {
      "image/png": "[encoded data removed]",
      "text/plain": [
       "<Figure size 432x288 with 1 Axes>"
      ]
     },
     "metadata": {},
     "output_type": "display_data"
    }
   ],
   "source": [
    "sns.barplot(data=data_911_year, x='year', y='e')"
   ]
  },
  {
   "cell_type": "code",
   "execution_count": 118,
   "metadata": {},
   "outputs": [
    {
     "data": {
      "text/html": [
       "<div>\n",
       "<style scoped>\n",
       "    .dataframe tbody tr th:only-of-type {\n",
       "        vertical-align: middle;\n",
       "    }\n",
       "\n",
       "    .dataframe tbody tr th {\n",
       "        vertical-align: top;\n",
       "    }\n",
       "\n",
       "    .dataframe thead th {\n",
       "        text-align: right;\n",
       "    }\n",
       "</style>\n",
       "<table border=\"1\" class=\"dataframe\">\n",
       "  <thead>\n",
       "    <tr style=\"text-align: right;\">\n",
       "      <th></th>\n",
       "      <th>year</th>\n",
       "      <th>e</th>\n",
       "    </tr>\n",
       "  </thead>\n",
       "  <tbody>\n",
       "    <tr>\n",
       "      <th>5</th>\n",
       "      <td>2020</td>\n",
       "      <td>72231</td>\n",
       "    </tr>\n",
       "    <tr>\n",
       "      <th>4</th>\n",
       "      <td>2019</td>\n",
       "      <td>148978</td>\n",
       "    </tr>\n",
       "    <tr>\n",
       "      <th>3</th>\n",
       "      <td>2018</td>\n",
       "      <td>151515</td>\n",
       "    </tr>\n",
       "    <tr>\n",
       "      <th>2</th>\n",
       "      <td>2017</td>\n",
       "      <td>140319</td>\n",
       "    </tr>\n",
       "    <tr>\n",
       "      <th>1</th>\n",
       "      <td>2016</td>\n",
       "      <td>142334</td>\n",
       "    </tr>\n",
       "    <tr>\n",
       "      <th>0</th>\n",
       "      <td>2015</td>\n",
       "      <td>7905</td>\n",
       "    </tr>\n",
       "  </tbody>\n",
       "</table>\n",
       "</div>"
      ],
      "text/plain": [
       "   year       e\n",
       "5  2020   72231\n",
       "4  2019  148978\n",
       "3  2018  151515\n",
       "2  2017  140319\n",
       "1  2016  142334\n",
       "0  2015    7905"
      ]
     },
     "execution_count": 118,
     "metadata": {},
     "output_type": "execute_result"
    }
   ],
   "source": [
    "data_911_year = data_911.groupby('year', as_index=False)['e'].sum().sort_values(by='year', ascending=False)\n",
    "data_911_year"
   ]
  },
  {
   "cell_type": "code",
   "execution_count": 119,
   "metadata": {},
   "outputs": [
    {
     "data": {
      "text/plain": [
       "<AxesSubplot:xlabel='year', ylabel='e'>"
      ]
     },
     "execution_count": 119,
     "metadata": {},
     "output_type": "execute_result"
    },
    {
     "data": {
      "image/png": "[encoded data removed]",
      "text/plain": [
       "<Figure size 432x288 with 1 Axes>"
      ]
     },
     "metadata": {},
     "output_type": "display_data"
    }
   ],
   "source": [
    "sns.pointplot(data=data_911_year, x='year', y='e')"
   ]
  },
  {
   "cell_type": "code",
   "execution_count": 102,
   "metadata": {},
   "outputs": [
    {
     "data": {
      "text/html": [
       "<div>\n",
       "<style scoped>\n",
       "    .dataframe tbody tr th:only-of-type {\n",
       "        vertical-align: middle;\n",
       "    }\n",
       "\n",
       "    .dataframe tbody tr th {\n",
       "        vertical-align: top;\n",
       "    }\n",
       "\n",
       "    .dataframe thead th {\n",
       "        text-align: right;\n",
       "    }\n",
       "</style>\n",
       "<table border=\"1\" class=\"dataframe\">\n",
       "  <thead>\n",
       "    <tr style=\"text-align: right;\">\n",
       "      <th></th>\n",
       "      <th>year</th>\n",
       "      <th>title</th>\n",
       "      <th>e</th>\n",
       "    </tr>\n",
       "  </thead>\n",
       "  <tbody>\n",
       "    <tr>\n",
       "      <th>12</th>\n",
       "      <td>2019</td>\n",
       "      <td>EMS</td>\n",
       "      <td>74952</td>\n",
       "    </tr>\n",
       "    <tr>\n",
       "      <th>9</th>\n",
       "      <td>2018</td>\n",
       "      <td>EMS</td>\n",
       "      <td>72582</td>\n",
       "    </tr>\n",
       "    <tr>\n",
       "      <th>6</th>\n",
       "      <td>2017</td>\n",
       "      <td>EMS</td>\n",
       "      <td>71044</td>\n",
       "    </tr>\n",
       "    <tr>\n",
       "      <th>3</th>\n",
       "      <td>2016</td>\n",
       "      <td>EMS</td>\n",
       "      <td>70112</td>\n",
       "    </tr>\n",
       "    <tr>\n",
       "      <th>11</th>\n",
       "      <td>2018</td>\n",
       "      <td>Traffic</td>\n",
       "      <td>55811</td>\n",
       "    </tr>\n",
       "    <tr>\n",
       "      <th>14</th>\n",
       "      <td>2019</td>\n",
       "      <td>Traffic</td>\n",
       "      <td>51778</td>\n",
       "    </tr>\n",
       "    <tr>\n",
       "      <th>5</th>\n",
       "      <td>2016</td>\n",
       "      <td>Traffic</td>\n",
       "      <td>50647</td>\n",
       "    </tr>\n",
       "    <tr>\n",
       "      <th>8</th>\n",
       "      <td>2017</td>\n",
       "      <td>Traffic</td>\n",
       "      <td>48730</td>\n",
       "    </tr>\n",
       "    <tr>\n",
       "      <th>15</th>\n",
       "      <td>2020</td>\n",
       "      <td>EMS</td>\n",
       "      <td>40008</td>\n",
       "    </tr>\n",
       "    <tr>\n",
       "      <th>10</th>\n",
       "      <td>2018</td>\n",
       "      <td>Fire</td>\n",
       "      <td>23122</td>\n",
       "    </tr>\n",
       "    <tr>\n",
       "      <th>13</th>\n",
       "      <td>2019</td>\n",
       "      <td>Fire</td>\n",
       "      <td>22248</td>\n",
       "    </tr>\n",
       "    <tr>\n",
       "      <th>4</th>\n",
       "      <td>2016</td>\n",
       "      <td>Fire</td>\n",
       "      <td>21575</td>\n",
       "    </tr>\n",
       "    <tr>\n",
       "      <th>7</th>\n",
       "      <td>2017</td>\n",
       "      <td>Fire</td>\n",
       "      <td>20545</td>\n",
       "    </tr>\n",
       "    <tr>\n",
       "      <th>17</th>\n",
       "      <td>2020</td>\n",
       "      <td>Traffic</td>\n",
       "      <td>20230</td>\n",
       "    </tr>\n",
       "    <tr>\n",
       "      <th>16</th>\n",
       "      <td>2020</td>\n",
       "      <td>Fire</td>\n",
       "      <td>11993</td>\n",
       "    </tr>\n",
       "    <tr>\n",
       "      <th>0</th>\n",
       "      <td>2015</td>\n",
       "      <td>EMS</td>\n",
       "      <td>3893</td>\n",
       "    </tr>\n",
       "    <tr>\n",
       "      <th>2</th>\n",
       "      <td>2015</td>\n",
       "      <td>Traffic</td>\n",
       "      <td>2919</td>\n",
       "    </tr>\n",
       "    <tr>\n",
       "      <th>1</th>\n",
       "      <td>2015</td>\n",
       "      <td>Fire</td>\n",
       "      <td>1093</td>\n",
       "    </tr>\n",
       "  </tbody>\n",
       "</table>\n",
       "</div>"
      ],
      "text/plain": [
       "    year    title      e\n",
       "12  2019      EMS  74952\n",
       "9   2018      EMS  72582\n",
       "6   2017      EMS  71044\n",
       "3   2016      EMS  70112\n",
       "11  2018  Traffic  55811\n",
       "14  2019  Traffic  51778\n",
       "5   2016  Traffic  50647\n",
       "8   2017  Traffic  48730\n",
       "15  2020      EMS  40008\n",
       "10  2018     Fire  23122\n",
       "13  2019     Fire  22248\n",
       "4   2016     Fire  21575\n",
       "7   2017     Fire  20545\n",
       "17  2020  Traffic  20230\n",
       "16  2020     Fire  11993\n",
       "0   2015      EMS   3893\n",
       "2   2015  Traffic   2919\n",
       "1   2015     Fire   1093"
      ]
     },
     "execution_count": 102,
     "metadata": {},
     "output_type": "execute_result"
    }
   ],
   "source": [
    "data_911_year_title = data_911.groupby(['year','title'], as_index=False)['e'].sum().sort_values(by='e', ascending=False)\n",
    "data_911_year_title"
   ]
  },
  {
   "cell_type": "code",
   "execution_count": 103,
   "metadata": {},
   "outputs": [
    {
     "data": {
      "text/plain": [
       "<AxesSubplot:xlabel='year', ylabel='e'>"
      ]
     },
     "execution_count": 103,
     "metadata": {},
     "output_type": "execute_result"
    },
    {
     "data": {
      "image/png": "[encoded data removed]",
      "text/plain": [
       "<Figure size 432x288 with 1 Axes>"
      ]
     },
     "metadata": {},
     "output_type": "display_data"
    }
   ],
   "source": [
    "sns.barplot(data=data_911_year_title, x='year', y='e',hue='title')"
   ]
  },
  {
   "cell_type": "code",
   "execution_count": 66,
   "metadata": {},
   "outputs": [
    {
     "data": {
      "text/html": [
       "<div>\n",
       "<style scoped>\n",
       "    .dataframe tbody tr th:only-of-type {\n",
       "        vertical-align: middle;\n",
       "    }\n",
       "\n",
       "    .dataframe tbody tr th {\n",
       "        vertical-align: top;\n",
       "    }\n",
       "\n",
       "    .dataframe thead th {\n",
       "        text-align: right;\n",
       "    }\n",
       "</style>\n",
       "<table border=\"1\" class=\"dataframe\">\n",
       "  <thead>\n",
       "    <tr style=\"text-align: right;\">\n",
       "      <th></th>\n",
       "      <th>year</th>\n",
       "      <th>month</th>\n",
       "      <th>e</th>\n",
       "    </tr>\n",
       "  </thead>\n",
       "  <tbody>\n",
       "    <tr>\n",
       "      <th>32</th>\n",
       "      <td>2018</td>\n",
       "      <td>Mar</td>\n",
       "      <td>14922</td>\n",
       "    </tr>\n",
       "    <tr>\n",
       "      <th>34</th>\n",
       "      <td>2018</td>\n",
       "      <td>Nov</td>\n",
       "      <td>14093</td>\n",
       "    </tr>\n",
       "    <tr>\n",
       "      <th>47</th>\n",
       "      <td>2019</td>\n",
       "      <td>Oct</td>\n",
       "      <td>13425</td>\n",
       "    </tr>\n",
       "    <tr>\n",
       "      <th>42</th>\n",
       "      <td>2019</td>\n",
       "      <td>Jul</td>\n",
       "      <td>13161</td>\n",
       "    </tr>\n",
       "    <tr>\n",
       "      <th>29</th>\n",
       "      <td>2018</td>\n",
       "      <td>Jan</td>\n",
       "      <td>13123</td>\n",
       "    </tr>\n",
       "    <tr>\n",
       "      <th>5</th>\n",
       "      <td>2016</td>\n",
       "      <td>Jan</td>\n",
       "      <td>13094</td>\n",
       "    </tr>\n",
       "    <tr>\n",
       "      <th>35</th>\n",
       "      <td>2018</td>\n",
       "      <td>Oct</td>\n",
       "      <td>12975</td>\n",
       "    </tr>\n",
       "    <tr>\n",
       "      <th>15</th>\n",
       "      <td>2017</td>\n",
       "      <td>Dec</td>\n",
       "      <td>12940</td>\n",
       "    </tr>\n",
       "    <tr>\n",
       "      <th>45</th>\n",
       "      <td>2019</td>\n",
       "      <td>May</td>\n",
       "      <td>12819</td>\n",
       "    </tr>\n",
       "    <tr>\n",
       "      <th>33</th>\n",
       "      <td>2018</td>\n",
       "      <td>May</td>\n",
       "      <td>12550</td>\n",
       "    </tr>\n",
       "    <tr>\n",
       "      <th>30</th>\n",
       "      <td>2018</td>\n",
       "      <td>Jul</td>\n",
       "      <td>12548</td>\n",
       "    </tr>\n",
       "    <tr>\n",
       "      <th>39</th>\n",
       "      <td>2019</td>\n",
       "      <td>Dec</td>\n",
       "      <td>12526</td>\n",
       "    </tr>\n",
       "    <tr>\n",
       "      <th>11</th>\n",
       "      <td>2016</td>\n",
       "      <td>Oct</td>\n",
       "      <td>12502</td>\n",
       "    </tr>\n",
       "    <tr>\n",
       "      <th>46</th>\n",
       "      <td>2019</td>\n",
       "      <td>Nov</td>\n",
       "      <td>12445</td>\n",
       "    </tr>\n",
       "    <tr>\n",
       "      <th>44</th>\n",
       "      <td>2019</td>\n",
       "      <td>Mar</td>\n",
       "      <td>12435</td>\n",
       "    </tr>\n",
       "    <tr>\n",
       "      <th>38</th>\n",
       "      <td>2019</td>\n",
       "      <td>Aug</td>\n",
       "      <td>12386</td>\n",
       "    </tr>\n",
       "    <tr>\n",
       "      <th>23</th>\n",
       "      <td>2017</td>\n",
       "      <td>Oct</td>\n",
       "      <td>12337</td>\n",
       "    </tr>\n",
       "    <tr>\n",
       "      <th>36</th>\n",
       "      <td>2018</td>\n",
       "      <td>Sep</td>\n",
       "      <td>12336</td>\n",
       "    </tr>\n",
       "    <tr>\n",
       "      <th>19</th>\n",
       "      <td>2017</td>\n",
       "      <td>Jun</td>\n",
       "      <td>12332</td>\n",
       "    </tr>\n",
       "    <tr>\n",
       "      <th>43</th>\n",
       "      <td>2019</td>\n",
       "      <td>Jun</td>\n",
       "      <td>12316</td>\n",
       "    </tr>\n",
       "    <tr>\n",
       "      <th>26</th>\n",
       "      <td>2018</td>\n",
       "      <td>Aug</td>\n",
       "      <td>12314</td>\n",
       "    </tr>\n",
       "    <tr>\n",
       "      <th>41</th>\n",
       "      <td>2019</td>\n",
       "      <td>Jan</td>\n",
       "      <td>12298</td>\n",
       "    </tr>\n",
       "    <tr>\n",
       "      <th>51</th>\n",
       "      <td>2020</td>\n",
       "      <td>Jan</td>\n",
       "      <td>12192</td>\n",
       "    </tr>\n",
       "    <tr>\n",
       "      <th>3</th>\n",
       "      <td>2016</td>\n",
       "      <td>Dec</td>\n",
       "      <td>12162</td>\n",
       "    </tr>\n",
       "    <tr>\n",
       "      <th>27</th>\n",
       "      <td>2018</td>\n",
       "      <td>Dec</td>\n",
       "      <td>12144</td>\n",
       "    </tr>\n",
       "    <tr>\n",
       "      <th>31</th>\n",
       "      <td>2018</td>\n",
       "      <td>Jun</td>\n",
       "      <td>12106</td>\n",
       "    </tr>\n",
       "    <tr>\n",
       "      <th>10</th>\n",
       "      <td>2016</td>\n",
       "      <td>Nov</td>\n",
       "      <td>12091</td>\n",
       "    </tr>\n",
       "    <tr>\n",
       "      <th>6</th>\n",
       "      <td>2016</td>\n",
       "      <td>Jul</td>\n",
       "      <td>12088</td>\n",
       "    </tr>\n",
       "    <tr>\n",
       "      <th>2</th>\n",
       "      <td>2016</td>\n",
       "      <td>Aug</td>\n",
       "      <td>11903</td>\n",
       "    </tr>\n",
       "    <tr>\n",
       "      <th>48</th>\n",
       "      <td>2019</td>\n",
       "      <td>Sep</td>\n",
       "      <td>11873</td>\n",
       "    </tr>\n",
       "    <tr>\n",
       "      <th>18</th>\n",
       "      <td>2017</td>\n",
       "      <td>Jul</td>\n",
       "      <td>11767</td>\n",
       "    </tr>\n",
       "    <tr>\n",
       "      <th>14</th>\n",
       "      <td>2017</td>\n",
       "      <td>Aug</td>\n",
       "      <td>11752</td>\n",
       "    </tr>\n",
       "    <tr>\n",
       "      <th>37</th>\n",
       "      <td>2019</td>\n",
       "      <td>Apr</td>\n",
       "      <td>11738</td>\n",
       "    </tr>\n",
       "    <tr>\n",
       "      <th>7</th>\n",
       "      <td>2016</td>\n",
       "      <td>Jun</td>\n",
       "      <td>11728</td>\n",
       "    </tr>\n",
       "    <tr>\n",
       "      <th>21</th>\n",
       "      <td>2017</td>\n",
       "      <td>May</td>\n",
       "      <td>11717</td>\n",
       "    </tr>\n",
       "    <tr>\n",
       "      <th>20</th>\n",
       "      <td>2017</td>\n",
       "      <td>Mar</td>\n",
       "      <td>11684</td>\n",
       "    </tr>\n",
       "    <tr>\n",
       "      <th>12</th>\n",
       "      <td>2016</td>\n",
       "      <td>Sep</td>\n",
       "      <td>11669</td>\n",
       "    </tr>\n",
       "    <tr>\n",
       "      <th>17</th>\n",
       "      <td>2017</td>\n",
       "      <td>Jan</td>\n",
       "      <td>11605</td>\n",
       "    </tr>\n",
       "    <tr>\n",
       "      <th>40</th>\n",
       "      <td>2019</td>\n",
       "      <td>Feb</td>\n",
       "      <td>11556</td>\n",
       "    </tr>\n",
       "    <tr>\n",
       "      <th>22</th>\n",
       "      <td>2017</td>\n",
       "      <td>Nov</td>\n",
       "      <td>11547</td>\n",
       "    </tr>\n",
       "    <tr>\n",
       "      <th>53</th>\n",
       "      <td>2020</td>\n",
       "      <td>Jun</td>\n",
       "      <td>11538</td>\n",
       "    </tr>\n",
       "    <tr>\n",
       "      <th>4</th>\n",
       "      <td>2016</td>\n",
       "      <td>Feb</td>\n",
       "      <td>11396</td>\n",
       "    </tr>\n",
       "    <tr>\n",
       "      <th>9</th>\n",
       "      <td>2016</td>\n",
       "      <td>May</td>\n",
       "      <td>11361</td>\n",
       "    </tr>\n",
       "    <tr>\n",
       "      <th>24</th>\n",
       "      <td>2017</td>\n",
       "      <td>Sep</td>\n",
       "      <td>11316</td>\n",
       "    </tr>\n",
       "    <tr>\n",
       "      <th>1</th>\n",
       "      <td>2016</td>\n",
       "      <td>Apr</td>\n",
       "      <td>11286</td>\n",
       "    </tr>\n",
       "    <tr>\n",
       "      <th>25</th>\n",
       "      <td>2018</td>\n",
       "      <td>Apr</td>\n",
       "      <td>11240</td>\n",
       "    </tr>\n",
       "    <tr>\n",
       "      <th>28</th>\n",
       "      <td>2018</td>\n",
       "      <td>Feb</td>\n",
       "      <td>11164</td>\n",
       "    </tr>\n",
       "    <tr>\n",
       "      <th>13</th>\n",
       "      <td>2017</td>\n",
       "      <td>Apr</td>\n",
       "      <td>11055</td>\n",
       "    </tr>\n",
       "    <tr>\n",
       "      <th>8</th>\n",
       "      <td>2016</td>\n",
       "      <td>Mar</td>\n",
       "      <td>11054</td>\n",
       "    </tr>\n",
       "    <tr>\n",
       "      <th>50</th>\n",
       "      <td>2020</td>\n",
       "      <td>Feb</td>\n",
       "      <td>11040</td>\n",
       "    </tr>\n",
       "    <tr>\n",
       "      <th>16</th>\n",
       "      <td>2017</td>\n",
       "      <td>Feb</td>\n",
       "      <td>10267</td>\n",
       "    </tr>\n",
       "    <tr>\n",
       "      <th>52</th>\n",
       "      <td>2020</td>\n",
       "      <td>Jul</td>\n",
       "      <td>10259</td>\n",
       "    </tr>\n",
       "    <tr>\n",
       "      <th>54</th>\n",
       "      <td>2020</td>\n",
       "      <td>Mar</td>\n",
       "      <td>9920</td>\n",
       "    </tr>\n",
       "    <tr>\n",
       "      <th>55</th>\n",
       "      <td>2020</td>\n",
       "      <td>May</td>\n",
       "      <td>9041</td>\n",
       "    </tr>\n",
       "    <tr>\n",
       "      <th>49</th>\n",
       "      <td>2020</td>\n",
       "      <td>Apr</td>\n",
       "      <td>8241</td>\n",
       "    </tr>\n",
       "    <tr>\n",
       "      <th>0</th>\n",
       "      <td>2015</td>\n",
       "      <td>Dec</td>\n",
       "      <td>7905</td>\n",
       "    </tr>\n",
       "  </tbody>\n",
       "</table>\n",
       "</div>"
      ],
      "text/plain": [
       "    year month      e\n",
       "32  2018   Mar  14922\n",
       "34  2018   Nov  14093\n",
       "47  2019   Oct  13425\n",
       "42  2019   Jul  13161\n",
       "29  2018   Jan  13123\n",
       "5   2016   Jan  13094\n",
       "35  2018   Oct  12975\n",
       "15  2017   Dec  12940\n",
       "45  2019   May  12819\n",
       "33  2018   May  12550\n",
       "30  2018   Jul  12548\n",
       "39  2019   Dec  12526\n",
       "11  2016   Oct  12502\n",
       "46  2019   Nov  12445\n",
       "44  2019   Mar  12435\n",
       "38  2019   Aug  12386\n",
       "23  2017   Oct  12337\n",
       "36  2018   Sep  12336\n",
       "19  2017   Jun  12332\n",
       "43  2019   Jun  12316\n",
       "26  2018   Aug  12314\n",
       "41  2019   Jan  12298\n",
       "51  2020   Jan  12192\n",
       "3   2016   Dec  12162\n",
       "27  2018   Dec  12144\n",
       "31  2018   Jun  12106\n",
       "10  2016   Nov  12091\n",
       "6   2016   Jul  12088\n",
       "2   2016   Aug  11903\n",
       "48  2019   Sep  11873\n",
       "18  2017   Jul  11767\n",
       "14  2017   Aug  11752\n",
       "37  2019   Apr  11738\n",
       "7   2016   Jun  11728\n",
       "21  2017   May  11717\n",
       "20  2017   Mar  11684\n",
       "12  2016   Sep  11669\n",
       "17  2017   Jan  11605\n",
       "40  2019   Feb  11556\n",
       "22  2017   Nov  11547\n",
       "53  2020   Jun  11538\n",
       "4   2016   Feb  11396\n",
       "9   2016   May  11361\n",
       "24  2017   Sep  11316\n",
       "1   2016   Apr  11286\n",
       "25  2018   Apr  11240\n",
       "28  2018   Feb  11164\n",
       "13  2017   Apr  11055\n",
       "8   2016   Mar  11054\n",
       "50  2020   Feb  11040\n",
       "16  2017   Feb  10267\n",
       "52  2020   Jul  10259\n",
       "54  2020   Mar   9920\n",
       "55  2020   May   9041\n",
       "49  2020   Apr   8241\n",
       "0   2015   Dec   7905"
      ]
     },
     "execution_count": 66,
     "metadata": {},
     "output_type": "execute_result"
    }
   ],
   "source": [
    "data_911_year_month = data_911.groupby(['year','month'], as_index=False)['e'].sum().sort_values(by='e', ascending=False)\n",
    "data_911_year_month"
   ]
  },
  {
   "cell_type": "code",
   "execution_count": 67,
   "metadata": {},
   "outputs": [
    {
     "data": {
      "text/plain": [
       "<AxesSubplot:xlabel='month', ylabel='e'>"
      ]
     },
     "execution_count": 67,
     "metadata": {},
     "output_type": "execute_result"
    },
    {
     "data": {
      "image/png": "[encoded data removed]",
      "text/plain": [
       "<Figure size 720x720 with 1 Axes>"
      ]
     },
     "metadata": {},
     "output_type": "display_data"
    }
   ],
   "source": [
    "plt.figure(figsize=(10,10))\n",
    "sns.barplot(data=data_911_year_month, x='month', y='e', hue='year')"
   ]
  },
  {
   "cell_type": "markdown",
   "metadata": {},
   "source": [
    "**Obs4.**\n",
    "1. The highest emergency calls are recorded in January over the 5 years(2015-2020) while the least has been recorded in September\n",
    "2. However, in every month the EMS category of emergency topped the list.\n",
    "3. Among these 5 years the bighest number of emergency calls were recorded in 2018. From 2015 the emergency calls increased till 2018 with an exception in 2017 but post 2018 it has decreased. So I find an improvement over the years especially from 2018.(<em>This trend is visible from the pointplot also</em>)\n",
    "4. Among the years , one thing is coomon i.e. EMS category shows the highest number of emergency calls. Fire ids the least.\n",
    "5. In 2018, March and November recorded the highest emergency calls. "
   ]
  },
  {
   "cell_type": "code",
   "execution_count": 68,
   "metadata": {},
   "outputs": [
    {
     "data": {
      "text/html": [
       "<div>\n",
       "<style scoped>\n",
       "    .dataframe tbody tr th:only-of-type {\n",
       "        vertical-align: middle;\n",
       "    }\n",
       "\n",
       "    .dataframe tbody tr th {\n",
       "        vertical-align: top;\n",
       "    }\n",
       "\n",
       "    .dataframe thead th {\n",
       "        text-align: right;\n",
       "    }\n",
       "</style>\n",
       "<table border=\"1\" class=\"dataframe\">\n",
       "  <thead>\n",
       "    <tr style=\"text-align: right;\">\n",
       "      <th></th>\n",
       "      <th>part_of_day</th>\n",
       "      <th>e</th>\n",
       "    </tr>\n",
       "  </thead>\n",
       "  <tbody>\n",
       "    <tr>\n",
       "      <th>0</th>\n",
       "      <td>Afternoon</td>\n",
       "      <td>205233</td>\n",
       "    </tr>\n",
       "    <tr>\n",
       "      <th>2</th>\n",
       "      <td>Morning</td>\n",
       "      <td>199306</td>\n",
       "    </tr>\n",
       "    <tr>\n",
       "      <th>1</th>\n",
       "      <td>Evening</td>\n",
       "      <td>141891</td>\n",
       "    </tr>\n",
       "    <tr>\n",
       "      <th>3</th>\n",
       "      <td>Night</td>\n",
       "      <td>116852</td>\n",
       "    </tr>\n",
       "  </tbody>\n",
       "</table>\n",
       "</div>"
      ],
      "text/plain": [
       "  part_of_day       e\n",
       "0   Afternoon  205233\n",
       "2     Morning  199306\n",
       "1     Evening  141891\n",
       "3       Night  116852"
      ]
     },
     "execution_count": 68,
     "metadata": {},
     "output_type": "execute_result"
    }
   ],
   "source": [
    "data_911_pod = data_911.groupby('part_of_day', as_index=False)['e'].sum().sort_values(by='e', ascending=False)\n",
    "data_911_pod"
   ]
  },
  {
   "cell_type": "code",
   "execution_count": 69,
   "metadata": {},
   "outputs": [
    {
     "data": {
      "text/plain": [
       "<AxesSubplot:xlabel='part_of_day', ylabel='e'>"
      ]
     },
     "execution_count": 69,
     "metadata": {},
     "output_type": "execute_result"
    },
    {
     "data": {
      "image/png": "[encoded data removed]",
      "text/plain": [
       "<Figure size 432x288 with 1 Axes>"
      ]
     },
     "metadata": {},
     "output_type": "display_data"
    }
   ],
   "source": [
    "sns.barplot(data=data_911_pod, x='part_of_day', y='e')"
   ]
  },
  {
   "cell_type": "code",
   "execution_count": 104,
   "metadata": {},
   "outputs": [
    {
     "data": {
      "text/html": [
       "<div>\n",
       "<style scoped>\n",
       "    .dataframe tbody tr th:only-of-type {\n",
       "        vertical-align: middle;\n",
       "    }\n",
       "\n",
       "    .dataframe tbody tr th {\n",
       "        vertical-align: top;\n",
       "    }\n",
       "\n",
       "    .dataframe thead th {\n",
       "        text-align: right;\n",
       "    }\n",
       "</style>\n",
       "<table border=\"1\" class=\"dataframe\">\n",
       "  <thead>\n",
       "    <tr style=\"text-align: right;\">\n",
       "      <th></th>\n",
       "      <th>part_of_day</th>\n",
       "      <th>title</th>\n",
       "      <th>e</th>\n",
       "    </tr>\n",
       "  </thead>\n",
       "  <tbody>\n",
       "    <tr>\n",
       "      <th>6</th>\n",
       "      <td>Morning</td>\n",
       "      <td>EMS</td>\n",
       "      <td>102193</td>\n",
       "    </tr>\n",
       "    <tr>\n",
       "      <th>0</th>\n",
       "      <td>Afternoon</td>\n",
       "      <td>EMS</td>\n",
       "      <td>94278</td>\n",
       "    </tr>\n",
       "    <tr>\n",
       "      <th>2</th>\n",
       "      <td>Afternoon</td>\n",
       "      <td>Traffic</td>\n",
       "      <td>81158</td>\n",
       "    </tr>\n",
       "    <tr>\n",
       "      <th>9</th>\n",
       "      <td>Night</td>\n",
       "      <td>EMS</td>\n",
       "      <td>70259</td>\n",
       "    </tr>\n",
       "    <tr>\n",
       "      <th>8</th>\n",
       "      <td>Morning</td>\n",
       "      <td>Traffic</td>\n",
       "      <td>68581</td>\n",
       "    </tr>\n",
       "    <tr>\n",
       "      <th>3</th>\n",
       "      <td>Evening</td>\n",
       "      <td>EMS</td>\n",
       "      <td>65861</td>\n",
       "    </tr>\n",
       "    <tr>\n",
       "      <th>5</th>\n",
       "      <td>Evening</td>\n",
       "      <td>Traffic</td>\n",
       "      <td>52377</td>\n",
       "    </tr>\n",
       "    <tr>\n",
       "      <th>1</th>\n",
       "      <td>Afternoon</td>\n",
       "      <td>Fire</td>\n",
       "      <td>29797</td>\n",
       "    </tr>\n",
       "    <tr>\n",
       "      <th>7</th>\n",
       "      <td>Morning</td>\n",
       "      <td>Fire</td>\n",
       "      <td>28532</td>\n",
       "    </tr>\n",
       "    <tr>\n",
       "      <th>11</th>\n",
       "      <td>Night</td>\n",
       "      <td>Traffic</td>\n",
       "      <td>27999</td>\n",
       "    </tr>\n",
       "    <tr>\n",
       "      <th>4</th>\n",
       "      <td>Evening</td>\n",
       "      <td>Fire</td>\n",
       "      <td>23653</td>\n",
       "    </tr>\n",
       "    <tr>\n",
       "      <th>10</th>\n",
       "      <td>Night</td>\n",
       "      <td>Fire</td>\n",
       "      <td>18594</td>\n",
       "    </tr>\n",
       "  </tbody>\n",
       "</table>\n",
       "</div>"
      ],
      "text/plain": [
       "   part_of_day    title       e\n",
       "6      Morning      EMS  102193\n",
       "0    Afternoon      EMS   94278\n",
       "2    Afternoon  Traffic   81158\n",
       "9        Night      EMS   70259\n",
       "8      Morning  Traffic   68581\n",
       "3      Evening      EMS   65861\n",
       "5      Evening  Traffic   52377\n",
       "1    Afternoon     Fire   29797\n",
       "7      Morning     Fire   28532\n",
       "11       Night  Traffic   27999\n",
       "4      Evening     Fire   23653\n",
       "10       Night     Fire   18594"
      ]
     },
     "execution_count": 104,
     "metadata": {},
     "output_type": "execute_result"
    }
   ],
   "source": [
    "data_911_pod_title = data_911.groupby(['part_of_day','title'], as_index=False)['e'].sum().sort_values(by='e', ascending=False)\n",
    "data_911_pod_title"
   ]
  },
  {
   "cell_type": "code",
   "execution_count": 106,
   "metadata": {},
   "outputs": [
    {
     "data": {
      "text/plain": [
       "<AxesSubplot:xlabel='part_of_day', ylabel='e'>"
      ]
     },
     "execution_count": 106,
     "metadata": {},
     "output_type": "execute_result"
    },
    {
     "data": {
      "image/png": "[encoded data removed]",
      "text/plain": [
       "<Figure size 432x288 with 1 Axes>"
      ]
     },
     "metadata": {},
     "output_type": "display_data"
    }
   ],
   "source": [
    "sns.barplot(data=data_911_pod_title, x='part_of_day', y='e',hue='title')"
   ]
  },
  {
   "cell_type": "markdown",
   "metadata": {},
   "source": [
    "**Obs5.**\n",
    "\n",
    "1. Morning and Afternoon records the highest number of emergency calls in a day. The number reduced drastically during night.\n",
    "2. Among the parts of day, clearly EMS is the highest emergency call category while Fire is the least."
   ]
  },
  {
   "cell_type": "code",
   "execution_count": 70,
   "metadata": {},
   "outputs": [
    {
     "data": {
      "text/html": [
       "<div>\n",
       "<style scoped>\n",
       "    .dataframe tbody tr th:only-of-type {\n",
       "        vertical-align: middle;\n",
       "    }\n",
       "\n",
       "    .dataframe tbody tr th {\n",
       "        vertical-align: top;\n",
       "    }\n",
       "\n",
       "    .dataframe thead th {\n",
       "        text-align: right;\n",
       "    }\n",
       "</style>\n",
       "<table border=\"1\" class=\"dataframe\">\n",
       "  <thead>\n",
       "    <tr style=\"text-align: right;\">\n",
       "      <th></th>\n",
       "      <th>dow</th>\n",
       "      <th>e</th>\n",
       "    </tr>\n",
       "  </thead>\n",
       "  <tbody>\n",
       "    <tr>\n",
       "      <th>0</th>\n",
       "      <td>Fri</td>\n",
       "      <td>102902</td>\n",
       "    </tr>\n",
       "    <tr>\n",
       "      <th>6</th>\n",
       "      <td>Wed</td>\n",
       "      <td>99126</td>\n",
       "    </tr>\n",
       "    <tr>\n",
       "      <th>4</th>\n",
       "      <td>Thur</td>\n",
       "      <td>98637</td>\n",
       "    </tr>\n",
       "    <tr>\n",
       "      <th>5</th>\n",
       "      <td>Tue</td>\n",
       "      <td>97651</td>\n",
       "    </tr>\n",
       "    <tr>\n",
       "      <th>1</th>\n",
       "      <td>Mon</td>\n",
       "      <td>96722</td>\n",
       "    </tr>\n",
       "    <tr>\n",
       "      <th>2</th>\n",
       "      <td>Sat</td>\n",
       "      <td>89414</td>\n",
       "    </tr>\n",
       "    <tr>\n",
       "      <th>3</th>\n",
       "      <td>Sun</td>\n",
       "      <td>78830</td>\n",
       "    </tr>\n",
       "  </tbody>\n",
       "</table>\n",
       "</div>"
      ],
      "text/plain": [
       "    dow       e\n",
       "0   Fri  102902\n",
       "6   Wed   99126\n",
       "4  Thur   98637\n",
       "5   Tue   97651\n",
       "1   Mon   96722\n",
       "2   Sat   89414\n",
       "3   Sun   78830"
      ]
     },
     "execution_count": 70,
     "metadata": {},
     "output_type": "execute_result"
    }
   ],
   "source": [
    "data_911_dow = data_911.groupby('dow', as_index=False)['e'].sum().sort_values(by='e', ascending=False)\n",
    "data_911_dow"
   ]
  },
  {
   "cell_type": "code",
   "execution_count": 71,
   "metadata": {},
   "outputs": [
    {
     "data": {
      "text/plain": [
       "<AxesSubplot:xlabel='dow', ylabel='e'>"
      ]
     },
     "execution_count": 71,
     "metadata": {},
     "output_type": "execute_result"
    },
    {
     "data": {
      "image/png": "[encoded data removed]",
      "text/plain": [
       "<Figure size 432x288 with 1 Axes>"
      ]
     },
     "metadata": {},
     "output_type": "display_data"
    }
   ],
   "source": [
    "sns.barplot(data=data_911_dow, x='dow', y='e')"
   ]
  },
  {
   "cell_type": "code",
   "execution_count": 107,
   "metadata": {},
   "outputs": [
    {
     "data": {
      "text/html": [
       "<div>\n",
       "<style scoped>\n",
       "    .dataframe tbody tr th:only-of-type {\n",
       "        vertical-align: middle;\n",
       "    }\n",
       "\n",
       "    .dataframe tbody tr th {\n",
       "        vertical-align: top;\n",
       "    }\n",
       "\n",
       "    .dataframe thead th {\n",
       "        text-align: right;\n",
       "    }\n",
       "</style>\n",
       "<table border=\"1\" class=\"dataframe\">\n",
       "  <thead>\n",
       "    <tr style=\"text-align: right;\">\n",
       "      <th></th>\n",
       "      <th>dow</th>\n",
       "      <th>title</th>\n",
       "      <th>e</th>\n",
       "    </tr>\n",
       "  </thead>\n",
       "  <tbody>\n",
       "    <tr>\n",
       "      <th>0</th>\n",
       "      <td>Fri</td>\n",
       "      <td>EMS</td>\n",
       "      <td>49352</td>\n",
       "    </tr>\n",
       "    <tr>\n",
       "      <th>3</th>\n",
       "      <td>Mon</td>\n",
       "      <td>EMS</td>\n",
       "      <td>48737</td>\n",
       "    </tr>\n",
       "    <tr>\n",
       "      <th>15</th>\n",
       "      <td>Tue</td>\n",
       "      <td>EMS</td>\n",
       "      <td>48361</td>\n",
       "    </tr>\n",
       "    <tr>\n",
       "      <th>18</th>\n",
       "      <td>Wed</td>\n",
       "      <td>EMS</td>\n",
       "      <td>48027</td>\n",
       "    </tr>\n",
       "    <tr>\n",
       "      <th>12</th>\n",
       "      <td>Thur</td>\n",
       "      <td>EMS</td>\n",
       "      <td>47602</td>\n",
       "    </tr>\n",
       "    <tr>\n",
       "      <th>6</th>\n",
       "      <td>Sat</td>\n",
       "      <td>EMS</td>\n",
       "      <td>46420</td>\n",
       "    </tr>\n",
       "    <tr>\n",
       "      <th>9</th>\n",
       "      <td>Sun</td>\n",
       "      <td>EMS</td>\n",
       "      <td>44092</td>\n",
       "    </tr>\n",
       "    <tr>\n",
       "      <th>2</th>\n",
       "      <td>Fri</td>\n",
       "      <td>Traffic</td>\n",
       "      <td>38231</td>\n",
       "    </tr>\n",
       "    <tr>\n",
       "      <th>14</th>\n",
       "      <td>Thur</td>\n",
       "      <td>Traffic</td>\n",
       "      <td>36431</td>\n",
       "    </tr>\n",
       "    <tr>\n",
       "      <th>20</th>\n",
       "      <td>Wed</td>\n",
       "      <td>Traffic</td>\n",
       "      <td>36084</td>\n",
       "    </tr>\n",
       "    <tr>\n",
       "      <th>17</th>\n",
       "      <td>Tue</td>\n",
       "      <td>Traffic</td>\n",
       "      <td>34988</td>\n",
       "    </tr>\n",
       "    <tr>\n",
       "      <th>5</th>\n",
       "      <td>Mon</td>\n",
       "      <td>Traffic</td>\n",
       "      <td>33488</td>\n",
       "    </tr>\n",
       "    <tr>\n",
       "      <th>8</th>\n",
       "      <td>Sat</td>\n",
       "      <td>Traffic</td>\n",
       "      <td>29102</td>\n",
       "    </tr>\n",
       "    <tr>\n",
       "      <th>11</th>\n",
       "      <td>Sun</td>\n",
       "      <td>Traffic</td>\n",
       "      <td>21791</td>\n",
       "    </tr>\n",
       "    <tr>\n",
       "      <th>1</th>\n",
       "      <td>Fri</td>\n",
       "      <td>Fire</td>\n",
       "      <td>15319</td>\n",
       "    </tr>\n",
       "    <tr>\n",
       "      <th>19</th>\n",
       "      <td>Wed</td>\n",
       "      <td>Fire</td>\n",
       "      <td>15015</td>\n",
       "    </tr>\n",
       "    <tr>\n",
       "      <th>13</th>\n",
       "      <td>Thur</td>\n",
       "      <td>Fire</td>\n",
       "      <td>14604</td>\n",
       "    </tr>\n",
       "    <tr>\n",
       "      <th>4</th>\n",
       "      <td>Mon</td>\n",
       "      <td>Fire</td>\n",
       "      <td>14497</td>\n",
       "    </tr>\n",
       "    <tr>\n",
       "      <th>16</th>\n",
       "      <td>Tue</td>\n",
       "      <td>Fire</td>\n",
       "      <td>14302</td>\n",
       "    </tr>\n",
       "    <tr>\n",
       "      <th>7</th>\n",
       "      <td>Sat</td>\n",
       "      <td>Fire</td>\n",
       "      <td>13892</td>\n",
       "    </tr>\n",
       "    <tr>\n",
       "      <th>10</th>\n",
       "      <td>Sun</td>\n",
       "      <td>Fire</td>\n",
       "      <td>12947</td>\n",
       "    </tr>\n",
       "  </tbody>\n",
       "</table>\n",
       "</div>"
      ],
      "text/plain": [
       "     dow    title      e\n",
       "0    Fri      EMS  49352\n",
       "3    Mon      EMS  48737\n",
       "15   Tue      EMS  48361\n",
       "18   Wed      EMS  48027\n",
       "12  Thur      EMS  47602\n",
       "6    Sat      EMS  46420\n",
       "9    Sun      EMS  44092\n",
       "2    Fri  Traffic  38231\n",
       "14  Thur  Traffic  36431\n",
       "20   Wed  Traffic  36084\n",
       "17   Tue  Traffic  34988\n",
       "5    Mon  Traffic  33488\n",
       "8    Sat  Traffic  29102\n",
       "11   Sun  Traffic  21791\n",
       "1    Fri     Fire  15319\n",
       "19   Wed     Fire  15015\n",
       "13  Thur     Fire  14604\n",
       "4    Mon     Fire  14497\n",
       "16   Tue     Fire  14302\n",
       "7    Sat     Fire  13892\n",
       "10   Sun     Fire  12947"
      ]
     },
     "execution_count": 107,
     "metadata": {},
     "output_type": "execute_result"
    }
   ],
   "source": [
    "data_911_dow_title = data_911.groupby(['dow','title'], as_index=False)['e'].sum().sort_values(by='e', ascending=False)\n",
    "data_911_dow_title"
   ]
  },
  {
   "cell_type": "code",
   "execution_count": 108,
   "metadata": {},
   "outputs": [
    {
     "data": {
      "text/plain": [
       "<AxesSubplot:xlabel='dow', ylabel='e'>"
      ]
     },
     "execution_count": 108,
     "metadata": {},
     "output_type": "execute_result"
    },
    {
     "data": {
      "image/png": "[encoded data removed]",
      "text/plain": [
       "<Figure size 432x288 with 1 Axes>"
      ]
     },
     "metadata": {},
     "output_type": "display_data"
    }
   ],
   "source": [
    "sns.barplot(data=data_911_dow_title, x='dow', y='e',hue='title')"
   ]
  },
  {
   "cell_type": "markdown",
   "metadata": {},
   "source": [
    "**Obs6.**\n",
    "1. In a week, Friday records the highest number of Emergency calls \n",
    "2. Consider 3 groups : \n",
    "a. early_week = {Mon,Tue}\n",
    "b. mid_day = Wed\n",
    "c. later_week = {Thurs, Fri}\n",
    "d. Weekend={Sat, Sun}.\n",
    "Clearly, from the above table , the mid_day and the later_week recorded more emergency calls than the early_week. Also notice that the difference in emergency calls number is much more in weekends than in weekdays\n",
    "3. Among the days of week . EMS tops the list and Fire is at the bottom of the categories with the most emergencu=y calls. Strangely, I see that for Fire the number of cases in almost constant for the days of week over the entire span of 5 years.  "
   ]
  },
  {
   "cell_type": "code",
   "execution_count": 72,
   "metadata": {},
   "outputs": [
    {
     "name": "stdout",
     "output_type": "stream",
     "text": [
      "<class 'pandas.core.frame.DataFrame'>\n",
      "Int64Index: 663282 entries, 0 to 663521\n",
      "Data columns (total 14 columns):\n",
      " #   Column        Non-Null Count   Dtype         \n",
      "---  ------        --------------   -----         \n",
      " 0   lat           663282 non-null  object        \n",
      " 1   lng           663282 non-null  object        \n",
      " 2   desc          663282 non-null  object        \n",
      " 3   zip           663282 non-null  object        \n",
      " 4   title         663282 non-null  object        \n",
      " 5   twp           663282 non-null  object        \n",
      " 6   addr          663282 non-null  object        \n",
      " 7   e             663282 non-null  int64         \n",
      " 8   date          663282 non-null  datetime64[ns]\n",
      " 9   month         663282 non-null  object        \n",
      " 10  year          663282 non-null  object        \n",
      " 11  part_of_day   663282 non-null  object        \n",
      " 12  dow           663282 non-null  object        \n",
      " 13  title_subcat  663282 non-null  object        \n",
      "dtypes: datetime64[ns](1), int64(1), object(12)\n",
      "memory usage: 61.5+ MB\n"
     ]
    }
   ],
   "source": [
    "data_911.info()"
   ]
  },
  {
   "cell_type": "code",
   "execution_count": 73,
   "metadata": {},
   "outputs": [
    {
     "data": {
      "text/html": [
       "<div>\n",
       "<style scoped>\n",
       "    .dataframe tbody tr th:only-of-type {\n",
       "        vertical-align: middle;\n",
       "    }\n",
       "\n",
       "    .dataframe tbody tr th {\n",
       "        vertical-align: top;\n",
       "    }\n",
       "\n",
       "    .dataframe thead th {\n",
       "        text-align: right;\n",
       "    }\n",
       "</style>\n",
       "<table border=\"1\" class=\"dataframe\">\n",
       "  <thead>\n",
       "    <tr style=\"text-align: right;\">\n",
       "      <th></th>\n",
       "      <th>zip</th>\n",
       "      <th>e</th>\n",
       "    </tr>\n",
       "  </thead>\n",
       "  <tbody>\n",
       "    <tr>\n",
       "      <th>204</th>\n",
       "      <td>nan</td>\n",
       "      <td>80165</td>\n",
       "    </tr>\n",
       "    <tr>\n",
       "      <th>136</th>\n",
       "      <td>19401.0</td>\n",
       "      <td>45583</td>\n",
       "    </tr>\n",
       "    <tr>\n",
       "      <th>161</th>\n",
       "      <td>19464.0</td>\n",
       "      <td>43900</td>\n",
       "    </tr>\n",
       "    <tr>\n",
       "      <th>137</th>\n",
       "      <td>19403.0</td>\n",
       "      <td>34874</td>\n",
       "    </tr>\n",
       "    <tr>\n",
       "      <th>153</th>\n",
       "      <td>19446.0</td>\n",
       "      <td>32257</td>\n",
       "    </tr>\n",
       "    <tr>\n",
       "      <th>...</th>\n",
       "      <td>...</td>\n",
       "      <td>...</td>\n",
       "    </tr>\n",
       "    <tr>\n",
       "      <th>15</th>\n",
       "      <td>18040.0</td>\n",
       "      <td>1</td>\n",
       "    </tr>\n",
       "    <tr>\n",
       "      <th>12</th>\n",
       "      <td>17901.0</td>\n",
       "      <td>1</td>\n",
       "    </tr>\n",
       "    <tr>\n",
       "      <th>11</th>\n",
       "      <td>17810.0</td>\n",
       "      <td>1</td>\n",
       "    </tr>\n",
       "    <tr>\n",
       "      <th>79</th>\n",
       "      <td>19054.0</td>\n",
       "      <td>1</td>\n",
       "    </tr>\n",
       "    <tr>\n",
       "      <th>0</th>\n",
       "      <td>1104.0</td>\n",
       "      <td>1</td>\n",
       "    </tr>\n",
       "  </tbody>\n",
       "</table>\n",
       "<p>205 rows × 2 columns</p>\n",
       "</div>"
      ],
      "text/plain": [
       "         zip      e\n",
       "204      nan  80165\n",
       "136  19401.0  45583\n",
       "161  19464.0  43900\n",
       "137  19403.0  34874\n",
       "153  19446.0  32257\n",
       "..       ...    ...\n",
       "15   18040.0      1\n",
       "12   17901.0      1\n",
       "11   17810.0      1\n",
       "79   19054.0      1\n",
       "0     1104.0      1\n",
       "\n",
       "[205 rows x 2 columns]"
      ]
     },
     "execution_count": 73,
     "metadata": {},
     "output_type": "execute_result"
    }
   ],
   "source": [
    "data_911_zip = data_911.groupby('zip', as_index=False)['e'].sum().sort_values(by='e', ascending=False)\n",
    "data_911_zip"
   ]
  },
  {
   "cell_type": "markdown",
   "metadata": {},
   "source": [
    "While analyzing, zip is found to have many null values but not recognized since it is not of the form of np.nan\n",
    "\n",
    "Hence I apply the following set of codes:"
   ]
  },
  {
   "cell_type": "code",
   "execution_count": 74,
   "metadata": {},
   "outputs": [
    {
     "data": {
      "text/plain": [
       "lat             0.000000\n",
       "lng             0.000000\n",
       "desc            0.000000\n",
       "zip             0.120861\n",
       "title           0.000000\n",
       "twp             0.000000\n",
       "addr            0.000000\n",
       "e               0.000000\n",
       "date            0.000000\n",
       "month           0.000000\n",
       "year            0.000000\n",
       "part_of_day     0.000000\n",
       "dow             0.000000\n",
       "title_subcat    0.000000\n",
       "dtype: float64"
      ]
     },
     "execution_count": 74,
     "metadata": {},
     "output_type": "execute_result"
    }
   ],
   "source": [
    "zip_map ={'nan':np.nan}\n",
    "data_911['zip'].replace(zip_map, inplace=True)\n",
    "\n",
    "data_911.isnull().mean()"
   ]
  },
  {
   "cell_type": "markdown",
   "metadata": {},
   "source": [
    "So, 12.1% of the values in zip are missing"
   ]
  },
  {
   "cell_type": "markdown",
   "metadata": {},
   "source": [
    "Let us view the distribution of zip now "
   ]
  },
  {
   "cell_type": "code",
   "execution_count": 75,
   "metadata": {},
   "outputs": [
    {
     "name": "stdout",
     "output_type": "stream",
     "text": [
      "<class 'pandas.core.frame.DataFrame'>\n",
      "Int64Index: 663282 entries, 0 to 663521\n",
      "Data columns (total 14 columns):\n",
      " #   Column        Non-Null Count   Dtype         \n",
      "---  ------        --------------   -----         \n",
      " 0   lat           663282 non-null  object        \n",
      " 1   lng           663282 non-null  object        \n",
      " 2   desc          663282 non-null  object        \n",
      " 3   zip           663282 non-null  object        \n",
      " 4   title         663282 non-null  object        \n",
      " 5   twp           663282 non-null  object        \n",
      " 6   addr          663282 non-null  object        \n",
      " 7   e             663282 non-null  int64         \n",
      " 8   date          663282 non-null  datetime64[ns]\n",
      " 9   month         663282 non-null  object        \n",
      " 10  year          663282 non-null  object        \n",
      " 11  part_of_day   663282 non-null  object        \n",
      " 12  dow           663282 non-null  object        \n",
      " 13  title_subcat  663282 non-null  object        \n",
      "dtypes: datetime64[ns](1), int64(1), object(12)\n",
      "memory usage: 61.5+ MB\n"
     ]
    }
   ],
   "source": [
    "# first convert it to a str \n",
    "data_911=data_911.astype({'zip':str})\n",
    "data_911.info()"
   ]
  },
  {
   "cell_type": "code",
   "execution_count": 76,
   "metadata": {},
   "outputs": [
    {
     "data": {
      "text/html": [
       "<div>\n",
       "<style scoped>\n",
       "    .dataframe tbody tr th:only-of-type {\n",
       "        vertical-align: middle;\n",
       "    }\n",
       "\n",
       "    .dataframe tbody tr th {\n",
       "        vertical-align: top;\n",
       "    }\n",
       "\n",
       "    .dataframe thead th {\n",
       "        text-align: right;\n",
       "    }\n",
       "</style>\n",
       "<table border=\"1\" class=\"dataframe\">\n",
       "  <thead>\n",
       "    <tr style=\"text-align: right;\">\n",
       "      <th></th>\n",
       "      <th>zip</th>\n",
       "      <th>e</th>\n",
       "    </tr>\n",
       "  </thead>\n",
       "  <tbody>\n",
       "    <tr>\n",
       "      <th>204</th>\n",
       "      <td>nan</td>\n",
       "      <td>80165</td>\n",
       "    </tr>\n",
       "    <tr>\n",
       "      <th>136</th>\n",
       "      <td>19401.0</td>\n",
       "      <td>45583</td>\n",
       "    </tr>\n",
       "    <tr>\n",
       "      <th>161</th>\n",
       "      <td>19464.0</td>\n",
       "      <td>43900</td>\n",
       "    </tr>\n",
       "    <tr>\n",
       "      <th>137</th>\n",
       "      <td>19403.0</td>\n",
       "      <td>34874</td>\n",
       "    </tr>\n",
       "    <tr>\n",
       "      <th>153</th>\n",
       "      <td>19446.0</td>\n",
       "      <td>32257</td>\n",
       "    </tr>\n",
       "    <tr>\n",
       "      <th>...</th>\n",
       "      <td>...</td>\n",
       "      <td>...</td>\n",
       "    </tr>\n",
       "    <tr>\n",
       "      <th>15</th>\n",
       "      <td>18040.0</td>\n",
       "      <td>1</td>\n",
       "    </tr>\n",
       "    <tr>\n",
       "      <th>12</th>\n",
       "      <td>17901.0</td>\n",
       "      <td>1</td>\n",
       "    </tr>\n",
       "    <tr>\n",
       "      <th>11</th>\n",
       "      <td>17810.0</td>\n",
       "      <td>1</td>\n",
       "    </tr>\n",
       "    <tr>\n",
       "      <th>79</th>\n",
       "      <td>19054.0</td>\n",
       "      <td>1</td>\n",
       "    </tr>\n",
       "    <tr>\n",
       "      <th>0</th>\n",
       "      <td>1104.0</td>\n",
       "      <td>1</td>\n",
       "    </tr>\n",
       "  </tbody>\n",
       "</table>\n",
       "<p>205 rows × 2 columns</p>\n",
       "</div>"
      ],
      "text/plain": [
       "         zip      e\n",
       "204      nan  80165\n",
       "136  19401.0  45583\n",
       "161  19464.0  43900\n",
       "137  19403.0  34874\n",
       "153  19446.0  32257\n",
       "..       ...    ...\n",
       "15   18040.0      1\n",
       "12   17901.0      1\n",
       "11   17810.0      1\n",
       "79   19054.0      1\n",
       "0     1104.0      1\n",
       "\n",
       "[205 rows x 2 columns]"
      ]
     },
     "execution_count": 76,
     "metadata": {},
     "output_type": "execute_result"
    }
   ],
   "source": [
    "data_911_zip = data_911.groupby('zip', as_index=False)['e'].sum().sort_values(by='e', ascending=False)\n",
    "data_911_zip"
   ]
  },
  {
   "cell_type": "markdown",
   "metadata": {},
   "source": [
    "zip must be related to township or area"
   ]
  },
  {
   "cell_type": "markdown",
   "metadata": {},
   "source": [
    "**For the treatment of zip I will do the following steps**\n",
    "1. Since the zip is related to twp(township) I will group the data by twp and find out the zip codes corresponding to each township.\n",
    "2. After that I will identify the zip code which has the maximum count for each twp\n",
    "3. Next, I will create a list for each twp such that the mode zip(i.e. zip for a praticular twp from which emergency calls received is maximum) for each twp is the first element\n",
    "4. After that , I will run a loop and replace each nan values of the zip object with the mode zip of that particular twp which the observation has. Here , if the mode zip is nan then I will replace that by the second mode zip. "
   ]
  },
  {
   "cell_type": "code",
   "execution_count": 77,
   "metadata": {},
   "outputs": [],
   "source": [
    "list_twp = sorted(list(data_911['twp'].unique()))"
   ]
  },
  {
   "cell_type": "code",
   "execution_count": 78,
   "metadata": {},
   "outputs": [
    {
     "data": {
      "text/plain": [
       "['ABINGTON',\n",
       " 'AMBLER',\n",
       " 'BERKS COUNTY',\n",
       " 'BRIDGEPORT',\n",
       " 'BRYN ATHYN',\n",
       " 'BUCKS COUNTY',\n",
       " 'CHELTENHAM',\n",
       " 'CHESTER COUNTY',\n",
       " 'COLLEGEVILLE',\n",
       " 'CONSHOHOCKEN',\n",
       " 'DELAWARE COUNTY',\n",
       " 'DOUGLASS',\n",
       " 'EAST GREENVILLE',\n",
       " 'EAST NORRITON',\n",
       " 'FRANCONIA',\n",
       " 'GREEN LANE',\n",
       " 'HATBORO',\n",
       " 'HATFIELD BORO',\n",
       " 'HATFIELD TOWNSHIP',\n",
       " 'HORSHAM',\n",
       " 'JENKINTOWN',\n",
       " 'LANSDALE',\n",
       " 'LEHIGH COUNTY',\n",
       " 'LIMERICK',\n",
       " 'LOWER FREDERICK',\n",
       " 'LOWER GWYNEDD',\n",
       " 'LOWER MERION',\n",
       " 'LOWER MORELAND',\n",
       " 'LOWER POTTSGROVE',\n",
       " 'LOWER PROVIDENCE',\n",
       " 'LOWER SALFORD',\n",
       " 'MARLBOROUGH',\n",
       " 'MONTGOMERY',\n",
       " 'NARBERTH',\n",
       " 'NEW HANOVER',\n",
       " 'NORRISTOWN',\n",
       " 'NORTH WALES',\n",
       " 'PENNSBURG',\n",
       " 'PERKIOMEN',\n",
       " 'PHILA COUNTY',\n",
       " 'PLYMOUTH',\n",
       " 'POTTSTOWN',\n",
       " 'RED HILL',\n",
       " 'ROCKLEDGE',\n",
       " 'ROYERSFORD',\n",
       " 'SALFORD',\n",
       " 'SCHWENKSVILLE',\n",
       " 'SKIPPACK',\n",
       " 'SOUDERTON',\n",
       " 'SPRINGFIELD',\n",
       " 'TELFORD',\n",
       " 'TOWAMENCIN',\n",
       " 'TRAPPE',\n",
       " 'UPPER DUBLIN',\n",
       " 'UPPER FREDERICK',\n",
       " 'UPPER GWYNEDD',\n",
       " 'UPPER HANOVER',\n",
       " 'UPPER MERION',\n",
       " 'UPPER MORELAND',\n",
       " 'UPPER POTTSGROVE',\n",
       " 'UPPER PROVIDENCE',\n",
       " 'UPPER SALFORD',\n",
       " 'WEST CONSHOHOCKEN',\n",
       " 'WEST NORRITON',\n",
       " 'WEST POTTSGROVE',\n",
       " 'WHITEMARSH',\n",
       " 'WHITPAIN',\n",
       " 'WORCESTER']"
      ]
     },
     "execution_count": 78,
     "metadata": {},
     "output_type": "execute_result"
    }
   ],
   "source": [
    "list_twp"
   ]
  },
  {
   "cell_type": "code",
   "execution_count": 79,
   "metadata": {},
   "outputs": [
    {
     "data": {
      "text/plain": [
       "twp        zip    \n",
       "ABINGTON   19046.0    11938\n",
       "           19001.0     9875\n",
       "           19038.0     6292\n",
       "           19090.0     4560\n",
       "           19006.0     2827\n",
       "                      ...  \n",
       "WORCESTER  19423.0       25\n",
       "           19490.0       15\n",
       "           19438.0        7\n",
       "           19473.0        2\n",
       "           18054.0        1\n",
       "Name: zip, Length: 1109, dtype: int64"
      ]
     },
     "execution_count": 79,
     "metadata": {},
     "output_type": "execute_result"
    }
   ],
   "source": [
    "df_bytwp = data_911.groupby(['twp'])['zip'].value_counts()\n",
    "df_bytwp"
   ]
  },
  {
   "cell_type": "code",
   "execution_count": 80,
   "metadata": {},
   "outputs": [
    {
     "data": {
      "text/plain": [
       "MultiIndex([( 'ABINGTON', '19046.0'),\n",
       "            ( 'ABINGTON', '19001.0'),\n",
       "            ( 'ABINGTON', '19038.0'),\n",
       "            ( 'ABINGTON', '19090.0'),\n",
       "            ( 'ABINGTON', '19006.0'),\n",
       "            ( 'ABINGTON', '19027.0'),\n",
       "            ( 'ABINGTON',     'nan'),\n",
       "            ( 'ABINGTON', '19095.0'),\n",
       "            ( 'ABINGTON', '19111.0'),\n",
       "            ( 'ABINGTON', '19009.0'),\n",
       "            ...\n",
       "            ('WORCESTER', '19403.0'),\n",
       "            ('WORCESTER', '19426.0'),\n",
       "            ('WORCESTER',     'nan'),\n",
       "            ('WORCESTER', '19422.0'),\n",
       "            ('WORCESTER', '19454.0'),\n",
       "            ('WORCESTER', '19423.0'),\n",
       "            ('WORCESTER', '19490.0'),\n",
       "            ('WORCESTER', '19438.0'),\n",
       "            ('WORCESTER', '19473.0'),\n",
       "            ('WORCESTER', '18054.0')],\n",
       "           names=['twp', 'zip'], length=1109)"
      ]
     },
     "execution_count": 80,
     "metadata": {},
     "output_type": "execute_result"
    }
   ],
   "source": [
    "df_bytwp.index"
   ]
  },
  {
   "cell_type": "code",
   "execution_count": 81,
   "metadata": {
    "scrolled": false
   },
   "outputs": [
    {
     "name": "stdout",
     "output_type": "stream",
     "text": [
      "the zip codes for ABINGTON are ['19046.0', '19001.0', '19038.0', '19090.0', '19006.0', '19027.0', '19095.0', '19111.0', '19009.0', '19002.0', '19025.0', '19040.0', '19075.0', '19012.0', '19115.0', '19044.0', '19087.0', '19401.0', '19031.0', '19035.0', '19406.0', '19438.0', '18054.0', '18940.0', '18964.0', '19118.0', '19348.0', '19428.0', '19444.0', '19446.0', '19468.0']\n",
      " \n",
      "the zip codes for AMBLER are ['19002.0', '19107.0', '17506.0', '18054.0', '19001.0', '19004.0', '19031.0']\n",
      " \n",
      "the zip codes for BERKS COUNTY are ['19512.0', '19518.0', '19505.0', '19504.0', '18056.0', '19503.0', '19464.0', '18070.0', '19601.0', '18092.0', '19610.0', '19426.0', '19027.0', '19525.0', '19609.0', '19401.0', '19460.0', '19465.0', '19605.0', '18011.0', '18054.0', '18073.0', '18076.0', '18964.0', '19001.0', '19046.0', '19403.0', '19404.0', '19422.0', '19428.0', '19438.0', '19446.0', '19468.0', '19543.0', '19545.0', '19602.0', '19604.0']\n",
      " \n",
      "the zip codes for BRIDGEPORT are ['19405.0', '19406.0', '19401.0', '19428.0', '19107.0', '19462.0', '19468.0']\n",
      " \n",
      "the zip codes for BRYN ATHYN are ['19006.0', '19009.0', '19040.0', '19116.0', '19002.0', '19464.0']\n",
      " \n",
      "the zip codes for BUCKS COUNTY are ['19440.0', '18976.0', '18914.0', '18974.0', '18964.0', '18960.0', '18966.0', '18969.0', '19006.0', '18951.0', '19053.0', '18932.0', '19040.0', '18054.0', '18073.0', '19454.0', '18041.0', '18915.0', '19044.0', '19446.0', '18927.0', '19020.0', '19422.0', '19057.0', '18036.0', '18901.0', '19002.0', '19116.0', '18902.0', '18938.0', '18944.0', '19004.0', '19046.0', '19047.0', '19054.0', '19090.0', '19096.0', '19464.0', '19473.0']\n",
      " \n",
      "the zip codes for CHELTENHAM are ['19027.0', '19095.0', '19012.0', '19038.0', '19150.0', '19126.0', '19120.0', '19046.0', '19138.0', '19406.0', '19403.0', '19031.0', '19473.0', '19002.0', '19006.0', '19111.0', '18936.0', '18940.0', '19025.0', '19035.0', '19044.0', '19075.0', '19090.0', '19348.0', '19355.0', '19428.0', '19444.0', '19464.0']\n",
      " \n",
      "the zip codes for CHESTER COUNTY are ['19465.0', '19475.0', '19087.0', '19460.0', '19464.0', '19355.0', '19406.0', '19401.0', '19403.0', '19380.0', '19301.0', '19382.0', '19446.0', '19333.0', '19341.0', '19348.0', '19422.0', '19425.0', '19426.0', '19444.0', '19520.0', '19390.0', '17331.0', '19040.0', '19120.0', '19438.0', '18914.0', '18915.0', '19001.0', '19002.0', '19310.0', '19312.0', '19365.0', '19404.0', '19428.0', '19457.0', '19462.0', '19468.0']\n",
      " \n",
      "the zip codes for COLLEGEVILLE are ['19426.0', '18074.0', '19003.0', '19401.0', '19403.0', '19406.0', '19444.0', '19468.0']\n",
      " \n",
      "the zip codes for CONSHOHOCKEN are ['19428.0', '19401.0', '18074.0', '19002.0', '19072.0', '19147.0', '19462.0']\n",
      " \n",
      "the zip codes for DELAWARE COUNTY are ['19010.0', '19085.0', '19083.0', '19041.0', '19087.0', '19003.0', '19403.0', '19401.0', '19082.0', '19001.0', '19008.0', '19026.0', '19050.0', '19063.0', '19382.0', '19422.0', '3103.0', '18940.0', '19002.0', '19023.0', '19070.0', '19073.0', '19096.0', '19151.0', '19426.0', '19428.0', '19446.0']\n",
      " \n",
      "the zip codes for DOUGLASS are ['19525.0', '19512.0', '19504.0', '19505.0', '19464.0', '18073.0', '19472.0', '18074.0', '19044.0', '19002.0', '19401.0', '19406.0', '19422.0', '19428.0', '19473.0']\n",
      " \n",
      "the zip codes for EAST GREENVILLE are ['18041.0', '18073.0', '18076.0', '19034.0', '19525.0']\n",
      " \n",
      "the zip codes for EAST NORRITON are ['19401.0', '19403.0', '19422.0', '19462.0', '19090.0', '18074.0', '19426.0', '19440.0', '19454.0', '19468.0']\n",
      " \n",
      "the zip codes for FRANCONIA are ['18964.0', '19438.0', '18969.0', '19440.0', '19090.0', '19012.0', '19044.0', '19104.0', '19446.0', '19454.0', '19464.0', '19468.0', '19475.0', '19525.0']\n",
      " \n",
      "the zip codes for GREEN LANE are ['18054.0', '18076.0', '19038.0', '19140.0', '19454.0']\n",
      " \n",
      "the zip codes for HATBORO are ['19040.0', '18974.0', '19087.0', '18966.0', '19006.0', '19044.0']\n",
      " \n",
      "the zip codes for HATFIELD BORO are ['19440.0', '19446.0', '18964.0', '18969.0']\n",
      " \n",
      "the zip codes for HATFIELD TOWNSHIP are ['19440.0', '19446.0', '18915.0', '18964.0', '18914.0', '18932.0', '19454.0', '18969.0', '19406.0', '18051.0', '18054.0', '19020.0', '19025.0', '19030.0', '19072.0', '19144.0', '19401.0']\n",
      " \n",
      "the zip codes for HORSHAM are ['19044.0', '19002.0', '19040.0', '19454.0', '18974.0', '19090.0', '18976.0', '19025.0', '19001.0', '18936.0', '19038.0', '18914.0', '19422.0', '18969.0', '19128.0', '19401.0', '19446.0', '19464.0', '19465.0', '7726.0', '8077.0']\n",
      " \n",
      "the zip codes for JENKINTOWN are ['19046.0', '19095.0', '15301.0', '19454.0']\n",
      " \n",
      "the zip codes for LANSDALE are ['19446.0', '19454.0', '19440.0', '19087.0', '19406.0', '18936.0', '19027.0', '19403.0', '19438.0']\n",
      " \n",
      "the zip codes for LEHIGH COUNTY are ['18041.0', '18092.0', '18036.0', '18951.0', '18101.0', '18102.0', '18976.0', '19320.0', '19401.0', '19422.0']\n",
      " \n",
      "the zip codes for LIMERICK are ['19468.0', '19473.0', '19464.0', '19426.0', '19525.0', '19438.0', '18104.0', '19044.0', '19087.0', '19131.0', '19153.0', '19401.0', '19446.0']\n",
      " \n",
      "the zip codes for LOWER FREDERICK are ['19473.0', '18074.0', '19492.0', '19446.0', '19006.0', '19046.0', '19464.0']\n",
      " \n",
      "the zip codes for LOWER GWYNEDD are ['19002.0', '19454.0', '19422.0', '19477.0', '18936.0', '19034.0', '19010.0', '19401.0', '19035.0', '19087.0', '19095.0', '19403.0', '19406.0', '19437.0', '19438.0', '19440.0', '19464.0']\n",
      " \n",
      "the zip codes for LOWER MERION are ['19004.0', '19010.0', '19096.0', '19003.0', '19072.0', '19035.0', '19041.0', '19066.0', '19151.0', '19085.0', '19131.0', '19087.0', '19428.0', '19083.0', '19406.0', '19401.0', '19464.0', '19044.0', '18041.0', '19002.0', '19038.0', '19006.0', '19040.0', '19426.0', '19454.0', '19107.0', '19473.0', '17752.0', '18054.0', '19404.0', '19446.0', '18936.0', '18964.0', '18976.0', '19001.0', '19012.0', '19090.0', '19127.0', '19422.0', '19440.0', '19462.0', '19512.0', '19525.0', '17810.0', '18049.0', '18074.0', '18901.0', '18911.0', '18915.0', '18969.0', '19018.0', '19025.0', '19030.0', '19034.0', '19046.0', '19064.0', '19102.0', '19106.0', '19122.0', '19128.0', '19150.0', '19438.0', '19444.0', '19460.0', '19468.0', '19486.0', '19504.0', '8033.0', '8502.0']\n",
      " \n",
      "the zip codes for LOWER MORELAND are ['19006.0', '19046.0', '19009.0', '19115.0', '19116.0', '19053.0', '19001.0', '19090.0', '19406.0', '18054.0', '18074.0', '18966.0', '18974.0', '19020.0', '19040.0', '19464.0', '19525.0']\n",
      " \n",
      "the zip codes for LOWER POTTSGROVE are ['19464.0', '19403.0', '19401.0', '18054.0', '18976.0', '19406.0', '19440.0', '19462.0']\n",
      " \n",
      "the zip codes for LOWER PROVIDENCE are ['19403.0', '19426.0', '19460.0', '18944.0', '19406.0', '19468.0', '19087.0', '19405.0', '19473.0', '18042.0', '18054.0', '18073.0', '18104.0', '18901.0', '18915.0', '19038.0', '19401.0', '19428.0', '19444.0', '19446.0', '19610.0']\n",
      " \n",
      "the zip codes for LOWER SALFORD are ['19438.0', '19473.0', '18964.0', '19426.0', '8361.0', '19020.0', '19446.0', '18073.0', '18074.0', '18969.0', '19031.0', '19038.0', '19107.0', '19403.0', '19406.0', '19422.0', '19440.0', '19462.0']\n",
      " \n",
      "the zip codes for MARLBOROUGH are ['18054.0', '18073.0', '18074.0', '19438.0', '18076.0', '18041.0', '18932.0', '19003.0', '19034.0', '19440.0', '19464.0']\n",
      " \n",
      "the zip codes for MONTGOMERY are ['19454.0', '19446.0', '18936.0', '19002.0', '18914.0', '18915.0', '19406.0', '19401.0', '19403.0', '19422.0', '19021.0', '19464.0', '19034.0', '19085.0', '19426.0', '19473.0', '18054.0', '19044.0', '18073.0', '18964.0', '18969.0', '18974.0', '19010.0', '19025.0', '19027.0', '19040.0', '19046.0', '19072.0', '19087.0', '19111.0', '36107.0', '77316.0']\n",
      " \n",
      "the zip codes for NARBERTH are ['19072.0', '19096.0', '19066.0', '19046.0', '19134.0', '19403.0']\n",
      " \n",
      "the zip codes for NEW HANOVER are ['19525.0', '18074.0', '19464.0', '19435.0', '18054.0', '19492.0', '19504.0', '19472.0', '19473.0', '17555.0', '17603.0', '18964.0', '19027.0', '19426.0', '19446.0', '8065.0']\n",
      " \n",
      "the zip codes for NORRISTOWN are ['19401.0', '19403.0', '19462.0', '19406.0', '19002.0', '19446.0', '19034.0', '19106.0', '19405.0', '18074.0', '18936.0', '19004.0', '19035.0', '19428.0', '19464.0', '19512.0']\n",
      " \n",
      "the zip codes for NORTH WALES are ['19454.0', '19446.0', '19001.0', '19002.0', '19004.0', '19422.0', '19473.0']\n",
      " \n",
      "the zip codes for PENNSBURG are ['18073.0', '18041.0', '18076.0', '19401.0', '19406.0', '19464.0']\n",
      " \n",
      "the zip codes for PERKIOMEN are ['19426.0', '19473.0', '18054.0', '19468.0', '19460.0', '19034.0', '18074.0', '19006.0', '19046.0', '19301.0', '19440.0', '19446.0']\n",
      " \n",
      "the zip codes for PHILA COUNTY are ['19151.0', '19118.0', '19038.0', '19131.0', '19012.0', '19126.0', '19111.0', '19004.0', '19120.0', '19150.0', '19027.0', '19128.0', '19115.0', '19006.0', '19138.0', '19096.0', '19116.0', '19129.0', '19144.0', '19046.0', '19121.0', '19139.0', '19031.0', '19053.0', '19095.0', '19119.0', '19124.0', '19127.0']\n",
      " \n",
      "the zip codes for PLYMOUTH are ['19462.0', '19428.0', '19401.0', '19422.0', '19002.0', '19035.0', '19405.0', '19454.0', '17566.0', '18073.0', '19044.0', '19075.0', '19406.0', '19444.0', '19464.0', '19468.0', '19473.0']\n",
      " \n",
      "the zip codes for POTTSTOWN are ['19464.0', '18074.0', '19422.0', '19465.0', '19468.0', '19525.0', '18040.0', '19040.0', '19107.0', '19118.0', '19403.0', '19462.0', '19512.0']\n",
      " \n",
      "the zip codes for RED HILL are ['18076.0', '18073.0', '18041.0', '19460.0', '19464.0', '18902.0', '19486.0']\n",
      " \n",
      "the zip codes for ROCKLEDGE are ['19046.0', '19111.0', '19006.0', '19027.0', '19135.0']\n",
      " \n",
      "the zip codes for ROYERSFORD are ['19468.0', '19460.0', '19464.0']\n",
      " \n",
      "the zip codes for SALFORD are ['18969.0', '19438.0', '18054.0', '18960.0', '18964.0', '19006.0', '19040.0']\n",
      " \n",
      "the zip codes for SCHWENKSVILLE are ['19473.0', '19044.0', '19426.0', '19468.0']\n",
      " \n",
      "the zip codes for SKIPPACK are ['19426.0', '19473.0', '19403.0', '19438.0', '19474.0', '18054.0', '18914.0', '18964.0', '19046.0', '19406.0', '19454.0']\n",
      " \n",
      "the zip codes for SOUDERTON are ['18964.0', '18969.0', '19438.0', '19038.0', '19090.0', '19422.0', '19428.0', '19446.0', '19473.0']\n",
      " \n",
      "the zip codes for SPRINGFIELD are ['19038.0', '19031.0', '19075.0', '19128.0', '19150.0', '19444.0', '19118.0', '19034.0', '19082.0', '19119.0', '1104.0', '19002.0', '19035.0', '19040.0', '19044.0', '19127.0', '19406.0', '19446.0', '19462.0', '7081.0']\n",
      " \n",
      "the zip codes for TELFORD are ['18969.0', '18964.0', '19440.0', '19106.0', '19406.0', '19446.0', '19454.0', '19468.0', '18960.0', '19087.0', '19428.0', '19450.0', '19462.0', '19464.0']\n",
      " \n",
      "the zip codes for TOWAMENCIN are ['19446.0', '19438.0', '19440.0', '18964.0', '18054.0', '18969.0', '19426.0', '19443.0', '17331.0', '19025.0', '19034.0', '19044.0', '19090.0', '19095.0', '19138.0', '19401.0', '19403.0', '19462.0', '19465.0', '19473.0', '19474.0']\n",
      " \n",
      "the zip codes for TRAPPE are ['19426.0', '19468.0', '18936.0', '19401.0', '3366.0']\n",
      " \n",
      "the zip codes for UPPER DUBLIN are ['19002.0', '19034.0', '19025.0', '19090.0', '19038.0', '19075.0', '19044.0', '19001.0', '19406.0', '19095.0', '19031.0', '19087.0', '19126.0', '19401.0', '19403.0', '19425.0', '19426.0', '19428.0', '19473.0', '19525.0', '7203.0']\n",
      " \n",
      "the zip codes for UPPER FREDERICK are ['18074.0', '19492.0', '18054.0', '19473.0', '19435.0', '19525.0', '19464.0', '21701.0', '18073.0', '18969.0', '19012.0', '19401.0', '19406.0', '19428.0', '19440.0', '19468.0']\n",
      " \n",
      "the zip codes for UPPER GWYNEDD are ['19446.0', '19454.0', '19422.0', '19002.0', '19438.0', '8628.0', '19107.0', '19426.0', '19486.0', '19035.0', '19083.0', '19445.0', '19464.0']\n",
      " \n",
      "the zip codes for UPPER HANOVER are ['18073.0', '18041.0', '18070.0', '18076.0', '18054.0', '18092.0', '18056.0', '19473.0', '19504.0', '19503.0', '19438.0', '19468.0', '19505.0', '18074.0', '19129.0', '15090.0', '18936.0', '18951.0', '19006.0', '19025.0', '19428.0', '19462.0', '19464.0', '19512.0', '19525.0']\n",
      " \n",
      "the zip codes for UPPER MERION are ['19406.0', '19087.0', '19405.0', '19428.0', '19460.0', '19085.0', '19403.0', '19010.0', '19401.0', '19131.0', '8832.0', '19035.0', '19004.0', '19355.0', '19380.0', '19474.0', '23005.0', '17331.0', '17901.0', '18054.0', '19003.0', '19034.0', '19046.0', '19066.0', '19082.0', '19095.0', '19147.0', '19312.0', '19426.0', '19446.0', '19464.0', '19468.0', '19473.0', '19475.0', '19525.0']\n",
      " \n",
      "the zip codes for UPPER MORELAND are ['19090.0', '19040.0', '19006.0', '19044.0', '18974.0', '18966.0', '19001.0', '19025.0', '19406.0', '19096.0', '17507.0', '18969.0', '19003.0', '19012.0', '19020.0', '19027.0', '19038.0', '19401.0', '19426.0', '19440.0', '19446.0', '19462.0', '19464.0', '19468.0', '19473.0', '19525.0']\n",
      " \n",
      "the zip codes for UPPER POTTSGROVE are ['19464.0', '19525.0', '19512.0']\n",
      " \n",
      "the zip codes for UPPER PROVIDENCE are ['19426.0', '19468.0', '19460.0', '19453.0', '19403.0', '19475.0', '17545.0', '19355.0', '15301.0', '17603.0', '18073.0', '18936.0', '18964.0', '18974.0', '19002.0', '19063.0', '19153.0', '19406.0', '19422.0', '19428.0', '19454.0', '19456.0', '19464.0', '19473.0']\n",
      " \n",
      "the zip codes for UPPER SALFORD are ['19438.0', '19473.0', '18969.0', '18054.0', '18958.0', '18074.0', '18964.0', '19046.0', '19443.0']\n",
      " \n",
      "the zip codes for WEST CONSHOHOCKEN are ['19428.0', '19131.0', '19004.0', '19401.0', '19422.0', '19426.0']\n",
      " \n"
     ]
    }
   ],
   "source": [
    "zip_code=[]\n",
    "j=0\n",
    "list_zip=[]\n",
    "for i in range(0,1042):\n",
    "    if df_bytwp.index[i][0]==list_twp[j]:\n",
    "        if df_bytwp.index[i][1]!='nan':\n",
    "            list_zip.append(df_bytwp.index[i][1])\n",
    "        else:\n",
    "            continue\n",
    "    else:\n",
    "        print('the zip codes for {} are {}'.format(list_twp[j], list_zip))\n",
    "        print(' ')\n",
    "        j+=1\n",
    "        if df_bytwp.index[i][1]!='nan':\n",
    "            list_zip=[df_bytwp.index[i][1]]\n",
    "        else:\n",
    "            list_zip=[]"
   ]
  },
  {
   "cell_type": "code",
   "execution_count": 84,
   "metadata": {},
   "outputs": [
    {
     "name": "stderr",
     "output_type": "stream",
     "text": [
      "<ipython-input-84-faa455450e71>:16: SettingWithCopyWarning: \n",
      "A value is trying to be set on a copy of a slice from a DataFrame\n",
      "\n",
      "See the caveats in the documentation: https://pandas.pydata.org/pandas-docs/stable/user_guide/indexing.html#returning-a-view-versus-a-copy\n",
      "  data_911['zip'][k]=data_911['zip'][k].replace(data_911['zip'][k],list_zip[0])\n"
     ]
    }
   ],
   "source": [
    "zip_code=[]\n",
    "j=0\n",
    "list_zip=[]\n",
    "for i in range(0,1042):\n",
    "    if df_bytwp.index[i][0]==list_twp[j]:\n",
    "        if df_bytwp.index[i][1]!='nan':\n",
    "            list_zip.append(df_bytwp.index[i][1])\n",
    "        else:\n",
    "            continue\n",
    "    else:\n",
    "        for k in data_911.index:\n",
    "            if data_911['zip'][k]!='nan':\n",
    "                continue\n",
    "            else:\n",
    "                if data_911['twp'][k] == list_twp[j]:\n",
    "                    data_911['zip'][k]=data_911['zip'][k].replace(data_911['zip'][k],list_zip[0])\n",
    "        j+=1\n",
    "        if df_bytwp.index[i][1]!='nan':\n",
    "            list_zip=[df_bytwp.index[i][1]]\n",
    "        else:\n",
    "            list_zip=[]"
   ]
  },
  {
   "cell_type": "code",
   "execution_count": 85,
   "metadata": {},
   "outputs": [
    {
     "data": {
      "text/html": [
       "<div>\n",
       "<style scoped>\n",
       "    .dataframe tbody tr th:only-of-type {\n",
       "        vertical-align: middle;\n",
       "    }\n",
       "\n",
       "    .dataframe tbody tr th {\n",
       "        vertical-align: top;\n",
       "    }\n",
       "\n",
       "    .dataframe thead th {\n",
       "        text-align: right;\n",
       "    }\n",
       "</style>\n",
       "<table border=\"1\" class=\"dataframe\">\n",
       "  <thead>\n",
       "    <tr style=\"text-align: right;\">\n",
       "      <th></th>\n",
       "      <th>zip</th>\n",
       "      <th>e</th>\n",
       "    </tr>\n",
       "  </thead>\n",
       "  <tbody>\n",
       "    <tr>\n",
       "      <th>136</th>\n",
       "      <td>19401.0</td>\n",
       "      <td>47766</td>\n",
       "    </tr>\n",
       "    <tr>\n",
       "      <th>161</th>\n",
       "      <td>19464.0</td>\n",
       "      <td>46446</td>\n",
       "    </tr>\n",
       "    <tr>\n",
       "      <th>137</th>\n",
       "      <td>19403.0</td>\n",
       "      <td>36313</td>\n",
       "    </tr>\n",
       "    <tr>\n",
       "      <th>153</th>\n",
       "      <td>19446.0</td>\n",
       "      <td>35162</td>\n",
       "    </tr>\n",
       "    <tr>\n",
       "      <th>140</th>\n",
       "      <td>19406.0</td>\n",
       "      <td>33507</td>\n",
       "    </tr>\n",
       "    <tr>\n",
       "      <th>...</th>\n",
       "      <td>...</td>\n",
       "      <td>...</td>\n",
       "    </tr>\n",
       "    <tr>\n",
       "      <th>15</th>\n",
       "      <td>18040.0</td>\n",
       "      <td>1</td>\n",
       "    </tr>\n",
       "    <tr>\n",
       "      <th>12</th>\n",
       "      <td>17901.0</td>\n",
       "      <td>1</td>\n",
       "    </tr>\n",
       "    <tr>\n",
       "      <th>11</th>\n",
       "      <td>17810.0</td>\n",
       "      <td>1</td>\n",
       "    </tr>\n",
       "    <tr>\n",
       "      <th>79</th>\n",
       "      <td>19054.0</td>\n",
       "      <td>1</td>\n",
       "    </tr>\n",
       "    <tr>\n",
       "      <th>0</th>\n",
       "      <td>1104.0</td>\n",
       "      <td>1</td>\n",
       "    </tr>\n",
       "  </tbody>\n",
       "</table>\n",
       "<p>205 rows × 2 columns</p>\n",
       "</div>"
      ],
      "text/plain": [
       "         zip      e\n",
       "136  19401.0  47766\n",
       "161  19464.0  46446\n",
       "137  19403.0  36313\n",
       "153  19446.0  35162\n",
       "140  19406.0  33507\n",
       "..       ...    ...\n",
       "15   18040.0      1\n",
       "12   17901.0      1\n",
       "11   17810.0      1\n",
       "79   19054.0      1\n",
       "0     1104.0      1\n",
       "\n",
       "[205 rows x 2 columns]"
      ]
     },
     "execution_count": 85,
     "metadata": {},
     "output_type": "execute_result"
    }
   ],
   "source": [
    "data_911_zip = data_911.groupby('zip', as_index=False)['e'].sum().sort_values(by='e', ascending=False)\n",
    "data_911_zip"
   ]
  },
  {
   "cell_type": "code",
   "execution_count": 87,
   "metadata": {},
   "outputs": [
    {
     "data": {
      "text/html": [
       "<div>\n",
       "<style scoped>\n",
       "    .dataframe tbody tr th:only-of-type {\n",
       "        vertical-align: middle;\n",
       "    }\n",
       "\n",
       "    .dataframe tbody tr th {\n",
       "        vertical-align: top;\n",
       "    }\n",
       "\n",
       "    .dataframe thead th {\n",
       "        text-align: right;\n",
       "    }\n",
       "</style>\n",
       "<table border=\"1\" class=\"dataframe\">\n",
       "  <thead>\n",
       "    <tr style=\"text-align: right;\">\n",
       "      <th></th>\n",
       "      <th>lat</th>\n",
       "      <th>lng</th>\n",
       "      <th>desc</th>\n",
       "      <th>zip</th>\n",
       "      <th>title</th>\n",
       "      <th>twp</th>\n",
       "      <th>addr</th>\n",
       "      <th>e</th>\n",
       "      <th>date</th>\n",
       "      <th>month</th>\n",
       "      <th>year</th>\n",
       "      <th>part_of_day</th>\n",
       "      <th>dow</th>\n",
       "      <th>title_subcat</th>\n",
       "    </tr>\n",
       "  </thead>\n",
       "  <tbody>\n",
       "    <tr>\n",
       "      <th>0</th>\n",
       "      <td>40.297875899999994</td>\n",
       "      <td>-75.5812935</td>\n",
       "      <td>REINDEER CT &amp; DEAD END;  NEW HANOVER; Station ...</td>\n",
       "      <td>19525.0</td>\n",
       "      <td>EMS</td>\n",
       "      <td>NEW HANOVER</td>\n",
       "      <td>REINDEER CT &amp; DEAD END</td>\n",
       "      <td>1</td>\n",
       "      <td>2015-12-10</td>\n",
       "      <td>Dec</td>\n",
       "      <td>2015</td>\n",
       "      <td>Evening</td>\n",
       "      <td>Thur</td>\n",
       "      <td>BACK PAINS/INJURY</td>\n",
       "    </tr>\n",
       "    <tr>\n",
       "      <th>1</th>\n",
       "      <td>40.2580614</td>\n",
       "      <td>-75.26467990000002</td>\n",
       "      <td>BRIAR PATH &amp; WHITEMARSH LN;  HATFIELD TOWNSHIP...</td>\n",
       "      <td>19446.0</td>\n",
       "      <td>EMS</td>\n",
       "      <td>HATFIELD TOWNSHIP</td>\n",
       "      <td>BRIAR PATH &amp; WHITEMARSH LN</td>\n",
       "      <td>1</td>\n",
       "      <td>2015-12-10</td>\n",
       "      <td>Dec</td>\n",
       "      <td>2015</td>\n",
       "      <td>Evening</td>\n",
       "      <td>Thur</td>\n",
       "      <td>DIABETIC EMERGENCY</td>\n",
       "    </tr>\n",
       "    <tr>\n",
       "      <th>2</th>\n",
       "      <td>40.121181799999995</td>\n",
       "      <td>-75.3519752</td>\n",
       "      <td>HAWS AVE; NORRISTOWN; 2015-12-10 @ 14:39:21-St...</td>\n",
       "      <td>19401.0</td>\n",
       "      <td>Fire</td>\n",
       "      <td>NORRISTOWN</td>\n",
       "      <td>HAWS AVE</td>\n",
       "      <td>1</td>\n",
       "      <td>2015-12-10</td>\n",
       "      <td>Dec</td>\n",
       "      <td>2015</td>\n",
       "      <td>Afternoon</td>\n",
       "      <td>Thur</td>\n",
       "      <td>GAS-ODOR/LEAK</td>\n",
       "    </tr>\n",
       "    <tr>\n",
       "      <th>3</th>\n",
       "      <td>40.116153000000004</td>\n",
       "      <td>-75.343513</td>\n",
       "      <td>AIRY ST &amp; SWEDE ST;  NORRISTOWN; Station 308A;...</td>\n",
       "      <td>19401.0</td>\n",
       "      <td>EMS</td>\n",
       "      <td>NORRISTOWN</td>\n",
       "      <td>AIRY ST &amp; SWEDE ST</td>\n",
       "      <td>1</td>\n",
       "      <td>2015-12-10</td>\n",
       "      <td>Dec</td>\n",
       "      <td>2015</td>\n",
       "      <td>Afternoon</td>\n",
       "      <td>Thur</td>\n",
       "      <td>CARDIAC EMERGENCY</td>\n",
       "    </tr>\n",
       "    <tr>\n",
       "      <th>4</th>\n",
       "      <td>40.251492</td>\n",
       "      <td>-75.6033497</td>\n",
       "      <td>CHERRYWOOD CT &amp; DEAD END;  LOWER POTTSGROVE; S...</td>\n",
       "      <td>19464.0</td>\n",
       "      <td>EMS</td>\n",
       "      <td>LOWER POTTSGROVE</td>\n",
       "      <td>CHERRYWOOD CT &amp; DEAD END</td>\n",
       "      <td>1</td>\n",
       "      <td>2015-12-10</td>\n",
       "      <td>Dec</td>\n",
       "      <td>2015</td>\n",
       "      <td>Afternoon</td>\n",
       "      <td>Thur</td>\n",
       "      <td>DIZZINESS</td>\n",
       "    </tr>\n",
       "  </tbody>\n",
       "</table>\n",
       "</div>"
      ],
      "text/plain": [
       "                  lat                 lng  \\\n",
       "0  40.297875899999994         -75.5812935   \n",
       "1          40.2580614  -75.26467990000002   \n",
       "2  40.121181799999995         -75.3519752   \n",
       "3  40.116153000000004          -75.343513   \n",
       "4           40.251492         -75.6033497   \n",
       "\n",
       "                                                desc      zip title  \\\n",
       "0  REINDEER CT & DEAD END;  NEW HANOVER; Station ...  19525.0   EMS   \n",
       "1  BRIAR PATH & WHITEMARSH LN;  HATFIELD TOWNSHIP...  19446.0   EMS   \n",
       "2  HAWS AVE; NORRISTOWN; 2015-12-10 @ 14:39:21-St...  19401.0  Fire   \n",
       "3  AIRY ST & SWEDE ST;  NORRISTOWN; Station 308A;...  19401.0   EMS   \n",
       "4  CHERRYWOOD CT & DEAD END;  LOWER POTTSGROVE; S...  19464.0   EMS   \n",
       "\n",
       "                 twp                        addr  e       date month  year  \\\n",
       "0        NEW HANOVER      REINDEER CT & DEAD END  1 2015-12-10   Dec  2015   \n",
       "1  HATFIELD TOWNSHIP  BRIAR PATH & WHITEMARSH LN  1 2015-12-10   Dec  2015   \n",
       "2         NORRISTOWN                    HAWS AVE  1 2015-12-10   Dec  2015   \n",
       "3         NORRISTOWN          AIRY ST & SWEDE ST  1 2015-12-10   Dec  2015   \n",
       "4   LOWER POTTSGROVE    CHERRYWOOD CT & DEAD END  1 2015-12-10   Dec  2015   \n",
       "\n",
       "  part_of_day   dow        title_subcat  \n",
       "0     Evening  Thur   BACK PAINS/INJURY  \n",
       "1     Evening  Thur  DIABETIC EMERGENCY  \n",
       "2   Afternoon  Thur       GAS-ODOR/LEAK  \n",
       "3   Afternoon  Thur   CARDIAC EMERGENCY  \n",
       "4   Afternoon  Thur           DIZZINESS  "
      ]
     },
     "execution_count": 87,
     "metadata": {},
     "output_type": "execute_result"
    }
   ],
   "source": [
    "data_911.head()"
   ]
  },
  {
   "cell_type": "markdown",
   "metadata": {},
   "source": [
    "**Note**\n",
    "1. the zip codes for LOWER POTTSGROVE are ['19464.0', '19403.0', '19401.0', '18054.0', '18976.0', '19406.0', '19440.0', '19462.0']\n",
    "2. Observation 4 had a nan value in zip. It has been replaced by 19464.0 which is clearly what I intended i.e. to replace the nan value of a zip with the mode zip of that particular twp. "
   ]
  },
  {
   "cell_type": "code",
   "execution_count": 92,
   "metadata": {},
   "outputs": [
    {
     "data": {
      "text/html": [
       "<div>\n",
       "<style scoped>\n",
       "    .dataframe tbody tr th:only-of-type {\n",
       "        vertical-align: middle;\n",
       "    }\n",
       "\n",
       "    .dataframe tbody tr th {\n",
       "        vertical-align: top;\n",
       "    }\n",
       "\n",
       "    .dataframe thead th {\n",
       "        text-align: right;\n",
       "    }\n",
       "</style>\n",
       "<table border=\"1\" class=\"dataframe\">\n",
       "  <thead>\n",
       "    <tr style=\"text-align: right;\">\n",
       "      <th></th>\n",
       "      <th>zip</th>\n",
       "      <th>twp</th>\n",
       "      <th>e</th>\n",
       "    </tr>\n",
       "  </thead>\n",
       "  <tbody>\n",
       "    <tr>\n",
       "      <th>592</th>\n",
       "      <td>19401.0</td>\n",
       "      <td>NORRISTOWN</td>\n",
       "      <td>37059</td>\n",
       "    </tr>\n",
       "    <tr>\n",
       "      <th>664</th>\n",
       "      <td>19406.0</td>\n",
       "      <td>UPPER MERION</td>\n",
       "      <td>33091</td>\n",
       "    </tr>\n",
       "    <tr>\n",
       "      <th>893</th>\n",
       "      <td>19464.0</td>\n",
       "      <td>POTTSTOWN</td>\n",
       "      <td>27206</td>\n",
       "    </tr>\n",
       "    <tr>\n",
       "      <th>615</th>\n",
       "      <td>19403.0</td>\n",
       "      <td>LOWER PROVIDENCE</td>\n",
       "      <td>19585</td>\n",
       "    </tr>\n",
       "    <tr>\n",
       "      <th>240</th>\n",
       "      <td>19004.0</td>\n",
       "      <td>LOWER MERION</td>\n",
       "      <td>16263</td>\n",
       "    </tr>\n",
       "    <tr>\n",
       "      <th>...</th>\n",
       "      <td>...</td>\n",
       "      <td>...</td>\n",
       "      <td>...</td>\n",
       "    </tr>\n",
       "    <tr>\n",
       "      <th>541</th>\n",
       "      <td>19147.0</td>\n",
       "      <td>CONSHOHOCKEN</td>\n",
       "      <td>1</td>\n",
       "    </tr>\n",
       "    <tr>\n",
       "      <th>542</th>\n",
       "      <td>19147.0</td>\n",
       "      <td>UPPER MERION</td>\n",
       "      <td>1</td>\n",
       "    </tr>\n",
       "    <tr>\n",
       "      <th>544</th>\n",
       "      <td>19150.0</td>\n",
       "      <td>LOWER MERION</td>\n",
       "      <td>1</td>\n",
       "    </tr>\n",
       "    <tr>\n",
       "      <th>547</th>\n",
       "      <td>19151.0</td>\n",
       "      <td>DELAWARE COUNTY</td>\n",
       "      <td>1</td>\n",
       "    </tr>\n",
       "    <tr>\n",
       "      <th>0</th>\n",
       "      <td>1104.0</td>\n",
       "      <td>SPRINGFIELD</td>\n",
       "      <td>1</td>\n",
       "    </tr>\n",
       "  </tbody>\n",
       "</table>\n",
       "<p>1047 rows × 3 columns</p>\n",
       "</div>"
      ],
      "text/plain": [
       "         zip               twp      e\n",
       "592  19401.0        NORRISTOWN  37059\n",
       "664  19406.0      UPPER MERION  33091\n",
       "893  19464.0         POTTSTOWN  27206\n",
       "615  19403.0  LOWER PROVIDENCE  19585\n",
       "240  19004.0      LOWER MERION  16263\n",
       "..       ...               ...    ...\n",
       "541  19147.0      CONSHOHOCKEN      1\n",
       "542  19147.0      UPPER MERION      1\n",
       "544  19150.0      LOWER MERION      1\n",
       "547  19151.0   DELAWARE COUNTY      1\n",
       "0     1104.0       SPRINGFIELD      1\n",
       "\n",
       "[1047 rows x 3 columns]"
      ]
     },
     "execution_count": 92,
     "metadata": {},
     "output_type": "execute_result"
    }
   ],
   "source": [
    "data_911_zip=data_911.groupby(['zip','twp'],as_index=False)['e'].sum().sort_values(by='e', ascending=False)\n",
    "data_911_zip"
   ]
  },
  {
   "cell_type": "code",
   "execution_count": 93,
   "metadata": {},
   "outputs": [
    {
     "data": {
      "text/plain": [
       "<AxesSubplot:xlabel='zip', ylabel='e'>"
      ]
     },
     "execution_count": 93,
     "metadata": {},
     "output_type": "execute_result"
    },
    {
     "data": {
      "image/png": "[encoded data removed]",
      "text/plain": [
       "<Figure size 432x288 with 1 Axes>"
      ]
     },
     "metadata": {},
     "output_type": "display_data"
    }
   ],
   "source": [
    "sns.barplot(data=data_911_zip[:5],x='zip',y='e',hue='twp')"
   ]
  },
  {
   "cell_type": "code",
   "execution_count": 99,
   "metadata": {},
   "outputs": [
    {
     "data": {
      "text/plain": [
       "<AxesSubplot:xlabel='zip', ylabel='e'>"
      ]
     },
     "execution_count": 99,
     "metadata": {},
     "output_type": "execute_result"
    },
    {
     "data": {
      "image/png": "[encoded data removed]",
      "text/plain": [
       "<Figure size 432x288 with 1 Axes>"
      ]
     },
     "metadata": {},
     "output_type": "display_data"
    }
   ],
   "source": [
    "sns.barplot(data=data_911_zip[-5:],x='zip',y='e',hue='twp')"
   ]
  },
  {
   "cell_type": "markdown",
   "metadata": {},
   "source": [
    "**Obs7.**\n",
    "1. 19401.0 is the zip code which has the maximum emergency calls recorded.\n",
    "2. Note here that when we come to individual zip codes within a township(twp) , Upper Merion no longer tops the list , it is now done by Norristown. \n",
    "3. Lowest emergency calls is from 1104.0 from Springfield."
   ]
  },
  {
   "cell_type": "code",
   "execution_count": 131,
   "metadata": {},
   "outputs": [
    {
     "data": {
      "text/plain": [
       "41292"
      ]
     },
     "execution_count": 131,
     "metadata": {},
     "output_type": "execute_result"
    }
   ],
   "source": [
    "data_911['addr'].nunique()"
   ]
  },
  {
   "cell_type": "code",
   "execution_count": 133,
   "metadata": {},
   "outputs": [
    {
     "data": {
      "text/html": [
       "<div>\n",
       "<style scoped>\n",
       "    .dataframe tbody tr th:only-of-type {\n",
       "        vertical-align: middle;\n",
       "    }\n",
       "\n",
       "    .dataframe tbody tr th {\n",
       "        vertical-align: top;\n",
       "    }\n",
       "\n",
       "    .dataframe thead th {\n",
       "        text-align: right;\n",
       "    }\n",
       "</style>\n",
       "<table border=\"1\" class=\"dataframe\">\n",
       "  <thead>\n",
       "    <tr style=\"text-align: right;\">\n",
       "      <th></th>\n",
       "      <th>addr</th>\n",
       "      <th>e</th>\n",
       "    </tr>\n",
       "  </thead>\n",
       "  <tbody>\n",
       "    <tr>\n",
       "      <th>33096</th>\n",
       "      <td>SHANNONDELL DR &amp; SHANNONDELL BLVD</td>\n",
       "      <td>7282</td>\n",
       "    </tr>\n",
       "    <tr>\n",
       "      <th>21123</th>\n",
       "      <td>MAIN ST &amp; OLD SUMNEYTOWN PIKE</td>\n",
       "      <td>2575</td>\n",
       "    </tr>\n",
       "    <tr>\n",
       "      <th>35920</th>\n",
       "      <td>THE FAIRWAY  &amp; RYDAL RD</td>\n",
       "      <td>1983</td>\n",
       "    </tr>\n",
       "    <tr>\n",
       "      <th>10736</th>\n",
       "      <td>EAGLEVILLE RD &amp; SUNDERLAND DR</td>\n",
       "      <td>1618</td>\n",
       "    </tr>\n",
       "    <tr>\n",
       "      <th>11705</th>\n",
       "      <td>EVERGREEN RD &amp; W LIGHTCAP RD</td>\n",
       "      <td>1591</td>\n",
       "    </tr>\n",
       "    <tr>\n",
       "      <th>...</th>\n",
       "      <td>...</td>\n",
       "      <td>...</td>\n",
       "    </tr>\n",
       "    <tr>\n",
       "      <th>27590</th>\n",
       "      <td>PHEASANT</td>\n",
       "      <td>1</td>\n",
       "    </tr>\n",
       "    <tr>\n",
       "      <th>34373</th>\n",
       "      <td>STATION 57 PLOT</td>\n",
       "      <td>1</td>\n",
       "    </tr>\n",
       "    <tr>\n",
       "      <th>34374</th>\n",
       "      <td>STATION ALY</td>\n",
       "      <td>1</td>\n",
       "    </tr>\n",
       "    <tr>\n",
       "      <th>34375</th>\n",
       "      <td>STATION ALY &amp; W RELIANCE RD</td>\n",
       "      <td>1</td>\n",
       "    </tr>\n",
       "    <tr>\n",
       "      <th>20646</th>\n",
       "      <td>LOUISE LN</td>\n",
       "      <td>1</td>\n",
       "    </tr>\n",
       "  </tbody>\n",
       "</table>\n",
       "<p>41292 rows × 2 columns</p>\n",
       "</div>"
      ],
      "text/plain": [
       "                                    addr     e\n",
       "33096  SHANNONDELL DR & SHANNONDELL BLVD  7282\n",
       "21123      MAIN ST & OLD SUMNEYTOWN PIKE  2575\n",
       "35920            THE FAIRWAY  & RYDAL RD  1983\n",
       "10736      EAGLEVILLE RD & SUNDERLAND DR  1618\n",
       "11705       EVERGREEN RD & W LIGHTCAP RD  1591\n",
       "...                                  ...   ...\n",
       "27590                           PHEASANT     1\n",
       "34373                    STATION 57 PLOT     1\n",
       "34374                        STATION ALY     1\n",
       "34375        STATION ALY & W RELIANCE RD     1\n",
       "20646                          LOUISE LN     1\n",
       "\n",
       "[41292 rows x 2 columns]"
      ]
     },
     "execution_count": 133,
     "metadata": {},
     "output_type": "execute_result"
    }
   ],
   "source": [
    "data_911_addr=data_911.groupby(['addr'],as_index=False)['e'].sum().sort_values(by='e', ascending=False)\n",
    "data_911_addr"
   ]
  },
  {
   "cell_type": "code",
   "execution_count": 136,
   "metadata": {},
   "outputs": [
    {
     "data": {
      "text/html": [
       "<div>\n",
       "<style scoped>\n",
       "    .dataframe tbody tr th:only-of-type {\n",
       "        vertical-align: middle;\n",
       "    }\n",
       "\n",
       "    .dataframe tbody tr th {\n",
       "        vertical-align: top;\n",
       "    }\n",
       "\n",
       "    .dataframe thead th {\n",
       "        text-align: right;\n",
       "    }\n",
       "</style>\n",
       "<table border=\"1\" class=\"dataframe\">\n",
       "  <thead>\n",
       "    <tr style=\"text-align: right;\">\n",
       "      <th></th>\n",
       "      <th>zip</th>\n",
       "      <th>addr</th>\n",
       "      <th>twp</th>\n",
       "      <th>e</th>\n",
       "    </tr>\n",
       "  </thead>\n",
       "  <tbody>\n",
       "    <tr>\n",
       "      <th>24477</th>\n",
       "      <td>19403.0</td>\n",
       "      <td>SHANNONDELL DR &amp; SHANNONDELL BLVD</td>\n",
       "      <td>LOWER PROVIDENCE</td>\n",
       "      <td>7282</td>\n",
       "    </tr>\n",
       "    <tr>\n",
       "      <th>31427</th>\n",
       "      <td>19438.0</td>\n",
       "      <td>MAIN ST &amp; OLD SUMNEYTOWN PIKE</td>\n",
       "      <td>LOWER SALFORD</td>\n",
       "      <td>2575</td>\n",
       "    </tr>\n",
       "    <tr>\n",
       "      <th>16722</th>\n",
       "      <td>19046.0</td>\n",
       "      <td>THE FAIRWAY  &amp; RYDAL RD</td>\n",
       "      <td>ABINGTON</td>\n",
       "      <td>1983</td>\n",
       "    </tr>\n",
       "    <tr>\n",
       "      <th>23363</th>\n",
       "      <td>19403.0</td>\n",
       "      <td>EAGLEVILLE RD &amp; SUNDERLAND DR</td>\n",
       "      <td>LOWER PROVIDENCE</td>\n",
       "      <td>1618</td>\n",
       "    </tr>\n",
       "    <tr>\n",
       "      <th>39218</th>\n",
       "      <td>19464.0</td>\n",
       "      <td>EVERGREEN RD &amp; W LIGHTCAP RD</td>\n",
       "      <td>LOWER POTTSGROVE</td>\n",
       "      <td>1567</td>\n",
       "    </tr>\n",
       "    <tr>\n",
       "      <th>21712</th>\n",
       "      <td>19401.0</td>\n",
       "      <td>GERMANTOWN PIKE &amp; HANNAH AVE</td>\n",
       "      <td>EAST NORRITON</td>\n",
       "      <td>1556</td>\n",
       "    </tr>\n",
       "    <tr>\n",
       "      <th>25804</th>\n",
       "      <td>19406.0</td>\n",
       "      <td>GULPH RD &amp; KIRK AVE</td>\n",
       "      <td>UPPER MERION</td>\n",
       "      <td>1440</td>\n",
       "    </tr>\n",
       "    <tr>\n",
       "      <th>42249</th>\n",
       "      <td>19468.0</td>\n",
       "      <td>BLACK ROCK RD &amp; S TRAPPE RD</td>\n",
       "      <td>UPPER PROVIDENCE</td>\n",
       "      <td>1425</td>\n",
       "    </tr>\n",
       "    <tr>\n",
       "      <th>14056</th>\n",
       "      <td>19040.0</td>\n",
       "      <td>DAVISVILLE RD &amp; PENNYPACK RD</td>\n",
       "      <td>UPPER MORELAND</td>\n",
       "      <td>1367</td>\n",
       "    </tr>\n",
       "    <tr>\n",
       "      <th>26565</th>\n",
       "      <td>19406.0</td>\n",
       "      <td>SCHUYLKILL EXPY &amp; WEADLEY RD OVERPASS</td>\n",
       "      <td>UPPER MERION</td>\n",
       "      <td>1284</td>\n",
       "    </tr>\n",
       "  </tbody>\n",
       "</table>\n",
       "</div>"
      ],
      "text/plain": [
       "           zip                                   addr               twp     e\n",
       "24477  19403.0      SHANNONDELL DR & SHANNONDELL BLVD  LOWER PROVIDENCE  7282\n",
       "31427  19438.0          MAIN ST & OLD SUMNEYTOWN PIKE     LOWER SALFORD  2575\n",
       "16722  19046.0                THE FAIRWAY  & RYDAL RD          ABINGTON  1983\n",
       "23363  19403.0          EAGLEVILLE RD & SUNDERLAND DR  LOWER PROVIDENCE  1618\n",
       "39218  19464.0           EVERGREEN RD & W LIGHTCAP RD  LOWER POTTSGROVE  1567\n",
       "21712  19401.0           GERMANTOWN PIKE & HANNAH AVE     EAST NORRITON  1556\n",
       "25804  19406.0                    GULPH RD & KIRK AVE      UPPER MERION  1440\n",
       "42249  19468.0            BLACK ROCK RD & S TRAPPE RD  UPPER PROVIDENCE  1425\n",
       "14056  19040.0           DAVISVILLE RD & PENNYPACK RD    UPPER MORELAND  1367\n",
       "26565  19406.0  SCHUYLKILL EXPY & WEADLEY RD OVERPASS      UPPER MERION  1284"
      ]
     },
     "execution_count": 136,
     "metadata": {},
     "output_type": "execute_result"
    }
   ],
   "source": [
    "data_911_aadr_zip_twp=data_911.groupby(['zip','addr','twp'],as_index=False)['e'].sum().sort_values(by='e', ascending=False)\n",
    "data_911_aadr_zip_twp[:10]"
   ]
  },
  {
   "cell_type": "code",
   "execution_count": 146,
   "metadata": {},
   "outputs": [
    {
     "data": {
      "image/png": "[encoded data removed]",
      "text/plain": [
       "<Figure size 432x288 with 1 Axes>"
      ]
     },
     "metadata": {},
     "output_type": "display_data"
    }
   ],
   "source": [
    "azx=sns.barplot(data=data_911_aadr_zip_twp[:5],x='addr',y='e',hue='twp')\n",
    "azx.set_xticklabels(azx.get_xticklabels(), rotation=40, \n",
    "                                    ha=\"right\")\n",
    "plt.show(azx)"
   ]
  },
  {
   "cell_type": "markdown",
   "metadata": {},
   "source": [
    "**Obs8.**\n",
    "1. Lower Merion is the township which has recorded the highest emergency calls \n",
    "2. Diving deep , we found that that on the basis of zip codes , Norristown has recorded the highest number of emergency calls.\n",
    "3. Diving furthur deep, i.e. zooming in, I find that SHANNONDELL DR & SHANNONDELL BLVD\t from LOWER PROVIDENCE has recorded the highest calls. "
   ]
  },
  {
   "cell_type": "code",
   "execution_count": 142,
   "metadata": {},
   "outputs": [
    {
     "data": {
      "text/html": [
       "<div>\n",
       "<style scoped>\n",
       "    .dataframe tbody tr th:only-of-type {\n",
       "        vertical-align: middle;\n",
       "    }\n",
       "\n",
       "    .dataframe tbody tr th {\n",
       "        vertical-align: top;\n",
       "    }\n",
       "\n",
       "    .dataframe thead th {\n",
       "        text-align: right;\n",
       "    }\n",
       "</style>\n",
       "<table border=\"1\" class=\"dataframe\">\n",
       "  <thead>\n",
       "    <tr style=\"text-align: right;\">\n",
       "      <th></th>\n",
       "      <th>zip</th>\n",
       "      <th>addr</th>\n",
       "      <th>twp</th>\n",
       "      <th>title</th>\n",
       "      <th>e</th>\n",
       "    </tr>\n",
       "  </thead>\n",
       "  <tbody>\n",
       "    <tr>\n",
       "      <th>42975</th>\n",
       "      <td>19403.0</td>\n",
       "      <td>SHANNONDELL DR &amp; SHANNONDELL BLVD</td>\n",
       "      <td>LOWER PROVIDENCE</td>\n",
       "      <td>EMS</td>\n",
       "      <td>7111</td>\n",
       "    </tr>\n",
       "    <tr>\n",
       "      <th>54855</th>\n",
       "      <td>19438.0</td>\n",
       "      <td>MAIN ST &amp; OLD SUMNEYTOWN PIKE</td>\n",
       "      <td>LOWER SALFORD</td>\n",
       "      <td>EMS</td>\n",
       "      <td>2353</td>\n",
       "    </tr>\n",
       "    <tr>\n",
       "      <th>29279</th>\n",
       "      <td>19046.0</td>\n",
       "      <td>THE FAIRWAY  &amp; RYDAL RD</td>\n",
       "      <td>ABINGTON</td>\n",
       "      <td>EMS</td>\n",
       "      <td>1687</td>\n",
       "    </tr>\n",
       "    <tr>\n",
       "      <th>68137</th>\n",
       "      <td>19464.0</td>\n",
       "      <td>EVERGREEN RD &amp; W LIGHTCAP RD</td>\n",
       "      <td>LOWER POTTSGROVE</td>\n",
       "      <td>EMS</td>\n",
       "      <td>1498</td>\n",
       "    </tr>\n",
       "    <tr>\n",
       "      <th>41073</th>\n",
       "      <td>19403.0</td>\n",
       "      <td>EAGLEVILLE RD &amp; SUNDERLAND DR</td>\n",
       "      <td>LOWER PROVIDENCE</td>\n",
       "      <td>EMS</td>\n",
       "      <td>1496</td>\n",
       "    </tr>\n",
       "    <tr>\n",
       "      <th>73132</th>\n",
       "      <td>19468.0</td>\n",
       "      <td>BLACK ROCK RD &amp; S TRAPPE RD</td>\n",
       "      <td>UPPER PROVIDENCE</td>\n",
       "      <td>EMS</td>\n",
       "      <td>1252</td>\n",
       "    </tr>\n",
       "    <tr>\n",
       "      <th>24545</th>\n",
       "      <td>19040.0</td>\n",
       "      <td>DAVISVILLE RD &amp; PENNYPACK RD</td>\n",
       "      <td>UPPER MORELAND</td>\n",
       "      <td>EMS</td>\n",
       "      <td>1238</td>\n",
       "    </tr>\n",
       "    <tr>\n",
       "      <th>38010</th>\n",
       "      <td>19401.0</td>\n",
       "      <td>GERMANTOWN PIKE &amp; HANNAH AVE</td>\n",
       "      <td>EAST NORRITON</td>\n",
       "      <td>EMS</td>\n",
       "      <td>1219</td>\n",
       "    </tr>\n",
       "    <tr>\n",
       "      <th>46546</th>\n",
       "      <td>19406.0</td>\n",
       "      <td>SCHUYLKILL EXPY &amp; WEADLEY RD OVERPASS</td>\n",
       "      <td>UPPER MERION</td>\n",
       "      <td>Traffic</td>\n",
       "      <td>1167</td>\n",
       "    </tr>\n",
       "    <tr>\n",
       "      <th>4419</th>\n",
       "      <td>18964.0</td>\n",
       "      <td>SUMMIT ST &amp; COLONIAL AVE</td>\n",
       "      <td>FRANCONIA</td>\n",
       "      <td>EMS</td>\n",
       "      <td>1157</td>\n",
       "    </tr>\n",
       "  </tbody>\n",
       "</table>\n",
       "</div>"
      ],
      "text/plain": [
       "           zip                                   addr               twp  \\\n",
       "42975  19403.0      SHANNONDELL DR & SHANNONDELL BLVD  LOWER PROVIDENCE   \n",
       "54855  19438.0          MAIN ST & OLD SUMNEYTOWN PIKE     LOWER SALFORD   \n",
       "29279  19046.0                THE FAIRWAY  & RYDAL RD          ABINGTON   \n",
       "68137  19464.0           EVERGREEN RD & W LIGHTCAP RD  LOWER POTTSGROVE   \n",
       "41073  19403.0          EAGLEVILLE RD & SUNDERLAND DR  LOWER PROVIDENCE   \n",
       "73132  19468.0            BLACK ROCK RD & S TRAPPE RD  UPPER PROVIDENCE   \n",
       "24545  19040.0           DAVISVILLE RD & PENNYPACK RD    UPPER MORELAND   \n",
       "38010  19401.0           GERMANTOWN PIKE & HANNAH AVE     EAST NORRITON   \n",
       "46546  19406.0  SCHUYLKILL EXPY & WEADLEY RD OVERPASS      UPPER MERION   \n",
       "4419   18964.0               SUMMIT ST & COLONIAL AVE         FRANCONIA   \n",
       "\n",
       "         title     e  \n",
       "42975      EMS  7111  \n",
       "54855      EMS  2353  \n",
       "29279      EMS  1687  \n",
       "68137      EMS  1498  \n",
       "41073      EMS  1496  \n",
       "73132      EMS  1252  \n",
       "24545      EMS  1238  \n",
       "38010      EMS  1219  \n",
       "46546  Traffic  1167  \n",
       "4419       EMS  1157  "
      ]
     },
     "execution_count": 142,
     "metadata": {},
     "output_type": "execute_result"
    }
   ],
   "source": [
    "data_911_aadr_zip_twp_title=data_911.groupby(['zip','addr','twp','title'],as_index=False)['e'].sum().sort_values(by='e', ascending=False)\n",
    "data_911_aadr_zip_twp_title[:10]"
   ]
  },
  {
   "cell_type": "code",
   "execution_count": 145,
   "metadata": {},
   "outputs": [
    {
     "data": {
      "image/png": "[encoded data removed]",
      "text/plain": [
       "<Figure size 432x288 with 1 Axes>"
      ]
     },
     "metadata": {},
     "output_type": "display_data"
    }
   ],
   "source": [
    "azx=sns.barplot(data=data_911_aadr_zip_twp_title[:5],x='addr',y='e',hue='title')\n",
    "azx.set_xticklabels(azx.get_xticklabels(), rotation=40, \n",
    "                                    ha=\"right\")\n",
    "plt.show(azx)"
   ]
  },
  {
   "cell_type": "markdown",
   "metadata": {},
   "source": [
    "**Obs9.**\n",
    "EMS is the category that has resulted in highest number of emergency calls even at the base level \n",
    "\n",
    "Order : twp --> zip --> addr\n",
    "1. For twp ,EMS is highest category which recorded the most emergency calls. In one case I get Traffic category.\n",
    "2. For zip, EMS is highest category which recorded the most emergency calls. In one case I get Traffic category.\n",
    "3. EMS is the category that has resulted in highest number of emergency calls even at the base level "
   ]
  },
  {
   "cell_type": "code",
   "execution_count": 151,
   "metadata": {},
   "outputs": [
    {
     "data": {
      "image/png": "[encoded data removed]",
      "text/plain": [
       "<Figure size 432x288 with 1 Axes>"
      ]
     },
     "metadata": {},
     "output_type": "display_data"
    }
   ],
   "source": [
    "data_911_twp_title=data_911.groupby(['twp','title'],as_index=False)['e'].sum().sort_values(by='e', ascending=False)\n",
    "azx=sns.barplot(data=data_911_twp_title[:5],x='twp',y='e',hue='title')\n",
    "azx.set_xticklabels(azx.get_xticklabels(), rotation=40, \n",
    "                                    ha=\"right\")\n",
    "plt.show(azx)"
   ]
  },
  {
   "cell_type": "code",
   "execution_count": 155,
   "metadata": {},
   "outputs": [
    {
     "data": {
      "image/png": "[encoded data removed]",
      "text/plain": [
       "<Figure size 432x288 with 1 Axes>"
      ]
     },
     "metadata": {},
     "output_type": "display_data"
    }
   ],
   "source": [
    "data_911_zip_title=data_911.groupby(['zip','title'],as_index=False)['e'].sum().sort_values(by='e', ascending=False)\n",
    "azx=sns.barplot(data=data_911_zip_title[:5],x='zip',y='e',hue='title')\n",
    "azx.set_xticklabels(azx.get_xticklabels(), rotation=40, \n",
    "                                    ha=\"right\")\n",
    "plt.show(azx)"
   ]
  }
 ],
 "metadata": {
  "kernelspec": {
   "display_name": "Python 3",
   "language": "python",
   "name": "python3"
  },
  "language_info": {
   "codemirror_mode": {
    "name": "ipython",
    "version": 3
   },
   "file_extension": ".py",
   "mimetype": "text/x-python",
   "name": "python",
   "nbconvert_exporter": "python",
   "pygments_lexer": "ipython3",
   "version": "3.8.5"
  }
 },
 "nbformat": 4,
 "nbformat_minor": 4
}
