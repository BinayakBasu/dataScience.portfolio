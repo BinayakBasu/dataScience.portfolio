{
 "cells": [
  {
   "cell_type": "markdown",
   "metadata": {},
   "source": [
    "# 1.Python Keywords and Identifiers"
   ]
  },
  {
   "cell_type": "markdown",
   "metadata": {},
   "source": [
    "## 1a. Python keywords"
   ]
  },
  {
   "cell_type": "markdown",
   "metadata": {},
   "source": [
    "Python Keywords\n",
    "Keywords are the reserved words in Python.\n",
    "\n",
    "We cannot use a keyword as a variable name, function name or any other identifier. They are used to define the syntax and structure of the Python language.\n",
    "\n",
    "In Python, keywords are case sensitive.\n",
    "\n",
    "There are 33 keywords in Python 3.7. This number can vary slightly over the course of time.\n",
    "\n",
    "All the keywords except True, False and None are in lowercase and they must be written as they are. The list of all the keywords is given below."
   ]
  },
  {
   "cell_type": "markdown",
   "metadata": {},
   "source": [
    "False\tawait\telse\timport\tpass None\tbreak\texcept\tin\traise True\tclass\tfinally\tis\treturn and\tcontinue\tfor\tlambda\ttry as\tdef\tfrom nonlocal\twhile assert\tdel\tglobal\tnot\twith async\telif\tif\tor\tyield"
   ]
  },
  {
   "cell_type": "markdown",
   "metadata": {},
   "source": [
    "## 1b. Python Identifiers"
   ]
  },
  {
   "cell_type": "markdown",
   "metadata": {},
   "source": [
    "Python Identifiers\n",
    "\n",
    "An identifier is a name given to entities like class, functions, variables, etc. It helps to differentiate one entity from another.\n",
    "\n",
    "Rules for writing identifiers\n",
    "\n",
    "1. Identifiers can be a combination of letters in lowercase (a to z) or uppercase (A to Z) or digits (0 to 9) or an underscore _. Names like myClass, var_1 and print_this_to_screen, all are valid example.\n",
    "\n",
    "2. An identifier cannot start with a digit. 1variable is invalid, but variable1 is a valid name.\n",
    "\n",
    "3. Keywords cannot be used as identifiers.\n",
    "global = 1\n",
    "\n",
    "4. We cannot use special symbols like !, @, #, $, % etc. in our identifier\n",
    "\n",
    "5. An identifier can be of any length.\n",
    "\n",
    "Things to Remember\n",
    "Python is a case-sensitive language. This means, Variable and variable are not the same.\n",
    "\n",
    "Always give the identifiers a name that makes sense. While c = 10 is a valid name, writing count = 10 would make more sense, and it would be easier to figure out what it represents when you look at your code after a long gap.\n",
    "\n",
    "Multiple words can be separated using an underscore, like this_is_a_long_variable.\n"
   ]
  },
  {
   "cell_type": "markdown",
   "metadata": {},
   "source": [
    "## 1c. Python variables"
   ]
  },
  {
   "cell_type": "markdown",
   "metadata": {},
   "source": [
    "1. Variables are labels attached to objects; they are not the object itself. Theyare not containers for objects either. A variable does not contain the object, rather it acts as a pointer or reference to an object. \n",
    "\n",
    "2. There is no need to declare the data type of a variable as done in java programming. \n",
    "\n",
    "3. Variable name cannot start with an integer/number \n",
    "\n",
    "4. Python is case-sensitive in case of variable name \n"
   ]
  },
  {
   "cell_type": "code",
   "execution_count": 2,
   "metadata": {},
   "outputs": [
    {
     "name": "stdout",
     "output_type": "stream",
     "text": [
      "[1, 2, 3, 4, 5] [1, 2, 3, 4, 5]\n"
     ]
    }
   ],
   "source": [
    "a = [1,2,3,4]\n",
    "b=a\n",
    "a.append(5)\n",
    "print(a,b)"
   ]
  },
  {
   "cell_type": "markdown",
   "metadata": {},
   "source": [
    "5. Here we have created a variable, a, which points to a list object. We create another variable, b, which points to this same list object. When we append an element to this list object, this change is reflected in both a and b."
   ]
  },
  {
   "cell_type": "markdown",
   "metadata": {},
   "source": [
    "6. Python is a dynamically typed language. Variable names can be bound to different values and types during program execution. Each value is of a type, a string, or integer for example; however, the name that points to this value does not have a specific type. This is different from many languages such as C and Java where a name represents a fixed size, type, and location in memory. This means when we initialize variables in Python, we do not need to declare a type. Also, variables, or more specifically the objects they point to, can change type depending on the values assigned to them, for example:"
   ]
  },
  {
   "cell_type": "code",
   "execution_count": 3,
   "metadata": {},
   "outputs": [
    {
     "data": {
      "text/plain": [
       "int"
      ]
     },
     "execution_count": 3,
     "metadata": {},
     "output_type": "execute_result"
    }
   ],
   "source": [
    "a = 1\n",
    "type(a)"
   ]
  },
  {
   "cell_type": "code",
   "execution_count": 4,
   "metadata": {},
   "outputs": [
    {
     "data": {
      "text/plain": [
       "float"
      ]
     },
     "execution_count": 4,
     "metadata": {},
     "output_type": "execute_result"
    }
   ],
   "source": [
    "a=a+0.1\n",
    "type(a)"
   ]
  },
  {
   "cell_type": "markdown",
   "metadata": {},
   "source": [
    "# 2.Implicit & Explicit Type Conversion"
   ]
  },
  {
   "cell_type": "markdown",
   "metadata": {},
   "source": [
    "The process of converting the value of one data type (integer, string, float, etc.) to another data type is called type conversion. Python has two types of type conversion.\n",
    "\n",
    "Implicit Type Conversion\n",
    "\n",
    "Explicit Type Conversion\n",
    "\n",
    "Implicit Type Conversion\n",
    "\n",
    "In Implicit type conversion, Python automatically converts one data type to another data type. This process doesn't need any user involvement.\n",
    "\n",
    "Let's see an example where Python promotes the conversion of the lower data type (integer) to the higher data type (float) to avoid data loss."
   ]
  },
  {
   "cell_type": "code",
   "execution_count": 5,
   "metadata": {},
   "outputs": [
    {
     "name": "stdout",
     "output_type": "stream",
     "text": [
      "datatype of num_int: <class 'int'>\n",
      "datatype of num_flo: <class 'float'>\n",
      "Value of num_new: 124.23\n",
      "datatype of num_new: <class 'float'>\n"
     ]
    }
   ],
   "source": [
    "num_int = 123\n",
    "num_flo = 1.23\n",
    "\n",
    "num_new = num_int + num_flo\n",
    "\n",
    "print(\"datatype of num_int:\",type(num_int))\n",
    "print(\"datatype of num_flo:\",type(num_flo))\n",
    "\n",
    "print(\"Value of num_new:\",num_new)\n",
    "print(\"datatype of num_new:\",type(num_new))"
   ]
  },
  {
   "cell_type": "markdown",
   "metadata": {},
   "source": [
    "In the above program,\n",
    "\n",
    "We add two variables num_int and num_flo, storing the value in num_new.\n",
    "We will look at the data type of all three objects respectively.\n",
    "In the output, we can see the data type of num_int is an integer while the data type of num_flo is a float.\n",
    "\n",
    "Also, we can see the num_new has a float data type because Python always converts smaller data types to larger data types to avoid the loss of data.\n"
   ]
  },
  {
   "cell_type": "code",
   "execution_count": 6,
   "metadata": {},
   "outputs": [
    {
     "name": "stdout",
     "output_type": "stream",
     "text": [
      "Data type of num_int: <class 'int'>\n",
      "Data type of num_str: <class 'str'>\n"
     ]
    },
    {
     "ename": "TypeError",
     "evalue": "unsupported operand type(s) for +: 'int' and 'str'",
     "output_type": "error",
     "traceback": [
      "\u001b[1;31m---------------------------------------------------------------------------\u001b[0m",
      "\u001b[1;31mTypeError\u001b[0m                                 Traceback (most recent call last)",
      "\u001b[1;32m<ipython-input-6-981092afb39b>\u001b[0m in \u001b[0;36m<module>\u001b[1;34m\u001b[0m\n\u001b[0;32m      6\u001b[0m \u001b[0mprint\u001b[0m\u001b[1;33m(\u001b[0m\u001b[1;34m\"Data type of num_str:\"\u001b[0m\u001b[1;33m,\u001b[0m\u001b[0mtype\u001b[0m\u001b[1;33m(\u001b[0m\u001b[0mnum_str\u001b[0m\u001b[1;33m)\u001b[0m\u001b[1;33m)\u001b[0m\u001b[1;33m\u001b[0m\u001b[1;33m\u001b[0m\u001b[0m\n\u001b[0;32m      7\u001b[0m \u001b[1;33m\u001b[0m\u001b[0m\n\u001b[1;32m----> 8\u001b[1;33m \u001b[0mprint\u001b[0m\u001b[1;33m(\u001b[0m\u001b[0mnum_int\u001b[0m\u001b[1;33m+\u001b[0m\u001b[0mnum_str\u001b[0m\u001b[1;33m)\u001b[0m\u001b[1;33m\u001b[0m\u001b[1;33m\u001b[0m\u001b[0m\n\u001b[0m",
      "\u001b[1;31mTypeError\u001b[0m: unsupported operand type(s) for +: 'int' and 'str'"
     ]
    }
   ],
   "source": [
    "#Example 2: Addition of string(higher) data type and integer(lower) datatype\n",
    "num_int = 123\n",
    "num_str = \"456\"\n",
    "\n",
    "print(\"Data type of num_int:\",type(num_int))\n",
    "print(\"Data type of num_str:\",type(num_str))\n",
    "\n",
    "print(num_int+num_str)"
   ]
  },
  {
   "cell_type": "markdown",
   "metadata": {},
   "source": [
    "In the above program,\n",
    "\n",
    "We add two variables num_int and num_str.\n",
    "As we can see from the output, we got TypeError. Python is not able to use Implicit Conversion in such conditions.\n",
    "However, Python has a solution for these types of situations which is known as Explicit Conversion.\n",
    "\n",
    "Explicit Type Conversion\n",
    "In Explicit Type Conversion, users convert the data type of an object to required data type. We use the predefined functions like int(), float(), str(), etc to perform explicit type conversion.\n",
    "\n",
    "This type of conversion is also called typecasting because the user casts (changes) the data type of the objects.\n",
    "\n",
    "Syntax :\n",
    "<required_datatype>(expression)\n",
    "Typecasting can be done by assigning the required data type function to the expression."
   ]
  },
  {
   "cell_type": "code",
   "execution_count": 7,
   "metadata": {},
   "outputs": [
    {
     "name": "stdout",
     "output_type": "stream",
     "text": [
      "Data type of num_int: <class 'int'>\n",
      "Data type of num_str before Type Casting: <class 'str'>\n",
      "Data type of num_str after Type Casting: <class 'int'>\n",
      "Sum of num_int and num_str: 579\n",
      "Data type of the sum: <class 'int'>\n"
     ]
    }
   ],
   "source": [
    "# Example 3: Addition of string and integer using explicit conversion\n",
    "num_int = 123\n",
    "num_str = \"456\"\n",
    "\n",
    "print(\"Data type of num_int:\",type(num_int))\n",
    "print(\"Data type of num_str before Type Casting:\",type(num_str))\n",
    "\n",
    "num_str = int(num_str)\n",
    "print(\"Data type of num_str after Type Casting:\",type(num_str))\n",
    "\n",
    "num_sum = num_int + num_str\n",
    "\n",
    "print(\"Sum of num_int and num_str:\",num_sum)\n",
    "print(\"Data type of the sum:\",type(num_sum))"
   ]
  },
  {
   "cell_type": "markdown",
   "metadata": {},
   "source": [
    "In the above program,\n",
    "\n",
    "We add num_str and num_int variable.\n",
    "We converted num_str from string(higher) to integer(lower) type using int() function to perform the addition.\n",
    "After converting num_str to an integer value, Python is able to add these two variables.\n",
    "We got the num_sum value and data type to be an integer."
   ]
  },
  {
   "cell_type": "markdown",
   "metadata": {},
   "source": [
    "Key Points to Remember\n",
    "Type Conversion is the conversion of object from one data type to another data type.\n",
    "Implicit Type Conversion is automatically performed by the Python interpreter.\n",
    "Python avoids the loss of data in Implicit Type Conversion.\n",
    "Explicit Type Conversion is also called Type Casting, the data types of objects are converted using predefined functions by the user.\n",
    "In Type Casting, loss of data may occur as we enforce the object to a specific data type."
   ]
  },
  {
   "cell_type": "markdown",
   "metadata": {},
   "source": [
    "# 3.Taking an Input from the User"
   ]
  },
  {
   "cell_type": "code",
   "execution_count": 8,
   "metadata": {},
   "outputs": [
    {
     "name": "stdout",
     "output_type": "stream",
     "text": [
      "Enter your 1st name:Surri\n",
      "Enter your surname:Singh\n",
      "Wellcome Surri Singh\n"
     ]
    }
   ],
   "source": [
    "name = input(\"Enter your 1st name:\")\n",
    "surname = input(\"Enter your surname:\")\n",
    "print(\"Wellcome\",name,surname)"
   ]
  },
  {
   "cell_type": "markdown",
   "metadata": {},
   "source": [
    "Always remember that the input is taken in a string format i.e. str . So if you are taking an integer/ float as an input then typecasting is required for furthur operations "
   ]
  },
  {
   "cell_type": "code",
   "execution_count": 9,
   "metadata": {},
   "outputs": [
    {
     "name": "stdout",
     "output_type": "stream",
     "text": [
      "Enter height in inches:23\n",
      "The square of height is: 529.0\n"
     ]
    }
   ],
   "source": [
    "# take height as input and gove the result as height squared\n",
    "\n",
    "height = float(input(\"Enter height in inches:\"))\n",
    "height_sq = height ** 2 \n",
    "print(\"The square of height is:\",height_sq)"
   ]
  },
  {
   "cell_type": "markdown",
   "metadata": {},
   "source": [
    "# 4.Escape Characters"
   ]
  },
  {
   "cell_type": "code",
   "execution_count": 10,
   "metadata": {},
   "outputs": [
    {
     "name": "stdout",
     "output_type": "stream",
     "text": [
      "I have \n",
      "always wanted \n",
      "to study\n"
     ]
    }
   ],
   "source": [
    "print(\"I have \\nalways wanted \\nto study\") #\\n means new line "
   ]
  },
  {
   "cell_type": "code",
   "execution_count": 11,
   "metadata": {},
   "outputs": [
    {
     "name": "stdout",
     "output_type": "stream",
     "text": [
      "I have\n",
      "always wanted\n",
      "to study\n"
     ]
    }
   ],
   "source": [
    "# another way to split string --> USING TRIPLE QUOTATION MARKS\n",
    "\n",
    "split_string = \"\"\"I have\n",
    "always wanted\n",
    "to study\"\"\"\n",
    "print(split_string)"
   ]
  },
  {
   "cell_type": "code",
   "execution_count": 12,
   "metadata": {},
   "outputs": [
    {
     "name": "stdout",
     "output_type": "stream",
     "text": [
      "I have always wanted to study\n"
     ]
    }
   ],
   "source": [
    "split_string = \"\"\"I have \\\n",
    "always wanted \\\n",
    "to study\"\"\"\n",
    "print(split_string)"
   ]
  },
  {
   "cell_type": "code",
   "execution_count": 13,
   "metadata": {},
   "outputs": [
    {
     "name": "stdout",
     "output_type": "stream",
     "text": [
      "I have \t\talways wanted \tto study\n"
     ]
    }
   ],
   "source": [
    "print(\"I have \\t\\talways wanted \\tto study\") #\\t gives a tabbed result"
   ]
  },
  {
   "cell_type": "code",
   "execution_count": 14,
   "metadata": {
    "scrolled": true
   },
   "outputs": [
    {
     "name": "stdout",
     "output_type": "stream",
     "text": [
      "The shopkeeper said \" Please come after '3' hours. \"\n"
     ]
    }
   ],
   "source": [
    "print(\"The shopkeeper said \\\" Please come after '3' hours. \\\"\")"
   ]
  },
  {
   "cell_type": "code",
   "execution_count": 15,
   "metadata": {},
   "outputs": [
    {
     "name": "stdout",
     "output_type": "stream",
     "text": [
      "The shopkeeper said \" Please come after '3' hours.\"\n"
     ]
    }
   ],
   "source": [
    "print('The shopkeeper said \\\" Please come after \\'3\\' hours.\\\"')"
   ]
  },
  {
   "cell_type": "code",
   "execution_count": 16,
   "metadata": {},
   "outputs": [
    {
     "name": "stdout",
     "output_type": "stream",
     "text": [
      "The shopkeeper said:\"Please come after '3'hours.\" \n"
     ]
    }
   ],
   "source": [
    "print(\"\"\"The shopkeeper said:\"Please come after '3'hours.\" \"\"\")"
   ]
  },
  {
   "cell_type": "code",
   "execution_count": 17,
   "metadata": {},
   "outputs": [
    {
     "name": "stdout",
     "output_type": "stream",
     "text": [
      "The shopkeeper said:\"Please come after '3'hours.\" \n"
     ]
    }
   ],
   "source": [
    "print(\"\"\"The shopkeeper said:\"Please come \\\n",
    "after '3'hours.\" \"\"\")"
   ]
  },
  {
   "cell_type": "code",
   "execution_count": 18,
   "metadata": {},
   "outputs": [
    {
     "name": "stdout",
     "output_type": "stream",
     "text": [
      "C:\\users\\newfolder\\tasty\n"
     ]
    }
   ],
   "source": [
    "# print \\ within a statement \n",
    "\n",
    "print(\"C:\\\\users\\\\newfolder\\\\tasty\") "
   ]
  },
  {
   "cell_type": "code",
   "execution_count": 19,
   "metadata": {},
   "outputs": [
    {
     "name": "stdout",
     "output_type": "stream",
     "text": [
      "C:\\users\\newfolder\\tasty\n"
     ]
    }
   ],
   "source": [
    "# OR\n",
    "\n",
    "print(r\"C:\\users\\newfolder\\tasty\")  # r stands for raw string "
   ]
  },
  {
   "cell_type": "markdown",
   "metadata": {},
   "source": [
    "### Note: Python: a strongly typed language?"
   ]
  },
  {
   "cell_type": "markdown",
   "metadata": {},
   "source": [
    "Python is a STRONGLY TYPED LANGUAGE. This may be confusing because it may seem that Python does not care about the data types since declaration is not required. However in String concatenation it becomes clear that it does recognize data types because Python can only concatenate strings and not a string and an integer ( it does not convert integer to a string since it has been concatenated )"
   ]
  },
  {
   "cell_type": "markdown",
   "metadata": {},
   "source": [
    "# 5. Built-in Data Types"
   ]
  },
  {
   "cell_type": "markdown",
   "metadata": {},
   "source": [
    "Python data types can be divided into three categories: numeric, sequence, and mapping. There is also the None object that represents a Null, or absence of a value. It should not be forgotten either that other objects such as classes, files, and exceptions can also properly be considered types; however, they will not be considered here. \n",
    "\n",
    "Every value in Python has a data type. Unlike many programming languages, in Python you do not need to explicitly declare the type of a variable. Python keeps track of object types internally."
   ]
  },
  {
   "cell_type": "code",
   "execution_count": null,
   "metadata": {},
   "outputs": [],
   "source": [
    "Python built-in data types are outlined in the following table:\n",
    "\n",
    "Category  Name    Description\n",
    "None      None    The null object.\n",
    "Numeric   int     Integer.\n",
    "          float   Floating point number.\n",
    "          complex Complex number.\n",
    "          bool    Boolean (True, False).\n",
    "Sequences str     String of characters.\n",
    "          list    List of arbitrary objects.\n",
    "          Tuple   Group of arbitrary items.\n",
    "          range   Creates a range of integers.\n",
    "Mapping   dict    Dictionary of key-value pairs.\n",
    "          set     Mutable, unordered collection of unique items.\n",
    "       frozenset  Immutable set"
   ]
  },
  {
   "cell_type": "markdown",
   "metadata": {},
   "source": [
    "## 5a.None Type"
   ]
  },
  {
   "cell_type": "markdown",
   "metadata": {},
   "source": [
    "None type:  The None type is immutable and has one value, None. It is used to represent the absence of a value. It is returned by objects that do not explicitly return a value and evaluates to False in Boolean expressions. It is often used as the default value in optional arguments to allow the function to detect whether the caller has passed a value."
   ]
  },
  {
   "cell_type": "code",
   "execution_count": 20,
   "metadata": {},
   "outputs": [
    {
     "data": {
      "text/plain": [
       "False"
      ]
     },
     "execution_count": 20,
     "metadata": {},
     "output_type": "execute_result"
    }
   ],
   "source": [
    "a = None  # so None is a FALSY value \n",
    "bool(a)"
   ]
  },
  {
   "cell_type": "markdown",
   "metadata": {},
   "source": [
    "## 5b.Numeric Types "
   ]
  },
  {
   "cell_type": "markdown",
   "metadata": {},
   "source": [
    "Numeric Types:\n",
    "\n",
    "All numeric types, apart from bool, are signed and they are all immutable. Booleans have two possible values, True and False. These values are mapped to 1 and 0, respectively.\n",
    "\n",
    "The integer type, int, represents whole numbers of unlimited range.\n",
    "\n",
    "Floating point numbers are represented by the native double precision floating point representation of the machine. \n",
    "\n",
    "Complex numbers are represented by two floating point numbers. They are\n",
    "assigned using the j operator to signify the imaginary part of the complex number, for example:\n",
    "a = 2+3j\n",
    "We can access the real and imaginary parts with a.real and a.imag, respectively.\n",
    "\n",
    "boolean type - Truthy values v/s Falsy values \n",
    "Truthy values : are values that evaluate to TRUE in a boolean context\n",
    "Falsy values : are values that evaluate to FALSE in the boolean context\n",
    "\n",
    "Falsy values : empty sequences(lists, tuples, strings, dictionaries, sets), zero in every numeric type , None, and False\n",
    "\n",
    "Truthy values : include non-empty sequences , numbers (except 0 in every numeric type), and basically what is not falsy. \n",
    "\n",
    "They can be used to make the code more precise "
   ]
  },
  {
   "cell_type": "markdown",
   "metadata": {},
   "source": [
    "## 5b.1. Representation Error"
   ]
  },
  {
   "cell_type": "code",
   "execution_count": 21,
   "metadata": {},
   "outputs": [
    {
     "data": {
      "text/plain": [
       "0.09999999999999998"
      ]
     },
     "execution_count": 21,
     "metadata": {},
     "output_type": "execute_result"
    }
   ],
   "source": [
    "x=1.0\n",
    "y=0.9\n",
    "x-y"
   ]
  },
  {
   "cell_type": "code",
   "execution_count": 22,
   "metadata": {},
   "outputs": [
    {
     "data": {
      "text/plain": [
       "False"
      ]
     },
     "execution_count": 22,
     "metadata": {},
     "output_type": "execute_result"
    }
   ],
   "source": [
    "1-0.9==0.1"
   ]
  },
  {
   "cell_type": "markdown",
   "metadata": {},
   "source": [
    "It should be noted that the native double precision representation of floating point numbers leads to some unexpected results\n",
    "\n",
    "This is a result of the fact that most decimal fractions are not exactly representable as a binary fraction, which is how most underlying hardware represents floating point numbers.\n",
    "\n",
    "For algorithms or applications where this may be an issue, Python provides a decimal module. \n",
    "\n",
    "This module allows for the exact representation of decimal numbers and facilitates greater control properties such as rounding behavior, number of significant digits, and precision. \n",
    "\n",
    "It defines two objects, a Decimal type, representing decimal numbers, and a\n",
    "Context type, representing various computational parameters such as precision, rounding, and error handling. An example of its usage can be seen in the following snippet:"
   ]
  },
  {
   "cell_type": "code",
   "execution_count": 23,
   "metadata": {},
   "outputs": [
    {
     "data": {
      "text/plain": [
       "Decimal('8.623590000000000026361135497')"
      ]
     },
     "execution_count": 23,
     "metadata": {},
     "output_type": "execute_result"
    }
   ],
   "source": [
    "import decimal\n",
    "\n",
    "x = decimal.Decimal(3.145)\n",
    "y = decimal.Decimal(2.742)\n",
    "\n",
    "x*y"
   ]
  },
  {
   "cell_type": "code",
   "execution_count": 24,
   "metadata": {},
   "outputs": [
    {
     "data": {
      "text/plain": [
       "Decimal('8.624')"
      ]
     },
     "execution_count": 24,
     "metadata": {},
     "output_type": "execute_result"
    }
   ],
   "source": [
    "decimal.getcontext().prec = 4\n",
    "\n",
    "x*y"
   ]
  },
  {
   "cell_type": "markdown",
   "metadata": {},
   "source": [
    "Here we have created a global context and set the precision to 4. The Decimal object can be treated pretty much as you would treat an int or a float. They are subject to all the same mathematical operations and can be used as dictionary keys, placed in sets, and so on. In addition, Decimal objects also have several methods for mathematical operations, such as natural exponents, x.exp(), natural logarithms, x.ln(), and base 10 logarithms, x.log10()."
   ]
  },
  {
   "cell_type": "markdown",
   "metadata": {},
   "source": [
    "Python also has a fractions module that implements a rational number type. The\n",
    "following example shows several ways to create fractions:"
   ]
  },
  {
   "cell_type": "code",
   "execution_count": 25,
   "metadata": {},
   "outputs": [
    {
     "data": {
      "text/plain": [
       "Fraction(1, 2)"
      ]
     },
     "execution_count": 25,
     "metadata": {},
     "output_type": "execute_result"
    }
   ],
   "source": [
    "import fractions\n",
    "\n",
    "fractions.Fraction(0.5)"
   ]
  },
  {
   "cell_type": "markdown",
   "metadata": {},
   "source": [
    "It is also worth mentioning here the NumPy extension. This has types for mathematical objects such as arrays, vectors, and matrixes, and capabilities for linear algebra, calculation of Fourier transforms, eigenvectors, logical operations, and much more."
   ]
  },
  {
   "cell_type": "markdown",
   "metadata": {},
   "source": [
    "NOTE: The maximum float value on a 64 bit computer : move the decimal place 308 places right and the smallest number has 307 zeroes before the decimal place. Python floats have 52 dighits precision which is sufficicent for most purposes.\n",
    "If more precise decimal numbers are rquired then there is Decimal type.\n"
   ]
  },
  {
   "cell_type": "markdown",
   "metadata": {},
   "source": [
    "## 5b.2. Order of precedence of operators"
   ]
  },
  {
   "cell_type": "code",
   "execution_count": null,
   "metadata": {},
   "outputs": [],
   "source": [
    "The operator precedence in Python is listed in the following table. It is in descending order (upper group has higher precedence than the lower ones).\n",
    "\n",
    "Operators\tMeaning\n",
    "()\tParentheses\n",
    "**\tExponent\n",
    "+x, -x, ~x\tUnary plus, Unary minus, Bitwise NOT\n",
    "*, /, //, %\tMultiplication, Division, Floor division, Modulus\n",
    "+, -\tAddition, Subtraction\n",
    "<<, >>\tBitwise shift operators\n",
    "&\tBitwise AND\n",
    "^\tBitwise XOR\n",
    "|\tBitwise OR\n",
    "==, !=, >, >=, <, <=, is, is not, in, not in\tComparisons, Identity, Membership operators\n",
    "not\tLogical NOT\n",
    "and\tLogical AND\n",
    "or\tLogical OR"
   ]
  },
  {
   "cell_type": "markdown",
   "metadata": {},
   "source": [
    "### Note: Overview of Data types and Objects "
   ]
  },
  {
   "cell_type": "markdown",
   "metadata": {},
   "source": [
    "All data types in Python are objects. In fact, pretty much everything is an object in Python, including modules, classes, and functions, as well as literals such as strings and integers.\n",
    "\n",
    "Each object in Python has a type, a value, and an identity. When we write greet = \"hello world\" we are creating an instance of a string object with the value \"hello world\" and the identity of greet. The identity of an object acts as a pointer to the object's location in memory. The type of an object, also known as the object's class, describes the object's internal representation as well as the methods and operations it supports. Once an instance of an object is created, its identity and type cannot be changed.\n",
    "\n",
    "We can get the identity of an object by using the built-in function id(). This returns an identifying integer and on most systems this refers to its memory location, although you should not rely on this in any of your code.\n",
    "\n",
    "Also, there are a number of ways to compare objects, for example:\n",
    "\n",
    "1. if a== b: #a and b have the same value\n",
    "2. if a is b: # if a and b are the same object\n",
    "3. if type(a) is type(b): # a and b are the same type\n",
    "\n",
    "An important distinction needs to be made between mutable and immutable objects. Mutable object's such as lists can have their values changed. They have methods, such as insert() or append(), that change an objects value. Immutable objects, such as strings,cannot have their values changed, so when we run their methods, they simply return avalue rather than change the value of an underlying object. We can, of course, use this value by assigning it to a variable or using it as an argument in a function."
   ]
  },
  {
   "cell_type": "markdown",
   "metadata": {},
   "source": [
    "## 5c. Strings- sequence and immutable"
   ]
  },
  {
   "cell_type": "markdown",
   "metadata": {},
   "source": [
    "Strings are immutable sequence objects, with each character representing an element in the sequence. As with all objects, we use methods to perform operations. Strings, being immutable, do not change the instance; each method simply returns a value. This value can be stored as another variable or given as an argument to a function or method."
   ]
  },
  {
   "cell_type": "markdown",
   "metadata": {},
   "source": [
    "What is String in Python?\n",
    "A string is a sequence of characters.\n",
    "\n",
    "A character is simply a symbol. For example, the English language has 26 characters.\n",
    "\n",
    "Computers do not deal with characters, they deal with numbers (binary). Even though you may see characters on your screen, internally it is stored and manipulated as a combination of 0s and 1s.\n",
    "\n",
    "This conversion of character to a number is called encoding, and the reverse process is decoding. ASCII and Unicode are some of the popular encodings used.\n",
    "\n",
    "In Python, a string is a sequence of Unicode characters. Unicode was introduced to include every character in all languages and bring uniformity in encoding. You can learn about Unicode from Python Unicode."
   ]
  },
  {
   "cell_type": "markdown",
   "metadata": {},
   "source": [
    "Strings, like all sequence types, support indexing and slicing. We can retrieve any character from a string by using its index s[i]. We can retrieve a slice of a string by using s[i:j], where i and j are the start and end points of the slice. We can return an extended slice by using a stride, as in the following: s[i:j:stride]. \n",
    "\n",
    "The following code should make this clear:"
   ]
  },
  {
   "cell_type": "markdown",
   "metadata": {},
   "source": [
    "## 5c.1 Indexing and Slicing of String object"
   ]
  },
  {
   "cell_type": "code",
   "execution_count": 26,
   "metadata": {},
   "outputs": [
    {
     "name": "stdout",
     "output_type": "stream",
     "text": [
      "str =  programiz\n",
      "str[0] =  p\n",
      "str[-1] =  z\n",
      "str[1:5] =  rogr\n",
      "str[5:-2] =  am\n",
      "str[-3:-1] = mi\n",
      "rgai\n",
      "MTWTFSS\n",
      "zimargorp\n",
      "zmrop\n"
     ]
    }
   ],
   "source": [
    "#Accessing string characters in Python\n",
    "str = 'programiz'\n",
    "print('str = ', str)\n",
    "\n",
    "#first character\n",
    "print('str[0] = ', str[0])\n",
    "\n",
    "#last character\n",
    "print('str[-1] = ', str[-1])\n",
    "\n",
    "#slicing 2nd to 5th character\n",
    "print('str[1:5] = ', str[1:5])\n",
    "\n",
    "#slicing 6th to 2nd last character\n",
    "print('str[5:-2] = ', str[5:-2])\n",
    "\n",
    "print('str[-3:-1] =', str[-3:-1])\n",
    "\n",
    "print(str[1::2])\n",
    "\n",
    "days = \"Mon, Tue, Wed, Thu, Fri, Sat, Sun\"\n",
    "print(days[::5]) # prints M then character at index 0+5 = 5 i.e T then character\n",
    "# at 5+5 = 10 i.e W & so on....\n",
    "\n",
    "print(str[::-1])  # slicing backwards over entire range \n",
    "print(str[::-2])  # slicing backwards over entire range with a stride of 2 "
   ]
  },
  {
   "cell_type": "code",
   "execution_count": 27,
   "metadata": {},
   "outputs": [
    {
     "data": {
      "text/plain": [
       "'abdef'"
      ]
     },
     "execution_count": 27,
     "metadata": {},
     "output_type": "execute_result"
    }
   ],
   "source": [
    "f = \"abcef\"\n",
    "f = f[:2]+'d'+f[3:]\n",
    "f"
   ]
  },
  {
   "cell_type": "markdown",
   "metadata": {},
   "source": [
    "## 5c.2 Strings - Immutable objects?"
   ]
  },
  {
   "cell_type": "markdown",
   "metadata": {},
   "source": [
    "#How to change or delete a string?\n",
    "\n",
    "Strings are immutable. This means that elements of a string cannot be changed once they have been assigned. We can simply reassign different strings to the same name.\n",
    "\n",
    "We cannot delete or remove characters from a string. But deleting the string entirely is possible using the del keyword."
   ]
  },
  {
   "cell_type": "markdown",
   "metadata": {},
   "source": [
    "## 5c.3 Concatenation of Strings with strings & numbers"
   ]
  },
  {
   "cell_type": "markdown",
   "metadata": {},
   "source": [
    "#Concatenation of Two or More Strings\n",
    "\n",
    "Joining of two or more strings into a single one is called concatenation.\n",
    "\n",
    "The + operator does this in Python. Simply writing two string literals together also concatenates them.\n",
    "\n",
    "The * operator can be used to repeat the string for a given number of times.\n",
    "\n"
   ]
  },
  {
   "cell_type": "code",
   "execution_count": 1,
   "metadata": {},
   "outputs": [
    {
     "name": "stdout",
     "output_type": "stream",
     "text": [
      "str1 + str2 =  HelloWorld!\n",
      "My age is 24 years\n",
      "My age is 24 years\n",
      "There are 31 days in Jan, Mar, May, Jul, Aug, Oct, Dec\n",
      "Jan: 31, Feb: 28, Mar: 31, Apr: 30, May: 31, Jun: 30, Jul: 31, Sep: 30, Oct: 31, Nov: 30, Dec: 31\n",
      "\n",
      "Jan: 31\n",
      "Feb: 28\n",
      "Mar: 31\n",
      "Apr: 30\n",
      "May: 31\n",
      "Jun: 30\n",
      "Jul: 31\n",
      "Sep: 30\n",
      "Oct: 31\n",
      "Nov: 30\n",
      "Dec: 31\n",
      "No. 1 squared is 1 and cubed is 1\n",
      "No. 2 squared is 4 and cubed is 8\n",
      "No. 3 squared is 9 and cubed is 27\n",
      "No. 4 squared is 16 and cubed is 64\n",
      "No. 5 squared is 25 and cubed is 125\n",
      "No. 6 squared is 36 and cubed is 216\n",
      "No. 7 squared is 49 and cubed is 343\n",
      "No. 8 squared is 64 and cubed is 512\n",
      "No. 9 squared is 81 and cubed is 729\n",
      "No. 10 squared is 100 and cubed is 1000\n",
      "No. 11 squared is 121 and cubed is 1331\n",
      "No. 12 squared is 144 and cubed is 1728\n",
      "\n",
      "No.  1 squared is   1 and cubed is    1\n",
      "No.  2 squared is   4 and cubed is    8\n",
      "No.  3 squared is   9 and cubed is   27\n",
      "No.  4 squared is  16 and cubed is   64\n",
      "No.  5 squared is  25 and cubed is  125\n",
      "No.  6 squared is  36 and cubed is  216\n",
      "No.  7 squared is  49 and cubed is  343\n",
      "No.  8 squared is  64 and cubed is  512\n",
      "No.  9 squared is  81 and cubed is  729\n",
      "No. 10 squared is 100 and cubed is 1000\n",
      "No. 11 squared is 121 and cubed is 1331\n",
      "No. 12 squared is 144 and cubed is 1728\n",
      "\n",
      "No.  1 squared is 1   and cubed is 1   \n",
      "No.  2 squared is 4   and cubed is 8   \n",
      "No.  3 squared is 9   and cubed is 27  \n",
      "No.  4 squared is 16  and cubed is 64  \n",
      "No.  5 squared is 25  and cubed is 125 \n",
      "No.  6 squared is 36  and cubed is 216 \n",
      "No.  7 squared is 49  and cubed is 343 \n",
      "No.  8 squared is 64  and cubed is 512 \n",
      "No.  9 squared is 81  and cubed is 729 \n",
      "No. 10 squared is 100 and cubed is 1000\n",
      "No. 11 squared is 121 and cubed is 1331\n",
      "No. 12 squared is 144 and cubed is 1728\n",
      "\n",
      "No.  1 squared is  1  and cubed is  1  \n",
      "No.  2 squared is  4  and cubed is  8  \n",
      "No.  3 squared is  9  and cubed is  27 \n",
      "No.  4 squared is 16  and cubed is  64 \n",
      "No.  5 squared is 25  and cubed is 125 \n",
      "No.  6 squared is 36  and cubed is 216 \n",
      "No.  7 squared is 49  and cubed is 343 \n",
      "No.  8 squared is 64  and cubed is 512 \n",
      "No.  9 squared is 81  and cubed is 729 \n",
      "No. 10 squared is 100 and cubed is 1000\n",
      "No. 11 squared is 121 and cubed is 1331\n",
      "No. 12 squared is 144 and cubed is 1728\n",
      "Pi is approximately = 3.142857142857143\n",
      "Pi is approximately =     3.142857\n",
      "Pi is approximately = 3.14285714285714279370154144999105483293533325195312\n",
      "Pi is approximately = 3.14285714285714279370154144999105483293533325195312\n",
      "Pi is approximately =           3.14285714285714279370154144999105483293533325195312\n",
      "Pi is approximately = 3.14285714285714279370154144999105483293533325195312                    \n",
      "My age is 24 years\n",
      "Pi is approximately = 3.14285714285714279370154144999105483293533325195312\n",
      "str1 * 3 = HelloHelloHello\n"
     ]
    }
   ],
   "source": [
    "# Python String Operations\n",
    "str1 = 'Hello'\n",
    "str2 ='World!'\n",
    "\n",
    "# using +\n",
    "print('str1 + str2 = ', str1 + str2)\n",
    "\n",
    "# concatenate string and number \n",
    "## 1st method : COERCING\n",
    "string1 = \"My age is \"\n",
    "age = 24\n",
    "print(string1 + str(age) + \" years\")\n",
    "\n",
    "## 2nd Method - REPLACEMENT by .format\n",
    "print(\"My age is {0} years\".format(age))\n",
    "\n",
    "print(\"There are {0} days in {1}, {2}, {3}, {4}, {5}, {6}, {7}\"\n",
    "      .format(31,\"Jan\",\"Mar\",\"May\",\"Jul\",\"Aug\",\"Oct\",\"Dec\"))\n",
    "### {} - values within curly braces are called replacement fields. \n",
    "\n",
    "print(\"Jan: {2}, Feb: {0}, Mar: {2}, Apr: {1}, May: {2}, Jun: {1}, Jul: {2}, Sep: {1}, Oct: {2}, Nov: {1}, Dec: {2}\"\n",
    "      .format(28, 30, 31))\n",
    "\n",
    "print()\n",
    "\n",
    "print(\"\"\"Jan: {2}\n",
    "Feb: {0}\n",
    "Mar: {2}\n",
    "Apr: {1}\n",
    "May: {2}\n",
    "Jun: {1}\n",
    "Jul: {2}\n",
    "Sep: {1}\n",
    "Oct: {2}\n",
    "Nov: {1}\n",
    "Dec: {2}\"\"\".format(28, 30, 31))\n",
    "\n",
    "# formatting strings\n",
    "\n",
    "for i in range(1,13):\n",
    "    print(\"No. {0} squared is {1} and cubed is {2}\".format(i, i**2 , i**3))\n",
    "# however this above statement produces o/p which is not perfectly lined up\n",
    "# hence we use formatting by setting up width in each replacement field \n",
    "\n",
    "print()\n",
    "\n",
    "for i in range(1,13):\n",
    "    print(\"No. {0:2} squared is {1:3} and cubed is {2:4}\".format(i, i**2 , i**3))\n",
    "print()\n",
    "\n",
    "## for left allignment use < symmbol \n",
    "for i in range(1,13):\n",
    "    print(\"No. {0:2} squared is {1:<3} and cubed is {2:<4}\".format(i, i**2 , i**3))\n",
    "    \n",
    "print()   \n",
    "\n",
    "## for center allignment use ^ symbol\n",
    "for i in range(1,13):\n",
    "    print(\"No. {0:2} squared is {1:^3} and cubed is {2:^4}\".format(i, i**2 , i**3))\n",
    "\n",
    "## for decimal values \n",
    "print(\"Pi is approximately = {0:12}\".format(22/7))\n",
    "print(\"Pi is approximately = {0:12f}\".format(22/7))\n",
    "print(\"Pi is approximately = {0:12.50f}\".format(22/7))\n",
    "print(\"Pi is approximately = {0:<52.50f}\".format(22/7))\n",
    "print(\"Pi is approximately = {0:62.50f}\".format(22/7))\n",
    "print(\"Pi is approximately = {0:<72.50f}\".format(22/7))\n",
    "\n",
    "\n",
    "#f strings\n",
    "age = 24\n",
    "print(f\"My age is {age} years\")\n",
    "\n",
    "print(f\"Pi is approximately = {22/7:12.50f}\")\n",
    "\n",
    "# using *\n",
    "print('str1 * 3 =', str1 * 3)"
   ]
  },
  {
   "cell_type": "markdown",
   "metadata": {},
   "source": [
    "Writing two string literals together also concatenates them like + operator.\n",
    "\n",
    "If we want to concatenate strings in different lines, we can use parentheses."
   ]
  },
  {
   "cell_type": "code",
   "execution_count": 2,
   "metadata": {},
   "outputs": [
    {
     "name": "stdout",
     "output_type": "stream",
     "text": [
      "Hello World\n",
      "Hello World\n"
     ]
    }
   ],
   "source": [
    "s = 'Hello'' ''World'\n",
    "print(s) \n",
    "\n",
    "s = ('Hello'\n",
    "     ' '\n",
    "     'World')\n",
    "print(s)"
   ]
  },
  {
   "cell_type": "code",
   "execution_count": 12,
   "metadata": {},
   "outputs": [
    {
     "name": "stdout",
     "output_type": "stream",
     "text": [
      "3 letters found\n"
     ]
    }
   ],
   "source": [
    "# Iterating through a string\n",
    "count = 0\n",
    "for letter in 'Hello World':\n",
    "    if(letter == 'l'):\n",
    "        count += 1\n",
    "print(count,'letters found')"
   ]
  },
  {
   "cell_type": "markdown",
   "metadata": {},
   "source": [
    "## 5c.4 in & not in - Membership Operators"
   ]
  },
  {
   "cell_type": "code",
   "execution_count": 3,
   "metadata": {},
   "outputs": [
    {
     "data": {
      "text/plain": [
       "True"
      ]
     },
     "execution_count": 3,
     "metadata": {},
     "output_type": "execute_result"
    }
   ],
   "source": [
    "'a' in 'program'\n",
    "# True"
   ]
  },
  {
   "cell_type": "code",
   "execution_count": 15,
   "metadata": {},
   "outputs": [
    {
     "data": {
      "text/plain": [
       "False"
      ]
     },
     "execution_count": 15,
     "metadata": {},
     "output_type": "execute_result"
    }
   ],
   "source": [
    "'at' not in 'battle'\n",
    "# False"
   ]
  },
  {
   "cell_type": "markdown",
   "metadata": {},
   "source": [
    "Built-in functions to Work with Python\n",
    "Various built-in functions that work with sequence work with strings as well.\n",
    "\n",
    "Some of the commonly used ones are enumerate() and len(). The enumerate() function returns an enumerate object. It contains the index and value of all the items in the string as pairs. This can be useful for iteration.\n",
    "\n",
    "Similarly, len() returns the length (number of characters) of the string."
   ]
  },
  {
   "cell_type": "code",
   "execution_count": 16,
   "metadata": {},
   "outputs": [
    {
     "name": "stdout",
     "output_type": "stream",
     "text": [
      "list(enumerate(str) =  [(0, 'c'), (1, 'o'), (2, 'l'), (3, 'd')]\n",
      "len(str) =  4\n"
     ]
    }
   ],
   "source": [
    "str = 'cold'\n",
    "\n",
    "# enumerate()\n",
    "list_enumerate = list(enumerate(str))\n",
    "print('list(enumerate(str) = ', list_enumerate)\n",
    "\n",
    "#character count\n",
    "print('len(str) = ', len(str))"
   ]
  },
  {
   "cell_type": "code",
   "execution_count": 7,
   "metadata": {},
   "outputs": [
    {
     "name": "stdout",
     "output_type": "stream",
     "text": [
      "The value for index 0 is e\n",
      "The value for index 1 is n\n",
      "The value for index 2 is u\n",
      "The value for index 3 is m\n",
      "The value for index 4 is e\n",
      "The value for index 5 is r\n",
      "The value for index 6 is a\n",
      "The value for index 7 is t\n",
      "The value for index 8 is e\n"
     ]
    },
    {
     "data": {
      "text/plain": [
       "<enumerate at 0x36cc7a8>"
      ]
     },
     "execution_count": 7,
     "metadata": {},
     "output_type": "execute_result"
    }
   ],
   "source": [
    "string = \"enumerate\"\n",
    "for i,j in enumerate(string):\n",
    "    print(\"The value for index {0} is {1}\".format(i,j))"
   ]
  },
  {
   "cell_type": "raw",
   "metadata": {},
   "source": [
    "Methods: syntax is : object.method(arguments)\n",
    "'capitalize',\n",
    " 'casefold',\n",
    " 'center',\n",
    " 'count',\n",
    " 'encode',\n",
    " 'endswith',\n",
    " 'expandtabs',\n",
    " 'find',\n",
    " 'format',\n",
    " 'format_map',\n",
    " 'index',\n",
    " 'isalnum',\n",
    " 'isalpha',\n",
    " 'isascii',\n",
    " 'isdecimal',\n",
    " 'isdigit',\n",
    " 'isidentifier',\n",
    " 'islower',\n",
    " 'isnumeric',\n",
    " 'isprintable',\n",
    " 'isspace',\n",
    " 'istitle',\n",
    " 'isupper',\n",
    " 'join',\n",
    " 'ljust',\n",
    " 'lower',\n",
    " 'lstrip',\n",
    " 'maketrans',\n",
    " 'partition',\n",
    " 'replace',\n",
    " 'rfind',\n",
    " 'rindex',\n",
    " 'rjust',\n",
    " 'rpartition',\n",
    " 'rsplit',\n",
    " 'rstrip',\n",
    " 'split',\n",
    " 'splitlines',\n",
    " 'startswith',\n",
    " 'strip',\n",
    " 'swapcase',\n",
    " 'title',\n",
    " 'translate',\n",
    " 'upper',\n",
    " 'zfill'  "
   ]
  },
  {
   "cell_type": "markdown",
   "metadata": {},
   "source": [
    "## 5c.5 Methods in strings"
   ]
  },
  {
   "cell_type": "markdown",
   "metadata": {},
   "source": [
    "### 5c.5.1 str.count(3)"
   ]
  },
  {
   "cell_type": "code",
   "execution_count": 49,
   "metadata": {},
   "outputs": [
    {
     "data": {
      "text/plain": [
       "3"
      ]
     },
     "execution_count": 49,
     "metadata": {},
     "output_type": "execute_result"
    }
   ],
   "source": [
    "# a.count(substring,[start,end]) :Counts the occurrences of a substring with\n",
    "# optional start and end parameters.\n",
    "\n",
    "a = 'abcabcabcabb'\n",
    "a.count('a',3,10) # index starts from 0 and if the end in at index i then \n",
    "                  # it counts upto index (i-1)\n"
   ]
  },
  {
   "cell_type": "code",
   "execution_count": 50,
   "metadata": {},
   "outputs": [
    {
     "data": {
      "text/plain": [
       "4"
      ]
     },
     "execution_count": 50,
     "metadata": {},
     "output_type": "execute_result"
    }
   ],
   "source": [
    "a.count('b',3) # counts from index 3 to last index "
   ]
  },
  {
   "cell_type": "code",
   "execution_count": 1,
   "metadata": {},
   "outputs": [
    {
     "name": "stdout",
     "output_type": "stream",
     "text": [
      "amanaa\n",
      "ammana\n",
      "False\n"
     ]
    }
   ],
   "source": [
    "# Example of method count() : ANAGRAMS\n",
    "\n",
    "# Two words are called anagrams if they have the exact same letters but in a \n",
    "# different order. For example, 'night' and 'thing' are anagrams.\n",
    "\n",
    "# Can you write a code to find out if two strings are anagrams or no?\n",
    "\n",
    "\n",
    "#take input here\n",
    "s1 = input()\n",
    "s2 = input()\n",
    "\n",
    "#code here to check if they are anagrams or no\n",
    "\n",
    "def anagram(s1,s2):\n",
    "    #if length doesnt match then they are definitely not anagrams\n",
    "    if len(s1)!=len(s2):\n",
    "        return False\n",
    "    \n",
    "    #we will check count of each character one by one\n",
    "    for i in range(len(s1)):\n",
    "        if s1.count(s1[i]) != s2.count(s1[i]):\n",
    "            return False\n",
    "   #if we come out of the for loop means we didnt exit the function in loop\n",
    "   #remember we exit the function when we return\n",
    "   #this means there was no occurance where s1.count(s1[i]) != s2.count(s1[i]) was True\n",
    "   #this means the strings are anagrams\n",
    "    return True\n",
    "\n",
    "print(anagram(s1,s2))\n"
   ]
  },
  {
   "cell_type": "markdown",
   "metadata": {},
   "source": [
    "### 5c.5.2 str.find(3)"
   ]
  },
  {
   "cell_type": "code",
   "execution_count": 56,
   "metadata": {},
   "outputs": [],
   "source": [
    "# s.find(substring, [start, end]) Returns the index of the first occurrence of \n",
    "# a substring or returns -1 if the substring is not found"
   ]
  },
  {
   "cell_type": "code",
   "execution_count": 57,
   "metadata": {},
   "outputs": [
    {
     "name": "stdout",
     "output_type": "stream",
     "text": [
      "Substring 'let it': 11\n",
      "Substring 'small ': -1\n",
      "Contains substring 'be,'\n"
     ]
    }
   ],
   "source": [
    "quote = 'Let it be, let it be, let it be'\n",
    "\n",
    "# first occurance of 'let it'(case sensitive)\n",
    "result = quote.find('let it')\n",
    "print(\"Substring 'let it':\", result)\n",
    "\n",
    "# find returns -1 if substring not found\n",
    "result = quote.find('small')\n",
    "print(\"Substring 'small ':\", result)\n",
    "\n",
    "# How to use find()\n",
    "if (quote.find('be,') != -1):\n",
    "    print(\"Contains substring 'be,'\")\n",
    "else:\n",
    "    print(\"Doesn't contain substring\")"
   ]
  },
  {
   "cell_type": "code",
   "execution_count": 58,
   "metadata": {},
   "outputs": [
    {
     "name": "stdout",
     "output_type": "stream",
     "text": [
      "-1\n",
      "3\n",
      "-1\n",
      "9\n"
     ]
    }
   ],
   "source": [
    "quote = 'Do small things with great love'\n",
    "\n",
    "# Substring is searched in 'hings with great love'\n",
    "print(quote.find('small things', 10))\n",
    "\n",
    "# Substring is searched in ' small things with great love' \n",
    "print(quote.find('small things', 2))\n",
    "\n",
    "# Substring is searched in 'hings with great lov'\n",
    "print(quote.find('o small ', 10, -1))\n",
    "\n",
    "# Substring is searched in 'll things with'\n",
    "print(quote.find('things ', 6, 20))"
   ]
  },
  {
   "cell_type": "markdown",
   "metadata": {},
   "source": [
    "### 5c.5.3 str.rfind(3)"
   ]
  },
  {
   "cell_type": "markdown",
   "metadata": {},
   "source": [
    "rfind() Parameters\n",
    "\n",
    "rfind() method takes a maximum of three parameters:\n",
    "\n",
    "sub - It's the substring to be searched in the str string.\n",
    "start and end (optional) - substring is searched within str[start:end]\n",
    "\n",
    "Return Value from rfind()\n",
    "\n",
    "rfind() method returns an integer value.\n",
    "\n",
    "If substring exists inside the string, it returns the highest index where substring is found.\n",
    "If substring doesn't exist inside the string, it returns -1.\n",
    "How find() and rfind() works in Python?"
   ]
  },
  {
   "cell_type": "code",
   "execution_count": 59,
   "metadata": {},
   "outputs": [
    {
     "name": "stdout",
     "output_type": "stream",
     "text": [
      "Substring 'let it': 22\n",
      "Substring 'small ': -1\n",
      "Highest index where 'be,' occurs: 18\n"
     ]
    }
   ],
   "source": [
    "quote = 'Let it be, let it be, let it be'\n",
    "\n",
    "result = quote.rfind('let it')\n",
    "print(\"Substring 'let it':\", result)\n",
    "\n",
    "result = quote.rfind('small')\n",
    "print(\"Substring 'small ':\", result)\n",
    "\n",
    "result = quote.rfind('be,')\n",
    "if  (result != -1):\n",
    "  print(\"Highest index where 'be,' occurs:\", result)\n",
    "else:\n",
    "  print(\"Doesn't contain substring\")"
   ]
  },
  {
   "cell_type": "code",
   "execution_count": 60,
   "metadata": {},
   "outputs": [
    {
     "name": "stdout",
     "output_type": "stream",
     "text": [
      "-1\n",
      "25\n",
      "-1\n",
      "18\n"
     ]
    }
   ],
   "source": [
    "quote = 'Do small things with great love'\n",
    "\n",
    "# Substring is searched in 'hings with great love'\n",
    "print(quote.rfind('things', 10))\n",
    "\n",
    "# Substring is searched in ' small things with great love' \n",
    "print(quote.rfind('t', 2))\n",
    "\n",
    "# Substring is searched in 'hings with great lov'\n",
    "print(quote.rfind('o small ', 10, -1))\n",
    "\n",
    "# Substring is searched in 'll things with'\n",
    "print(quote.rfind('th', 6, 20))"
   ]
  },
  {
   "cell_type": "code",
   "execution_count": 70,
   "metadata": {},
   "outputs": [
    {
     "name": "stdout",
     "output_type": "stream",
     "text": [
      "Substring 'is fun': 19\n",
      "Substring 'is fun': 33\n"
     ]
    },
    {
     "ename": "ValueError",
     "evalue": "substring not found",
     "output_type": "error",
     "traceback": [
      "\u001b[1;31m---------------------------------------------------------------------------\u001b[0m",
      "\u001b[1;31mValueError\u001b[0m                                Traceback (most recent call last)",
      "\u001b[1;32m<ipython-input-70-b8ab08fd4b0e>\u001b[0m in \u001b[0;36m<module>\u001b[1;34m\u001b[0m\n\u001b[0;32m      7\u001b[0m \u001b[0mprint\u001b[0m\u001b[1;33m(\u001b[0m\u001b[1;34m\"Substring 'is fun':\"\u001b[0m\u001b[1;33m,\u001b[0m \u001b[0mresult\u001b[0m\u001b[1;33m)\u001b[0m\u001b[1;33m\u001b[0m\u001b[1;33m\u001b[0m\u001b[0m\n\u001b[0;32m      8\u001b[0m \u001b[1;33m\u001b[0m\u001b[0m\n\u001b[1;32m----> 9\u001b[1;33m \u001b[0mresult\u001b[0m \u001b[1;33m=\u001b[0m \u001b[0msentence\u001b[0m\u001b[1;33m.\u001b[0m\u001b[0mindex\u001b[0m\u001b[1;33m(\u001b[0m\u001b[1;34m'java'\u001b[0m\u001b[1;33m)\u001b[0m\u001b[1;33m\u001b[0m\u001b[1;33m\u001b[0m\u001b[0m\n\u001b[0m\u001b[0;32m     10\u001b[0m \u001b[0mprint\u001b[0m\u001b[1;33m(\u001b[0m\u001b[1;34m\"Substring 'is fun':\"\u001b[0m\u001b[1;33m,\u001b[0m \u001b[0mresult\u001b[0m\u001b[1;33m)\u001b[0m\u001b[1;33m\u001b[0m\u001b[1;33m\u001b[0m\u001b[0m\n",
      "\u001b[1;31mValueError\u001b[0m: substring not found"
     ]
    }
   ],
   "source": [
    "sentence = 'Python programming is fun is fun is fun'\n",
    "\n",
    "result = sentence.index('is fun') # returns the 1st index ecountered \n",
    "print(\"Substring 'is fun':\", result)\n",
    "\n",
    "result = sentence.rindex('is fun') # returns the last index encountered.\n",
    "print(\"Substring 'is fun':\", result)\n",
    "\n",
    "result = sentence.index('java')\n",
    "print(\"Substring 'is fun':\", result)"
   ]
  },
  {
   "cell_type": "markdown",
   "metadata": {},
   "source": [
    "### 5c.5.4 str.endswith(3)"
   ]
  },
  {
   "cell_type": "markdown",
   "metadata": {},
   "source": [
    "endswith() Parameters\n",
    "The endswith() takes three parameters:\n",
    "\n",
    "suffix - String or tuple of suffixes to be checked\n",
    "start (optional) - Beginning position where suffix is to be checked within the string.\n",
    "end (optional) - Ending position where suffix is to be checked within the string.\n",
    "Return Value from endswith()\n",
    "The endswith() method returns a boolean.\n",
    "\n",
    "It returns True if strings ends with the specified suffix.\n",
    "It returns False if string doesn't end with the specified suffix."
   ]
  },
  {
   "cell_type": "code",
   "execution_count": 71,
   "metadata": {},
   "outputs": [
    {
     "name": "stdout",
     "output_type": "stream",
     "text": [
      "False\n",
      "True\n",
      "True\n"
     ]
    }
   ],
   "source": [
    "text = \"Python is easy to learn.\"\n",
    "\n",
    "result = text.endswith('to learn')\n",
    "# returns False\n",
    "print(result)\n",
    "\n",
    "result = text.endswith('to learn.')\n",
    "# returns True\n",
    "print(result)\n",
    "\n",
    "result = text.endswith('Python is easy to learn.')\n",
    "# returns True\n",
    "print(result)"
   ]
  },
  {
   "cell_type": "code",
   "execution_count": 72,
   "metadata": {},
   "outputs": [
    {
     "name": "stdout",
     "output_type": "stream",
     "text": [
      "True\n",
      "False\n",
      "True\n"
     ]
    }
   ],
   "source": [
    "text = \"Python programming is easy to learn.\"\n",
    "\n",
    "# start parameter: 7\n",
    "# \"programming is easy to learn.\" string is searched\n",
    "result = text.endswith('learn.', 7)\n",
    "print(result)\n",
    "\n",
    "# Both start and end is provided\n",
    "# start: 7, end: 26\n",
    "# \"programming is easy\" string is searched\n",
    "\n",
    "result = text.endswith('is', 7, 26)\n",
    "# Returns False\n",
    "print(result)\n",
    "\n",
    "result = text.endswith('easy', 7, 26)\n",
    "# returns True\n",
    "print(result)"
   ]
  },
  {
   "cell_type": "markdown",
   "metadata": {},
   "source": [
    "Passing Tuple to endswith()\n",
    "\n",
    "It's possible to pass a tuple suffixes to the endswith() method in Python.\n",
    "\n",
    "If the string ends with any item of the tuple, endswith() returns True. If not, it returns False\n",
    "\n"
   ]
  },
  {
   "cell_type": "code",
   "execution_count": 73,
   "metadata": {},
   "outputs": [
    {
     "name": "stdout",
     "output_type": "stream",
     "text": [
      "False\n",
      "True\n",
      "True\n"
     ]
    }
   ],
   "source": [
    "text = \"programming is easy\"\n",
    "result = text.endswith(('programming', 'python'))\n",
    "\n",
    "# prints False\n",
    "print(result)\n",
    "\n",
    "result = text.endswith(('python', 'easy', 'java'))\n",
    "\n",
    "#prints True\n",
    "print(result)\n",
    "\n",
    "# With start and end parameter\n",
    "# 'programming is' string is checked\n",
    "result = text.endswith(('is', 'an'), 0, 14)\n",
    "\n",
    "# prints True\n",
    "print(result)"
   ]
  },
  {
   "cell_type": "markdown",
   "metadata": {},
   "source": [
    "### 5c.5.5 str.startswith(3)"
   ]
  },
  {
   "cell_type": "markdown",
   "metadata": {},
   "source": [
    "startswith() Parameters\n",
    "startswith() method takes a maximum of three parameters:\n",
    "\n",
    "prefix - String or tuple of strings to be checked\n",
    "start (optional) - Beginning position where prefix is to be checked within the string.\n",
    "end (optional) - Ending position where prefix is to be checked within the string.\n",
    "Return Value from startswith()\n",
    "startswith() method returns a boolean.\n",
    "\n",
    "It returns True if the string starts with the specified prefix.\n",
    "It returns False if the string doesn't start with the specified prefix."
   ]
  },
  {
   "cell_type": "code",
   "execution_count": 75,
   "metadata": {},
   "outputs": [
    {
     "name": "stdout",
     "output_type": "stream",
     "text": [
      "False\n",
      "True\n",
      "True\n"
     ]
    }
   ],
   "source": [
    "text = \"Python is easy to learn.\"\n",
    "\n",
    "result = text.startswith('is easy')\n",
    "# returns False\n",
    "print(result)\n",
    "\n",
    "result = text.startswith('Python is ')\n",
    "# returns True\n",
    "print(result)\n",
    "\n",
    "result = text.startswith('Python is easy to learn.')\n",
    "# returns True\n",
    "print(result)"
   ]
  },
  {
   "cell_type": "code",
   "execution_count": 76,
   "metadata": {},
   "outputs": [
    {
     "name": "stdout",
     "output_type": "stream",
     "text": [
      "True\n",
      "False\n",
      "True\n"
     ]
    }
   ],
   "source": [
    "text = \"Python programming is easy.\"\n",
    "\n",
    "# start parameter: 7\n",
    "# 'programming is easy.' string is searched\n",
    "result = text.startswith('programming is', 7)\n",
    "print(result)\n",
    "\n",
    "# start: 7, end: 18\n",
    "# 'programming' string is searched\n",
    "result = text.startswith('programming is', 7, 18)\n",
    "print(result)\n",
    "\n",
    "result = text.startswith('program', 7, 18)\n",
    "print(result)"
   ]
  },
  {
   "cell_type": "code",
   "execution_count": 77,
   "metadata": {},
   "outputs": [
    {
     "name": "stdout",
     "output_type": "stream",
     "text": [
      "True\n",
      "False\n",
      "False\n"
     ]
    }
   ],
   "source": [
    "text = \"programming is easy\"\n",
    "result = text.startswith(('python', 'programming'))\n",
    "\n",
    "# prints True\n",
    "print(result)\n",
    "\n",
    "result = text.startswith(('is', 'easy', 'java'))\n",
    "\n",
    "# prints False\n",
    "print(result)\n",
    "\n",
    "# With start and end parameter\n",
    "# 'is easy' string is checked\n",
    "result = text.startswith(('programming', 'easy'), 12, 19)\n",
    "\n",
    "# prints False\n",
    "print(result)"
   ]
  },
  {
   "cell_type": "markdown",
   "metadata": {},
   "source": [
    "### 5c.5.6 str.split(2)"
   ]
  },
  {
   "cell_type": "markdown",
   "metadata": {},
   "source": [
    "\n",
    "\n",
    "split() Parameters\n",
    "split() method takes a maximum of 2 parameters:\n",
    "\n",
    "separator (optional)- It is a delimiter. The string splits at the specified separator.\n",
    "If the separator is not specified, any whitespace (space, newline etc.) string is a separator.\n",
    "maxsplit (optional) - The maxsplit defines the maximum number of splits.\n",
    "The default value of maxsplit is -1, meaning, no limit on the number of splits.\n",
    "\n",
    "\n",
    "Return Value from split()\n",
    "split() breaks the string at the separator and returns a list of strings.The split() method breaks up a string at the specified separator and returns a list of strings.\n",
    "\n"
   ]
  },
  {
   "cell_type": "code",
   "execution_count": 17,
   "metadata": {},
   "outputs": [
    {
     "name": "stdout",
     "output_type": "stream",
     "text": [
      "['Love', 'thy', 'neighbor']\n",
      "['Milk', 'Chicken', 'Bread']\n",
      "['Milk, Chicken, Bread']\n"
     ]
    }
   ],
   "source": [
    "text= 'Love thy neighbor'\n",
    "\n",
    "# splits at space\n",
    "print(text.split())\n",
    "\n",
    "grocery = 'Milk, Chicken, Bread'\n",
    "\n",
    "# splits at ','\n",
    "print(grocery.split(', '))\n",
    "\n",
    "# Splitting at ':'\n",
    "print(grocery.split(':'))"
   ]
  },
  {
   "cell_type": "code",
   "execution_count": 79,
   "metadata": {},
   "outputs": [
    {
     "name": "stdout",
     "output_type": "stream",
     "text": [
      "['Milk', 'Chicken', 'Bread, Butter']\n",
      "['Milk', 'Chicken, Bread, Butter']\n",
      "['Milk', 'Chicken', 'Bread', 'Butter']\n",
      "['Milk, Chicken, Bread, Butter']\n"
     ]
    }
   ],
   "source": [
    "grocery = 'Milk, Chicken, Bread, Butter'\n",
    "\n",
    "# maxsplit: 2\n",
    "print(grocery.split(', ', 2))\n",
    "\n",
    "# maxsplit: 1\n",
    "print(grocery.split(', ', 1))\n",
    "\n",
    "# maxsplit: 5\n",
    "print(grocery.split(', ', 5))\n",
    "\n",
    "# maxsplit: 0\n",
    "print(grocery.split(', ', 0))"
   ]
  },
  {
   "cell_type": "markdown",
   "metadata": {},
   "source": [
    "### 5c.5.7 str.rsplit(2)"
   ]
  },
  {
   "cell_type": "markdown",
   "metadata": {},
   "source": [
    "rsplit() Parameters\n",
    "rsplit() method takes maximum of 2 parameters:\n",
    "\n",
    "separator (optional)- The is a delimiter. rsplit() method splits string starting from the right at the specified separator.\n",
    "If the separator is not specified, any whitespace (space, newline etc.) string is a separator.\n",
    "maxsplit (optional) - The maxsplit defines the maximum number of splits.\n",
    "The default value of maxsplit is -1, meaning, no limit on the number of splits.\n",
    "\n",
    "\n",
    "Return Value from rsplit()\n",
    "rsplit() breaks the string at the separator starting from the right and returns a list of strings."
   ]
  },
  {
   "cell_type": "code",
   "execution_count": 80,
   "metadata": {},
   "outputs": [
    {
     "name": "stdout",
     "output_type": "stream",
     "text": [
      "['Love', 'thy', 'neighbor']\n",
      "['Milk', 'Chicken', 'Bread']\n",
      "['Milk, Chicken, Bread']\n"
     ]
    }
   ],
   "source": [
    "text= 'Love thy neighbor'\n",
    "\n",
    "# splits at space\n",
    "print(text.rsplit())\n",
    "\n",
    "grocery = 'Milk, Chicken, Bread'\n",
    "\n",
    "# splits at ','\n",
    "print(grocery.rsplit(', '))\n",
    "\n",
    "# Splitting at ':'\n",
    "print(grocery.rsplit(':'))"
   ]
  },
  {
   "cell_type": "raw",
   "metadata": {},
   "source": [
    "When maxsplit is not specified, rsplit() behaves like split().\n",
    "\n"
   ]
  },
  {
   "cell_type": "code",
   "execution_count": 81,
   "metadata": {},
   "outputs": [
    {
     "name": "stdout",
     "output_type": "stream",
     "text": [
      "['Milk, Chicken', 'Bread', 'Butter']\n",
      "['Milk, Chicken, Bread', 'Butter']\n",
      "['Milk', 'Chicken', 'Bread', 'Butter']\n",
      "['Milk, Chicken, Bread, Butter']\n"
     ]
    }
   ],
   "source": [
    "grocery = 'Milk, Chicken, Bread, Butter'\n",
    "\n",
    "# maxsplit: 2\n",
    "print(grocery.rsplit(', ', 2))\n",
    "\n",
    "# maxsplit: 1\n",
    "print(grocery.rsplit(', ', 1))\n",
    "\n",
    "# maxsplit: 5\n",
    "print(grocery.rsplit(', ', 5))\n",
    "\n",
    "# maxsplit: 0\n",
    "print(grocery.rsplit(', ', 0))"
   ]
  },
  {
   "cell_type": "raw",
   "metadata": {},
   "source": [
    "If maxsplit is specified, the list will have the maximum of maxsplit+1 items."
   ]
  },
  {
   "cell_type": "markdown",
   "metadata": {},
   "source": [
    "### 5c.5.8 str.splitlines(1)"
   ]
  },
  {
   "cell_type": "markdown",
   "metadata": {},
   "source": [
    "The syntax of splitlines() is:\n",
    "\n",
    "str.splitlines([keepends])\n",
    "\n",
    "splitlines() Parameters\n",
    "splitlines() takes maximum of 1 parameter.\n",
    "\n",
    "keepends (optional) - If keepends is provided and True, line breaks are also included in items of the list.\n",
    "\n",
    "By default, the line breaks are not included.\n",
    "\n",
    "Return Value from splitlines()\n",
    "splitlines() returns a list of lines in the string.\n",
    "\n",
    "If there are not line break characters, it returns a list with a single item (a single line).\n",
    "\n",
    "splitlines() splits on the following line boundaries:\n",
    "\n",
    "Representation\tDescription\n",
    "\\n\t            Line Feed\n",
    "\\r\t            Carriage Return\n",
    "\\r\\n\t        Carriage Return + Line Feed\n",
    "\\v or \\x0b\t    Line Tabulation\n",
    "\\f or \\x0c\t    Form Feed\n",
    "\\x1c\t        File Separator\n",
    "\\x1d\t        Group Separator\n",
    "\\x1e\t        Record Separator\n",
    "\\x85\t        Next Line (C1 Control Code)\n",
    "\\u2028\t        Line Separator\n",
    "\\u2029\t        Paragraph Separator"
   ]
  },
  {
   "cell_type": "code",
   "execution_count": 82,
   "metadata": {},
   "outputs": [
    {
     "name": "stdout",
     "output_type": "stream",
     "text": [
      "['Milk', 'Chicken', 'Bread', 'Butter']\n",
      "['Milk\\n', 'Chicken\\r\\n', 'Bread\\r', 'Butter']\n",
      "['Milk Chicken Bread Butter']\n"
     ]
    }
   ],
   "source": [
    "grocery = 'Milk\\nChicken\\r\\nBread\\rButter'\n",
    "\n",
    "print(grocery.splitlines())\n",
    "print(grocery.splitlines(True))\n",
    "\n",
    "grocery = 'Milk Chicken Bread Butter'\n",
    "print(grocery.splitlines())"
   ]
  },
  {
   "cell_type": "markdown",
   "metadata": {},
   "source": [
    "### 5c.5.9 str.strip(1)"
   ]
  },
  {
   "cell_type": "markdown",
   "metadata": {},
   "source": [
    "Python String strip()\n",
    "The strip() method returns a copy of the string by removing both the leading and the trailing characters (based on the string argument passed).\n",
    "\n",
    "The strip() method removes characters from both left and right based on the argument (a string specifying the set of characters to be removed).\n",
    "\n",
    "The syntax of the strip() method is:\n",
    "\n",
    "string.strip([chars])\n",
    "\n",
    "strip() Parameters\n",
    "chars (optional) - a string specifying the set of characters to be removed from the left and right part of the string.\n",
    "If the chars argument is not provided, all leading and trailing whitespaces are removed from the string.\n",
    "\n",
    "Return Value from the strip() method\n",
    "strip() returns a copy of the string with both leading and trailing characters stripped.\n",
    "\n",
    "Working of the strip() method\n",
    "When the character of the string in the left mismatches with all the characters in the chars argument, it stops removing the leading characters.\n",
    "Similarly, when the character of the string in the right mismatches with all the characters in the chars argument, it stops removing the trailing characters.\n"
   ]
  },
  {
   "cell_type": "code",
   "execution_count": 22,
   "metadata": {},
   "outputs": [
    {
     "name": "stdout",
     "output_type": "stream",
     "text": [
      "xoxo love xoxo\n",
      "lov\n",
      "  xoxo love xoxo   \n",
      "droid is awesome\n",
      "what is it?\n"
     ]
    }
   ],
   "source": [
    "string = '  xoxo love xoxo   '\n",
    "\n",
    "# Leading and trailing whitespaces are removed\n",
    "print(string.strip())\n",
    "\n",
    "# All <whitespace>,x,o,e characters in the left\n",
    "# and right of string are removed\n",
    "print(string.strip(' xoe'))\n",
    "\n",
    "# Argument doesn't contain space\n",
    "# No characters are removed.\n",
    "print(string.strip('stx'))\n",
    "\n",
    "string = 'android is awesome'\n",
    "print(string.strip('an'))\n",
    "\n",
    "st = '*********what is it?*****'\n",
    "print(st.strip('*'))"
   ]
  },
  {
   "cell_type": "markdown",
   "metadata": {},
   "source": [
    "Here, we can see that the first expression string.strip() without any arguments removed the whitespaces from the left and right of string.\n",
    "\n",
    "string.strip(' xoe') removed all whitespace,x, o, and e that lead or trailed the string.\n",
    "\n",
    "Since string has whitespace at the beginning and end, the expression string.strip('stx') does not change the string. x is not removed since it is at the middle of the string (whitespaces lead and trail the string)\n",
    "\n",
    "string.strip('an') removed an leading the string."
   ]
  },
  {
   "cell_type": "markdown",
   "metadata": {},
   "source": [
    "### 5c.5.10 str.rstrip(1)"
   ]
  },
  {
   "cell_type": "markdown",
   "metadata": {},
   "source": [
    "Python String rstrip()\n",
    "The rstrip() method returns a copy of the string with trailing characters removed (based on the string argument passed).\n",
    "\n",
    "The rstrip() removes characters from the right based on the argument (a string specifying the set of characters to be removed).\n",
    "\n",
    "The syntax of rstrip() is:\n",
    "\n",
    "string.rstrip([chars])\n",
    "\n",
    "rstrip() Parameters\n",
    "chars (optional) - a string specifying the set of characters to be removed.\n",
    "If chars argument is not provided, all whitespaces on the right are removed from the string.\n",
    "\n",
    "Return Value from rstrip() \n",
    "The rstrip() returns a copy of the string with trailing characters stripped.\n",
    "\n",
    "All combinations of characters in chars argument are removed from the right of the string until first mismatch.\n",
    "\n"
   ]
  },
  {
   "cell_type": "code",
   "execution_count": 25,
   "metadata": {},
   "outputs": [
    {
     "name": "stdout",
     "output_type": "stream",
     "text": [
      "this is good\n",
      "this is good\n",
      "this is g\n",
      "www.programiz.co\n",
      "hot weather\n",
      "hot weather!!###$@#::::&&\n"
     ]
    }
   ],
   "source": [
    "random_string = 'this is good   '\n",
    "\n",
    "# Trailing whitepsace are removed\n",
    "print(random_string.rstrip())\n",
    "\n",
    "# Argument doesn't contain 'd', hence No characters are removed.\n",
    "print(random_string.rstrip('si oo'))\n",
    "\n",
    "print(random_string.rstrip('sid oo'))\n",
    "\n",
    "website = 'www.programiz.com/'\n",
    "print(website.rstrip('m/.'))\n",
    "\n",
    "st = 'hot weather!!###$@#::::&&'\n",
    "print(st.rstrip('$!#@&:'))\n",
    "print(st.rstrip('$!#@:')) # since the string ends with '&' , without mentioning\n",
    "#it doesnot yield any result "
   ]
  },
  {
   "cell_type": "markdown",
   "metadata": {},
   "source": [
    "### 5c.5.11 str.lstrip(1)"
   ]
  },
  {
   "cell_type": "markdown",
   "metadata": {},
   "source": [
    "Python String lstrip()\n",
    "The lstrip() method returns a copy of the string with leading characters removed (based on the string argument passed).\n",
    "\n",
    "The lstrip() removes characters from the left based on the argument (a string specifying the set of characters to be removed).\n",
    "\n",
    "The syntax of lstrip() is:\n",
    "\n",
    "string.lstrip([chars])\n",
    "\n",
    "lstrip() Parameters\n",
    "chars (optional) - a string specifying the set of characters to be removed.\n",
    "If chars argument is not provided, all leading whitespaces are removed from the string.\n",
    "\n",
    "Return Value from lstrip() \n",
    "lstrip() returns a copy of the string with leading characters stripped.\n",
    "\n",
    "All combinations of characters in the chars argument are removed from the left of the string until the first mismatch"
   ]
  },
  {
   "cell_type": "code",
   "execution_count": 85,
   "metadata": {},
   "outputs": [
    {
     "name": "stdout",
     "output_type": "stream",
     "text": [
      "this is good \n",
      "   this is good \n",
      "his is good \n",
      "www.programiz.com/\n"
     ]
    }
   ],
   "source": [
    "random_string = '   this is good '\n",
    "\n",
    "# Leading whitepsace are removed\n",
    "print(random_string.lstrip())\n",
    "\n",
    "# Argument doesn't contain space\n",
    "# No characters are removed.\n",
    "print(random_string.lstrip('sti'))\n",
    "\n",
    "print(random_string.lstrip('s ti'))\n",
    "\n",
    "website = 'https://www.programiz.com/'\n",
    "print(website.lstrip('htps:/.'))"
   ]
  },
  {
   "cell_type": "markdown",
   "metadata": {},
   "source": [
    "### 5c.5.12 str.join(iterable)"
   ]
  },
  {
   "cell_type": "markdown",
   "metadata": {},
   "source": [
    "Python String join()\n",
    "The join() string method returns a string by joining all the elements of an iterable, separated by a string separator.\n",
    "\n",
    "The join() method provides a flexible way to create strings from iterable objects. It joins each element of an iterable (such as list, string, and tuple) by a string separator (the string on which the join() method is called) and returns the concatenated string.\n",
    "\n",
    "The syntax of the join() method is:\n",
    "\n",
    "string.join(iterable)\n",
    "\n",
    "Parameters for the join() method\n",
    "The join() method takes an iterable (objects capable of returning its members one at a time) as its parameter.\n",
    "\n",
    "Some of the example of iterables are:\n",
    "\n",
    "Native data types - List, Tuple, String, Dictionary and Set.\n",
    "File objects and objects you define with an __iter__() or __getitem()__ method.\n",
    "\n",
    "Return Value from join() method\n",
    "The join() method returns a string created by joining the elements of an iterable by string separator.\n",
    "\n",
    "\n",
    "If the iterable contains any non-string values, it raises a TypeError exception.\n",
    "\n"
   ]
  },
  {
   "cell_type": "code",
   "execution_count": 86,
   "metadata": {},
   "outputs": [
    {
     "name": "stdout",
     "output_type": "stream",
     "text": [
      "1, 2, 3, 4\n",
      "1, 2, 3, 4\n",
      "s1.join(s2): 1abc2abc3\n",
      "s2.join(s1): a123b123c\n"
     ]
    }
   ],
   "source": [
    "# .join() with lists\n",
    "numList = ['1', '2', '3', '4']\n",
    "separator = ', '\n",
    "print(separator.join(numList))\n",
    "\n",
    "# .join() with tuples\n",
    "numTuple = ('1', '2', '3', '4')\n",
    "print(separator.join(numTuple))\n",
    "\n",
    "s1 = 'abc'\n",
    "s2 = '123'\n",
    "\n",
    "# each element of s2 is separated by s1\n",
    "# '1'+ 'abc'+ '2'+ 'abc'+ '3'\n",
    "print('s1.join(s2):', s1.join(s2))\n",
    "\n",
    "# each element of s1 is separated by s2\n",
    "# 'a'+ '123'+ 'b'+ '123'+ 'b'\n",
    "print('s2.join(s1):', s2.join(s1))"
   ]
  },
  {
   "cell_type": "code",
   "execution_count": 87,
   "metadata": {},
   "outputs": [
    {
     "name": "stdout",
     "output_type": "stream",
     "text": [
      "3, 1, 2\n",
      "Java->->Python->->Ruby\n"
     ]
    }
   ],
   "source": [
    "# .join() with sets\n",
    "test = {'2', '1', '3'}\n",
    "s = ', '\n",
    "print(s.join(test))\n",
    "\n",
    "test = {'Python', 'Java', 'Ruby'}\n",
    "s = '->->'\n",
    "print(s.join(test))"
   ]
  },
  {
   "cell_type": "raw",
   "metadata": {},
   "source": [
    "Note: A set is an unordered collection of items, so you may get different output (order is random)."
   ]
  },
  {
   "cell_type": "code",
   "execution_count": 90,
   "metadata": {},
   "outputs": [
    {
     "name": "stdout",
     "output_type": "stream",
     "text": [
      "mat->that\n"
     ]
    },
    {
     "ename": "TypeError",
     "evalue": "sequence item 0: expected str instance, int found",
     "output_type": "error",
     "traceback": [
      "\u001b[1;31m---------------------------------------------------------------------------\u001b[0m",
      "\u001b[1;31mTypeError\u001b[0m                                 Traceback (most recent call last)",
      "\u001b[1;32m<ipython-input-90-62f183f703ef>\u001b[0m in \u001b[0;36m<module>\u001b[1;34m\u001b[0m\n\u001b[0;32m     10\u001b[0m \u001b[1;33m\u001b[0m\u001b[0m\n\u001b[0;32m     11\u001b[0m \u001b[1;31m# this gives error since key isn't string\u001b[0m\u001b[1;33m\u001b[0m\u001b[1;33m\u001b[0m\u001b[1;33m\u001b[0m\u001b[0m\n\u001b[1;32m---> 12\u001b[1;33m \u001b[0mprint\u001b[0m\u001b[1;33m(\u001b[0m\u001b[0ms\u001b[0m\u001b[1;33m.\u001b[0m\u001b[0mjoin\u001b[0m\u001b[1;33m(\u001b[0m\u001b[0mtest\u001b[0m\u001b[1;33m)\u001b[0m\u001b[1;33m)\u001b[0m\u001b[1;33m\u001b[0m\u001b[1;33m\u001b[0m\u001b[0m\n\u001b[0m",
      "\u001b[1;31mTypeError\u001b[0m: sequence item 0: expected str instance, int found"
     ]
    }
   ],
   "source": [
    "# .join() with dictionaries\n",
    "test = {'mat': 1, 'that': 2}\n",
    "s = '->'\n",
    "\n",
    "# joins the keys only\n",
    "print(s.join(test))\n",
    "\n",
    "test = {1: 'mat', 2: 'that'}\n",
    "s = ', '\n",
    "\n",
    "# this gives error since key isn't string and the join() applies to the key\n",
    "# of the ductionary \n",
    "\n",
    "print(s.join(test))"
   ]
  },
  {
   "cell_type": "markdown",
   "metadata": {},
   "source": [
    "The join() method tries to join the keys (not values) of the dictionary with the string separator.\n",
    "\n",
    "Note: If the key of the string is not a string, it raises a TypeError exception."
   ]
  },
  {
   "cell_type": "markdown",
   "metadata": {},
   "source": [
    "### 5c.5.13 str.partition(1)"
   ]
  },
  {
   "cell_type": "markdown",
   "metadata": {},
   "source": [
    "Python String partition()\n",
    "\n",
    "The partition() method splits the string at the first occurrence of the argument string and returns a tuple containing the part the before separator, argument string and the part after the separator.\n",
    "\n",
    "The syntax of partition() is:\n",
    "\n",
    "string.partition(separator)\n",
    "\n",
    "partition() Parameters()\n",
    "The partition() method takes a string parameter separator that separates the string at the first occurrence of it.\n",
    "\n",
    "Return Value from partition()\n",
    "The partition method returns a 3-tuple containing:\n",
    "\n",
    "the part before the separator, separator parameter, and the part after the separator if the separator parameter is found in the string\n",
    "the string itself and two empty strings if the separator parameter is not found"
   ]
  },
  {
   "cell_type": "code",
   "execution_count": 91,
   "metadata": {},
   "outputs": [
    {
     "name": "stdout",
     "output_type": "stream",
     "text": [
      "('Python ', 'is ', 'fun')\n",
      "('Python is fun', '', '')\n",
      "('Python ', 'is', \" fun, isn't it\")\n"
     ]
    }
   ],
   "source": [
    "string = \"Python is fun\"\n",
    "\n",
    "# 'is' separator is found\n",
    "print(string.partition('is '))\n",
    "\n",
    "# 'not' separator is not found\n",
    "print(string.partition('not '))\n",
    "\n",
    "string = \"Python is fun, isn't it\"\n",
    "\n",
    "# splits at first occurence of 'is'\n",
    "print(string.partition('is'))"
   ]
  },
  {
   "cell_type": "markdown",
   "metadata": {},
   "source": [
    "### 5c.5.14 str.rpartition(1)"
   ]
  },
  {
   "cell_type": "markdown",
   "metadata": {},
   "source": [
    "Python String rpartition()\n",
    "The rpartition() splits the string at the last occurrence of the argument string and returns a tuple containing the part the before separator, argument string and the part after the separator.\n",
    "\n",
    "The syntax of rpartition() is:\n",
    "\n",
    "string.rpartition(separator)\n",
    "\n",
    "rpartition() Parameters()\n",
    "rpartition() method takes a string parameter separator that separates the string at the last occurrence of it.\n",
    "\n",
    "Return Value from rpartition()\n",
    "rpartition() method returns a 3-tuple containing:\n",
    "\n",
    "the part before the separator, separator parameter, and the part after the separator if the separator parameter is found in the string\n",
    "two empty strings, followed by the string itself if the separator parameter is not found\n"
   ]
  },
  {
   "cell_type": "code",
   "execution_count": 94,
   "metadata": {},
   "outputs": [
    {
     "name": "stdout",
     "output_type": "stream",
     "text": [
      "('Python ', 'is ', 'fun')\n",
      "('', '', 'Python is fun')\n",
      "('Python is fun, ', 'is', \"n't it\")\n"
     ]
    }
   ],
   "source": [
    "\n",
    "string = \"Python is fun\"\n",
    "\n",
    "# 'is' separator is found\n",
    "print(string.rpartition('is '))\n",
    "\n",
    "# 'not' separator is not found\n",
    "print(string.rpartition('not '))\n",
    "\n",
    "string = \"Python is fun, isn't it\"\n",
    "\n",
    "# splits at last occurence of 'is'\n",
    "print(string.rpartition('is'))"
   ]
  },
  {
   "cell_type": "markdown",
   "metadata": {},
   "source": [
    "### 5c.5.15 str.replace(3)"
   ]
  },
  {
   "cell_type": "markdown",
   "metadata": {},
   "source": [
    "Python String replace()\n",
    "\n",
    "The replace() method returns a copy of the string where all occurrences of a substring is replaced with another substring.\n",
    "\n",
    "The syntax of replace() is:\n",
    "\n",
    "str.replace(old, new [, count]) \n",
    "\n",
    "replace() parameters\n",
    "The replace() method can take maximum of 3 parameters:\n",
    "\n",
    "old - old substring you want to replace\n",
    "new - new substring which will replace the old substring\n",
    "count (optional) - the number of times you want to replace the old substring with the new substring\n",
    "Note: If count is not specified, the replace() method replaces all occurrences of the old substring with the new substring.\n",
    "\n",
    "Return Value from replace()\n",
    "The replace() method returns a copy of the string where the old substring is replaced with the new substring. The original string is unchanged.\n",
    "\n",
    "If the old substring is not found, it returns the copy of the original string."
   ]
  },
  {
   "cell_type": "code",
   "execution_count": 6,
   "metadata": {},
   "outputs": [
    {
     "name": "stdout",
     "output_type": "stream",
     "text": [
      "hurt, hurt heart\n",
      "Let it be, don't let it be, don't let it be, let it be\n"
     ]
    }
   ],
   "source": [
    "song = 'cold, cold heart'\n",
    "\n",
    "# replacing 'cold' with 'hurt'\n",
    "print(song.replace('cold', 'hurt'))\n",
    "\n",
    "song = 'Let it be, let it be, let it be, let it be'\n",
    "\n",
    "# replacing only two occurences of 'let'\n",
    "print(song.replace('let', \"don't let\",2))  # does not replace 1st occurrence of \n",
    "# \"Let it\" because it is case specific "
   ]
  },
  {
   "cell_type": "code",
   "execution_count": 2,
   "metadata": {},
   "outputs": [
    {
     "name": "stdout",
     "output_type": "stream",
     "text": [
      "Original string: cold, cold heart\n",
      "Replaced string: celd, celd heart\n",
      "let it be, let it be, let it be\n"
     ]
    }
   ],
   "source": [
    "song = 'cold, cold heart'\n",
    "replaced_song = song.replace('o', 'e')\n",
    "\n",
    "# The original string is unchanged\n",
    "print('Original string:', song)\n",
    "\n",
    "print('Replaced string:', replaced_song)\n",
    "\n",
    "song = 'let it be, let it be, let it be'\n",
    "\n",
    "# maximum of 0 substring is replaced\n",
    "# returns copy of the original string\n",
    "print(song.replace('let', 'so', 0))"
   ]
  },
  {
   "cell_type": "markdown",
   "metadata": {},
   "source": [
    "### 5c.5.16 str.rjust(2)"
   ]
  },
  {
   "cell_type": "markdown",
   "metadata": {},
   "source": [
    "Python String rjust()\n",
    "The string rjust() method returns a right-justified string of a given minimum width.\n",
    "\n",
    "The syntax of rjust() method is:\n",
    "\n",
    "string.rjust(width[, fillchar])\n",
    "Here, fillchar is an optional parameter.\n",
    "\n",
    "String rjust() Parameters\n",
    "The rjust() method takes two parameters:\n",
    "\n",
    "width - width of the given string. If width is less than or equal to the length of the string, original string is returned.\n",
    "fillchar (Optional) - character to fill the remaining space of the width\n",
    "\n",
    "Return value from String rjust()\n",
    "\n",
    "The rjust() method returns the right-justified string within the given minimum width.\n",
    "\n",
    "If fillchar is defined, it fills the remaining space with the defined character."
   ]
  },
  {
   "cell_type": "code",
   "execution_count": 97,
   "metadata": {},
   "outputs": [
    {
     "name": "stdout",
     "output_type": "stream",
     "text": [
      "  cat\n"
     ]
    }
   ],
   "source": [
    "# example string\n",
    "string = 'cat'\n",
    "width = 5\n",
    "\n",
    "# print right justified string\n",
    "print(string.rjust(width))"
   ]
  },
  {
   "cell_type": "raw",
   "metadata": {},
   "source": [
    "Here, the minimum width defined is 5. So, the resultant string is at least of length 5.\n",
    "\n",
    "Now, rjust() aligns the string cat to the right leaving two spaces to the left of the word."
   ]
  },
  {
   "cell_type": "code",
   "execution_count": 98,
   "metadata": {},
   "outputs": [
    {
     "name": "stdout",
     "output_type": "stream",
     "text": [
      "**cat\n"
     ]
    }
   ],
   "source": [
    "# example string\n",
    "string = 'cat'\n",
    "width = 5\n",
    "fillchar = '*'\n",
    "\n",
    "# print right justified string\n",
    "print(string.rjust(width, fillchar))"
   ]
  },
  {
   "cell_type": "markdown",
   "metadata": {},
   "source": [
    "Here, the string cat is aligned to the right and the remaining two spaces on its left are filled with the fillchar *.\n",
    "\n",
    "Note: If you want to right justify the string, use ljust(). You can also use format() for formatting of the strings."
   ]
  },
  {
   "cell_type": "markdown",
   "metadata": {},
   "source": [
    "### 5c.5.17 str.ljust(2)"
   ]
  },
  {
   "cell_type": "markdown",
   "metadata": {},
   "source": [
    "Python String ljust()\n",
    "The string ljust() method returns a left-justified string of a given minimum width.\n",
    "\n",
    "The syntax of ljust() method is:\n",
    "\n",
    "string.ljust(width[, fillchar])\n",
    "Here, fillchar is an optional parameter.\n",
    "\n",
    "String ljust() Parameters\n",
    "ljust() method takes two parameters:\n",
    "\n",
    "width - width of the given string. If width is less than or equal to the length of the string, the original string is returned.\n",
    "fillchar (Optional) - character to fill the remaining space of the width\n",
    "\n",
    "Return value from String ljust()\n",
    "The ljust() method returns the left-justified string within the given minimum width.\n",
    "\n",
    "If fillchar is defined, it also fills the remaining space with the defined character.\n",
    "\n"
   ]
  },
  {
   "cell_type": "code",
   "execution_count": 99,
   "metadata": {},
   "outputs": [
    {
     "name": "stdout",
     "output_type": "stream",
     "text": [
      "cat  \n"
     ]
    }
   ],
   "source": [
    "# example string\n",
    "string = 'cat'\n",
    "width = 5\n",
    "\n",
    "# print left justified string\n",
    "print(string.ljust(width))"
   ]
  },
  {
   "cell_type": "markdown",
   "metadata": {},
   "source": [
    "Here, the minimum width defined is 5. So, the resultant string is of minimum length 5.\n",
    "\n",
    "And, the string cat is aligned to the left which makes leaves two spaces on the right of the word."
   ]
  },
  {
   "cell_type": "code",
   "execution_count": 100,
   "metadata": {},
   "outputs": [
    {
     "name": "stdout",
     "output_type": "stream",
     "text": [
      "cat**\n"
     ]
    }
   ],
   "source": [
    "# example string\n",
    "string = 'cat'\n",
    "width = 5\n",
    "fillchar = '*'\n",
    "\n",
    "# print left justified string\n",
    "print(string.ljust(width, fillchar))"
   ]
  },
  {
   "cell_type": "markdown",
   "metadata": {},
   "source": [
    "Here, the string cat is aligned to the left, and the remaining two spaces on the right is filled with the character *.\n",
    "\n",
    "Note: If you want to right justify the string, use rjust(). You can also use format() method for the formatting of strings."
   ]
  },
  {
   "cell_type": "markdown",
   "metadata": {},
   "source": [
    "### 5c.5.18 str.upper(0)"
   ]
  },
  {
   "cell_type": "markdown",
   "metadata": {},
   "source": [
    "Python String upper()\n",
    "The string upper() method converts all lowercase characters in a string into uppercase characters and returns it.\n",
    "\n",
    "The syntax of upper() method is:\n",
    "\n",
    "string.upper()\n",
    "String upper() Parameters()\n",
    "upper() method doesn't take any parameters.\n",
    "\n",
    "Return value from String upper()\n",
    "upper() method returns the uppercased string from the given string. It converts all lowercase characters to uppercase.\n",
    "\n",
    "If no lowercase characters exist, it returns the original string.\n",
    "\n"
   ]
  },
  {
   "cell_type": "code",
   "execution_count": 101,
   "metadata": {},
   "outputs": [
    {
     "name": "stdout",
     "output_type": "stream",
     "text": [
      "THIS SHOULD BE UPPERCASE!\n",
      "TH!S SH0ULD B3 UPP3RCAS3!\n"
     ]
    }
   ],
   "source": [
    "# example string\n",
    "string = \"this should be uppercase!\"\n",
    "print(string.upper())\n",
    "\n",
    "# string with numbers\n",
    "# all alphabets whould be lowercase\n",
    "string = \"Th!s Sh0uLd B3 uPp3rCas3!\"\n",
    "print(string.upper())"
   ]
  },
  {
   "cell_type": "code",
   "execution_count": 102,
   "metadata": {},
   "outputs": [
    {
     "name": "stdout",
     "output_type": "stream",
     "text": [
      "The strings are same.\n"
     ]
    }
   ],
   "source": [
    "# first string\n",
    "firstString = \"python is awesome!\"\n",
    "\n",
    "# second string\n",
    "secondString = \"PyThOn Is AwEsOmE!\"\n",
    "\n",
    "if(firstString.upper() == secondString.upper()):\n",
    "    print(\"The strings are same.\")\n",
    "else:\n",
    "    print(\"The strings are not same.\")"
   ]
  },
  {
   "cell_type": "markdown",
   "metadata": {},
   "source": [
    "Note: If you want to convert to lowercase string, use lower(). You can also use swapcase() to swap between lowercase to uppercase."
   ]
  },
  {
   "cell_type": "markdown",
   "metadata": {},
   "source": [
    "### 5c.5.19 str.lower(0)"
   ]
  },
  {
   "cell_type": "markdown",
   "metadata": {},
   "source": [
    "Python String lower()\n",
    "The string lower() method converts all uppercase characters in a string into lowercase characters and returns it.\n",
    "\n",
    "The syntax of lower() method is:\n",
    "\n",
    "string.lower()\n",
    "String lower() Parameters()\n",
    "lower() method doesn't take any parameters.\n",
    "\n",
    "Return value from String lower()\n",
    "lower() method returns the lowercased string from the given string. It converts all uppercase characters to lowercase.\n",
    "\n",
    "If no uppercase characters exist, it returns the original string."
   ]
  },
  {
   "cell_type": "code",
   "execution_count": 103,
   "metadata": {},
   "outputs": [
    {
     "name": "stdout",
     "output_type": "stream",
     "text": [
      "this should be lowercase!\n",
      "th!s sh0uld b3 l0w3rcas3!\n"
     ]
    }
   ],
   "source": [
    "# example string\n",
    "string = \"THIS SHOULD BE LOWERCASE!\"\n",
    "print(string.lower())\n",
    "\n",
    "# string with numbers\n",
    "# all alphabets whould be lowercase\n",
    "string = \"Th!s Sh0uLd B3 L0w3rCas3!\"\n",
    "print(string.lower())"
   ]
  },
  {
   "cell_type": "code",
   "execution_count": 104,
   "metadata": {},
   "outputs": [
    {
     "name": "stdout",
     "output_type": "stream",
     "text": [
      "The strings are same.\n"
     ]
    }
   ],
   "source": [
    "# first string\n",
    "firstString = \"PYTHON IS AWESOME!\"\n",
    "\n",
    "# second string\n",
    "secondString = \"PyThOn Is AwEsOmE!\"\n",
    "\n",
    "if(firstString.lower() == secondString.lower()):\n",
    "    print(\"The strings are same.\")\n",
    "else:\n",
    "    print(\"The strings are not same.\")"
   ]
  },
  {
   "cell_type": "raw",
   "metadata": {},
   "source": [
    "Note: If you want to convert to uppercase string, use upper(). You can also use swapcase() to swap between lowercase to uppercase."
   ]
  },
  {
   "cell_type": "markdown",
   "metadata": {},
   "source": [
    "### 5c.5.20 str.swapcase(0)"
   ]
  },
  {
   "cell_type": "markdown",
   "metadata": {},
   "source": [
    "Python String swapcase()\n",
    "The string swapcase() method converts all uppercase characters to lowercase and all lowercase characters to uppercase characters of the given string, and returns it.\n",
    "\n",
    "The format of swapcase() method is:\n",
    "\n",
    "string.swapcase()\n",
    "Note: Not necessarily, string.swapcase().swapcase() == string\n",
    "\n",
    "String swapcase() Parameters()\n",
    "swapcase() method doesn't take any parameters.\n",
    "\n",
    "Return value from String swapcase()\n",
    "swapcase() method returns the string where all uppercase characters are converted to lowercase, and lowercase characters are converted to uppercase.\n",
    "\n"
   ]
  },
  {
   "cell_type": "code",
   "execution_count": 105,
   "metadata": {},
   "outputs": [
    {
     "name": "stdout",
     "output_type": "stream",
     "text": [
      "this should all be lowercase.\n",
      "THIS SHOULD ALL BE UPPERCASE.\n",
      "tHiS sHoUlD bE mIxEd CaSeD.\n"
     ]
    }
   ],
   "source": [
    "# example string\n",
    "string = \"THIS SHOULD ALL BE LOWERCASE.\"\n",
    "print(string.swapcase())\n",
    "\n",
    "string = \"this should all be uppercase.\"\n",
    "print(string.swapcase())\n",
    "\n",
    "string = \"ThIs ShOuLd Be MiXeD cAsEd.\"\n",
    "print(string.swapcase())"
   ]
  },
  {
   "cell_type": "markdown",
   "metadata": {},
   "source": [
    "### 5c.5.21 str.title(0)"
   ]
  },
  {
   "cell_type": "markdown",
   "metadata": {},
   "source": [
    "Python String title()\n",
    "The title() method returns a string with first letter of each word capitalized; a title cased string.\n",
    "\n",
    "The syntax of title() is:\n",
    "\n",
    "str.title()\n",
    "title() Parameters\n",
    "title() method doesn't take any parameters.\n",
    "\n",
    "Return Value from title()\n",
    "title() method returns a title cased version of the string. Meaning, the first character of each word is capitalized (if the first character is a letter).\n",
    "\n"
   ]
  },
  {
   "cell_type": "code",
   "execution_count": 106,
   "metadata": {},
   "outputs": [
    {
     "name": "stdout",
     "output_type": "stream",
     "text": [
      "My Favorite Number Is 25.\n",
      "234 K3L2 *43 Fun\n"
     ]
    }
   ],
   "source": [
    "text = 'My favorite number is 25.'\n",
    "print(text.title())\n",
    "\n",
    "text = '234 k3l2 *43 fun'\n",
    "print(text.title())"
   ]
  },
  {
   "cell_type": "code",
   "execution_count": 107,
   "metadata": {},
   "outputs": [
    {
     "name": "stdout",
     "output_type": "stream",
     "text": [
      "He'S An Engineer, Isn'T He?\n"
     ]
    }
   ],
   "source": [
    "text = \"He's an engineer, isn't he?\"\n",
    "print(text.title())"
   ]
  },
  {
   "cell_type": "raw",
   "metadata": {},
   "source": [
    "title() capitalizes the first letter after apostrophes as well.\n",
    "\n",
    "To solve this issue, you can use regex as follows:"
   ]
  },
  {
   "cell_type": "code",
   "execution_count": 108,
   "metadata": {},
   "outputs": [
    {
     "name": "stdout",
     "output_type": "stream",
     "text": [
      "He's An Engineer, Isn't He?\n"
     ]
    }
   ],
   "source": [
    "import re  #Using Regex to Title Case String\n",
    "\n",
    "def titlecase(s):\n",
    "    return re.sub(r\"[A-Za-z]+('[A-Za-z]+)?\",\n",
    "     lambda mo: mo.group(0)[0].upper() +\n",
    "     mo.group(0)[1:].lower(),\n",
    "     s)\n",
    "\n",
    "text = \"He's an engineer, isn't he?\"\n",
    "print(titlecase(text))"
   ]
  },
  {
   "cell_type": "markdown",
   "metadata": {},
   "source": [
    "### 5c.5.22 str.casefold(0)"
   ]
  },
  {
   "cell_type": "markdown",
   "metadata": {},
   "source": [
    "Python String casefold()\n",
    "The casefold() method is an aggressive lower() method which converts strings to case folded strings for caseless matching.\n",
    "\n",
    "The casefold() method removes all case distinctions present in a string. It is used for caseless matching, i.e. ignores cases when comparing.\n",
    "\n",
    "For example, the German lowercase letter ß is equivalent to ss. However, since ß is already lowercase, the lower() method does nothing to it. But, casefold() converts it to ss.\n",
    "\n",
    "The syntax of casefold() is:\n",
    "\n",
    "string.casefold()\n",
    "\n",
    "Parameters for casefold()\n",
    "The casefold() method doesn't take any parameters.\n",
    "\n",
    "Return value from casefold()\n",
    "The casefold() method returns the case folded string.\n",
    "\n"
   ]
  },
  {
   "cell_type": "code",
   "execution_count": 109,
   "metadata": {},
   "outputs": [
    {
     "name": "stdout",
     "output_type": "stream",
     "text": [
      "Lowercase string: python is awesome\n"
     ]
    }
   ],
   "source": [
    "string = \"PYTHON IS AWESOME\"\n",
    "\n",
    "# print lowercase string\n",
    "print(\"Lowercase string:\", string.casefold())"
   ]
  },
  {
   "cell_type": "code",
   "execution_count": 110,
   "metadata": {},
   "outputs": [
    {
     "name": "stdout",
     "output_type": "stream",
     "text": [
      "The strings are equal.\n"
     ]
    }
   ],
   "source": [
    "firstString = \"der Fluß\"\n",
    "secondString = \"der Fluss\"\n",
    "\n",
    "# ß is equivalent to ss\n",
    "if firstString.casefold() == secondString.casefold():\n",
    "    print('The strings are equal.')\n",
    "else:\n",
    "    print('The strings are not equal.')"
   ]
  },
  {
   "cell_type": "markdown",
   "metadata": {},
   "source": [
    "### 5c.5.23 str.capitalize(0)"
   ]
  },
  {
   "cell_type": "markdown",
   "metadata": {},
   "source": [
    "Python String capitalize()\n",
    "In Python, the capitalize() method converts first character of a string to uppercase letter and lowercases all other characters, if any.\n",
    "\n",
    "The syntax of capitalize() is:\n",
    "\n",
    "string.capitalize()\n",
    "capitalize() Parameter\n",
    "The capitalize()function doesn't take any parameter.\n",
    "\n",
    "Return Value from capitalize()\n",
    "The capitalize() function returns a string with the first letter capitalized and all other characters lowercased. It doesn't modify the original string.\n",
    "\n"
   ]
  },
  {
   "cell_type": "code",
   "execution_count": 111,
   "metadata": {},
   "outputs": [
    {
     "name": "stdout",
     "output_type": "stream",
     "text": [
      "Old String:  python is AWesome.\n",
      "Capitalized String: Python is awesome.\n"
     ]
    }
   ],
   "source": [
    "string = \"python is AWesome.\"\n",
    "\n",
    "capitalized_string = string.capitalize()\n",
    "\n",
    "print('Old String: ', string)\n",
    "print('Capitalized String:', capitalized_string)"
   ]
  },
  {
   "cell_type": "code",
   "execution_count": 112,
   "metadata": {},
   "outputs": [
    {
     "name": "stdout",
     "output_type": "stream",
     "text": [
      "Old String: + is an operator.\n",
      "New String: + is an operator.\n"
     ]
    }
   ],
   "source": [
    "string = \"+ is an operator.\"  # Non-alphabetic First Character\n",
    "\n",
    "new_string = string.capitalize()\n",
    "\n",
    "print('Old String:', string)\n",
    "print('New String:', new_string)"
   ]
  },
  {
   "cell_type": "markdown",
   "metadata": {},
   "source": [
    "### 5c.5.24 str.zfill(1)"
   ]
  },
  {
   "cell_type": "markdown",
   "metadata": {},
   "source": [
    "Python String zfill()\n",
    "The zfill() method returns a copy of the string with '0' characters padded to the left.\n",
    "\n",
    "The syntax of zfill() in Python is:\n",
    "\n",
    "str.zfill(width)\n",
    "zfill() Parameter\n",
    "zfill() takes a single character width.\n",
    "\n",
    "The width specifies the length of the returned string from zfill() with 0 digits filled to the left.\n",
    "\n",
    "Return Value from zfill()\n",
    "zfill() returns a copy of the string with 0 filled to the left. The length of the returned string depends on the width provided.\n",
    "\n",
    "Suppose, the initial length of the string is 10. And, the width is specified 15. In this case, zfill() returns a copy of the string with five '0' digits filled to the left.\n",
    "Suppose, the initial length of the string is 10. And, the width is specified 8. In this case, zfill() doesn't fill '0' digits to the left and returns a copy of the original string. The length of the returned string in this case will be 10."
   ]
  },
  {
   "cell_type": "code",
   "execution_count": 113,
   "metadata": {},
   "outputs": [
    {
     "name": "stdout",
     "output_type": "stream",
     "text": [
      "0program is fun\n",
      "000000program is fun\n",
      "program is fun\n"
     ]
    }
   ],
   "source": [
    "text = \"program is fun\"\n",
    "print(text.zfill(15))\n",
    "print(text.zfill(20))\n",
    "print(text.zfill(10))"
   ]
  },
  {
   "cell_type": "code",
   "execution_count": 115,
   "metadata": {},
   "outputs": [
    {
     "name": "stdout",
     "output_type": "stream",
     "text": [
      "-0000290\n",
      "+0000290\n",
      "-0000000-random+text\n"
     ]
    }
   ],
   "source": [
    "# How zfill() works with Sign Prefix?\n",
    "\n",
    "number = \"-290\" \n",
    "print(number.zfill(8))\n",
    "\n",
    "number = \"+290\"\n",
    "print(number.zfill(8))\n",
    "\n",
    "text = \"--random+text\"\n",
    "print(text.zfill(20))"
   ]
  },
  {
   "cell_type": "markdown",
   "metadata": {},
   "source": [
    "### 5c.5.25 str.center(2)"
   ]
  },
  {
   "cell_type": "markdown",
   "metadata": {},
   "source": [
    "Python String center()\n",
    "The center() method returns a string which is padded with the specified character.\n",
    "\n",
    "The syntax of center() method is:\n",
    "\n",
    "string.center(width[, fillchar])\n",
    "\n",
    "center() Parameters\n",
    "The center() method takes two arguments:\n",
    "\n",
    "width - length of the string with padded characters\n",
    "fillchar (optional) - padding character\n",
    "The fillchar argument is optional. If it's not provided, space is taken as default argument.\n",
    "\n",
    "Return Value from center()\n",
    "The center() method returns a string padded with specified fillchar. It doesn't modify the original string.\n",
    "\n"
   ]
  },
  {
   "cell_type": "code",
   "execution_count": 116,
   "metadata": {},
   "outputs": [
    {
     "name": "stdout",
     "output_type": "stream",
     "text": [
      "Centered String:     Python is awesome    \n"
     ]
    }
   ],
   "source": [
    "string = \"Python is awesome\"\n",
    "\n",
    "new_string = string.center(24)\n",
    "\n",
    "print(\"Centered String: \", new_string)"
   ]
  },
  {
   "cell_type": "code",
   "execution_count": 117,
   "metadata": {},
   "outputs": [
    {
     "name": "stdout",
     "output_type": "stream",
     "text": [
      "Centered String:  ***Python is awesome****\n"
     ]
    }
   ],
   "source": [
    "string = \"Python is awesome\"\n",
    "\n",
    "new_string = string.center(24, '*')\n",
    "\n",
    "print(\"Centered String: \", new_string)"
   ]
  },
  {
   "cell_type": "markdown",
   "metadata": {},
   "source": [
    "The string format() method formats the given string into a nicer output in Python.\n",
    "\n",
    "The syntax of the format() method is:\n",
    "\n",
    "template.format(p0, p1, ..., k0=v0, k1=v1, ...)\n",
    "Here, p0, p1,... are positional arguments and, k0, k1,... are keyword arguments with values v0, v1,... respectively.\n",
    "\n",
    "And, template is a mixture of format codes with placeholders for the arguments.\n",
    "\n",
    "String format() Parameters\n",
    "format() method takes any number of parameters. But, is divided into two types of parameters:\n",
    "\n",
    "Positional parameters - list of parameters that can be accessed with index of parameter inside curly braces {index}\n",
    "Keyword parameters - list of parameters of type key=value, that can be accessed with key of parameter inside curly braces {key}\n",
    "Return value from String format()\n",
    "The format() method returns the formatted string.\n",
    "\n"
   ]
  },
  {
   "cell_type": "code",
   "execution_count": null,
   "metadata": {},
   "outputs": [],
   "source": [
    "How String format() works?\n",
    "\n",
    "The format() reads the type of arguments passed to it and formats it according to the format codes defined in the string.\n",
    "\n",
    "For positional arguments\n",
    "\n",
    "Positional arguments\n",
    "Here, Argument 0 is a string \"Adam\" and Argument 1 is a floating number 230.2346.\n",
    "\n",
    "Note: Argument list starts from 0 in Python.\n",
    "\n",
    "The string \"Hello {0}, your balance is {1:9.3f}\" is the template string. This contains the format codes for formatting.\n",
    "\n",
    "The curly braces are just placeholders for the arguments to be placed. In the above example, {0} is placeholder for \"Adam\" and {1:9.3f} is placeholder for 230.2346.\n",
    "\n",
    "Since the template string references format() arguments as {0} and {1}, the arguments are positional arguments. They both can also be referenced without the numbers as {} and Python internally converts them to numbers.\n",
    "\n",
    "Internally,\n",
    "\n",
    "Since \"Adam\" is the 0th argument, it is placed in place of {0}. Since, {0} doesn't contain any other format codes, it doesn't perform any other operations.\n",
    "However, it is not the case for 1st argument 230.2346. Here, {1:9.3f} places 230.2346 in its place and performs the operation 9.3f.\n",
    "f specifies the format is dealing with a float number. If not correctly specified, it will give out an error.\n",
    "The part before the \".\" (9) specifies the minimum width/padding the number (230.2346) can take. In this case, 230.2346 is allotted a minimum of 9 places including the \".\".\n",
    "If no alignment option is specified, it is aligned to the right of the remaining spaces. (For strings, it is aligned to the left.)\n",
    "The part after the \".\" (3) truncates the decimal part (2346) upto the given number. In this case, 2346 is truncated after 3 places.\n",
    "Remaining numbers (46) is rounded off outputting 235.\n",
    "\n",
    "For keyword arguments\n",
    "Keyword argument\n",
    "\n",
    "\n",
    "We've used the same example from above to show the difference between keyword and positional arguments.\n",
    "\n",
    "Here, instead of just the parameters, we've used a key-value for the parameters. Namely, name=\"Adam\" and blc=230.2346.\n",
    "\n",
    "Since these parameters are referenced by their keys as {name} and {blc:9.3f}, they are known as keyword or named arguments.\n",
    "\n",
    "Internally,\n",
    "\n",
    "The placeholder {name} is replaced by the value of name - \"Adam\". Since it doesn't contain any other format codes, \"Adam\" is placed.\n",
    "For the argument blc=230.2346, the placeholder {blc:9.3f} is replaced by the value 230.2346. But before replacing it, like previous example, it performs 9.3f operation on it.\n",
    "This outputs   230.235. The decimal part is truncated after 3 places and remaining digits are rounded off. Likewise, the total width is assigned 9 leaving two spaces to the left.\n",
    "\n",
    "Basic formatting with format()\n",
    "The format() method allows the use of simple placeholders for formatting."
   ]
  },
  {
   "cell_type": "code",
   "execution_count": 118,
   "metadata": {},
   "outputs": [
    {
     "name": "stdout",
     "output_type": "stream",
     "text": [
      "Hello Adam, your balance is 230.2346.\n",
      "Hello Adam, your balance is 230.2346.\n",
      "Hello Adam, your balance is 230.2346.\n",
      "Hello Adam, your balance is 230.2346.\n"
     ]
    }
   ],
   "source": [
    "# default arguments\n",
    "print(\"Hello {}, your balance is {}.\".format(\"Adam\", 230.2346))\n",
    "\n",
    "# positional arguments\n",
    "print(\"Hello {0}, your balance is {1}.\".format(\"Adam\", 230.2346))\n",
    "\n",
    "# keyword arguments\n",
    "print(\"Hello {name}, your balance is {blc}.\".format(name=\"Adam\", blc=230.2346))\n",
    "\n",
    "# mixed arguments\n",
    "print(\"Hello {0}, your balance is {blc}.\".format(\"Adam\", blc=230.2346))"
   ]
  },
  {
   "cell_type": "markdown",
   "metadata": {},
   "source": [
    "Note: In case of mixed arguments, keyword arguments has to always follow positional arguments."
   ]
  },
  {
   "cell_type": "code",
   "execution_count": null,
   "metadata": {},
   "outputs": [],
   "source": [
    "Numbers formatting with format()\n",
    "You can format numbers using the format specifier given below:\n",
    "\n",
    "Number Formatting Types\n",
    "Type\tMeaning\n",
    "d\tDecimal integer\n",
    "c\tCorresponding Unicode character\n",
    "b\tBinary format\n",
    "o\tOctal format\n",
    "x\tHexadecimal format (lower case)\n",
    "X\tHexadecimal format (upper case)\n",
    "n\tSame as 'd'. Except it uses current locale setting for number separator\n",
    "e\tExponential notation. (lowercase e)\n",
    "E\tExponential notation (uppercase E)\n",
    "f\tDisplays fixed point number (Default: 6)\n",
    "F\tSame as 'f'. Except displays 'inf' as 'INF' and 'nan' as 'NAN'\n",
    "g\tGeneral format. Rounds number to p significant digits. (Default precision: 6)\n",
    "G\tSame as 'g'. Except switches to 'E' if the number is large.\n",
    "%\tPercentage. Multiples by 100 and puts % at the end."
   ]
  },
  {
   "cell_type": "code",
   "execution_count": 119,
   "metadata": {},
   "outputs": [
    {
     "name": "stdout",
     "output_type": "stream",
     "text": [
      "The number is:123\n",
      "The float number is:123.456790\n",
      "bin: 1100, oct: 14, hex: c\n"
     ]
    }
   ],
   "source": [
    "# integer arguments\n",
    "print(\"The number is:{:d}\".format(123))\n",
    "\n",
    "# float arguments\n",
    "print(\"The float number is:{:f}\".format(123.4567898))\n",
    "\n",
    "# octal, binary and hexadecimal format\n",
    "print(\"bin: {0:b}, oct: {0:o}, hex: {0:x}\".format(12))"
   ]
  },
  {
   "cell_type": "code",
   "execution_count": 120,
   "metadata": {},
   "outputs": [
    {
     "name": "stdout",
     "output_type": "stream",
     "text": [
      "   12\n",
      "1234\n",
      "  12.235\n",
      "00012\n",
      "0012.235\n"
     ]
    }
   ],
   "source": [
    "# integer numbers with minimum width\n",
    "print(\"{:5d}\".format(12))\n",
    "\n",
    "# width doesn't work for numbers longer than padding\n",
    "print(\"{:2d}\".format(1234))\n",
    "\n",
    "# padding for float numbers\n",
    "print(\"{:8.3f}\".format(12.2346))\n",
    "\n",
    "# integer numbers with minimum width filled with zeros\n",
    "print(\"{:05d}\".format(12))\n",
    "\n",
    "# padding for float numbers filled with zeros\n",
    "print(\"{:08.3f}\".format(12.2346))"
   ]
  },
  {
   "cell_type": "markdown",
   "metadata": {},
   "source": [
    "\n",
    "Here,\n",
    "\n",
    "in the first statement, {:5d} takes an integer argument and assigns a minimum width of 5. Since, no alignment is specified, it is aligned to the right.\n",
    "\n",
    "In the second statement, you can see the width (2) is less than the number (1234), so it doesn't take any space to the left but also doesn't truncate the number. \n",
    "\n",
    "Unlike integers, floats has both integer and decimal parts. And, the mininum width defined to the number is for both parts as a whole including \".\".\n",
    "\n",
    "In the third statement, {:8.3f} truncates the decimal part into 3 places rounding off the last 2 digits. And, the number, now 12.235, takes a width of 8 as a whole leaving 2 places to the left.\n",
    "\n",
    "If you want to fill the remaining places with zero, placing a zero before the format specifier does this. It works both for integers and floats: {:05d} and {:08.3f}.\n"
   ]
  },
  {
   "cell_type": "code",
   "execution_count": 121,
   "metadata": {},
   "outputs": [
    {
     "name": "stdout",
     "output_type": "stream",
     "text": [
      "+12.230000 -12.230000\n",
      "12.230000 -12.230000\n",
      " 12.230000 -12.230000\n"
     ]
    }
   ],
   "source": [
    "# show the + sign\n",
    "print(\"{:+f} {:+f}\".format(12.23, -12.23))\n",
    "\n",
    "# show the - sign only\n",
    "print(\"{:-f} {:-f}\".format(12.23, -12.23))\n",
    "\n",
    "# show space for + sign\n",
    "print(\"{: f} {: f}\".format(12.23, -12.23))"
   ]
  },
  {
   "cell_type": "markdown",
   "metadata": {},
   "source": [
    "Number formatting with alignment\n",
    "The operators <, ^, > and = are used for alignment when assigned a certain width to the numbers.\n",
    "\n",
    "Number formatting with alignment\n",
    "Type\tMeaning\n",
    "<\tLeft aligned to the remaining space\n",
    "^\tCenter aligned to the remaining space, > Right aligned to the remaining space\n",
    "=\tForces the signed (+) (-) to the leftmost position"
   ]
  },
  {
   "cell_type": "code",
   "execution_count": 122,
   "metadata": {},
   "outputs": [
    {
     "name": "stdout",
     "output_type": "stream",
     "text": [
      "   12\n",
      "  12.235  \n",
      "12000\n",
      "- 12.235\n"
     ]
    }
   ],
   "source": [
    "# integer numbers with right alignment\n",
    "print(\"{:5d}\".format(12))\n",
    "\n",
    "# float numbers with center alignment\n",
    "print(\"{:^10.3f}\".format(12.2346))\n",
    "\n",
    "# integer left alignment filled with zeros\n",
    "print(\"{:<05d}\".format(12))\n",
    "\n",
    "# float numbers with center alignment\n",
    "print(\"{:=8.3f}\".format(-12.2346))"
   ]
  },
  {
   "cell_type": "markdown",
   "metadata": {},
   "source": [
    "Note: Left alignment filled with zeros for integer numbers can cause problems as the 3rd example which returns 12000, rather than 12."
   ]
  },
  {
   "cell_type": "markdown",
   "metadata": {},
   "source": [
    "String formatting with format()\n",
    "\n",
    "As numbers, string can be formatted in a similar way with format()"
   ]
  },
  {
   "cell_type": "code",
   "execution_count": 123,
   "metadata": {},
   "outputs": [
    {
     "name": "stdout",
     "output_type": "stream",
     "text": [
      "cat  \n",
      "  cat\n",
      " cat \n",
      "*cat*\n"
     ]
    }
   ],
   "source": [
    "# string padding with left alignment\n",
    "print(\"{:5}\".format(\"cat\"))\n",
    "\n",
    "# string padding with right alignment\n",
    "print(\"{:>5}\".format(\"cat\"))\n",
    "\n",
    "# string padding with center alignment\n",
    "print(\"{:^5}\".format(\"cat\"))\n",
    "\n",
    "# string padding with center alignment\n",
    "# and '*' padding character\n",
    "print(\"{:*^5}\".format(\"cat\"))"
   ]
  },
  {
   "cell_type": "code",
   "execution_count": 124,
   "metadata": {},
   "outputs": [
    {
     "name": "stdout",
     "output_type": "stream",
     "text": [
      "cat\n",
      "cat  \n",
      " cat \n"
     ]
    }
   ],
   "source": [
    "# truncating strings to 3 letters\n",
    "print(\"{:.3}\".format(\"caterpillar\"))\n",
    "\n",
    "# truncating strings to 3 letters\n",
    "# and padding\n",
    "print(\"{:5.3}\".format(\"caterpillar\"))\n",
    "\n",
    "# truncating strings to 3 letters,\n",
    "# padding and center alignment\n",
    "print(\"{:^5.3}\".format(\"caterpillar\"))"
   ]
  },
  {
   "cell_type": "code",
   "execution_count": null,
   "metadata": {},
   "outputs": [],
   "source": [
    "Formatting class and dictionary members using format()\n",
    "\n",
    "Python internally uses getattr() for class members in the form \".age\". And, it uses __getitem__() lookup for dictionary members in the form \"[index]\"."
   ]
  },
  {
   "cell_type": "code",
   "execution_count": 125,
   "metadata": {},
   "outputs": [
    {
     "name": "stdout",
     "output_type": "stream",
     "text": [
      "Adam's age is: 23\n"
     ]
    }
   ],
   "source": [
    "# define Person class\n",
    "class Person:\n",
    "    age = 23\n",
    "    name = \"Adam\"\n",
    "\n",
    "# format age\n",
    "print(\"{p.name}'s age is: {p.age}\".format(p=Person()))"
   ]
  },
  {
   "cell_type": "markdown",
   "metadata": {},
   "source": [
    "Here, Person object is passed as a keyword argument p.\n",
    "\n",
    "Inside the template string, Person's name and age are accessed using .name and .age respectively."
   ]
  },
  {
   "cell_type": "code",
   "execution_count": 126,
   "metadata": {},
   "outputs": [
    {
     "name": "stdout",
     "output_type": "stream",
     "text": [
      "Adam's age is: 23\n"
     ]
    }
   ],
   "source": [
    "# define Person dictionary\n",
    "person = {'age': 23, 'name': 'Adam'}\n",
    "\n",
    "# format age\n",
    "print(\"{p[name]}'s age is: {p[age]}\".format(p=person))"
   ]
  },
  {
   "cell_type": "markdown",
   "metadata": {},
   "source": [
    "Similar to class, person dictionary is passed as a keyword argument p.\n",
    "\n",
    "Inside the template string, person's name and age are accessed using [name] and [age] respectively."
   ]
  },
  {
   "cell_type": "markdown",
   "metadata": {},
   "source": [
    "There's an easier way to format dictionaries in Python using str.format(**mapping)."
   ]
  },
  {
   "cell_type": "code",
   "execution_count": 127,
   "metadata": {},
   "outputs": [
    {
     "name": "stdout",
     "output_type": "stream",
     "text": [
      "Adam's age is: 23\n"
     ]
    }
   ],
   "source": [
    "# define Person dictionary\n",
    "person = {'age': 23, 'name': 'Adam'}\n",
    "\n",
    "# format age\n",
    "print(\"{name}'s age is: {age}\".format(**person))"
   ]
  },
  {
   "cell_type": "markdown",
   "metadata": {},
   "source": [
    "Arguments as format codes using format()\n",
    "\n",
    "You can also pass format codes like precision, alignment, fill character as positional or keyword arguments dynamically."
   ]
  },
  {
   "cell_type": "code",
   "execution_count": 132,
   "metadata": {},
   "outputs": [
    {
     "name": "stdout",
     "output_type": "stream",
     "text": [
      "*cat*\n",
      "123.24\n"
     ]
    }
   ],
   "source": [
    "# dynamic string format template\n",
    "string = \"{:{fill}{align}{width}}\"\n",
    "\n",
    "# passing format codes as arguments\n",
    "print(string.format('cat', fill='*', align='^', width=5))\n",
    "\n",
    "# dynamic float format template\n",
    "num = \"{:{align}{width}.{precision}f}\"\n",
    "\n",
    "# passing format codes as arguments\n",
    "print(num.format(123.236, align='^',width=5, precision=2))"
   ]
  },
  {
   "cell_type": "markdown",
   "metadata": {},
   "source": [
    "Here,\n",
    "\n",
    "In the first example, 'cat' is the positional argument is to be formatted. Likewise, fill='*', align='^' and width=5 are keyword arguments.\n",
    "\n",
    "In the template string, these keyword arguments are not retrieved as normal strings to be printed but as the actual format codes fill, align and width.\n",
    "The arguments replaces the corresponding named placeholders and the string 'cat' is formatted accordingly.\n",
    "\n",
    "Likewise, in the second example, 123.236 is the positional argument and, align, width and precision are passed to the template string as format codes."
   ]
  },
  {
   "cell_type": "code",
   "execution_count": null,
   "metadata": {},
   "outputs": [],
   "source": [
    "Extra formatting options with format()\n",
    "\n",
    "format() also supports type-specific formatting options like datetime's and complex number formatting.\n",
    "\n",
    "format() internally calls __format__() for datetime, while format() accesses the attributes of the complex number.\n",
    "\n",
    "You can easily override the __format__() method of any object for custom formatting."
   ]
  },
  {
   "cell_type": "code",
   "execution_count": 133,
   "metadata": {},
   "outputs": [
    {
     "name": "stdout",
     "output_type": "stream",
     "text": [
      "It's now: 2020/10/03 17:01:22\n",
      "Real part: 1.0 and Imaginary part: 2.0\n",
      "Adam's age is: 23\n"
     ]
    }
   ],
   "source": [
    "import datetime\n",
    "# datetime formatting\n",
    "date = datetime.datetime.now()\n",
    "print(\"It's now: {:%Y/%m/%d %H:%M:%S}\".format(date))\n",
    "\n",
    "# complex number formatting\n",
    "complexNumber = 1+2j\n",
    "print(\"Real part: {0.real} and Imaginary part: {0.imag}\".format(complexNumber))\n",
    "\n",
    "# custom __format__() method\n",
    "class Person:\n",
    "    def __format__(self, format):\n",
    "        if(format == 'age'):\n",
    "            return '23'\n",
    "        return 'None'\n",
    "\n",
    "print(\"Adam's age is: {:age}\".format(Person()))"
   ]
  },
  {
   "cell_type": "code",
   "execution_count": null,
   "metadata": {},
   "outputs": [],
   "source": [
    "Here,\n",
    "\n",
    "For datetime:\n",
    "Current datetime is passed as a positional argument to the format() method.\n",
    "And, internally using __format__() method, format() accesses the year, month, day, hour, minutes and seconds.\n",
    "\n",
    "For complex numbers:\n",
    "1+2j is internally converted to a ComplexNumber object.\n",
    "Then accessing its attributes real and imag, the number is formatted.\n",
    "\n",
    "Overriding __format__():\n",
    "Like datetime, you can override your own __format__() method for custom formatting which returns age when accessed as {:age}\n"
   ]
  },
  {
   "cell_type": "code",
   "execution_count": null,
   "metadata": {},
   "outputs": [],
   "source": [
    "You can also use objects __str__() and __repr__() functionality with shorthand notations using format().\n",
    "\n",
    "Like __format__(), you can easily override objects __str__() and __repr_() methods"
   ]
  },
  {
   "cell_type": "code",
   "execution_count": 134,
   "metadata": {},
   "outputs": [
    {
     "name": "stdout",
     "output_type": "stream",
     "text": [
      "Quotes: 'cat', Without Quotes: cat\n",
      "repr: REPR, str: STR\n"
     ]
    }
   ],
   "source": [
    "# __str__() and __repr__() shorthand !r and !s\n",
    "print(\"Quotes: {0!r}, Without Quotes: {0!s}\".format(\"cat\"))\n",
    "\n",
    "# __str__() and __repr__() implementation for class\n",
    "class Person:\n",
    "    def __str__(self):\n",
    "        return \"STR\"\n",
    "    def __repr__(self):\n",
    "        return \"REPR\"\n",
    "\n",
    "print(\"repr: {p!r}, str: {p!s}\".format(p=Person()))"
   ]
  },
  {
   "cell_type": "markdown",
   "metadata": {},
   "source": [
    "Python String isalnum()\n",
    "The isalnum() method returns True if all characters in the string are alphanumeric (either alphabets or numbers). If not, it returns False.\n",
    "\n",
    "The syntax of isalnum() is:\n",
    "\n",
    "string.isalnum()\n",
    "isalnum() Parameters\n",
    "The isalnum() doesn't take any parameters.\n",
    "\n",
    "Return Value from isalnum()\n",
    "The isalnum() returns:\n",
    "\n",
    "True if all characters in the string are alphanumeric\n",
    "False if at least one character is not alphanumeric"
   ]
  },
  {
   "cell_type": "code",
   "execution_count": 135,
   "metadata": {},
   "outputs": [
    {
     "name": "stdout",
     "output_type": "stream",
     "text": [
      "True\n",
      "False\n",
      "True\n",
      "True\n"
     ]
    }
   ],
   "source": [
    "name = \"M234onica\"\n",
    "print(name.isalnum())\n",
    "\n",
    "# contains whitespace\n",
    "name = \"M3onica Gell22er \"\n",
    "print(name.isalnum())\n",
    "\n",
    "name = \"Mo3nicaGell22er\"\n",
    "print(name.isalnum())\n",
    "\n",
    "name = \"133\"\n",
    "print(name.isalnum())"
   ]
  },
  {
   "cell_type": "code",
   "execution_count": 136,
   "metadata": {},
   "outputs": [
    {
     "name": "stdout",
     "output_type": "stream",
     "text": [
      "All characters of string (name) are alphanumeric.\n"
     ]
    }
   ],
   "source": [
    "name = \"M0n1caG3ll3r\"\n",
    "\n",
    "if name.isalnum() == True:\n",
    "   print(\"All characters of string (name) are alphanumeric.\")\n",
    "else:\n",
    "    print(\"All characters are not alphanumeric.\")"
   ]
  },
  {
   "cell_type": "markdown",
   "metadata": {},
   "source": [
    "Python String isalpha()\n",
    "The isalpha() method returns True if all characters in the string are alphabets. If not, it returns False.\n",
    "\n",
    "The syntax of isalpha() is:\n",
    "\n",
    "string.isalpha()\n",
    "isalpha() Parameters\n",
    "isalpha() doesn't take any parameters.\n",
    "\n",
    "Return Value from isalpha()\n",
    "The isalpha() returns:\n",
    "\n",
    "True if all characters in the string are alphabets (can be both lowercase and uppercase).\n",
    "False if at least one character is not alphabet.\n"
   ]
  },
  {
   "cell_type": "code",
   "execution_count": 137,
   "metadata": {},
   "outputs": [
    {
     "name": "stdout",
     "output_type": "stream",
     "text": [
      "True\n",
      "False\n",
      "False\n"
     ]
    }
   ],
   "source": [
    "name = \"Monica\"\n",
    "print(name.isalpha())\n",
    "\n",
    "# contains whitespace\n",
    "name = \"Monica Geller\"\n",
    "print(name.isalpha())\n",
    "\n",
    "# contains number\n",
    "name = \"Mo3nicaGell22er\"\n",
    "print(name.isalpha())"
   ]
  },
  {
   "cell_type": "code",
   "execution_count": 138,
   "metadata": {},
   "outputs": [
    {
     "name": "stdout",
     "output_type": "stream",
     "text": [
      "All characters are alphabets\n"
     ]
    }
   ],
   "source": [
    "name = \"MonicaGeller\"\n",
    "\n",
    "if name.isalpha() == True:\n",
    "   print(\"All characters are alphabets\")\n",
    "else:\n",
    "    print(\"All characters are not alphabets.\")"
   ]
  },
  {
   "cell_type": "markdown",
   "metadata": {},
   "source": [
    "Python String isdecimal()\n",
    "The isdecimal() method returns True if all characters in a string are decimal characters. If not, it returns False.\n",
    "\n",
    "The syntax of isdecimal() is\n",
    "\n",
    "string.isdecimal()\n",
    "isdecimal() Parameters\n",
    "The isdecimal() doesn't take any parameters.\n",
    "\n",
    "Return Value from isdecimal()\n",
    "The isdecimal() returns:\n",
    "\n",
    "True if all characters in the string are decimal characters.\n",
    "False if at least one character is not decimal character.\n"
   ]
  },
  {
   "cell_type": "code",
   "execution_count": 139,
   "metadata": {},
   "outputs": [
    {
     "name": "stdout",
     "output_type": "stream",
     "text": [
      "True\n",
      "False\n",
      "False\n"
     ]
    }
   ],
   "source": [
    "s = \"28212\"\n",
    "print(s.isdecimal())\n",
    "\n",
    "# contains alphabets\n",
    "s = \"32ladk3\"\n",
    "print(s.isdecimal())\n",
    "\n",
    "# contains alphabets and spaces\n",
    "s = \"Mo3 nicaG el l22er\"\n",
    "print(s.isdecimal())"
   ]
  },
  {
   "cell_type": "markdown",
   "metadata": {},
   "source": [
    "The superscript and subscripts are considered digit characters but not decimals. If the string contains these characters (usually written using unicode), isdecimal() returns False.\n",
    "\n",
    "Similarly, roman numerals, currency numerators and fractions are considered numeric numbers (usually written using unicode) but not decimals. The isdecimal() also returns False in this case.\n",
    "\n",
    "There are two methods isdigit() and isnumeric() that checks whether the string contains digit characters and numeric characters respectively.\n",
    "\n",
    "Learn more about isdigit() and isnumeric() methods."
   ]
  },
  {
   "cell_type": "code",
   "execution_count": 140,
   "metadata": {},
   "outputs": [
    {
     "name": "stdout",
     "output_type": "stream",
     "text": [
      "True\n",
      "False\n",
      "False\n"
     ]
    }
   ],
   "source": [
    "s = '23455'\n",
    "print(s.isdecimal())\n",
    "\n",
    "#s = '²3455'\n",
    "s = '\\u00B23455'\n",
    "print(s.isdecimal())\n",
    "\n",
    "# s = '½'\n",
    "s = '\\u00BD'\n",
    "print(s.isdecimal())"
   ]
  },
  {
   "cell_type": "markdown",
   "metadata": {},
   "source": [
    "Python String isdigit()\n",
    "The isdigit() method returns True if all characters in a string are digits. If not, it returns False.\n",
    "\n",
    "The syntax of isdigit() is\n",
    "\n",
    "string.isdigit()\n",
    "isdigit() Parameters\n",
    "The isdigit() doesn't take any parameters.\n",
    "\n",
    "Return Value from isdigit()\n",
    "The isdigit() returns:\n",
    "\n",
    "True if all characters in the string are digits.\n",
    "False if at least one character is not a digit.\n"
   ]
  },
  {
   "cell_type": "code",
   "execution_count": 141,
   "metadata": {},
   "outputs": [
    {
     "name": "stdout",
     "output_type": "stream",
     "text": [
      "True\n",
      "False\n"
     ]
    }
   ],
   "source": [
    "s = \"28212\"\n",
    "print(s.isdigit())\n",
    "\n",
    "# contains alphabets and spaces\n",
    "s = \"Mo3 nicaG el l22er\"\n",
    "print(s.isdigit())"
   ]
  },
  {
   "cell_type": "markdown",
   "metadata": {},
   "source": [
    "A digit is a character that has property value:\n",
    "\n",
    "Numeric_Type = Digit\n",
    "Numeric_Type = Decimal\n",
    "\n",
    "In Python, superscript and subscripts (usually written using unicode) are also considered digit characters. Hence, if the string contains these characters along with decimal characters, isdigit() returns True.\n",
    "\n",
    "The roman numerals, currency numerators and fractions (usually written using unicode) are considered numeric characters but not digits. The isdigit() returns False if the string contains these characters.\n",
    "\n",
    "To check whether a character is a numeric character or not, you can use isnumeric() method."
   ]
  },
  {
   "cell_type": "code",
   "execution_count": 142,
   "metadata": {},
   "outputs": [
    {
     "name": "stdout",
     "output_type": "stream",
     "text": [
      "True\n",
      "True\n",
      "False\n"
     ]
    }
   ],
   "source": [
    "s = '23455'\n",
    "print(s.isdigit())\n",
    "\n",
    "#s = '²3455'\n",
    "# subscript is a digit\n",
    "s = '\\u00B23455'\n",
    "print(s.isdigit())\n",
    "\n",
    "# s = '½'\n",
    "# fraction is not a digit\n",
    "s = '\\u00BD'\n",
    "print(s.isdigit())"
   ]
  },
  {
   "cell_type": "markdown",
   "metadata": {},
   "source": [
    "Python String islower()\n",
    "The islower() method returns True if all alphabets in a string are lowercase alphabets. If the string contains at least one uppercase alphabet, it returns False.\n",
    "\n",
    "The syntax of islower() is:\n",
    "\n",
    "string.islower()\n",
    "islower() parameters\n",
    "The islower() method doesn't take any parameters.\n",
    "\n",
    "Return Value from islower()\n",
    "The islower() method returns:\n",
    "\n",
    "True if all alphabets that exist in the string are lowercase alphabets.\n",
    "False if the string contains at least one uppercase alphabet.\n"
   ]
  },
  {
   "cell_type": "code",
   "execution_count": 143,
   "metadata": {},
   "outputs": [
    {
     "name": "stdout",
     "output_type": "stream",
     "text": [
      "True\n",
      "True\n",
      "False\n"
     ]
    }
   ],
   "source": [
    "s = 'this is good'\n",
    "print(s.islower())\n",
    "\n",
    "s = 'th!s is a1so g00d'\n",
    "print(s.islower())\n",
    "\n",
    "s = 'this is Not good'\n",
    "print(s.islower())"
   ]
  },
  {
   "cell_type": "code",
   "execution_count": 144,
   "metadata": {},
   "outputs": [
    {
     "name": "stdout",
     "output_type": "stream",
     "text": [
      "Does not contain uppercase letter.\n",
      "Contains uppercase letter.\n"
     ]
    }
   ],
   "source": [
    "s = 'this is good'\n",
    "if s.islower() == True:\n",
    "  print('Does not contain uppercase letter.')\n",
    "else:\n",
    "  print('Contains uppercase letter.')\n",
    "  \n",
    "s = 'this is Good'\n",
    "if s.islower() == True:\n",
    "  print('Does not contain uppercase letter.')\n",
    "else:\n",
    "  print('Contains uppercase letter.')"
   ]
  },
  {
   "cell_type": "markdown",
   "metadata": {},
   "source": [
    "Python String isnumeric()\n",
    "The isnumeric() method returns True if all characters in a string are numeric characters. If not, it returns False.\n",
    "\n",
    "A numeric character has following properties:\n",
    "\n",
    "Numeric_Type=Decimal\n",
    "Numeric_Type=Digit\n",
    "Numeric_Type=Numeric\n",
    "In Python, decimal characters (like: 0, 1, 2..), digits (like: subscript, superscript), and characters having Unicode numeric value property (like: fraction, roman numerals, currency numerators) are all considered numeric characters.\n",
    "\n",
    "You can write the digit and numeric characters using unicode in the program. For example:\n",
    "\n",
    "s = '½'\n",
    "\n",
    "s = '\\u00BD'\n",
    "\n",
    "The syntax of isnumeric() is\n",
    "string.isnumeric()\n",
    "\n",
    "isnumeric() Parameters\n",
    "The isnumeric() method doesn't take any parameters.\n",
    "\n",
    "Return Value from isnumeric()\n",
    "The isnumeric() method returns:\n",
    "\n",
    "True if all characters in the string are numeric characters.\n",
    "False if at least one character is not a numeric character.\n"
   ]
  },
  {
   "cell_type": "code",
   "execution_count": 145,
   "metadata": {},
   "outputs": [
    {
     "name": "stdout",
     "output_type": "stream",
     "text": [
      "True\n",
      "True\n",
      "True\n",
      "False\n"
     ]
    }
   ],
   "source": [
    "s = '1242323'\n",
    "print(s.isnumeric())\n",
    "\n",
    "#s = '²3455'\n",
    "s = '\\u00B23455'\n",
    "print(s.isnumeric())\n",
    "\n",
    "# s = '½'\n",
    "s = '\\u00BD'\n",
    "print(s.isnumeric())\n",
    "\n",
    "s = '1242323'\n",
    "s='python12'\n",
    "print(s.isnumeric())"
   ]
  },
  {
   "cell_type": "code",
   "execution_count": 146,
   "metadata": {},
   "outputs": [
    {
     "name": "stdout",
     "output_type": "stream",
     "text": [
      "All characters are numeric.\n"
     ]
    }
   ],
   "source": [
    "#s = '²3455'\n",
    "s = '\\u00B23455'\n",
    "\n",
    "if s.isnumeric() == True:\n",
    "  print('All characters are numeric.')\n",
    "else:\n",
    "  print('All characters are not numeric.')"
   ]
  },
  {
   "cell_type": "markdown",
   "metadata": {},
   "source": [
    "Python String isupper()\n",
    "The string isupper() method returns whether or not all characters in a string are uppercased or not.\n",
    "\n",
    "The syntax of isupper() method is:\n",
    "\n",
    "string.isupper()\n",
    "String isupper() Parameters\n",
    "The isupper() method doesn't take any parameters.\n",
    "\n",
    "Return value from String isupper() \n",
    "The isupper() method returns:\n",
    "\n",
    "True if all characters in a string are uppercase characters\n",
    "False if any characters in a string are lowercase characters"
   ]
  },
  {
   "cell_type": "code",
   "execution_count": 147,
   "metadata": {},
   "outputs": [
    {
     "name": "stdout",
     "output_type": "stream",
     "text": [
      "True\n",
      "True\n",
      "False\n"
     ]
    }
   ],
   "source": [
    "# example string\n",
    "string = \"THIS IS GOOD!\"\n",
    "print(string.isupper());\n",
    "\n",
    "# numbers in place of alphabets\n",
    "string = \"THIS IS ALSO G00D!\"\n",
    "print(string.isupper());\n",
    "\n",
    "# lowercase string\n",
    "string = \"THIS IS not GOOD!\"\n",
    "print(string.isupper());"
   ]
  },
  {
   "cell_type": "code",
   "execution_count": 148,
   "metadata": {},
   "outputs": [
    {
     "name": "stdout",
     "output_type": "stream",
     "text": [
      "Does not contain lowercase letter.\n",
      "Contains lowercase letter.\n"
     ]
    }
   ],
   "source": [
    "string = 'THIS IS GOOD'\n",
    "if string.isupper() == True:\n",
    "  print('Does not contain lowercase letter.')\n",
    "else:\n",
    "  print('Contains lowercase letter.')\n",
    "  \n",
    "string = 'THIS IS gOOD'\n",
    "if string.isupper() == True:\n",
    "  print('Does not contain lowercase letter.')\n",
    "else:\n",
    "  print('Contains lowercase letter.')"
   ]
  },
  {
   "cell_type": "markdown",
   "metadata": {},
   "source": [
    "Python String istitle()\n",
    "The istitle() returns True if the string is a titlecased string. If not, it returns False.\n",
    "\n",
    "The syntax of istitle() method is:\n",
    "\n",
    "string.istitle()\n",
    "istitle() Parameters\n",
    "The istitle() method doesn't take any parameters.\n",
    "\n",
    "Return Value from istitle()\n",
    "The istitle() method returns:\n",
    "\n",
    "True if the string is a titlecased string\n",
    "False if the string is not a titlecased string or an empty string"
   ]
  },
  {
   "cell_type": "code",
   "execution_count": 149,
   "metadata": {},
   "outputs": [
    {
     "name": "stdout",
     "output_type": "stream",
     "text": [
      "True\n",
      "False\n",
      "True\n",
      "True\n",
      "False\n"
     ]
    }
   ],
   "source": [
    "s = 'Python Is Good.'\n",
    "print(s.istitle())\n",
    "\n",
    "s = 'Python is good'\n",
    "print(s.istitle())\n",
    "\n",
    "s = 'This Is @ Symbol.'\n",
    "print(s.istitle())\n",
    "\n",
    "s = '99 Is A Number'\n",
    "print(s.istitle())\n",
    "\n",
    "s = 'PYTHON'\n",
    "print(s.istitle())"
   ]
  },
  {
   "cell_type": "code",
   "execution_count": 150,
   "metadata": {},
   "outputs": [
    {
     "name": "stdout",
     "output_type": "stream",
     "text": [
      "Titlecased String\n",
      "Not a Titlecased String\n"
     ]
    }
   ],
   "source": [
    "s = 'I Love Python.'\n",
    "if s.istitle() == True:\n",
    "  print('Titlecased String')\n",
    "else:\n",
    "  print('Not a Titlecased String')\n",
    "  \n",
    "s = 'PYthon'\n",
    "if s.istitle() == True:\n",
    "  print('Titlecased String')\n",
    "else:\n",
    "  print('Not a Titlecased String')"
   ]
  },
  {
   "cell_type": "markdown",
   "metadata": {},
   "source": [
    "Python String isspace()\n",
    "The isspace() method returns True if there are only whitespace characters in the string. If not, it return False.\n",
    "\n",
    "Characters that are used for spacing are called whitespace characters. For example: tabs, spaces, newline, etc.\n",
    "\n",
    "The syntax of isspace() is:\n",
    "\n",
    "string.isspace()\n",
    "isspace() Parameters\n",
    "isspace() method doesn't take any parameters.\n",
    "\n",
    "Return Value from isspace()\n",
    "isspace() method returns:\n",
    "\n",
    "True if all characters in the string are whitespace characters\n",
    "False if the string is empty or contains at least one non-printable character"
   ]
  },
  {
   "cell_type": "code",
   "execution_count": 151,
   "metadata": {},
   "outputs": [
    {
     "name": "stdout",
     "output_type": "stream",
     "text": [
      "True\n",
      "False\n",
      "False\n"
     ]
    }
   ],
   "source": [
    "s = '   \\t'\n",
    "print(s.isspace())\n",
    "\n",
    "s = ' a '\n",
    "print(s.isspace())\n",
    "\n",
    "s = ''\n",
    "print(s.isspace())"
   ]
  },
  {
   "cell_type": "code",
   "execution_count": 152,
   "metadata": {},
   "outputs": [
    {
     "name": "stdout",
     "output_type": "stream",
     "text": [
      "All whitespace characters\n",
      "Contains non-whitespace characters.\n"
     ]
    }
   ],
   "source": [
    "s = '\\t  \\n'\n",
    "if s.isspace() == True:\n",
    "  print('All whitespace characters')\n",
    "else:\n",
    "  print('Contains non-whitespace characters')\n",
    "  \n",
    "s = '2+2 = 4'\n",
    "\n",
    "if s.isspace() == True:\n",
    "  print('All whitespace characters')\n",
    "else:\n",
    "  print('Contains non-whitespace characters.')"
   ]
  },
  {
   "cell_type": "code",
   "execution_count": null,
   "metadata": {},
   "outputs": [],
   "source": [
    "In built functions in python for str(sequence):\n",
    "'__add__',\n",
    " '__class__',\n",
    " '__contains__',\n",
    " '__delattr__',\n",
    " '__dir__',\n",
    " '__doc__',\n",
    " '__eq__',\n",
    " '__format__',\n",
    " '__ge__',\n",
    " '__getattribute__',\n",
    " '__getitem__',\n",
    " '__getnewargs__',\n",
    " '__gt__',\n",
    " '__hash__',\n",
    " '__init__',\n",
    " '__init_subclass__',\n",
    " '__iter__',\n",
    " '__le__',\n",
    " '__len__',\n",
    " '__lt__',\n",
    " '__mod__',\n",
    " '__mul__',\n",
    " '__ne__',\n",
    " '__new__',\n",
    " '__reduce__',\n",
    " '__reduce_ex__',\n",
    " '__repr__',\n",
    " '__rmod__',\n",
    " '__rmul__',\n",
    " '__setattr__',\n",
    " '__sizeof__',\n",
    " '__str__',\n",
    " '__subclasshook__',"
   ]
  },
  {
   "cell_type": "markdown",
   "metadata": {},
   "source": [
    "# TUPLES"
   ]
  },
  {
   "cell_type": "markdown",
   "metadata": {},
   "source": [
    "Tuples are immutable sequences of arbitrary objects. They are indexed by integers greater than zero. Tuples are hashable, which means we can sort lists of them and they can be used as keys to dictionaries. Syntactically, tuples are just a comma-separated sequence of values; however, it is common practice to enclose them in parentheses:\n",
    "\n",
    "tpl= ('a', 'b', 'c')\n",
    "\n",
    "It is important to remember to use a trailing comma when creating a tuple with one element, for example:\n",
    "\n",
    "t = ('a',)\n",
    "\n",
    "Without the trailing comma, this would be interpreted as a string."
   ]
  },
  {
   "cell_type": "markdown",
   "metadata": {},
   "source": [
    "We can also create a tuple using the built-in function tuple(). With no argument, this creates an empty tuple. \n",
    "\n",
    "If the argument to tuple() is a sequence then this creates a tuple of elements of that sequence, for example:"
   ]
  },
  {
   "cell_type": "code",
   "execution_count": 4,
   "metadata": {},
   "outputs": [
    {
     "data": {
      "text/plain": [
       "('s', 'e', 'q', 'u', 'e', 'n', 'c', 'e')"
      ]
     },
     "execution_count": 4,
     "metadata": {},
     "output_type": "execute_result"
    }
   ],
   "source": [
    "t = tuple('sequence')\n",
    "t"
   ]
  },
  {
   "cell_type": "code",
   "execution_count": 9,
   "metadata": {},
   "outputs": [
    {
     "name": "stdout",
     "output_type": "stream",
     "text": [
      "('s', 'e', 'q')\n",
      "('n', 'c')\n",
      "('n', 'c', 'e')\n"
     ]
    }
   ],
   "source": [
    "# Indexing\n",
    "print(t[0:3])\n",
    "print(t[-3:-1])\n",
    "print(t[-3:])"
   ]
  },
  {
   "cell_type": "code",
   "execution_count": 10,
   "metadata": {},
   "outputs": [
    {
     "data": {
      "text/plain": [
       "('s', 'e', 'q', 'u', 'e', 'n', 'c', 'e', 'and')"
      ]
     },
     "execution_count": 10,
     "metadata": {},
     "output_type": "execute_result"
    }
   ],
   "source": [
    "# Concatenate\n",
    "t + ('and',)"
   ]
  },
  {
   "cell_type": "code",
   "execution_count": 11,
   "metadata": {},
   "outputs": [],
   "source": [
    "# can use max, min , sum built in functions in tuple"
   ]
  },
  {
   "cell_type": "code",
   "execution_count": 14,
   "metadata": {},
   "outputs": [
    {
     "name": "stdout",
     "output_type": "stream",
     "text": [
      "['c', 'e', 'e', 'e', 'n', 'q', 's', 'u']\n",
      "('c', 'e', 'e', 'e', 'n', 'q', 's', 'u')\n"
     ]
    }
   ],
   "source": [
    "# sort\n",
    "x = sorted(t)\n",
    "print(x)   # gives a list \n",
    "\n",
    "print(tuple(x)) # convert to tuple \n"
   ]
  },
  {
   "cell_type": "code",
   "execution_count": 23,
   "metadata": {},
   "outputs": [
    {
     "data": {
      "text/plain": [
       "(1, 2, 3, 'r')"
      ]
     },
     "execution_count": 23,
     "metadata": {},
     "output_type": "execute_result"
    }
   ],
   "source": [
    "# Since tuple is a kind of object it can store a tuple within a tuple \n",
    "y = ('a','b',(1,2,3,'r'))\n",
    "y[-1]  # a tuple in tuple "
   ]
  },
  {
   "cell_type": "code",
   "execution_count": 24,
   "metadata": {},
   "outputs": [
    {
     "data": {
      "text/plain": [
       "['__add__',\n",
       " '__class__',\n",
       " '__contains__',\n",
       " '__delattr__',\n",
       " '__dir__',\n",
       " '__doc__',\n",
       " '__eq__',\n",
       " '__format__',\n",
       " '__ge__',\n",
       " '__getattribute__',\n",
       " '__getitem__',\n",
       " '__getnewargs__',\n",
       " '__gt__',\n",
       " '__hash__',\n",
       " '__init__',\n",
       " '__init_subclass__',\n",
       " '__iter__',\n",
       " '__le__',\n",
       " '__len__',\n",
       " '__lt__',\n",
       " '__mul__',\n",
       " '__ne__',\n",
       " '__new__',\n",
       " '__reduce__',\n",
       " '__reduce_ex__',\n",
       " '__repr__',\n",
       " '__rmul__',\n",
       " '__setattr__',\n",
       " '__sizeof__',\n",
       " '__str__',\n",
       " '__subclasshook__',\n",
       " 'count',\n",
       " 'index']"
      ]
     },
     "execution_count": 24,
     "metadata": {},
     "output_type": "execute_result"
    }
   ],
   "source": [
    "dir(tuple)"
   ]
  },
  {
   "cell_type": "markdown",
   "metadata": {},
   "source": [
    "Python Tuple count()\n",
    "The count() method returns the number of times the specified element appears in the tuple.\n",
    "\n",
    "The syntax of the count() method is:\n",
    "\n",
    "tuple.count(element)\n",
    "count() Parameters\n",
    "The count() method takes a single argument:\n",
    "\n",
    "element - the element to be counted\n",
    "Return value from count()\n",
    "The count() method returns the number of times element appears in the tuple."
   ]
  },
  {
   "cell_type": "code",
   "execution_count": 25,
   "metadata": {},
   "outputs": [
    {
     "name": "stdout",
     "output_type": "stream",
     "text": [
      "The count of i is: 2\n",
      "The count of p is: 0\n"
     ]
    }
   ],
   "source": [
    "# vowels tuple\n",
    "vowels = ('a', 'e', 'i', 'o', 'i', 'u')\n",
    "\n",
    "# count element 'i'\n",
    "count = vowels.count('i')\n",
    "\n",
    "# print count\n",
    "print('The count of i is:', count)\n",
    "\n",
    "# count element 'p'\n",
    "count = vowels.count('p')\n",
    "\n",
    "# print count\n",
    "print('The count of p is:', count)"
   ]
  },
  {
   "cell_type": "code",
   "execution_count": 26,
   "metadata": {},
   "outputs": [
    {
     "name": "stdout",
     "output_type": "stream",
     "text": [
      "The count of ('a', 'b') is: 2\n",
      "The count of [3, 4] is: 1\n"
     ]
    }
   ],
   "source": [
    "# random tuple\n",
    "random = ('a', ('a', 'b'), ('a', 'b'), [3, 4])\n",
    "\n",
    "# count element ('a', 'b')\n",
    "count = random.count(('a', 'b'))\n",
    "\n",
    "# print count\n",
    "print(\"The count of ('a', 'b') is:\", count)\n",
    "\n",
    "# count element [3, 4]\n",
    "count = random.count([3, 4])\n",
    "\n",
    "# print count\n",
    "print(\"The count of [3, 4] is:\", count)"
   ]
  },
  {
   "cell_type": "markdown",
   "metadata": {},
   "source": [
    "Python Tuple index()\n",
    "The index() method returns the index of the specified element in the tuple.\n",
    "\n",
    "The syntax of the tuple index() method is:\n",
    "\n",
    "tuple.index(element, start, end)\n",
    "\n",
    "Tuple index() parameters\n",
    "The tuple index() method can take a maximum of three arguments:\n",
    "\n",
    "element - the element to be searched\n",
    "start (optional) - start searching from this index\n",
    "end (optional) - search the element up to this index\n",
    "\n",
    "Return Value from Tuple index()\n",
    "The index() method returns the index of the given element in the tuple.\n",
    "If the element is not found, a ValueError exception is raised.\n",
    "Note: The index() method only returns the first occurrence of the matching element."
   ]
  },
  {
   "cell_type": "code",
   "execution_count": 27,
   "metadata": {},
   "outputs": [
    {
     "name": "stdout",
     "output_type": "stream",
     "text": [
      "The index of e: 1\n",
      "The index of i: 2\n"
     ]
    }
   ],
   "source": [
    "# vowels tuple\n",
    "vowels = ('a', 'e', 'i', 'o', 'i', 'u')\n",
    "\n",
    "# index of 'e' in vowels\n",
    "index = vowels.index('e')\n",
    "print('The index of e:', index)\n",
    "\n",
    "# element 'i' is searched\n",
    "# index of the first 'i' is returned\n",
    "index = vowels.index('i')\n",
    "\n",
    "print('The index of i:', index)"
   ]
  },
  {
   "cell_type": "code",
   "execution_count": 28,
   "metadata": {},
   "outputs": [
    {
     "ename": "ValueError",
     "evalue": "tuple.index(x): x not in tuple",
     "output_type": "error",
     "traceback": [
      "\u001b[1;31m---------------------------------------------------------------------------\u001b[0m",
      "\u001b[1;31mValueError\u001b[0m                                Traceback (most recent call last)",
      "\u001b[1;32m<ipython-input-28-f05cab6b7299>\u001b[0m in \u001b[0;36m<module>\u001b[1;34m\u001b[0m\n\u001b[0;32m      3\u001b[0m \u001b[1;33m\u001b[0m\u001b[0m\n\u001b[0;32m      4\u001b[0m \u001b[1;31m# index of'p' is vowels\u001b[0m\u001b[1;33m\u001b[0m\u001b[1;33m\u001b[0m\u001b[1;33m\u001b[0m\u001b[0m\n\u001b[1;32m----> 5\u001b[1;33m \u001b[0mindex\u001b[0m \u001b[1;33m=\u001b[0m \u001b[0mvowels\u001b[0m\u001b[1;33m.\u001b[0m\u001b[0mindex\u001b[0m\u001b[1;33m(\u001b[0m\u001b[1;34m'p'\u001b[0m\u001b[1;33m)\u001b[0m\u001b[1;33m\u001b[0m\u001b[1;33m\u001b[0m\u001b[0m\n\u001b[0m\u001b[0;32m      6\u001b[0m \u001b[0mprint\u001b[0m\u001b[1;33m(\u001b[0m\u001b[1;34m'The index of p:'\u001b[0m\u001b[1;33m,\u001b[0m \u001b[0mindex\u001b[0m\u001b[1;33m)\u001b[0m\u001b[1;33m\u001b[0m\u001b[1;33m\u001b[0m\u001b[0m\n",
      "\u001b[1;31mValueError\u001b[0m: tuple.index(x): x not in tuple"
     ]
    }
   ],
   "source": [
    "# vowels tuple\n",
    "vowels = ('a', 'e', 'i', 'o', 'u')\n",
    "\n",
    "# index of'p' is vowels\n",
    "index = vowels.index('p')\n",
    "print('The index of p:', index)"
   ]
  },
  {
   "cell_type": "code",
   "execution_count": 29,
   "metadata": {},
   "outputs": [
    {
     "name": "stdout",
     "output_type": "stream",
     "text": [
      "The index of e: 1\n",
      "The index of i: 6\n"
     ]
    },
    {
     "ename": "ValueError",
     "evalue": "tuple.index(x): x not in tuple",
     "output_type": "error",
     "traceback": [
      "\u001b[1;31m---------------------------------------------------------------------------\u001b[0m",
      "\u001b[1;31mValueError\u001b[0m                                Traceback (most recent call last)",
      "\u001b[1;32m<ipython-input-29-ba3b165788ad>\u001b[0m in \u001b[0;36m<module>\u001b[1;34m\u001b[0m\n\u001b[0;32m     11\u001b[0m \u001b[1;33m\u001b[0m\u001b[0m\n\u001b[0;32m     12\u001b[0m \u001b[1;31m# 'i' between 3rd and 5th index is searched\u001b[0m\u001b[1;33m\u001b[0m\u001b[1;33m\u001b[0m\u001b[1;33m\u001b[0m\u001b[0m\n\u001b[1;32m---> 13\u001b[1;33m \u001b[0mindex\u001b[0m \u001b[1;33m=\u001b[0m \u001b[0malphabets\u001b[0m\u001b[1;33m.\u001b[0m\u001b[0mindex\u001b[0m\u001b[1;33m(\u001b[0m\u001b[1;34m'i'\u001b[0m\u001b[1;33m,\u001b[0m \u001b[1;36m3\u001b[0m\u001b[1;33m,\u001b[0m \u001b[1;36m5\u001b[0m\u001b[1;33m)\u001b[0m   \u001b[1;31m# Error!\u001b[0m\u001b[1;33m\u001b[0m\u001b[1;33m\u001b[0m\u001b[0m\n\u001b[0m\u001b[0;32m     14\u001b[0m \u001b[0mprint\u001b[0m\u001b[1;33m(\u001b[0m\u001b[1;34m'The index of i:'\u001b[0m\u001b[1;33m,\u001b[0m \u001b[0mindex\u001b[0m\u001b[1;33m)\u001b[0m\u001b[1;33m\u001b[0m\u001b[1;33m\u001b[0m\u001b[0m\n",
      "\u001b[1;31mValueError\u001b[0m: tuple.index(x): x not in tuple"
     ]
    }
   ],
   "source": [
    "# alphabets tuple\n",
    "alphabets = ('a', 'e', 'i', 'o', 'g', 'l', 'i', 'u')\n",
    "\n",
    "# index of 'i' in alphabets\n",
    "index = alphabets.index('e')   # 2\n",
    "print('The index of e:', index)\n",
    "\n",
    "# 'i' after the 4th index is searched\n",
    "index = alphabets.index('i', 4)   # 6\n",
    "print('The index of i:', index)\n",
    "\n",
    "# 'i' between 3rd and 5th index is searched\n",
    "index = alphabets.index('i', 3, 5)   # Error!\n",
    "print('The index of i:', index)"
   ]
  },
  {
   "cell_type": "markdown",
   "metadata": {},
   "source": [
    "Most operators, such as those for slicing and indexing, work as they do on lists. However, because tuples are immutable, trying to modify an element of a tuple will give you a TypeError. We can compare tuples in the same way that we compare other sequences, using the ==, > and < operators.\n",
    "\n",
    "An important use of tuples is to allow us to assign more than one variable at a time by placing a tuple on the left-hand side of an assignment, for example:"
   ]
  },
  {
   "cell_type": "code",
   "execution_count": 9,
   "metadata": {},
   "outputs": [
    {
     "name": "stdout",
     "output_type": "stream",
     "text": [
      "one two\n",
      "two\n"
     ]
    }
   ],
   "source": [
    "l = ('one', 'two')\n",
    "x,y =l  # Unpacking a Tuple \n",
    "print(x+' '+y)\n",
    "print(y)"
   ]
  },
  {
   "cell_type": "code",
   "execution_count": 14,
   "metadata": {},
   "outputs": [
    {
     "name": "stdout",
     "output_type": "stream",
     "text": [
      "12\t13\t14\t15\n"
     ]
    }
   ],
   "source": [
    "list_1 = [12,13,14,15]\n",
    "\n",
    "w,x,y,z = list_1  # unpacking a list\n",
    "\n",
    "print(w,x,y,z,sep='\\t')"
   ]
  },
  {
   "cell_type": "code",
   "execution_count": 35,
   "metadata": {},
   "outputs": [
    {
     "name": "stdout",
     "output_type": "stream",
     "text": [
      "two\n",
      "one\n"
     ]
    }
   ],
   "source": [
    "# swap\n",
    "x,y = y,x \n",
    "print(x)\n",
    "print(y)"
   ]
  },
  {
   "cell_type": "markdown",
   "metadata": {},
   "source": [
    "# LISTS"
   ]
  },
  {
   "cell_type": "markdown",
   "metadata": {},
   "source": [
    "Lists are probably the most used built-in data structures in Python because they can be composed of any number of other data types. They are a simple representation of arbitrary objects. Like strings, they are indexed by integers starting with zero."
   ]
  },
  {
   "cell_type": "markdown",
   "metadata": {},
   "source": [
    "When we are working with lists, and other container objects, it is important to understand the internal mechanism that Python uses to copy them. Python creates real copies only if it has to. When we assign the value of a variable to another variable, both of these variables point to the same memory location. A new slot in memory will only be allocated if one of the variables changes. This has important consequences for mutable compound objects such as lists. Consider the following code:"
   ]
  },
  {
   "cell_type": "code",
   "execution_count": 36,
   "metadata": {},
   "outputs": [
    {
     "data": {
      "text/plain": [
       "[1, 4, 3]"
      ]
     },
     "execution_count": 36,
     "metadata": {},
     "output_type": "execute_result"
    }
   ],
   "source": [
    "x=1;y=2;z=3\n",
    "list1 = [x,y,z]\n",
    "list2 = list1\n",
    "list2[1]=4\n",
    "list1"
   ]
  },
  {
   "cell_type": "markdown",
   "metadata": {},
   "source": [
    "List Index\n",
    "We can use the index operator [] to access an item in a list. In Python, indices start at 0. So, a list having 5 elements will have an index from 0 to 4.\n",
    "\n",
    "Trying to access indexes other than these will raise an IndexError. The index must be an integer. We can't use float or other types, this will result in TypeError.\n",
    "\n",
    "Nested lists are accessed using nested indexing."
   ]
  },
  {
   "cell_type": "code",
   "execution_count": 1,
   "metadata": {},
   "outputs": [
    {
     "name": "stdout",
     "output_type": "stream",
     "text": [
      "p\n",
      "o\n",
      "e\n",
      "a\n",
      "5\n"
     ]
    },
    {
     "ename": "TypeError",
     "evalue": "list indices must be integers or slices, not float",
     "output_type": "error",
     "traceback": [
      "\u001b[1;31m---------------------------------------------------------------------------\u001b[0m",
      "\u001b[1;31mTypeError\u001b[0m                                 Traceback (most recent call last)",
      "\u001b[1;32m<ipython-input-1-a3454131d830>\u001b[0m in \u001b[0;36m<module>\u001b[1;34m\u001b[0m\n\u001b[0;32m     21\u001b[0m \u001b[1;33m\u001b[0m\u001b[0m\n\u001b[0;32m     22\u001b[0m \u001b[1;31m# Error! Only integer can be used for indexing\u001b[0m\u001b[1;33m\u001b[0m\u001b[1;33m\u001b[0m\u001b[1;33m\u001b[0m\u001b[0m\n\u001b[1;32m---> 23\u001b[1;33m \u001b[0mprint\u001b[0m\u001b[1;33m(\u001b[0m\u001b[0mmy_list\u001b[0m\u001b[1;33m[\u001b[0m\u001b[1;36m4.0\u001b[0m\u001b[1;33m]\u001b[0m\u001b[1;33m)\u001b[0m\u001b[1;33m\u001b[0m\u001b[1;33m\u001b[0m\u001b[0m\n\u001b[0m",
      "\u001b[1;31mTypeError\u001b[0m: list indices must be integers or slices, not float"
     ]
    }
   ],
   "source": [
    "# List indexing\n",
    "\n",
    "my_list = ['p', 'r', 'o', 'b', 'e']\n",
    "\n",
    "# Output: p\n",
    "print(my_list[0])\n",
    "\n",
    "# Output: o\n",
    "print(my_list[2])\n",
    "\n",
    "# Output: e\n",
    "print(my_list[4])\n",
    "\n",
    "# Nested List\n",
    "n_list = [\"Happy\", [2, 0, 1, 5]]\n",
    "\n",
    "# Nested indexing\n",
    "print(n_list[0][1])\n",
    "\n",
    "print(n_list[1][3])\n",
    "\n",
    "# Error! Only integer can be used for indexing\n",
    "print(my_list[4.0])"
   ]
  },
  {
   "cell_type": "markdown",
   "metadata": {},
   "source": [
    "Negative indexing\n",
    "Python allows negative indexing for its sequences. The index of -1 refers to the last item, -2 to the second last item and so on."
   ]
  },
  {
   "cell_type": "code",
   "execution_count": 2,
   "metadata": {},
   "outputs": [
    {
     "name": "stdout",
     "output_type": "stream",
     "text": [
      "e\n",
      "p\n"
     ]
    }
   ],
   "source": [
    "# Negative indexing in lists\n",
    "my_list = ['p','r','o','b','e']\n",
    "\n",
    "print(my_list[-1])\n",
    "\n",
    "print(my_list[-5])"
   ]
  },
  {
   "cell_type": "markdown",
   "metadata": {},
   "source": [
    "How to slice lists in Python?\n",
    "We can access a range of items in a list by using the slicing operator :(colon)."
   ]
  },
  {
   "cell_type": "code",
   "execution_count": 3,
   "metadata": {},
   "outputs": [
    {
     "name": "stdout",
     "output_type": "stream",
     "text": [
      "['o', 'g', 'r']\n",
      "['p', 'r', 'o', 'g']\n",
      "['a', 'm', 'i', 'z']\n",
      "['p', 'r', 'o', 'g', 'r', 'a', 'm', 'i', 'z']\n"
     ]
    }
   ],
   "source": [
    "# List slicing in Python\n",
    "\n",
    "my_list = ['p','r','o','g','r','a','m','i','z']\n",
    "\n",
    "# elements 3rd to 5th\n",
    "print(my_list[2:5])\n",
    "\n",
    "# elements beginning to 4th\n",
    "print(my_list[:-5])\n",
    "\n",
    "# elements 6th to end\n",
    "print(my_list[5:])\n",
    "\n",
    "# elements beginning to end\n",
    "print(my_list[:])"
   ]
  },
  {
   "cell_type": "markdown",
   "metadata": {},
   "source": [
    "How to change or add elements to a list?\n",
    "Lists are mutable, meaning their elements can be changed unlike string or tuple.\n",
    "\n",
    "We can use the assignment operator (=) to change an item or a range of items."
   ]
  },
  {
   "cell_type": "code",
   "execution_count": 4,
   "metadata": {},
   "outputs": [
    {
     "name": "stdout",
     "output_type": "stream",
     "text": [
      "[1, 4, 6, 8]\n",
      "[1, 3, 5, 7]\n"
     ]
    }
   ],
   "source": [
    "# Correcting mistake values in a list\n",
    "odd = [2, 4, 6, 8]\n",
    "\n",
    "# change the 1st item    \n",
    "odd[0] = 1            \n",
    "\n",
    "print(odd)\n",
    "\n",
    "# change 2nd to 4th items\n",
    "odd[1:4] = [3, 5, 7]  \n",
    "\n",
    "print(odd)                   "
   ]
  },
  {
   "cell_type": "markdown",
   "metadata": {},
   "source": [
    "We can add one item to a list using the append() method or add several items using extend() method."
   ]
  },
  {
   "cell_type": "code",
   "execution_count": 5,
   "metadata": {},
   "outputs": [
    {
     "name": "stdout",
     "output_type": "stream",
     "text": [
      "[1, 3, 5, 7]\n",
      "[1, 3, 5, 7, 9, 11, 13]\n"
     ]
    }
   ],
   "source": [
    "# Appending and Extending lists in Python\n",
    "odd = [1, 3, 5]\n",
    "\n",
    "odd.append(7)\n",
    "\n",
    "print(odd)\n",
    "\n",
    "odd.extend([9, 11, 13])\n",
    "\n",
    "print(odd)"
   ]
  },
  {
   "cell_type": "code",
   "execution_count": null,
   "metadata": {},
   "outputs": [],
   "source": [
    "Operation\n",
    "\n",
    "Result                                     Notes\n",
    "\n",
    "s[i] = x                         item i of s is replaced by x\n",
    "\n",
    "s[i:j] = t           slice of s from i to j is replaced by the contents of the                                            iterable t\n",
    "\n",
    "del s[i:j]                            same as s[i:j] = []\n",
    "\n",
    "s[i:j:k] = t       the elements of s[i:j:k] are replaced by those of t  (1)\n",
    "\n",
    "del s[i:j:k]          removes the elements of s[i:j:k] from the list\n",
    "\n",
    "s.append(x)          appends x to the end of the sequence (same as                                               s[len(s):len(s)] = [x])\n",
    "\n",
    "s.clear()               removes all items from s (same as del s[:])   (5)\n",
    "\n",
    "s.copy()                 creates a shallow copy of s (same as s[:])   (5)\n",
    "\n",
    "s.extend(t) or s += t    extends s with the contents of t (for the most part                                 the same as s[len(s):len(s)] = t)\n",
    "\n",
    "s *= n                   updates s with its contents repeated n times    (6)\n",
    "\n",
    "s.insert(i, x)        inserts x into s at the index given by i (same as s[i:i]                                          = [x])\n",
    "\n",
    "s.pop([i])            retrieves the item at i and also removes it from s  (2)\n",
    "\n",
    "s.remove(x)          remove the first item from s where s[i] is equal to x (3)\n",
    "\n",
    "s.reverse()                 reverses the items of s in place    (4)\n",
    "\n",
    "Notes:\n",
    "\n",
    "1.t must have the same length as the slice it is replacing.\n",
    "\n",
    "2.The optional argument i defaults to -1, so that by default the last item is removed and returned.\n",
    "\n",
    "3.remove() raises ValueError when x is not found in s.\n",
    "\n",
    "4.The reverse() method modifies the sequence in place for economy of space when reversing a large sequence. To remind users that it operates by side effect, it does not return the reversed sequence.\n",
    "\n",
    "5.clear() and copy() are included for consistency with the interfaces of mutable containers that don’t support slicing operations (such as dict and set). copy() is not part of the collections.abc.MutableSequence ABC, but most concrete mutable sequence classes provide it.\n",
    "\n",
    "New in version 3.3: clear() and copy() methods.\n",
    "\n",
    "6.The value n is an integer, or an object implementing __index__(). Zero and negative values of n clear the sequence. Items in the sequence are not copied; they are referenced multiple times, as explained for s * n under Common Sequence Operations."
   ]
  },
  {
   "cell_type": "markdown",
   "metadata": {},
   "source": [
    "We can also use + operator to combine two lists. This is also called concatenation.\n",
    "\n",
    "The * operator repeats a list for the given number of times."
   ]
  },
  {
   "cell_type": "code",
   "execution_count": 6,
   "metadata": {},
   "outputs": [
    {
     "name": "stdout",
     "output_type": "stream",
     "text": [
      "[1, 3, 5, 9, 7, 5]\n",
      "['re', 're', 're']\n"
     ]
    }
   ],
   "source": [
    "# Concatenating and repeating lists\n",
    "odd = [1, 3, 5]\n",
    "\n",
    "print(odd + [9, 7, 5])\n",
    "\n",
    "print([\"re\"] * 3)"
   ]
  },
  {
   "cell_type": "markdown",
   "metadata": {},
   "source": [
    "Furthermore, we can insert one item at a desired location by using the method insert() or insert multiple items by squeezing it into an empty slice of a list."
   ]
  },
  {
   "cell_type": "code",
   "execution_count": 7,
   "metadata": {},
   "outputs": [
    {
     "name": "stdout",
     "output_type": "stream",
     "text": [
      "[1, 3, 9]\n",
      "[1, 3, 5, 7, 9]\n"
     ]
    }
   ],
   "source": [
    "# Demonstration of list insert() method\n",
    "odd = [1, 9]\n",
    "odd.insert(1,3)\n",
    "\n",
    "print(odd)\n",
    "\n",
    "odd[2:2] = [5, 7]\n",
    "\n",
    "print(odd)"
   ]
  },
  {
   "cell_type": "markdown",
   "metadata": {},
   "source": [
    "How to delete or remove elements from a list?\n",
    "\n",
    "We can delete one or more items from a list using the keyword del. It can even delete the list entirely."
   ]
  },
  {
   "cell_type": "code",
   "execution_count": 8,
   "metadata": {},
   "outputs": [
    {
     "name": "stdout",
     "output_type": "stream",
     "text": [
      "['p', 'r', 'b', 'l', 'e', 'm']\n",
      "['p', 'm']\n"
     ]
    },
    {
     "ename": "NameError",
     "evalue": "name 'my_list' is not defined",
     "output_type": "error",
     "traceback": [
      "\u001b[1;31m---------------------------------------------------------------------------\u001b[0m",
      "\u001b[1;31mNameError\u001b[0m                                 Traceback (most recent call last)",
      "\u001b[1;32m<ipython-input-8-081d50d030eb>\u001b[0m in \u001b[0;36m<module>\u001b[1;34m\u001b[0m\n\u001b[0;32m     16\u001b[0m \u001b[1;33m\u001b[0m\u001b[0m\n\u001b[0;32m     17\u001b[0m \u001b[1;31m# Error: List not defined\u001b[0m\u001b[1;33m\u001b[0m\u001b[1;33m\u001b[0m\u001b[1;33m\u001b[0m\u001b[0m\n\u001b[1;32m---> 18\u001b[1;33m \u001b[0mprint\u001b[0m\u001b[1;33m(\u001b[0m\u001b[0mmy_list\u001b[0m\u001b[1;33m)\u001b[0m\u001b[1;33m\u001b[0m\u001b[1;33m\u001b[0m\u001b[0m\n\u001b[0m",
      "\u001b[1;31mNameError\u001b[0m: name 'my_list' is not defined"
     ]
    }
   ],
   "source": [
    "# Deleting list items\n",
    "my_list = ['p', 'r', 'o', 'b', 'l', 'e', 'm']\n",
    "\n",
    "# delete one item\n",
    "del my_list[2]\n",
    "\n",
    "print(my_list)\n",
    "\n",
    "# delete multiple items\n",
    "del my_list[1:5]\n",
    "\n",
    "print(my_list)\n",
    "\n",
    "# delete entire list\n",
    "del my_list\n",
    "\n",
    "# Error: List not defined\n",
    "print(my_list)"
   ]
  },
  {
   "cell_type": "code",
   "execution_count": 12,
   "metadata": {},
   "outputs": [
    {
     "name": "stdout",
     "output_type": "stream",
     "text": [
      "[2, 4, 5, 6, 7, 8, 9, 10, 11, 12, 13, 14, 15, 20]\n"
     ]
    }
   ],
   "source": [
    "list_1 = [1,2,3,4,5,6,7,8,9,10,11,12,13,14,15,16,20]\n",
    "\n",
    "for index,number in enumerate(list_1):\n",
    "    if (number < 5) or (number > 15):\n",
    "        del list_1[index]\n",
    "\n",
    "print(list_1)  # shows a wrong result"
   ]
  },
  {
   "cell_type": "raw",
   "metadata": {},
   "source": [
    "# One solution to this is to REMOVE THE ITEMS BACKWARDS"
   ]
  },
  {
   "cell_type": "code",
   "execution_count": 13,
   "metadata": {},
   "outputs": [
    {
     "name": "stdout",
     "output_type": "stream",
     "text": [
      "[5, 6, 7, 8, 9, 10, 11, 12, 13, 14, 15]\n"
     ]
    }
   ],
   "source": [
    "list_1 = [1,2,3,4,5,6,7,8,9,10,11,12,13,14,15,16,20]\n",
    "\n",
    "for index in range(len(list_1)-1, -1 , -1):\n",
    "    if (list_1[index]<5) or (list_1[index]>15):\n",
    "        del list_1[index]\n",
    "print(list_1)  # shows a right result"
   ]
  },
  {
   "cell_type": "code",
   "execution_count": 18,
   "metadata": {},
   "outputs": [
    {
     "name": "stdout",
     "output_type": "stream",
     "text": [
      "[5, 6, 7, 8, 9, 10, 11, 12, 13, 14, 15]\n"
     ]
    }
   ],
   "source": [
    "list_1 = [1,2,3,4,5,6,7,8,9,10,11,12,13,14,15,16,20]\n",
    "\n",
    "top_index = len(list_1) -1 \n",
    "for index,number in enumerate(reversed(list_1)):\n",
    "    if (number<5) or (number>15):\n",
    "        del list_1[top_index - index]\n",
    "        \n",
    "print(list_1)  # shows a right result"
   ]
  },
  {
   "cell_type": "markdown",
   "metadata": {},
   "source": [
    "We can use remove() method to remove the given item or pop() method to remove an item at the given index.\n",
    "\n",
    "The pop() method removes and returns the last item if the index is not provided. This helps us implement lists as stacks (first in, last out data structure).\n",
    "\n",
    "We can also use the clear() method to empty a list."
   ]
  },
  {
   "cell_type": "code",
   "execution_count": 9,
   "metadata": {},
   "outputs": [
    {
     "name": "stdout",
     "output_type": "stream",
     "text": [
      "['r', 'o', 'b', 'l', 'e', 'm']\n",
      "o\n",
      "['r', 'b', 'l', 'e', 'm']\n",
      "m\n",
      "['r', 'b', 'l', 'e']\n",
      "[]\n"
     ]
    }
   ],
   "source": [
    "my_list = ['p','r','o','b','l','e','m']\n",
    "my_list.remove('p')\n",
    "\n",
    "# Output: ['r', 'o', 'b', 'l', 'e', 'm']\n",
    "print(my_list)\n",
    "\n",
    "# Output: 'o'\n",
    "print(my_list.pop(1))\n",
    "\n",
    "# Output: ['r', 'b', 'l', 'e', 'm']\n",
    "print(my_list)\n",
    "\n",
    "# Output: 'm'\n",
    "print(my_list.pop())\n",
    "\n",
    "# Output: ['r', 'b', 'l', 'e']\n",
    "print(my_list)\n",
    "\n",
    "my_list.clear()\n",
    "\n",
    "# Output: []\n",
    "print(my_list)"
   ]
  },
  {
   "cell_type": "raw",
   "metadata": {},
   "source": [
    "Finally, we can also delete items in a list by assigning an empty list to a slice of elements."
   ]
  },
  {
   "cell_type": "code",
   "execution_count": 11,
   "metadata": {},
   "outputs": [
    {
     "name": "stdout",
     "output_type": "stream",
     "text": [
      "['p', 'r', 'b', 'l', 'e', 'm']\n",
      "['p', 'r', 'm']\n"
     ]
    }
   ],
   "source": [
    "my_list = ['p','r','o','b','l','e','m']\n",
    "my_list[2:3] = []\n",
    "print(my_list)\n",
    "\n",
    "my_list[2:5] = []\n",
    "print(my_list)"
   ]
  },
  {
   "cell_type": "markdown",
   "metadata": {},
   "source": [
    "Python List Methods\n",
    "Methods that are available with list objects in Python programming are tabulated below.\n",
    "\n",
    "They are accessed as list.method(). Some of the methods have already been used above."
   ]
  },
  {
   "cell_type": "code",
   "execution_count": null,
   "metadata": {},
   "outputs": [],
   "source": [
    "Python List Methods\n",
    "append() - Add an element to the end of the list\n",
    "extend() - Add all elements of a list to the another list\n",
    "insert() - Insert an item at the defined index\n",
    "remove() - Removes an item from the list\n",
    "pop() - Removes and returns an element at the given index\n",
    "clear() - Removes all items from the list\n",
    "index() - Returns the index of the first matched item\n",
    "count() - Returns the count of the number of items passed as an argument\n",
    "sort() - Sort items in a list in ascending order\n",
    "reverse() - Reverse the order of items in the list\n",
    "copy() - Returns a shallow copy of the list"
   ]
  },
  {
   "cell_type": "markdown",
   "metadata": {},
   "source": [
    "Iterating Through a List\n",
    "\n",
    "Using a for loop we can iterate through each item in a list."
   ]
  },
  {
   "cell_type": "code",
   "execution_count": 12,
   "metadata": {},
   "outputs": [
    {
     "name": "stdout",
     "output_type": "stream",
     "text": [
      "I like apple\n",
      "I like banana\n",
      "I like mango\n"
     ]
    }
   ],
   "source": [
    "for fruit in ['apple','banana','mango']:\n",
    "    print(\"I like\",fruit)"
   ]
  },
  {
   "cell_type": "markdown",
   "metadata": {},
   "source": [
    "List Membership Test\n",
    "\n",
    "We can test if an item exists in a list or not, using the keyword in."
   ]
  },
  {
   "cell_type": "code",
   "execution_count": 13,
   "metadata": {},
   "outputs": [
    {
     "name": "stdout",
     "output_type": "stream",
     "text": [
      "True\n",
      "False\n",
      "True\n"
     ]
    }
   ],
   "source": [
    "my_list = ['p', 'r', 'o', 'b', 'l', 'e', 'm']\n",
    "\n",
    "# Output: True\n",
    "print('p' in my_list)\n",
    "\n",
    "# Output: False\n",
    "print('a' in my_list)\n",
    "\n",
    "# Output: True\n",
    "print('c' not in my_list)"
   ]
  },
  {
   "cell_type": "markdown",
   "metadata": {},
   "source": [
    "List Comprehension: Elegant way to create new List\n",
    "List comprehension is an elegant and concise way to create a new list from an existing list in Python.\n",
    "\n",
    "A list comprehension consists of an expression followed by for statement inside square brackets.\n",
    "\n",
    "Here is an example to make a list with each item being increasing power of 2."
   ]
  },
  {
   "cell_type": "code",
   "execution_count": 14,
   "metadata": {},
   "outputs": [
    {
     "name": "stdout",
     "output_type": "stream",
     "text": [
      "[1, 2, 4, 8, 16, 32, 64, 128, 256, 512]\n"
     ]
    }
   ],
   "source": [
    "pow2 = [2 ** x for x in range(10)]\n",
    "print(pow2)"
   ]
  },
  {
   "cell_type": "code",
   "execution_count": 16,
   "metadata": {},
   "outputs": [
    {
     "name": "stdout",
     "output_type": "stream",
     "text": [
      "[1, 2, 4, 8, 16, 32, 64, 128, 256, 512]\n"
     ]
    }
   ],
   "source": [
    "#This code is equivalent to:\n",
    "\n",
    "pow2 = []\n",
    "for x in range(10):\n",
    "    pow2.append(2 ** x)\n",
    "print(pow2)"
   ]
  },
  {
   "cell_type": "markdown",
   "metadata": {},
   "source": [
    "A list comprehension can optionally contain more for or if statements. An optional if statement can filter out items for the new list. Here are some examples."
   ]
  },
  {
   "cell_type": "code",
   "execution_count": 17,
   "metadata": {},
   "outputs": [
    {
     "data": {
      "text/plain": [
       "[64, 128, 256, 512]"
      ]
     },
     "execution_count": 17,
     "metadata": {},
     "output_type": "execute_result"
    }
   ],
   "source": [
    "pow2 = [2 ** x for x in range(10) if x > 5]\n",
    "pow2"
   ]
  },
  {
   "cell_type": "code",
   "execution_count": 18,
   "metadata": {},
   "outputs": [
    {
     "data": {
      "text/plain": [
       "[1, 3, 5, 7, 9, 11, 13, 15, 17, 19]"
      ]
     },
     "execution_count": 18,
     "metadata": {},
     "output_type": "execute_result"
    }
   ],
   "source": [
    "odd = [x for x in range(20) if x % 2 == 1]\n",
    "odd\n"
   ]
  },
  {
   "cell_type": "code",
   "execution_count": 19,
   "metadata": {},
   "outputs": [
    {
     "data": {
      "text/plain": [
       "['Python Language', 'Python Programming', 'C Language', 'C Programming']"
      ]
     },
     "execution_count": 19,
     "metadata": {},
     "output_type": "execute_result"
    }
   ],
   "source": [
    "[x+y for x in ['Python ','C '] for y in ['Language','Programming']]\n",
    "['Python Language', 'Python Programming', 'C Language', 'C Programming']"
   ]
  },
  {
   "cell_type": "code",
   "execution_count": 37,
   "metadata": {},
   "outputs": [
    {
     "data": {
      "text/plain": [
       "['__add__',\n",
       " '__class__',\n",
       " '__contains__',\n",
       " '__delattr__',\n",
       " '__delitem__',\n",
       " '__dir__',\n",
       " '__doc__',\n",
       " '__eq__',\n",
       " '__format__',\n",
       " '__ge__',\n",
       " '__getattribute__',\n",
       " '__getitem__',\n",
       " '__gt__',\n",
       " '__hash__',\n",
       " '__iadd__',\n",
       " '__imul__',\n",
       " '__init__',\n",
       " '__init_subclass__',\n",
       " '__iter__',\n",
       " '__le__',\n",
       " '__len__',\n",
       " '__lt__',\n",
       " '__mul__',\n",
       " '__ne__',\n",
       " '__new__',\n",
       " '__reduce__',\n",
       " '__reduce_ex__',\n",
       " '__repr__',\n",
       " '__reversed__',\n",
       " '__rmul__',\n",
       " '__setattr__',\n",
       " '__setitem__',\n",
       " '__sizeof__',\n",
       " '__str__',\n",
       " '__subclasshook__',\n",
       " 'append',\n",
       " 'clear',\n",
       " 'copy',\n",
       " 'count',\n",
       " 'extend',\n",
       " 'index',\n",
       " 'insert',\n",
       " 'pop',\n",
       " 'remove',\n",
       " 'reverse',\n",
       " 'sort']"
      ]
     },
     "execution_count": 37,
     "metadata": {},
     "output_type": "execute_result"
    }
   ],
   "source": [
    "dir(list)"
   ]
  },
  {
   "cell_type": "markdown",
   "metadata": {},
   "source": [
    "Python List index()\n",
    "The index() method returns the index of the specified element in the list.\n",
    "\n",
    "The syntax of the list index() method is:\n",
    "\n",
    "list.index(element, start, end)\n",
    "\n",
    "list index() parameters\n",
    "The list index() method can take a maximum of three arguments:\n",
    "\n",
    "element - the element to be searched\n",
    "start (optional) - start searching from this index\n",
    "end (optional) - search the element up to this index\n",
    "\n",
    "Return Value from List index()\n",
    "The index() method returns the index of the given element in the list.\n",
    "If the element is not found, a ValueError exception is raised.\n",
    "\n",
    "Note: The index() method only returns the first occurrence of the matching element."
   ]
  },
  {
   "cell_type": "code",
   "execution_count": 38,
   "metadata": {},
   "outputs": [
    {
     "name": "stdout",
     "output_type": "stream",
     "text": [
      "The index of e: 1\n",
      "The index of i: 2\n",
      "The index of e: 1\n",
      "The index of i: 6\n"
     ]
    },
    {
     "ename": "ValueError",
     "evalue": "'i' is not in list",
     "output_type": "error",
     "traceback": [
      "\u001b[1;31m---------------------------------------------------------------------------\u001b[0m",
      "\u001b[1;31mValueError\u001b[0m                                Traceback (most recent call last)",
      "\u001b[1;32m<ipython-input-38-9ae5dd034352>\u001b[0m in \u001b[0;36m<module>\u001b[1;34m\u001b[0m\n\u001b[0;32m     24\u001b[0m \u001b[1;33m\u001b[0m\u001b[0m\n\u001b[0;32m     25\u001b[0m \u001b[1;31m# 'i' between 3rd and 5th index is searched\u001b[0m\u001b[1;33m\u001b[0m\u001b[1;33m\u001b[0m\u001b[1;33m\u001b[0m\u001b[0m\n\u001b[1;32m---> 26\u001b[1;33m \u001b[0mindex\u001b[0m \u001b[1;33m=\u001b[0m \u001b[0malphabets\u001b[0m\u001b[1;33m.\u001b[0m\u001b[0mindex\u001b[0m\u001b[1;33m(\u001b[0m\u001b[1;34m'i'\u001b[0m\u001b[1;33m,\u001b[0m \u001b[1;36m3\u001b[0m\u001b[1;33m,\u001b[0m \u001b[1;36m5\u001b[0m\u001b[1;33m)\u001b[0m   \u001b[1;31m# Error!\u001b[0m\u001b[1;33m\u001b[0m\u001b[1;33m\u001b[0m\u001b[0m\n\u001b[0m\u001b[0;32m     27\u001b[0m \u001b[0mprint\u001b[0m\u001b[1;33m(\u001b[0m\u001b[1;34m'The index of i:'\u001b[0m\u001b[1;33m,\u001b[0m \u001b[0mindex\u001b[0m\u001b[1;33m)\u001b[0m\u001b[1;33m\u001b[0m\u001b[1;33m\u001b[0m\u001b[0m\n",
      "\u001b[1;31mValueError\u001b[0m: 'i' is not in list"
     ]
    }
   ],
   "source": [
    "# vowels list\n",
    "vowels = ['a', 'e', 'i', 'o', 'i', 'u']\n",
    "\n",
    "# index of 'e' in vowels\n",
    "index = vowels.index('e')\n",
    "print('The index of e:', index)\n",
    "\n",
    "# element 'i' is searched\n",
    "# index of the first 'i' is returned\n",
    "index = vowels.index('i')\n",
    "\n",
    "print('The index of i:', index)\n",
    "\n",
    "# alphabets list\n",
    "alphabets = ['a', 'e', 'i', 'o', 'g', 'l', 'i', 'u']\n",
    "\n",
    "# index of 'i' in alphabets\n",
    "index = alphabets.index('e')   # 2\n",
    "print('The index of e:', index)\n",
    "\n",
    "# 'i' after the 4th index is searched\n",
    "index = alphabets.index('i', 4)   # 6\n",
    "print('The index of i:', index)\n",
    "\n",
    "# 'i' between 3rd and 5th index is searched\n",
    "index = alphabets.index('i', 3, 5)   # Error!\n",
    "print('The index of i:', index)"
   ]
  },
  {
   "cell_type": "markdown",
   "metadata": {},
   "source": [
    "Python List append()\n",
    "The append() method adds an item to the end of the list.\n",
    "\n",
    "The syntax of the append() method is:\n",
    "\n",
    "list.append(item)\n",
    "\n",
    "append() Parameters\n",
    "The method takes a single argument\n",
    "\n",
    "item - an item to be added at the end of the list\n",
    "The item can be numbers, strings, dictionaries, another list, and so on.\n",
    "\n",
    "Return Value from append()\n",
    "The method doesn't return any value (returns None)."
   ]
  },
  {
   "cell_type": "code",
   "execution_count": 39,
   "metadata": {},
   "outputs": [
    {
     "name": "stdout",
     "output_type": "stream",
     "text": [
      "Updated animals list:  ['cat', 'dog', 'rabbit', 'guinea pig']\n"
     ]
    }
   ],
   "source": [
    "# animals list\n",
    "animals = ['cat', 'dog', 'rabbit']\n",
    "\n",
    "# 'guinea pig' is appended to the animals list\n",
    "animals.append('guinea pig')\n",
    "\n",
    "# Updated animals list\n",
    "print('Updated animals list: ', animals)"
   ]
  },
  {
   "cell_type": "code",
   "execution_count": 40,
   "metadata": {},
   "outputs": [
    {
     "name": "stdout",
     "output_type": "stream",
     "text": [
      "Updated animals list:  ['cat', 'dog', 'rabbit', ['tiger', 'fox']]\n"
     ]
    }
   ],
   "source": [
    "#Example 2: Adding List to a List\n",
    "\n",
    "# animals list\n",
    "animals = ['cat', 'dog', 'rabbit']\n",
    "\n",
    "# list of wild animals\n",
    "wild_animals = ['tiger', 'fox']\n",
    "\n",
    "# appending wild_animals list to the animals list\n",
    "animals.append(wild_animals)\n",
    "\n",
    "print('Updated animals list: ', animals)"
   ]
  },
  {
   "cell_type": "markdown",
   "metadata": {},
   "source": [
    "It is important to notice that, a single item (wild_animals list) is added to the animals list in the above program.\n",
    "\n",
    "If you need to add items of a list to another list (rather than the list itself), use the extend() method."
   ]
  },
  {
   "cell_type": "markdown",
   "metadata": {},
   "source": [
    "Python List extend()\n",
    "The extend() method adds all the elements of an iterable (list, tuple, string etc.) to the end of the list.\n",
    "\n",
    "The syntax of the extend() method is:\n",
    "\n",
    "list1.extend(iterable)\n",
    "\n",
    "Here, all the elements of iterable are added to the end of list1.\n",
    "\n",
    "extend() Parameters\n",
    "As mentioned, the extend() method takes an iterable such as list, tuple, string etc.\n",
    "\n",
    "Return Value from extend()\n",
    "The extend() method modifies the original list. It doesn't return any value"
   ]
  },
  {
   "cell_type": "code",
   "execution_count": 41,
   "metadata": {},
   "outputs": [
    {
     "name": "stdout",
     "output_type": "stream",
     "text": [
      "Language List: ['French', 'English', 'Spanish', 'Portuguese']\n"
     ]
    }
   ],
   "source": [
    "# language list\n",
    "language = ['French', 'English']\n",
    "\n",
    "# another list of language\n",
    "language1 = ['Spanish', 'Portuguese']\n",
    "\n",
    "# appending language1 elements to language\n",
    "language.extend(language1)\n",
    "\n",
    "print('Language List:', language)"
   ]
  },
  {
   "cell_type": "code",
   "execution_count": 4,
   "metadata": {},
   "outputs": [
    {
     "name": "stdout",
     "output_type": "stream",
     "text": [
      "New Language List: ['French', 'Spanish', 'Portuguese']\n",
      "Newer Language List: ['French', 'Spanish', 'Portuguese', 'Chinese', 'Japanese']\n",
      "['French', 'Spanish', 'Portuguese', 'Chinese', 'Japanese', 'H', 'U', 'R', 'R', 'A', 'Y', '!']\n"
     ]
    },
    {
     "data": {
      "text/plain": [
       "['French',\n",
       " 'Spanish',\n",
       " 'Portuguese',\n",
       " 'Chinese',\n",
       " 'Japanese',\n",
       " 'H',\n",
       " 'U',\n",
       " 'R',\n",
       " 'R',\n",
       " 'A',\n",
       " 'Y',\n",
       " '!',\n",
       " 'HURRAY!',\n",
       " 100]"
      ]
     },
     "execution_count": 4,
     "metadata": {},
     "output_type": "execute_result"
    }
   ],
   "source": [
    "#Example 2: Add Elements of Tuple and Set to List\n",
    "\n",
    "# language list\n",
    "language = ['French']\n",
    "\n",
    "# language tuple\n",
    "language_tuple = ('Spanish', 'Portuguese')\n",
    "\n",
    "# language set\n",
    "language_set = {'Chinese', 'Japanese'}\n",
    "\n",
    "# appending language_tuple elements to language\n",
    "language.extend(language_tuple)\n",
    "\n",
    "print('New Language List:', language)\n",
    "\n",
    "# appending language_set elements to language\n",
    "language.extend(language_set)\n",
    "\n",
    "print('Newer Language List:', language)\n",
    "\n",
    "language.extend(\"HURRAY!\")\n",
    "print(language)\n",
    "\n",
    "language.append(\"HURRAY!\")\n",
    "language\n",
    "\n",
    "language.extend([100])\n",
    "language"
   ]
  },
  {
   "cell_type": "code",
   "execution_count": 5,
   "metadata": {},
   "outputs": [
    {
     "name": "stdout",
     "output_type": "stream",
     "text": [
      "a = [1, 2, 3, 4]\n"
     ]
    },
    {
     "ename": "TypeError",
     "evalue": "can only concatenate list (not \"str\") to list",
     "output_type": "error",
     "traceback": [
      "\u001b[1;31m---------------------------------------------------------------------------\u001b[0m",
      "\u001b[1;31mTypeError\u001b[0m                                 Traceback (most recent call last)",
      "\u001b[1;32m<ipython-input-5-deb67ffc059a>\u001b[0m in \u001b[0;36m<module>\u001b[1;34m\u001b[0m\n\u001b[0;32m     14\u001b[0m \u001b[0mprint\u001b[0m\u001b[1;33m(\u001b[0m\u001b[1;34m'a ='\u001b[0m\u001b[1;33m,\u001b[0m \u001b[0ma\u001b[0m\u001b[1;33m)\u001b[0m\u001b[1;33m\u001b[0m\u001b[1;33m\u001b[0m\u001b[0m\n\u001b[0;32m     15\u001b[0m \u001b[1;33m\u001b[0m\u001b[0m\n\u001b[1;32m---> 16\u001b[1;33m \u001b[0ma\u001b[0m \u001b[1;33m=\u001b[0m \u001b[0ma\u001b[0m \u001b[1;33m+\u001b[0m \u001b[1;34m'abc'\u001b[0m\u001b[1;33m\u001b[0m\u001b[1;33m\u001b[0m\u001b[0m\n\u001b[0m\u001b[0;32m     17\u001b[0m \u001b[0mprint\u001b[0m\u001b[1;33m(\u001b[0m\u001b[1;34m\"new a is :\"\u001b[0m\u001b[1;33m,\u001b[0m\u001b[0ma\u001b[0m\u001b[1;33m)\u001b[0m\u001b[1;33m\u001b[0m\u001b[1;33m\u001b[0m\u001b[0m\n\u001b[0;32m     18\u001b[0m \u001b[1;33m\u001b[0m\u001b[0m\n",
      "\u001b[1;31mTypeError\u001b[0m: can only concatenate list (not \"str\") to list"
     ]
    }
   ],
   "source": [
    "#Other Ways to Extend a List\n",
    "\n",
    "#You can also append all elements of an iterable to the list using:\n",
    "\n",
    "# 1. the + operator\n",
    "\n",
    "a = [1, 2]\n",
    "b = [3, 4]\n",
    "\n",
    "a += b    # a = a + b\n",
    "\n",
    "\n",
    "# Output: [1, 2, 3, 4]\n",
    "print('a =', a)\n",
    "\n",
    "a = a + 'abc'\n",
    "print(\"new a is :\",a)\n",
    "\n",
    "# 2. the list slicing syntax\n",
    "\n",
    "a = [1, 2]\n",
    "b = [3, 4]\n",
    "\n",
    "a[len(a):] = b\n",
    "\n",
    "# Output: [1, 2, 3, 4]\n",
    "print('a =', a)\n"
   ]
  },
  {
   "cell_type": "code",
   "execution_count": 44,
   "metadata": {},
   "outputs": [
    {
     "name": "stdout",
     "output_type": "stream",
     "text": [
      "[1, 2, 3, 4]\n",
      "[1, 2, (3, 4)]\n"
     ]
    }
   ],
   "source": [
    "# Python extend() Vs append()\n",
    "\n",
    "#If you need to add an element to the end of a list, you can use the \n",
    "# append() method.\n",
    "\n",
    "a1 = [1, 2]\n",
    "a2 = [1, 2]\n",
    "b = (3, 4)\n",
    "\n",
    "# a1 = [1, 2, 3, 4]\n",
    "a1.extend(b) \n",
    "print(a1)\n",
    "\n",
    "# a2 = [1, 2, (3, 4)]\n",
    "a2.append(b)\n",
    "print(a2)"
   ]
  },
  {
   "cell_type": "markdown",
   "metadata": {},
   "source": [
    "Python List insert()\n",
    "\n",
    "The list insert() method inserts an element to the list at the specified index.\n",
    "\n",
    "The syntax of the insert() method is\n",
    "\n",
    "list.insert(i, elem)\n",
    "\n",
    "Here, elem is inserted to the list at the ith index. All the elements after elem are shifted to the right.\n",
    "\n",
    "insert() Parameters\n",
    "The insert() method takes two parameters:\n",
    "\n",
    "index - the index where the element needs to be inserted\n",
    "element - this is the element to be inserted in the list\n",
    "Notes:\n",
    "\n",
    "If index is 0, the element is inserted at the beginning of the list.\n",
    "If index is 3, the element is inserted after the 3rd element. Its position will be 4th.\n",
    "Return Value from insert()\n",
    "The insert() method doesn't return anything; returns None. It only updates the current list."
   ]
  },
  {
   "cell_type": "code",
   "execution_count": 45,
   "metadata": {},
   "outputs": [
    {
     "name": "stdout",
     "output_type": "stream",
     "text": [
      "Updated List: ['a', 'e', 'i', 'o', 'u']\n"
     ]
    }
   ],
   "source": [
    "# vowel list\n",
    "vowel = ['a', 'e', 'i', 'u']\n",
    "\n",
    "# 'o' is inserted at index 3\n",
    "# the position of 'o' will be 4th\n",
    "vowel.insert(3, 'o')\n",
    "\n",
    "print('Updated List:', vowel)"
   ]
  },
  {
   "cell_type": "code",
   "execution_count": 46,
   "metadata": {},
   "outputs": [
    {
     "name": "stdout",
     "output_type": "stream",
     "text": [
      "Updated List: [{1, 2}, (3, 4), [5, 6, 7]]\n"
     ]
    }
   ],
   "source": [
    "# Example 2: Inserting a Tuple (as an Element) to the List\n",
    "\n",
    "mixed_list = [{1, 2}, [5, 6, 7]]\n",
    "\n",
    "# number tuple\n",
    "number_tuple = (3, 4)\n",
    "\n",
    "# inserting a tuple to the list\n",
    "mixed_list.insert(1, number_tuple)\n",
    "\n",
    "print('Updated List:', mixed_list)"
   ]
  },
  {
   "cell_type": "markdown",
   "metadata": {},
   "source": [
    "Python List remove()\n",
    "\n",
    "The remove() method removes the first matching element (which is passed as an argument) from the list.\n",
    "\n",
    "The syntax of the remove() method is:\n",
    "\n",
    "list.remove(element)\n",
    "\n",
    "remove() Parameters\n",
    "The remove() method takes a single element as an argument and removes it from the list.\n",
    "If the element doesn't exist, it throws ValueError: list.remove(x): x not in list exception.\n",
    "\n",
    "Return Value from remove()\n",
    "The remove() doesn't return any value (returns None)."
   ]
  },
  {
   "cell_type": "code",
   "execution_count": 47,
   "metadata": {},
   "outputs": [
    {
     "name": "stdout",
     "output_type": "stream",
     "text": [
      "Updated animals list:  ['cat', 'dog', 'guinea pig']\n"
     ]
    }
   ],
   "source": [
    "# animals list\n",
    "animals = ['cat', 'dog', 'rabbit', 'guinea pig']\n",
    "\n",
    "# 'rabbit' is removed\n",
    "animals.remove('rabbit')\n",
    "\n",
    "# Updated animals List\n",
    "print('Updated animals list: ', animals)"
   ]
  },
  {
   "cell_type": "code",
   "execution_count": 48,
   "metadata": {},
   "outputs": [
    {
     "name": "stdout",
     "output_type": "stream",
     "text": [
      "Updated animals list:  ['cat', 'dog', 'guinea pig', 'dog']\n"
     ]
    }
   ],
   "source": [
    "# Example 2: remove() method on a list having duplicate elements\n",
    "\n",
    "#If a list contains duplicate elements, the remove() method only removes \n",
    "#the first matching element.\n",
    "\n",
    "# animals list\n",
    "animals = ['cat', 'dog', 'dog', 'guinea pig', 'dog']\n",
    "\n",
    "# 'dog' is removed\n",
    "animals.remove('dog')\n",
    "\n",
    "# Updated animals list\n",
    "print('Updated animals list: ', animals)"
   ]
  },
  {
   "cell_type": "raw",
   "metadata": {},
   "source": [
    "If you need to delete elements based on the index (like the fourth element), you can use the pop() method.\n",
    "Also, you can use the Python del statement to remove items from the list."
   ]
  },
  {
   "cell_type": "markdown",
   "metadata": {},
   "source": [
    "Python List pop()\n",
    "The pop() method removes the item at the given index from the list and returns the removed item.\n",
    "\n",
    "The syntax of the pop() method is:\n",
    "\n",
    "list.pop(index)\n",
    "\n",
    "pop() parameters\n",
    "The pop() method takes a single argument (index).\n",
    "The argument passed to the method is optional. If not passed, the default index -1 is passed as an argument (index of the last item).\n",
    "\n",
    "If the index passed to the method is not in range, it throws IndexError: pop index out of range exception.\n",
    "\n",
    "Return Value from pop()\n",
    "The pop() method returns the item present at the given index. This item is also removed from the list."
   ]
  },
  {
   "cell_type": "code",
   "execution_count": 49,
   "metadata": {},
   "outputs": [
    {
     "name": "stdout",
     "output_type": "stream",
     "text": [
      "Return Value: French\n",
      "Updated List: ['Python', 'Java', 'C++', 'C']\n"
     ]
    }
   ],
   "source": [
    "#Example 1: Pop item at the given index from the list\n",
    "\n",
    "# programming languages list\n",
    "languages = ['Python', 'Java', 'C++', 'French', 'C']\n",
    "\n",
    "# remove and return the 4th item\n",
    "return_value = languages.pop(3)\n",
    "print('Return Value:', return_value)\n",
    "\n",
    "# Updated List\n",
    "print('Updated List:', languages)"
   ]
  },
  {
   "cell_type": "markdown",
   "metadata": {},
   "source": [
    "Note: Index in Python starts from 0, not 1.\n",
    "\n",
    "If you need to pop the 4th element, you need to pass 3 to the pop() method."
   ]
  },
  {
   "cell_type": "code",
   "execution_count": 51,
   "metadata": {},
   "outputs": [
    {
     "name": "stdout",
     "output_type": "stream",
     "text": [
      "When index is not passed:\n",
      "Return Value: C\n",
      "Updated List: ['Python', 'Java', 'C++', 'Ruby']\n",
      "\n",
      "When -1 is passed:\n",
      "Return Value: Ruby\n",
      "Updated List: ['Python', 'Java', 'C++']\n",
      "\n",
      "When -3 is passed:\n",
      "Return Value: Python\n",
      "Updated List: ['Java', 'C++']\n"
     ]
    }
   ],
   "source": [
    "#Example 2: pop() without an index, and for negative indices\n",
    "# programming languages list\n",
    "languages = ['Python', 'Java', 'C++', 'Ruby', 'C']\n",
    "\n",
    "# remove and return the last item\n",
    "print('When index is not passed:') \n",
    "print('Return Value:', languages.pop())\n",
    "print('Updated List:', languages)\n",
    "\n",
    "# remove and return the last item\n",
    "print('\\nWhen -1 is passed:') \n",
    "print('Return Value:', languages.pop(-1))\n",
    "print('Updated List:', languages)\n",
    "\n",
    "# remove and return the third last item\n",
    "print('\\nWhen -3 is passed:') \n",
    "print('Return Value:', languages.pop(-3))\n",
    "print('Updated List:', languages)"
   ]
  },
  {
   "cell_type": "markdown",
   "metadata": {},
   "source": [
    "Python List count()\n",
    "The count() method returns the number of times the specified element appears in the list.\n",
    "\n",
    "The syntax of the count() method is:\n",
    "\n",
    "list.count(element)\n",
    "count() Parameters\n",
    "The count() method takes a single argument:\n",
    "\n",
    "element - the element to be counted\n",
    "Return value from count()\n",
    "The count() method returns the number of times element appears in the list."
   ]
  },
  {
   "cell_type": "code",
   "execution_count": 52,
   "metadata": {},
   "outputs": [
    {
     "name": "stdout",
     "output_type": "stream",
     "text": [
      "The count of i is: 2\n",
      "The count of p is: 0\n"
     ]
    }
   ],
   "source": [
    "# vowels list\n",
    "vowels = ['a', 'e', 'i', 'o', 'i', 'u']\n",
    "\n",
    "# count element 'i'\n",
    "count = vowels.count('i')\n",
    "\n",
    "# print count\n",
    "print('The count of i is:', count)\n",
    "\n",
    "# count element 'p'\n",
    "count = vowels.count('p')\n",
    "\n",
    "# print count\n",
    "print('The count of p is:', count)"
   ]
  },
  {
   "cell_type": "code",
   "execution_count": 53,
   "metadata": {},
   "outputs": [
    {
     "name": "stdout",
     "output_type": "stream",
     "text": [
      "The count of ('a', 'b') is: 2\n",
      "The count of [3, 4] is: 1\n"
     ]
    }
   ],
   "source": [
    "#Example 2: Count Tuple and List Elements Inside List\n",
    "\n",
    "# random list\n",
    "random = ['a', ('a', 'b'), ('a', 'b'), [3, 4]]\n",
    "\n",
    "# count element ('a', 'b')\n",
    "count = random.count(('a', 'b'))\n",
    "\n",
    "# print count\n",
    "print(\"The count of ('a', 'b') is:\", count)\n",
    "\n",
    "# count element [3, 4]\n",
    "count = random.count([3, 4])\n",
    "\n",
    "# print count\n",
    "print(\"The count of [3, 4] is:\", count)"
   ]
  },
  {
   "cell_type": "markdown",
   "metadata": {},
   "source": [
    "Python List reverse()\n",
    "The reverse() method reverses the elements of the list.\n",
    "\n",
    "The syntax of the reverse() method is:\n",
    "\n",
    "list.reverse()\n",
    "reverse() parameter\n",
    "The reverse() method doesn't take any arguments.\n",
    "\n",
    "Return Value from reverse()\n",
    "The reverse() method doesn't return any value. It updates the existing list."
   ]
  },
  {
   "cell_type": "code",
   "execution_count": 54,
   "metadata": {},
   "outputs": [
    {
     "name": "stdout",
     "output_type": "stream",
     "text": [
      "Original List: ['Windows', 'macOS', 'Linux']\n",
      "Updated List: ['Linux', 'macOS', 'Windows']\n"
     ]
    }
   ],
   "source": [
    "# Operating System List\n",
    "systems = ['Windows', 'macOS', 'Linux']\n",
    "print('Original List:', systems)\n",
    "\n",
    "# List Reverse\n",
    "systems.reverse()\n",
    "\n",
    "# updated list\n",
    "print('Updated List:', systems)"
   ]
  },
  {
   "cell_type": "code",
   "execution_count": 55,
   "metadata": {},
   "outputs": [
    {
     "name": "stdout",
     "output_type": "stream",
     "text": [
      "Original List: ['Windows', 'macOS', 'Linux']\n",
      "Updated List: ['Linux', 'macOS', 'Windows']\n"
     ]
    }
   ],
   "source": [
    "#Example 2: Reverse a List Using Slicing Operator\n",
    "\n",
    "# Operating System List\n",
    "systems = ['Windows', 'macOS', 'Linux']\n",
    "print('Original List:', systems)\n",
    "\n",
    "# Reversing a list\t\n",
    "#Syntax: reversed_list = systems[start:stop:step] \n",
    "reversed_list = systems[::-1]\n",
    "\n",
    "# updated list\n",
    "print('Updated List:', reversed_list)"
   ]
  },
  {
   "cell_type": "code",
   "execution_count": 56,
   "metadata": {},
   "outputs": [
    {
     "name": "stdout",
     "output_type": "stream",
     "text": [
      "Linux\n",
      "macOS\n",
      "Windows\n"
     ]
    }
   ],
   "source": [
    "#Example 3: Accessing Elements in Reversed Order\n",
    "\n",
    "#If you need to access individual elements of a list in the reverse order, \n",
    "#it's better to use reversed() function.\n",
    "\n",
    "# Operating System List\n",
    "systems = ['Windows', 'macOS', 'Linux']\n",
    "\n",
    "# Printing Elements in Reversed Order\n",
    "for i in reversed(systems):\n",
    "    print(i)"
   ]
  },
  {
   "cell_type": "code",
   "execution_count": 16,
   "metadata": {},
   "outputs": [
    {
     "name": "stdout",
     "output_type": "stream",
     "text": [
      "0 - 8;1 - 7;2 - 6;3 - 5;4 - 4;5 - 3;6 - 2;7 - 1;"
     ]
    }
   ],
   "source": [
    "L = [1,2,3,4,5,6,7,8]\n",
    "\n",
    "for index, number in enumerate(reversed(L)):\n",
    "    print(index,'-',number, end=';')"
   ]
  },
  {
   "cell_type": "markdown",
   "metadata": {},
   "source": [
    "Python List sort()\n",
    "\n",
    "The sort() method sorts the elements of a given list in a specific ascending or descending order.\n",
    "\n",
    "The syntax of the sort() method is:\n",
    "\n",
    "list.sort(key=..., reverse=...)\n",
    "\n",
    "Alternatively, you can also use Python's built-in sorted() function for the same purpose.\n",
    "\n",
    "sorted(list, key=..., reverse=...)\n",
    "Note: The simplest difference between sort() and sorted() is: sort() changes the list directly and doesn't return any value, while sorted() doesn't change the list and returns the sorted list.\n",
    "\n",
    "sort() Parameters\n",
    "By default, sort() doesn't require any extra parameters. However, it has two optional parameters:\n",
    "\n",
    "reverse - If True, the sorted list is reversed (or sorted in Descending order)\n",
    "key - function that serves as a key for the sort comparison\n",
    "Return value from sort()\n",
    "The sort() method doesn't return any value. Rather, it changes the original list.\n",
    "\n",
    "If you want a function to return the sorted list rather than change the original list, use sorted()."
   ]
  },
  {
   "cell_type": "code",
   "execution_count": 57,
   "metadata": {},
   "outputs": [
    {
     "name": "stdout",
     "output_type": "stream",
     "text": [
      "Sorted list: ['a', 'e', 'i', 'o', 'u']\n"
     ]
    }
   ],
   "source": [
    "# vowels list\n",
    "vowels = ['e', 'a', 'u', 'o', 'i']\n",
    "\n",
    "# sort the vowels\n",
    "vowels.sort()\n",
    "\n",
    "# print vowels\n",
    "print('Sorted list:', vowels)"
   ]
  },
  {
   "cell_type": "markdown",
   "metadata": {},
   "source": [
    "Sort in Descending order\n",
    "The sort() method accepts a reverse parameter as an optional argument.\n",
    "\n",
    "Setting reverse = True sorts the list in the descending order.\n",
    "\n",
    "list.sort(reverse=True)\n",
    "Alternately for sorted(), you can use the following code.\n",
    "\n",
    "sorted(list, reverse=True)"
   ]
  },
  {
   "cell_type": "code",
   "execution_count": 58,
   "metadata": {},
   "outputs": [
    {
     "name": "stdout",
     "output_type": "stream",
     "text": [
      "Sorted list (in Descending): ['u', 'o', 'i', 'e', 'a']\n"
     ]
    }
   ],
   "source": [
    "# vowels list\n",
    "vowels = ['e', 'a', 'u', 'o', 'i']\n",
    "\n",
    "# sort the vowels\n",
    "vowels.sort(reverse=True)\n",
    "\n",
    "# print vowels\n",
    "print('Sorted list (in Descending):', vowels)"
   ]
  },
  {
   "cell_type": "markdown",
   "metadata": {},
   "source": [
    "Sort with custom function using key\n",
    "\n",
    "If you want your own implementation for sorting, the sort() method also accepts a key function as an optional parameter.\n",
    "\n",
    "Based on the results of the key function, you can sort the given list.\n",
    "\n",
    "list.sort(key=len)\n",
    "\n",
    "Alternatively for sorted:\n",
    "\n",
    "sorted(list, key=len)\n",
    "\n",
    "Here, len is the Python's in-built function to count the length of an element.\n",
    "\n",
    "The list is sorted based on the length of each element, from lowest count to highest.\n",
    "\n",
    "We know that a tuple is sorted using its first parameter by default. Let's look at how to customize the sort() method to sort using the second element."
   ]
  },
  {
   "cell_type": "code",
   "execution_count": 59,
   "metadata": {},
   "outputs": [
    {
     "name": "stdout",
     "output_type": "stream",
     "text": [
      "Sorted list: [(4, 1), (2, 2), (1, 3), (3, 4)]\n"
     ]
    }
   ],
   "source": [
    "#Example 3: Sort the list using key\n",
    "\n",
    "# take second element for sort\n",
    "def takeSecond(elem):\n",
    "    return elem[1]\n",
    "\n",
    "# random list\n",
    "random = [(2, 2), (3, 4), (4, 1), (1, 3)]\n",
    "\n",
    "# sort list with key\n",
    "random.sort(key=takeSecond)\n",
    "\n",
    "# print list\n",
    "print('Sorted list:', random)"
   ]
  },
  {
   "cell_type": "code",
   "execution_count": 11,
   "metadata": {},
   "outputs": [
    {
     "name": "stdout",
     "output_type": "stream",
     "text": [
      "[' ', 'A', 'b', 'd', 'e', 'f', 'g', 'j', 's', 'z']\n",
      "Abdgfejsz\n",
      "['A', 'b', 'd', 'e', 'f', 'g', 'j', 's', 'z']\n"
     ]
    }
   ],
   "source": [
    "s = ' Abdgfejsz'\n",
    "s_1 = sorted(s,key=str.casefold)\n",
    "print(s_1)\n",
    "\n",
    "s_2 = s.strip()\n",
    "print(s_2)\n",
    "\n",
    "s_2 = sorted(s_2, key=str.casefold)\n",
    "print(s_2)"
   ]
  },
  {
   "cell_type": "raw",
   "metadata": {},
   "source": [
    "Let's take another example. Suppose we have a list of information about the employees of an office where each element is a dictionary.\n",
    "\n",
    "We can sort the list in the following way:"
   ]
  },
  {
   "cell_type": "code",
   "execution_count": 60,
   "metadata": {},
   "outputs": [
    {
     "name": "stdout",
     "output_type": "stream",
     "text": [
      "[{'Name': 'Alan Turing', 'age': 25, 'salary': 10000}, {'Name': 'John Hopkins', 'age': 18, 'salary': 1000}, {'Name': 'Mikhail Tal', 'age': 40, 'salary': 15000}, {'Name': 'Sharon Lin', 'age': 30, 'salary': 8000}]\n",
      "\n",
      "[{'Name': 'John Hopkins', 'age': 18, 'salary': 1000}, {'Name': 'Alan Turing', 'age': 25, 'salary': 10000}, {'Name': 'Sharon Lin', 'age': 30, 'salary': 8000}, {'Name': 'Mikhail Tal', 'age': 40, 'salary': 15000}]\n",
      "\n",
      "[{'Name': 'Mikhail Tal', 'age': 40, 'salary': 15000}, {'Name': 'Alan Turing', 'age': 25, 'salary': 10000}, {'Name': 'Sharon Lin', 'age': 30, 'salary': 8000}, {'Name': 'John Hopkins', 'age': 18, 'salary': 1000}]\n",
      "\n"
     ]
    }
   ],
   "source": [
    "# sorting using custom key\n",
    "employees = [\n",
    "    {'Name': 'Alan Turing', 'age': 25, 'salary': 10000},\n",
    "    {'Name': 'Sharon Lin', 'age': 30, 'salary': 8000},\n",
    "    {'Name': 'John Hopkins', 'age': 18, 'salary': 1000},\n",
    "    {'Name': 'Mikhail Tal', 'age': 40, 'salary': 15000},\n",
    "]\n",
    "\n",
    "# custom functions to get employee info\n",
    "def get_name(employee):\n",
    "    return employee.get('Name')\n",
    "\n",
    "\n",
    "def get_age(employee):\n",
    "    return employee.get('age')\n",
    "\n",
    "\n",
    "def get_salary(employee):\n",
    "    return employee.get('salary')\n",
    "\n",
    "\n",
    "# sort by name (Ascending order)\n",
    "employees.sort(key=get_name)\n",
    "print(employees, end='\\n\\n')\n",
    "\n",
    "# sort by Age (Ascending order)\n",
    "employees.sort(key=get_age)\n",
    "print(employees, end='\\n\\n')\n",
    "\n",
    "# sort by salary (Descending order)\n",
    "employees.sort(key=get_salary, reverse=True)\n",
    "print(employees, end='\\n\\n')"
   ]
  },
  {
   "cell_type": "raw",
   "metadata": {},
   "source": [
    "Here, for the first case, our custom function returns the name of each employee. Since the name is a string, Python by default sorts it using the alphabetical order.\n",
    "\n",
    "For the second case, age (int) is returned and is sorted in ascending order.\n",
    "\n",
    "For the third case, the function returns the salary (int), and is sorted in the descending order using reverse = True.\n",
    "\n",
    "It is a good practice to use the lambda function when the function can be summarized in one line. So, we can also write the above program as:"
   ]
  },
  {
   "cell_type": "code",
   "execution_count": 61,
   "metadata": {},
   "outputs": [
    {
     "name": "stdout",
     "output_type": "stream",
     "text": [
      "[{'Name': 'Alan Turing', 'age': 25, 'salary': 10000}, {'Name': 'John Hopkins', 'age': 18, 'salary': 1000}, {'Name': 'Mikhail Tal', 'age': 40, 'salary': 15000}, {'Name': 'Sharon Lin', 'age': 30, 'salary': 8000}]\n",
      "\n",
      "[{'Name': 'John Hopkins', 'age': 18, 'salary': 1000}, {'Name': 'Alan Turing', 'age': 25, 'salary': 10000}, {'Name': 'Sharon Lin', 'age': 30, 'salary': 8000}, {'Name': 'Mikhail Tal', 'age': 40, 'salary': 15000}]\n",
      "\n",
      "[{'Name': 'Mikhail Tal', 'age': 40, 'salary': 15000}, {'Name': 'Alan Turing', 'age': 25, 'salary': 10000}, {'Name': 'Sharon Lin', 'age': 30, 'salary': 8000}, {'Name': 'John Hopkins', 'age': 18, 'salary': 1000}]\n",
      "\n"
     ]
    }
   ],
   "source": [
    "# sorting using custom key\n",
    "employees = [\n",
    "    {'Name': 'Alan Turing', 'age': 25, 'salary': 10000},\n",
    "    {'Name': 'Sharon Lin', 'age': 30, 'salary': 8000},\n",
    "    {'Name': 'John Hopkins', 'age': 18, 'salary': 1000},\n",
    "    {'Name': 'Mikhail Tal', 'age': 40, 'salary': 15000},\n",
    "]\n",
    "\n",
    "# sort by name (Ascending order)\n",
    "employees.sort(key=lambda x: x.get('Name'))\n",
    "print(employees, end='\\n\\n')\n",
    "\n",
    "# sort by Age (Ascending order)\n",
    "employees.sort(key=lambda x: x.get('age'))\n",
    "print(employees, end='\\n\\n')\n",
    "\n",
    "# sort by salary (Descending order)\n",
    "employees.sort(key=lambda x: x.get('salary'), reverse=True)\n",
    "print(employees, end='\\n\\n')"
   ]
  },
  {
   "cell_type": "raw",
   "metadata": {},
   "source": [
    "Python List copy()\n",
    "The copy() method returns a shallow copy of the list.\n",
    "\n",
    "A list can be copied using the = operator. For example"
   ]
  },
  {
   "cell_type": "code",
   "execution_count": 64,
   "metadata": {},
   "outputs": [
    {
     "data": {
      "text/plain": [
       "[1, 2, 3]"
      ]
     },
     "execution_count": 64,
     "metadata": {},
     "output_type": "execute_result"
    }
   ],
   "source": [
    "old_list = [1, 2, 3]\n",
    "new_list = old_list\n",
    "new_list"
   ]
  },
  {
   "cell_type": "code",
   "execution_count": 65,
   "metadata": {},
   "outputs": [
    {
     "name": "stdout",
     "output_type": "stream",
     "text": [
      "New List: [1, 2, 3, 'a']\n",
      "Old List: [1, 2, 3, 'a']\n"
     ]
    }
   ],
   "source": [
    "\n",
    "#The problem with copying lists in this way is that if you modify new_list, \n",
    "#old_list is also modified.\n",
    "\n",
    "old_list = [1, 2, 3]\n",
    "new_list = old_list\n",
    "\n",
    "# add an element to list\n",
    "new_list.append('a')\n",
    "\n",
    "print('New List:', new_list)\n",
    "print('Old List:', old_list)"
   ]
  },
  {
   "cell_type": "raw",
   "metadata": {},
   "source": [
    "However, if you need the original list unchanged when the new list is modified, you can use the copy() method."
   ]
  },
  {
   "cell_type": "raw",
   "metadata": {},
   "source": [
    "The syntax of the copy() method is:\n",
    "\n",
    "new_list = list.copy()\n",
    "copy() parameters\n",
    "The copy() method doesn't take any parameters.\n",
    "\n",
    "Return Value from copy()\n",
    "The copy() method returns a new list. It doesn't modify the original list."
   ]
  },
  {
   "cell_type": "code",
   "execution_count": 70,
   "metadata": {},
   "outputs": [
    {
     "name": "stdout",
     "output_type": "stream",
     "text": [
      "Copied List: ['cat', 0, 6.7, 'dog']\n",
      "Original list: ['cat', 0, 6.7]\n"
     ]
    }
   ],
   "source": [
    "# mixed list\n",
    "my_list = ['cat', 0, 6.7]\n",
    "\n",
    "# copying a list\n",
    "new_list = my_list.copy()\n",
    "new_list.append('dog')\n",
    "print('Copied List:', new_list)\n",
    "print('Original list:', my_list)"
   ]
  },
  {
   "cell_type": "raw",
   "metadata": {},
   "source": [
    "If you modify the new_list in the above example, my_list will not be modified."
   ]
  },
  {
   "cell_type": "code",
   "execution_count": 67,
   "metadata": {},
   "outputs": [
    {
     "name": "stdout",
     "output_type": "stream",
     "text": [
      "Old List: ['cat', 0, 6.7]\n",
      "New List: ['cat', 0, 6.7, 'dog']\n"
     ]
    }
   ],
   "source": [
    "# Example 2: Copy List Using Slicing Syntax\n",
    "\n",
    "# shallow copy using the slicing syntax\n",
    "\n",
    "# mixed list\n",
    "list = ['cat', 0, 6.7]\n",
    "\n",
    "# copying a list using slicing\n",
    "new_list = list[:]\n",
    "\n",
    "# Adding an element to the new list\n",
    "new_list.append('dog')\n",
    "\n",
    "# Printing new and old list\n",
    "print('Old List:', list)\n",
    "print('New List:', new_list)"
   ]
  },
  {
   "cell_type": "raw",
   "metadata": {},
   "source": [
    "Python List clear()\n",
    "The clear() method removes all items from the list.\n",
    "\n",
    "The syntax of clear() method is:\n",
    "\n",
    "list.clear()\n",
    "clear() Parameters\n",
    "The clear() method doesn't take any parameters.\n",
    "\n",
    "Return Value from clear()\n",
    "The clear() method only empties the given list. It doesn't return any value."
   ]
  },
  {
   "cell_type": "code",
   "execution_count": 71,
   "metadata": {},
   "outputs": [
    {
     "name": "stdout",
     "output_type": "stream",
     "text": [
      "List: []\n"
     ]
    }
   ],
   "source": [
    "# Defining a list\n",
    "list = [{1, 2}, ('a'), ['1.1', '2.2']]\n",
    "\n",
    "# clearing the list\n",
    "list.clear()\n",
    "\n",
    "print('List:', list)"
   ]
  },
  {
   "cell_type": "code",
   "execution_count": 72,
   "metadata": {},
   "outputs": [
    {
     "name": "stdout",
     "output_type": "stream",
     "text": [
      "List: []\n"
     ]
    }
   ],
   "source": [
    "#Example 2: Emptying the List Using del\n",
    "\n",
    "# Defining a list\n",
    "list = [{1, 2}, ('a'), ['1.1', '2.2']]\n",
    "\n",
    "# clearing the list\n",
    "del list[:]\n",
    "\n",
    "print('List:', list)"
   ]
  },
  {
   "cell_type": "code",
   "execution_count": 40,
   "metadata": {},
   "outputs": [
    {
     "name": "stdout",
     "output_type": "stream",
     "text": [
      "0\n",
      "1\n",
      "2\n",
      "3\n",
      "4\n",
      "5\n",
      "0:mouse\n",
      "1:keyboard\n",
      "2:monitor\n",
      "3:camera\n",
      "4:usb chord\n",
      "5:mobile phone\n",
      "0 a\n",
      "1 b\n",
      "2 c\n",
      "3 d\n",
      "4 e\n",
      "5 f\n",
      "6 g\n",
      "7 h\n"
     ]
    }
   ],
   "source": [
    "# index vs enumerate \n",
    "\n",
    "list_1 =[\"mouse\",\n",
    "      \"keyboard\",\n",
    "      \"monitor\",\n",
    "      \"camera\",\n",
    "      \"usb chord\",\n",
    "      \"mobile phone\"]\n",
    "\n",
    "for items in list_1:\n",
    "    print(list_1.index(items))\n",
    "    \n",
    "for number, item in enumerate(list_1):\n",
    "    print(\"{}:{}\".format(number,item))\n",
    "    \n",
    "for index, character in enumerate(\"abcdefgh\"):\n",
    "    print(index,character)\n",
    "    \n"
   ]
  },
  {
   "cell_type": "code",
   "execution_count": 11,
   "metadata": {},
   "outputs": [
    {
     "name": "stdout",
     "output_type": "stream",
     "text": [
      "0:11\t\t0:121\n",
      "\n",
      "1:43\t\t1:1849\n",
      "\n",
      "2:56\t\t2:3136\n",
      "\n",
      "3:57\t\t3:3249\n",
      "\n",
      "4:67\t\t4:4489\n",
      "\n",
      "5:98\t\t5:9604\n",
      "\n"
     ]
    }
   ],
   "source": [
    "#NOTE:\n",
    "\n",
    "# PRINT PROPERTY\n",
    "\n",
    "list_1 = [11,43,56,57,67,98]\n",
    "\n",
    "for index, value in enumerate(list_1):\n",
    "    print(index,value, sep= ':' , end='\\t\\t')\n",
    "    print(index, value**2,sep=':' ,end ='\\n')\n",
    "    print()"
   ]
  }
 ],
 "metadata": {
  "kernelspec": {
   "display_name": "Python 3",
   "language": "python",
   "name": "python3"
  },
  "language_info": {
   "codemirror_mode": {
    "name": "ipython",
    "version": 3
   },
   "file_extension": ".py",
   "mimetype": "text/x-python",
   "name": "python",
   "nbconvert_exporter": "python",
   "pygments_lexer": "ipython3",
   "version": "3.8.5"
  }
 },
 "nbformat": 4,
 "nbformat_minor": 4
}
