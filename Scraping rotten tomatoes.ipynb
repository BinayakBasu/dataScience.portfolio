{
 "cells": [
  {
   "cell_type": "markdown",
   "metadata": {},
   "source": [
    "**Scraping Rotten Tomatoes and creating a dataframe to analyse the data**"
   ]
  },
  {
   "cell_type": "markdown",
   "metadata": {},
   "source": [
    "**Import libraries**"
   ]
  },
  {
   "cell_type": "code",
   "execution_count": 1,
   "metadata": {},
   "outputs": [],
   "source": [
    "import requests\n",
    "from bs4 import BeautifulSoup\n",
    "import numpy as np \n",
    "import pandas as pd "
   ]
  },
  {
   "cell_type": "markdown",
   "metadata": {},
   "source": [
    "**Making a request**\n"
   ]
  },
  {
   "cell_type": "code",
   "execution_count": 2,
   "metadata": {},
   "outputs": [
    {
     "data": {
      "text/plain": [
       "200"
      ]
     },
     "execution_count": 2,
     "metadata": {},
     "output_type": "execute_result"
    }
   ],
   "source": [
    "url = 'https://www.rottentomatoes.com/top/bestofrt/top_100_action__adventure_movies/'\n",
    "response=requests.get(url)\n",
    "response.status_code"
   ]
  },
  {
   "cell_type": "code",
   "execution_count": 3,
   "metadata": {},
   "outputs": [
    {
     "data": {
      "text/plain": [
       "b'<!DOCTYPE html>\\n<html lang=\"en\" xmlns:fb=\"http://www.facebook.com/2008/fbml\" xmlns:og=\"http://opengr'"
      ]
     },
     "execution_count": 3,
     "metadata": {},
     "output_type": "execute_result"
    }
   ],
   "source": [
    "html = response.content\n",
    "html[:100]"
   ]
  },
  {
   "cell_type": "markdown",
   "metadata": {},
   "source": [
    "**Choosing a parser and exporting the file**"
   ]
  },
  {
   "cell_type": "code",
   "execution_count": 4,
   "metadata": {},
   "outputs": [],
   "source": [
    "soup = BeautifulSoup(html,'lxml')"
   ]
  },
  {
   "cell_type": "code",
   "execution_count": 5,
   "metadata": {},
   "outputs": [],
   "source": [
    "with open('best_action_movies.html','wb') as file:\n",
    "    file.write(soup.prettify('utf-8'))"
   ]
  },
  {
   "cell_type": "markdown",
   "metadata": {},
   "source": [
    "**Extracting**"
   ]
  },
  {
   "cell_type": "code",
   "execution_count": 6,
   "metadata": {},
   "outputs": [
    {
     "data": {
      "text/plain": [
       "[<a class=\"unstyled articleLink\" href=\"/browse/opening/\">Opening This Week</a>,\n",
       " <a class=\"unstyled articleLink\" href=\"/browse/in-theaters/\">Top Box Office</a>,\n",
       " <a class=\"unstyled articleLink\" href=\"/browse/upcoming/\">Coming Soon to Theaters</a>,\n",
       " <a class=\"unstyled articleLink\" href=\"/browse/box-office/\">Weekend Earnings</a>,\n",
       " <a class=\"unstyled articleLink\" href=\"/browse/cf-in-theaters/\">Certified Fresh Movies</a>,\n",
       " <a class=\"unstyled articleLink\" href=\"/dvd/\"><h2 class=\"title\">On Dvd &amp; Streaming</h2></a>,\n",
       " <a class=\"unstyled articleLink\" href=\"/browse/dvd-streaming-all/?services=vudu\">VUDU</a>,\n",
       " <a class=\"unstyled articleLink\" href=\"/browse/dvd-streaming-all/?services=netflix_iw\">Netflix Streaming</a>,\n",
       " <a class=\"unstyled articleLink\" href=\"/browse/dvd-streaming-all/?services=itunes\">iTunes</a>,\n",
       " <a class=\"unstyled articleLink\" href=\"/browse/dvd-streaming-all/?services=amazon_prime;amazon\">Amazon and Amazon Prime</a>]"
      ]
     },
     "execution_count": 6,
     "metadata": {},
     "output_type": "execute_result"
    }
   ],
   "source": [
    "# class ='unstyled articleLink' is the class for all movie titles \n",
    "titles = soup.find_all('a', class_='unstyled articleLink')\n",
    "titles[:10]"
   ]
  },
  {
   "cell_type": "code",
   "execution_count": 7,
   "metadata": {},
   "outputs": [
    {
     "data": {
      "text/plain": [
       "'\\n            Black Panther (2018)'"
      ]
     },
     "execution_count": 7,
     "metadata": {},
     "output_type": "execute_result"
    }
   ],
   "source": [
    "titles[43].text"
   ]
  },
  {
   "cell_type": "code",
   "execution_count": 8,
   "metadata": {},
   "outputs": [
    {
     "data": {
      "text/plain": [
       "'Black Panther'"
      ]
     },
     "execution_count": 8,
     "metadata": {},
     "output_type": "execute_result"
    }
   ],
   "source": [
    "titles[43].text.strip().split('(')[0].strip()"
   ]
  },
  {
   "cell_type": "code",
   "execution_count": 9,
   "metadata": {},
   "outputs": [
    {
     "data": {
      "text/plain": [
       "'2018'"
      ]
     },
     "execution_count": 9,
     "metadata": {},
     "output_type": "execute_result"
    }
   ],
   "source": [
    "titles[43].text.strip().split(' ')[-1].strip('()')"
   ]
  },
  {
   "cell_type": "code",
   "execution_count": 10,
   "metadata": {},
   "outputs": [
    {
     "data": {
      "text/plain": [
       "'\\n            Catch Me If You Can (2002)'"
      ]
     },
     "execution_count": 10,
     "metadata": {},
     "output_type": "execute_result"
    }
   ],
   "source": [
    "titles[142].text"
   ]
  },
  {
   "cell_type": "code",
   "execution_count": 11,
   "metadata": {},
   "outputs": [
    {
     "name": "stdout",
     "output_type": "stream",
     "text": [
      "['Black Panther', 'Avengers: Endgame', 'Mission: Impossible - Fallout', 'Mad Max: Fury Road', 'Spider-Man: Into the Spider-Verse', 'Wonder Woman', 'Dunkirk', 'Coco', 'Thor: Ragnarok', 'Seven Samurai']\n",
      " \n",
      "['2018', '2019', '2018', '2015', '2018', '2017', '2017', '2017', '2017', '1956']\n"
     ]
    }
   ],
   "source": [
    "film_title=[]\n",
    "year=[]\n",
    "\n",
    "for i in range(43,143):\n",
    "    film_title.append(titles[i].text.strip().split('(')[0].strip())\n",
    "    year.append(titles[i].text.strip().split(' ')[-1].strip('()'))\n",
    "\n",
    "print(film_title[:10]) # list of film titles / names \n",
    "print(' ')\n",
    "print(year[:10]) # year of release"
   ]
  },
  {
   "cell_type": "code",
   "execution_count": 12,
   "metadata": {},
   "outputs": [
    {
     "data": {
      "text/plain": [
       "100"
      ]
     },
     "execution_count": 12,
     "metadata": {},
     "output_type": "execute_result"
    }
   ],
   "source": [
    "len(film_title)"
   ]
  },
  {
   "cell_type": "code",
   "execution_count": 13,
   "metadata": {},
   "outputs": [
    {
     "data": {
      "text/plain": [
       "100"
      ]
     },
     "execution_count": 13,
     "metadata": {},
     "output_type": "execute_result"
    }
   ],
   "source": [
    "len(year)"
   ]
  },
  {
   "cell_type": "code",
   "execution_count": 14,
   "metadata": {},
   "outputs": [
    {
     "name": "stdout",
     "output_type": "stream",
     "text": [
      "[0, 1, 2, 3, 4, 5, 6, 7, 8, 9, 10, 11, 12, 13, 14, 15, 16, 17, 18, 19, 20, 21, 22, 23, 24, 25, 26, 27, 28, 29, 30, 31, 32, 33, 34, 35, 36, 37, 38, 39, 40, 41, 42, 43, 44, 45, 46, 47, 48, 49, 50, 51, 52, 53, 54, 55, 56, 57, 58, 59, 60, 61, 62, 63, 64, 65, 66, 67, 68, 69, 70, 71, 72, 73, 74, 75, 76, 77, 78, 79, 80, 81, 82, 83, 84, 85, 86, 87, 88, 89, 90, 91, 92, 93, 94, 95, 96, 97, 98, 99]\n"
     ]
    }
   ],
   "source": [
    "index = list(np.arange(0,100))\n",
    "print(index)"
   ]
  },
  {
   "cell_type": "markdown",
   "metadata": {},
   "source": [
    "**So I have got 2 columns in my dataset and they are film_title, year and I will use index as the index for the dataset**"
   ]
  },
  {
   "cell_type": "code",
   "execution_count": 15,
   "metadata": {},
   "outputs": [
    {
     "data": {
      "text/plain": [
       "100"
      ]
     },
     "execution_count": 15,
     "metadata": {},
     "output_type": "execute_result"
    }
   ],
   "source": [
    "reviews = soup.find_all('td', class_='right hidden-xs')\n",
    "len(reviews)"
   ]
  },
  {
   "cell_type": "code",
   "execution_count": 16,
   "metadata": {},
   "outputs": [
    {
     "data": {
      "text/plain": [
       "[<td class=\"right hidden-xs\">525</td>,\n",
       " <td class=\"right hidden-xs\">544</td>,\n",
       " <td class=\"right hidden-xs\">435</td>,\n",
       " <td class=\"right hidden-xs\">427</td>,\n",
       " <td class=\"right hidden-xs\">391</td>,\n",
       " <td class=\"right hidden-xs\">468</td>,\n",
       " <td class=\"right hidden-xs\">461</td>,\n",
       " <td class=\"right hidden-xs\">351</td>,\n",
       " <td class=\"right hidden-xs\">435</td>,\n",
       " <td class=\"right hidden-xs\">87</td>]"
      ]
     },
     "execution_count": 16,
     "metadata": {},
     "output_type": "execute_result"
    }
   ],
   "source": [
    "reviews[:10]"
   ]
  },
  {
   "cell_type": "code",
   "execution_count": 17,
   "metadata": {},
   "outputs": [
    {
     "data": {
      "text/plain": [
       "525"
      ]
     },
     "execution_count": 17,
     "metadata": {},
     "output_type": "execute_result"
    }
   ],
   "source": [
    "int(reviews[0].text)"
   ]
  },
  {
   "cell_type": "code",
   "execution_count": 18,
   "metadata": {},
   "outputs": [
    {
     "name": "stdout",
     "output_type": "stream",
     "text": [
      "[525, 544, 435, 427, 391, 468, 461, 351, 435, 87, 421, 479, 443, 48, 384, 448, 294, 65, 360, 394, 393, 133, 92, 298, 410, 345, 52, 441, 422, 381, 83, 325, 331, 52, 96, 325, 289, 122, 253, 481, 354, 435, 281, 366, 132, 332, 68, 223, 45, 363, 260, 281, 65, 205, 45, 42, 382, 42, 351, 219, 76, 104, 275, 61, 61, 329, 40, 240, 269, 313, 59, 421, 41, 172, 77, 259, 288, 315, 89, 539, 278, 130, 51, 73, 40, 336, 255, 306, 44, 419, 83, 49, 79, 158, 50, 42, 92, 130, 322, 203]\n"
     ]
    }
   ],
   "source": [
    "no_of_reviews = []\n",
    "for i in range(len(reviews)):\n",
    "    no_of_reviews.append(int(reviews[i].text))\n",
    "    \n",
    "print(no_of_reviews)"
   ]
  },
  {
   "cell_type": "markdown",
   "metadata": {},
   "source": [
    "**So I got the 3rd column for the dataset and that is no_of_reviews which is of integer type**"
   ]
  },
  {
   "cell_type": "code",
   "execution_count": 19,
   "metadata": {},
   "outputs": [
    {
     "data": {
      "text/plain": [
       "[<span class=\"tMeterScore cfp-item-score\">81%</span>,\n",
       " <span class=\"tMeterScore cfp-item-score\">82%</span>,\n",
       " <span class=\"tMeterScore cfp-item-score\">92%</span>,\n",
       " <span class=\"tMeterScore\">100%</span>,\n",
       " <span class=\"tMeterScore\">100%</span>,\n",
       " <span class=\"tMeterScore\">100%</span>,\n",
       " <span class=\"tMeterScore\">100%</span>,\n",
       " <span class=\"tMeterScore\">96%</span>,\n",
       " <span class=\"tMeterScore\">94%</span>,\n",
       " <span class=\"tMeterScore\">93%</span>]"
      ]
     },
     "execution_count": 19,
     "metadata": {},
     "output_type": "execute_result"
    }
   ],
   "source": [
    "ratings = soup.find_all('span', class_=\"tMeterScore\")\n",
    "ratings[:10]"
   ]
  },
  {
   "cell_type": "code",
   "execution_count": 20,
   "metadata": {},
   "outputs": [
    {
     "data": {
      "text/plain": [
       "'96'"
      ]
     },
     "execution_count": 20,
     "metadata": {},
     "output_type": "execute_result"
    }
   ],
   "source": [
    "ratings[7].text.strip('%')"
   ]
  },
  {
   "cell_type": "code",
   "execution_count": 21,
   "metadata": {},
   "outputs": [
    {
     "data": {
      "text/plain": [
       "'\\xa097'"
      ]
     },
     "execution_count": 21,
     "metadata": {},
     "output_type": "execute_result"
    }
   ],
   "source": [
    "ratings[107].text.strip('%')"
   ]
  },
  {
   "cell_type": "code",
   "execution_count": 22,
   "metadata": {},
   "outputs": [
    {
     "name": "stdout",
     "output_type": "stream",
     "text": [
      "['96', '94', '93', '85', '78', '75', '60', '96', '85', '100', '100', '23', '99', '92', '37', '100', '98', '96', '94', '97', '97', '97', '93', '92', '97', '93', '100', '93', '90', '93', '100', '93', '90', '98', '98', '94', '92', '92', '97', '98', '98', '90', '94', '100', '88', '90', '92', '98', '94', '96', '96', '98', '94', '97', '93', '96', '85', '94', '87', '95', '90', '92', '92', '99', '97', '100', '91', '95', '94', '100', '97', '98', '100', '89', '100', '89', '95', '97', '94', '95', '95', '95', '90', '98', '94', '93', '90', '97', '85', '100', '97', '97', '94', '93', '90', '96', '79', '92', '92', '98']\n"
     ]
    }
   ],
   "source": [
    "film_rating_perc = []\n",
    "for i in range(7,107):\n",
    "    film_rating_perc.append(ratings[i].text.strip('\\xa0%'))\n",
    "    \n",
    "print(film_rating_perc)"
   ]
  },
  {
   "cell_type": "markdown",
   "metadata": {},
   "source": [
    "**So I got the 4th column for the dataset and that is film_rating_perc which is a categorical variable**"
   ]
  },
  {
   "cell_type": "code",
   "execution_count": 23,
   "metadata": {},
   "outputs": [
    {
     "data": {
      "text/plain": [
       "{'href': '/m/black_panther_2018', 'class': ['unstyled', 'articleLink']}"
      ]
     },
     "execution_count": 23,
     "metadata": {},
     "output_type": "execute_result"
    }
   ],
   "source": [
    "titles[43].attrs"
   ]
  },
  {
   "cell_type": "code",
   "execution_count": 24,
   "metadata": {},
   "outputs": [],
   "source": [
    "base_url = 'https://www.rottentomatoes.com'"
   ]
  },
  {
   "cell_type": "code",
   "execution_count": 25,
   "metadata": {},
   "outputs": [
    {
     "data": {
      "text/plain": [
       "['/m/black_panther_2018',\n",
       " '/m/avengers_endgame',\n",
       " '/m/mission_impossible_fallout',\n",
       " '/m/mad_max_fury_road',\n",
       " '/m/spider_man_into_the_spider_verse',\n",
       " '/m/wonder_woman_2017',\n",
       " '/m/dunkirk_2017',\n",
       " '/m/coco_2017',\n",
       " '/m/thor_ragnarok_2017',\n",
       " '/m/seven_samurai_1956',\n",
       " '/m/logan_2017',\n",
       " '/m/star_wars_the_last_jedi',\n",
       " '/m/star_wars_episode_vii_the_force_awakens',\n",
       " '/m/1000355-adventures_of_robin_hood',\n",
       " '/m/incredibles_2',\n",
       " '/m/spider_man_far_from_home',\n",
       " '/m/zootopia',\n",
       " '/m/1011615-king_kong',\n",
       " '/m/war_for_the_planet_of_the_apes',\n",
       " '/m/baby_driver',\n",
       " '/m/spider_man_homecoming',\n",
       " '/m/1013775-metropolis',\n",
       " '/m/jaws',\n",
       " '/m/up',\n",
       " '/m/shazam',\n",
       " '/m/the_dark_knight',\n",
       " '/m/treasure_of_the_sierra_madre',\n",
       " '/m/blade_runner_2049',\n",
       " '/m/captain_america_civil_war',\n",
       " '/m/skyfall',\n",
       " '/m/french_connection',\n",
       " '/m/the_jungle_book_2016',\n",
       " '/m/harry_potter_and_the_deathly_hallows_part_2_2011',\n",
       " '/m/1000121-39_steps',\n",
       " '/m/apocalypse_now',\n",
       " '/m/mission_impossible_rogue_nation',\n",
       " '/m/the_hurt_locker',\n",
       " '/m/lawrence_of_arabia',\n",
       " '/m/the_lego_movie',\n",
       " '/m/avengers_infinity_war',\n",
       " '/m/star_trek_11',\n",
       " '/m/ant_man_and_the_wasp',\n",
       " '/m/moana_2016',\n",
       " '/m/isle_of_dogs_2018',\n",
       " '/m/star_wars',\n",
       " '/m/guardians_of_the_galaxy',\n",
       " '/m/goldfinger',\n",
       " '/m/kubo_and_the_two_strings_2016',\n",
       " '/m/1019774-stagecoach',\n",
       " '/m/marvels_the_avengers',\n",
       " '/m/wall_e',\n",
       " '/m/iron_man',\n",
       " '/m/terminator',\n",
       " '/m/hunt_for_the_wilderpeople',\n",
       " '/m/the_african_queen_1951',\n",
       " '/m/rio_bravo',\n",
       " '/m/doctor_strange_2016',\n",
       " '/m/the_taking_of_pelham_one_two_three',\n",
       " '/m/john_wick_chapter_3_parabellum',\n",
       " '/m/the_peanut_butter_falcon',\n",
       " '/m/1000617-aliens',\n",
       " '/m/empire_strikes_back',\n",
       " '/m/true_grit_2010',\n",
       " '/m/paths_of_glory',\n",
       " '/m/bridge_on_the_river_kwai',\n",
       " '/m/x_men_days_of_future_past',\n",
       " '/m/1031278-gun_crazy',\n",
       " '/m/all_is_lost_2013',\n",
       " '/m/looper',\n",
       " '/m/the_lego_batman_movie',\n",
       " '/m/badlands',\n",
       " '/m/guardians_of_the_galaxy_vol_2',\n",
       " '/m/1043378-stalker',\n",
       " '/m/chicken_run',\n",
       " '/m/princess_bride',\n",
       " '/m/casino_royale',\n",
       " '/m/no_country_for_old_men',\n",
       " '/m/dawn_of_the_planet_of_the_apes',\n",
       " '/m/ran',\n",
       " '/m/captain_marvel',\n",
       " '/m/sicario_2015',\n",
       " '/m/jurassic_park',\n",
       " '/m/fistful_of_dollars',\n",
       " '/m/ghostbusters',\n",
       " '/m/1029042-henry_v',\n",
       " '/m/onward',\n",
       " '/m/the_lord_of_the_rings_the_two_towers',\n",
       " '/m/captain_america_the_winter_soldier_2014',\n",
       " '/m/1001280-assault_on_precinct_13',\n",
       " '/m/deadpool_2',\n",
       " '/m/back_to_the_future',\n",
       " '/m/searchers',\n",
       " '/m/1046129-fugitive',\n",
       " '/m/crouching_tiger_hidden_dragon',\n",
       " '/m/aguirre_the_wrath_of_god',\n",
       " '/m/bullitt',\n",
       " '/m/apollo_13',\n",
       " '/m/the_lion_king',\n",
       " '/m/annihilation',\n",
       " '/m/catch_me_if_you_can']"
      ]
     },
     "execution_count": 25,
     "metadata": {},
     "output_type": "execute_result"
    }
   ],
   "source": [
    "relative_url = [titles[i].get('href') for i in range(43,143)]\n",
    "relative_url"
   ]
  },
  {
   "cell_type": "code",
   "execution_count": 26,
   "metadata": {},
   "outputs": [
    {
     "data": {
      "text/plain": [
       "['https://www.rottentomatoes.com/m/black_panther_2018',\n",
       " 'https://www.rottentomatoes.com/m/avengers_endgame',\n",
       " 'https://www.rottentomatoes.com/m/mission_impossible_fallout',\n",
       " 'https://www.rottentomatoes.com/m/mad_max_fury_road',\n",
       " 'https://www.rottentomatoes.com/m/spider_man_into_the_spider_verse',\n",
       " 'https://www.rottentomatoes.com/m/wonder_woman_2017',\n",
       " 'https://www.rottentomatoes.com/m/dunkirk_2017',\n",
       " 'https://www.rottentomatoes.com/m/coco_2017',\n",
       " 'https://www.rottentomatoes.com/m/thor_ragnarok_2017',\n",
       " 'https://www.rottentomatoes.com/m/seven_samurai_1956',\n",
       " 'https://www.rottentomatoes.com/m/logan_2017',\n",
       " 'https://www.rottentomatoes.com/m/star_wars_the_last_jedi',\n",
       " 'https://www.rottentomatoes.com/m/star_wars_episode_vii_the_force_awakens',\n",
       " 'https://www.rottentomatoes.com/m/1000355-adventures_of_robin_hood',\n",
       " 'https://www.rottentomatoes.com/m/incredibles_2',\n",
       " 'https://www.rottentomatoes.com/m/spider_man_far_from_home',\n",
       " 'https://www.rottentomatoes.com/m/zootopia',\n",
       " 'https://www.rottentomatoes.com/m/1011615-king_kong',\n",
       " 'https://www.rottentomatoes.com/m/war_for_the_planet_of_the_apes',\n",
       " 'https://www.rottentomatoes.com/m/baby_driver',\n",
       " 'https://www.rottentomatoes.com/m/spider_man_homecoming',\n",
       " 'https://www.rottentomatoes.com/m/1013775-metropolis',\n",
       " 'https://www.rottentomatoes.com/m/jaws',\n",
       " 'https://www.rottentomatoes.com/m/up',\n",
       " 'https://www.rottentomatoes.com/m/shazam',\n",
       " 'https://www.rottentomatoes.com/m/the_dark_knight',\n",
       " 'https://www.rottentomatoes.com/m/treasure_of_the_sierra_madre',\n",
       " 'https://www.rottentomatoes.com/m/blade_runner_2049',\n",
       " 'https://www.rottentomatoes.com/m/captain_america_civil_war',\n",
       " 'https://www.rottentomatoes.com/m/skyfall',\n",
       " 'https://www.rottentomatoes.com/m/french_connection',\n",
       " 'https://www.rottentomatoes.com/m/the_jungle_book_2016',\n",
       " 'https://www.rottentomatoes.com/m/harry_potter_and_the_deathly_hallows_part_2_2011',\n",
       " 'https://www.rottentomatoes.com/m/1000121-39_steps',\n",
       " 'https://www.rottentomatoes.com/m/apocalypse_now',\n",
       " 'https://www.rottentomatoes.com/m/mission_impossible_rogue_nation',\n",
       " 'https://www.rottentomatoes.com/m/the_hurt_locker',\n",
       " 'https://www.rottentomatoes.com/m/lawrence_of_arabia',\n",
       " 'https://www.rottentomatoes.com/m/the_lego_movie',\n",
       " 'https://www.rottentomatoes.com/m/avengers_infinity_war',\n",
       " 'https://www.rottentomatoes.com/m/star_trek_11',\n",
       " 'https://www.rottentomatoes.com/m/ant_man_and_the_wasp',\n",
       " 'https://www.rottentomatoes.com/m/moana_2016',\n",
       " 'https://www.rottentomatoes.com/m/isle_of_dogs_2018',\n",
       " 'https://www.rottentomatoes.com/m/star_wars',\n",
       " 'https://www.rottentomatoes.com/m/guardians_of_the_galaxy',\n",
       " 'https://www.rottentomatoes.com/m/goldfinger',\n",
       " 'https://www.rottentomatoes.com/m/kubo_and_the_two_strings_2016',\n",
       " 'https://www.rottentomatoes.com/m/1019774-stagecoach',\n",
       " 'https://www.rottentomatoes.com/m/marvels_the_avengers',\n",
       " 'https://www.rottentomatoes.com/m/wall_e',\n",
       " 'https://www.rottentomatoes.com/m/iron_man',\n",
       " 'https://www.rottentomatoes.com/m/terminator',\n",
       " 'https://www.rottentomatoes.com/m/hunt_for_the_wilderpeople',\n",
       " 'https://www.rottentomatoes.com/m/the_african_queen_1951',\n",
       " 'https://www.rottentomatoes.com/m/rio_bravo',\n",
       " 'https://www.rottentomatoes.com/m/doctor_strange_2016',\n",
       " 'https://www.rottentomatoes.com/m/the_taking_of_pelham_one_two_three',\n",
       " 'https://www.rottentomatoes.com/m/john_wick_chapter_3_parabellum',\n",
       " 'https://www.rottentomatoes.com/m/the_peanut_butter_falcon',\n",
       " 'https://www.rottentomatoes.com/m/1000617-aliens',\n",
       " 'https://www.rottentomatoes.com/m/empire_strikes_back',\n",
       " 'https://www.rottentomatoes.com/m/true_grit_2010',\n",
       " 'https://www.rottentomatoes.com/m/paths_of_glory',\n",
       " 'https://www.rottentomatoes.com/m/bridge_on_the_river_kwai',\n",
       " 'https://www.rottentomatoes.com/m/x_men_days_of_future_past',\n",
       " 'https://www.rottentomatoes.com/m/1031278-gun_crazy',\n",
       " 'https://www.rottentomatoes.com/m/all_is_lost_2013',\n",
       " 'https://www.rottentomatoes.com/m/looper',\n",
       " 'https://www.rottentomatoes.com/m/the_lego_batman_movie',\n",
       " 'https://www.rottentomatoes.com/m/badlands',\n",
       " 'https://www.rottentomatoes.com/m/guardians_of_the_galaxy_vol_2',\n",
       " 'https://www.rottentomatoes.com/m/1043378-stalker',\n",
       " 'https://www.rottentomatoes.com/m/chicken_run',\n",
       " 'https://www.rottentomatoes.com/m/princess_bride',\n",
       " 'https://www.rottentomatoes.com/m/casino_royale',\n",
       " 'https://www.rottentomatoes.com/m/no_country_for_old_men',\n",
       " 'https://www.rottentomatoes.com/m/dawn_of_the_planet_of_the_apes',\n",
       " 'https://www.rottentomatoes.com/m/ran',\n",
       " 'https://www.rottentomatoes.com/m/captain_marvel',\n",
       " 'https://www.rottentomatoes.com/m/sicario_2015',\n",
       " 'https://www.rottentomatoes.com/m/jurassic_park',\n",
       " 'https://www.rottentomatoes.com/m/fistful_of_dollars',\n",
       " 'https://www.rottentomatoes.com/m/ghostbusters',\n",
       " 'https://www.rottentomatoes.com/m/1029042-henry_v',\n",
       " 'https://www.rottentomatoes.com/m/onward',\n",
       " 'https://www.rottentomatoes.com/m/the_lord_of_the_rings_the_two_towers',\n",
       " 'https://www.rottentomatoes.com/m/captain_america_the_winter_soldier_2014',\n",
       " 'https://www.rottentomatoes.com/m/1001280-assault_on_precinct_13',\n",
       " 'https://www.rottentomatoes.com/m/deadpool_2',\n",
       " 'https://www.rottentomatoes.com/m/back_to_the_future',\n",
       " 'https://www.rottentomatoes.com/m/searchers',\n",
       " 'https://www.rottentomatoes.com/m/1046129-fugitive',\n",
       " 'https://www.rottentomatoes.com/m/crouching_tiger_hidden_dragon',\n",
       " 'https://www.rottentomatoes.com/m/aguirre_the_wrath_of_god',\n",
       " 'https://www.rottentomatoes.com/m/bullitt',\n",
       " 'https://www.rottentomatoes.com/m/apollo_13',\n",
       " 'https://www.rottentomatoes.com/m/the_lion_king',\n",
       " 'https://www.rottentomatoes.com/m/annihilation',\n",
       " 'https://www.rottentomatoes.com/m/catch_me_if_you_can']"
      ]
     },
     "execution_count": 26,
     "metadata": {},
     "output_type": "execute_result"
    }
   ],
   "source": [
    "from urllib.parse import urljoin\n",
    "\n",
    "full_url = [urljoin(base_url,url) for url in relative_url]\n",
    "full_url"
   ]
  },
  {
   "cell_type": "markdown",
   "metadata": {},
   "source": [
    "**Now I want to go to these sites and collect more information about the movies like Genre, Director etc. from multiple pages**"
   ]
  },
  {
   "cell_type": "markdown",
   "metadata": {},
   "source": [
    "**Let us explore a bit taking an example**"
   ]
  },
  {
   "cell_type": "code",
   "execution_count": 27,
   "metadata": {},
   "outputs": [],
   "source": [
    "response = requests.get('https://www.rottentomatoes.com/m/the_lion_king')\n",
    "html = response.content \n",
    "soup = BeautifulSoup(html,'lxml')"
   ]
  },
  {
   "cell_type": "code",
   "execution_count": 28,
   "metadata": {},
   "outputs": [
    {
     "data": {
      "text/plain": [
       "[<div class=\"meta-value\" data-qa=\"movie-info-item-value\">G\n",
       "                     </div>,\n",
       " <div class=\"meta-value genre\" data-qa=\"movie-info-item-value\">\n",
       "                         \n",
       "                         musical, \n",
       "                         \n",
       "                         adventure, \n",
       "                         \n",
       "                         animation, \n",
       "                         \n",
       "                         kids &amp; family\n",
       "                         \n",
       "                     </div>,\n",
       " <div class=\"meta-value\" data-qa=\"movie-info-item-value\">English\n",
       "                     </div>,\n",
       " <div class=\"meta-value\" data-qa=\"movie-info-item-value\">\n",
       " <a data-qa=\"movie-info-director\" href=\"/celebrity/roger_allers\">Roger Allers</a>, \n",
       "                         \n",
       "                             <a data-qa=\"movie-info-director\" href=\"/celebrity/rob_minkoff\">Rob Minkoff</a>\n",
       " </div>,\n",
       " <div class=\"meta-value\" data-qa=\"movie-info-item-value\">\n",
       " <a href=\"/celebrity/don-hahn\">Don Hahn</a>\n",
       " </div>,\n",
       " <div class=\"meta-value\" data-qa=\"movie-info-item-value\">\n",
       " <a href=\"/celebrity/irene_mecchi\">Irene Mecchi</a>, \n",
       "                         \n",
       "                             <a href=\"/celebrity/jonathan_roberts\">Jonathan Roberts</a>, \n",
       "                         \n",
       "                             <a href=\"/celebrity/linda_woolverton\">Linda Woolverton</a>\n",
       " </div>,\n",
       " <div class=\"meta-value\" data-qa=\"movie-info-item-value\">\n",
       " <time datetime=\"Jun 24, 1994\">Jun 24, 1994</time>\n",
       " <span style=\"text-transform:capitalize\"> wide</span>\n",
       " </div>,\n",
       " <div class=\"meta-value\" data-qa=\"movie-info-item-value\">\n",
       " <time datetime=\"Oct 4, 2011\">\n",
       "                             Aug 15, 2017\n",
       "                         </time>\n",
       " </div>,\n",
       " <div class=\"meta-value\" data-qa=\"movie-info-item-value\">$422.8M</div>,\n",
       " <div class=\"meta-value\" data-qa=\"movie-info-item-value\">\n",
       " <time datetime=\"P1h 27mM\">\n",
       "                             1h 27m\n",
       "                         </time>\n",
       " </div>,\n",
       " <div class=\"meta-value\" data-qa=\"movie-info-item-value\">\n",
       "                         \n",
       "                         Walt Disney Pictures\n",
       "                         \n",
       "                     </div>,\n",
       " <div class=\"meta-value\" data-qa=\"movie-info-item-value\">\n",
       "                         Dolby SR, DTS, Dolby Stereo, SDDS, DTS-ES, Dolby A, Surround, Dolby Digital\n",
       "                     </div>,\n",
       " <div class=\"meta-value\" data-qa=\"movie-info-item-value\">\n",
       "                         Flat (1.85:1)\n",
       "                     </div>]"
      ]
     },
     "execution_count": 28,
     "metadata": {},
     "output_type": "execute_result"
    }
   ],
   "source": [
    "info = soup.find_all('div' ,class_='meta-value')\n",
    "info"
   ]
  },
  {
   "cell_type": "code",
   "execution_count": 29,
   "metadata": {},
   "outputs": [
    {
     "data": {
      "text/plain": [
       "13"
      ]
     },
     "execution_count": 29,
     "metadata": {},
     "output_type": "execute_result"
    }
   ],
   "source": [
    "len(info)"
   ]
  },
  {
   "cell_type": "code",
   "execution_count": 30,
   "metadata": {},
   "outputs": [
    {
     "data": {
      "text/plain": [
       "'musical,adventure,animation,kids&family'"
      ]
     },
     "execution_count": 30,
     "metadata": {},
     "output_type": "execute_result"
    }
   ],
   "source": [
    "info[1].text.strip(' \\n').replace('\\n','').replace(' ','') # Genre"
   ]
  },
  {
   "cell_type": "code",
   "execution_count": 31,
   "metadata": {},
   "outputs": [
    {
     "data": {
      "text/plain": [
       "'English'"
      ]
     },
     "execution_count": 31,
     "metadata": {},
     "output_type": "execute_result"
    }
   ],
   "source": [
    "info[2].text.strip('\\n ').replace('\\n','').replace(' ','') # Language"
   ]
  },
  {
   "cell_type": "code",
   "execution_count": 32,
   "metadata": {},
   "outputs": [
    {
     "data": {
      "text/plain": [
       "'RogerAllers,RobMinkoff'"
      ]
     },
     "execution_count": 32,
     "metadata": {},
     "output_type": "execute_result"
    }
   ],
   "source": [
    "info[3].text.strip('\\n ').replace('\\n','').replace(' ','') # Directors"
   ]
  },
  {
   "cell_type": "code",
   "execution_count": 33,
   "metadata": {},
   "outputs": [
    {
     "data": {
      "text/plain": [
       "'DonHahn'"
      ]
     },
     "execution_count": 33,
     "metadata": {},
     "output_type": "execute_result"
    }
   ],
   "source": [
    "info[4].text.strip('\\n ').replace('\\n','').replace(' ','') # Writers"
   ]
  },
  {
   "cell_type": "code",
   "execution_count": 52,
   "metadata": {},
   "outputs": [],
   "source": [
    "genre=[]\n",
    "language=[]\n",
    "directors=[]\n",
    "writers=[]\n",
    "\n",
    "for url in full_url:\n",
    "    response = requests.get(url)\n",
    "    html = response.content\n",
    "    soup = BeautifulSoup(html,'lxml')\n",
    "    info = soup.find_all('div' ,class_='meta-value')\n",
    "    genre.append(info[1].text.strip(' \\n').replace('\\n','').replace(' ',''))\n",
    "    language.append(info[2].text.strip('\\n ').replace('\\n','').replace(' ',''))\n",
    "    directors.append(info[3].text.strip('\\n ').replace('\\n','').replace(' ',''))\n",
    "    writers.append(info[4].text.strip('\\n ').replace('\\n','').replace(' ',''))"
   ]
  },
  {
   "cell_type": "code",
   "execution_count": 53,
   "metadata": {},
   "outputs": [
    {
     "name": "stdout",
     "output_type": "stream",
     "text": [
      "['action,adventure,fantasy', 'action,sci-fi,adventure,fantasy', 'action,mystery&thriller,adventure', 'action,adventure', 'animation,fantasy,kids&family,comedy,action,adventure', 'action,adventure,fantasy', 'war,history,drama', 'comedy,adventure,animation,music,kids&family', 'action,comedy,adventure,sci-fi,fantasy', 'Japanese', 'action,adventure,fantasy', 'action,sci-fi,adventure,fantasy', 'action,sci-fi,adventure,fantasy', 'action,adventure', 'action,comedy,adventure,animation,kids&family', 'action,comedy,adventure,fantasy', 'adventure,comedy,animation,kids&family', 'English', 'action,sci-fi,adventure', 'action,mystery&thriller', 'action,comedy,adventure,fantasy', 'German', 'mystery&thriller,adventure,horror', 'adventure,comedy,animation,kids&family', 'action,comedy,adventure,fantasy', 'action,adventure,fantasy', 'English', 'sci-fi,mystery&thriller', 'action,adventure,fantasy', 'action,mystery&thriller,adventure', 'drama,crime,mystery&thriller', 'adventure,action,kids&family,fantasy', 'adventure,fantasy', 'English(UnitedKingdom)', 'war,drama', 'action,mystery&thriller,adventure', 'mystery&thriller,action,war,drama', 'adventure,biography,history,drama', 'adventure,comedy,kids&family,animation', 'action,sci-fi,adventure,fantasy', 'action,sci-fi,adventure,fantasy', 'action,comedy,adventure,fantasy', 'musical,comedy,adventure,animation,kids&family', 'animation,comedy,adventure', 'action,sci-fi,adventure,fantasy', 'action,comedy,adventure,sci-fi,fantasy', 'action', 'action,adventure,animation,kids&family,fantasy', 'English', 'action,sci-fi,adventure,fantasy', 'comedy,adventure,animation,sci-fi,kids&family', 'sci-fi,action,fantasy,adventure', 'action,sci-fi,mystery&thriller', 'comedy,adventure', 'adventure', 'English', 'action,adventure,fantasy', 'action,crime,mystery&thriller,drama', 'action,mystery&thriller', 'drama,adventure,comedy', 'action,sci-fi,horror', 'action,sci-fi,adventure,fantasy', 'western,drama', 'English', 'war,drama', 'action,sci-fi,adventure,fantasy', 'English', 'mystery&thriller,adventure,drama', 'action,sci-fi,mystery&thriller', 'action,comedy,adventure,animation,kids&family', 'crime,drama', 'action,comedy,adventure,sci-fi,fantasy', 'sci-fi,adventure', 'adventure,comedy,animation,kids&family', 'adventure,comedy,kids&family', 'action,mystery&thriller,adventure', 'crime,mystery&thriller,drama', 'action,sci-fi,adventure', 'history,drama', 'action,sci-fi,adventure,fantasy', 'crime,drama,mystery&thriller', 'adventure,action,mystery&thriller,sci-fi', 'western', 'fantasy,adventure,comedy', 'history,drama', 'adventure,fantasy,kids&family,comedy,animation', 'adventure,fantasy', 'action,adventure,fantasy', 'action', 'action,comedy,adventure,fantasy', 'adventure,sci-fi,comedy,fantasy', 'English', 'action,crime,mystery&thriller,drama', 'action,sports&fitness,adventure', 'English', 'crime,drama', 'history,drama', 'musical,adventure,animation,kids&family', 'sci-fi,mystery&thriller,adventure', 'comedy,crime,drama']\n",
      " \n",
      "['English', 'English', 'English', 'English', 'English', 'English', 'English', 'English', 'English', 'AkiraKurosawa', 'English', 'English', 'English', 'English', 'English', 'English', 'English', 'MerianC.Cooper,ErnestB.Schoedsack', 'English', 'English', 'English', 'FritzLang', 'English', 'English', 'English', 'English', 'JohnHuston', 'English', 'English', 'English', 'English', 'English', 'English', 'AlfredHitchcock', 'English', 'English', 'English', 'English', 'English', 'English', 'English', 'English', 'English', 'English', 'English', 'English', 'English', 'English', 'JohnFord', 'English', 'English', 'English', 'English', 'English(Australia)', 'English', 'HowardHawks', 'English', 'English', 'English', 'English', 'English', 'English', 'English', 'StanleyKubrick', 'English', 'English', 'JosephH.Lewis', 'English', 'English', 'English', 'English', 'English', 'Russian', 'English', 'English', 'English', 'English', 'English', 'Japanese', 'English', 'English', 'English', 'Italian', 'English', 'English', 'English', 'English', 'English', 'English', 'English', 'English', 'JohnFord', 'English', 'Chinese', 'WernerHerzog', 'English', 'English', 'English', 'English', 'English']\n",
      " \n",
      "['RyanCoogler', 'AnthonyRusso,JoeRusso', 'ChristopherMcQuarrie', 'GeorgeMiller', 'BobPersichetti,PeterRamsey,RodneyRothman', 'PattyJenkins', 'ChristopherNolan', 'LeeUnkrich', 'TaikaWaititi', 'SojiroMotoki', 'JamesMangold', 'RianJohnson', 'J.J.Abrams', 'MichaelCurtiz,WilliamKeighley', 'BradBird', 'JonWatts', 'ByronHoward,RichMoore', 'MerianC.Cooper,ErnestB.Schoedsack', 'MattReeves', 'EdgarWright', 'JonWatts', 'ErichPommer', 'StevenSpielberg', 'PeteDocter,BobPeterson', 'DavidF.Sandberg', 'ChristopherNolan', 'HenryBlanke', 'DenisVilleneuve', 'AnthonyRusso,JoeRusso', 'SamMendes', 'WilliamFriedkin', 'JonFavreau', 'DavidYates', 'MichaelBalcon,IvorMontagu', 'FrancisFordCoppola', 'ChristopherMcQuarrie', 'KathrynBigelow', 'DavidLean', 'PhilLord,ChrisMiller', 'AnthonyRusso,JoeRusso', 'J.J.Abrams', 'PeytonReed', 'JohnMusker,RonClements', 'WesAnderson', 'GeorgeLucas', 'JamesGunn', 'GuyHamilton', 'TravisKnight', 'JohnFord', 'JossWhedon', 'AndrewStanton', 'JonFavreau', 'JamesCameron', 'TaikaWaititi', 'JohnHuston', 'HowardHawks', 'ScottDerrickson', 'JosephSargent', 'ChadStahelski', 'TylerNilson,MichaelSchwartz', 'JamesCameron', 'IrvinKershner', 'JoelCoen,EthanCoen', 'KirkDouglas,JamesB.Harris', 'DavidLean', 'BryanSinger', 'FrankKing,MauriceKing', 'J.C.Chandor', 'RianJohnson', 'ChrisMcKay', 'TerrenceMalick', 'JamesGunn', 'AndreiTarkovsky', 'PeterLord,NickPark', 'RobReiner', 'MartinCampbell', 'JoelCoen,EthanCoen', 'MattReeves', 'AkiraKurosawa', 'AnnaBoden,RyanFleck', 'DenisVilleneuve', 'StevenSpielberg', 'SergioLeone', 'IvanReitman', 'KennethBranagh', 'DanScanlon', 'PeterJackson', 'AnthonyRusso,JoeRusso', 'JohnCarpenter', 'DavidLeitch', 'RobertZemeckis', 'C.V.Whitney', 'AndrewDavis', 'AngLee', 'WernerHerzog', 'PeterYates', 'RonHoward', 'RogerAllers,RobMinkoff', 'AlexGarland', 'StevenSpielberg']\n",
      " \n",
      "['KevinFeige', 'KevinFeige', 'TomCruise,ChristopherMcQuarrie,JakeMyers,J.J.Abrams', 'DougMitchell,GeorgeMiller,P.J.Voeten', 'AviArad,AmyPascal,PhilLord,ChrisMiller,ChristinaSteinberg', 'CharlesRoven,DeborahSnyder,ZackSnyder,RichardSuckle', 'EmmaThomas,ChristopherNolan', 'DarlaK.Anderson', 'KevinFeige', 'ShinobuHashimoto,AkiraKurosawa,HideoOguni', 'HutchParker,SimonKinberg,LaurenShulerDonner', 'KathleenKennedy,RamBergman', 'KathleenKennedy,J.J.Abrams,BryanBurk', 'HalB.Wallis', 'JohnWalker,NicoleParadisGrindle', 'KevinFeige,AmyPascal', 'ClarkSpencer', 'JamesAshmoreCreelman,RuthRose', 'PeterChernin,DylanClark,RickJaffa,AmandaSilver', 'NiraPark,TimBevan,EricFellner', 'KevinFeige,AmyPascal', 'FritzLang,TheavonHarbou,TheavonHarbou', 'DavidBrown,RichardD.Zanuck', 'JonasRivera', 'PeterSafran', 'EmmaThomas,CharlesRoven,ChristopherNolan', 'B.Traven,JohnHuston', 'AndrewA.Kosove,BroderickJohnson,BudYorkin,CynthiaSikesYorkin', 'KevinFeige', 'MichaelG.Wilson,BarbaraBroccoli', \"PhilipD'Antoni\", 'JonFavreau,BrighamTaylor', 'DavidHeyman,DavidBarron,J.K.Rowling', 'JohnBuchan,CharlesBennett,IanHay', 'KimAubry,FrancisFordCoppola', 'TomCruise,J.J.Abrams,BryanBurk,DavidEllison,DanaGoldberg,DonGranger', 'KathrynBigelow,MarkBoal,NicolasChartier', 'RobertA.Harris,SamSpiegel', 'DanLin,RoyLee', 'KevinFeige', 'J.J.Abrams,DamonLindelof', 'KevinFeige,StephenBroussard', 'OsnatShurer', 'WesAnderson,ScottRudin,StevenRales,JeremyDawson', 'GaryKurtz', 'KevinFeige', 'AlbertR.Broccoli,HarrySaltzman', 'ArianneSutner,TravisKnight', 'ErnestHaycox,DudleyNichols,BenHecht', 'KevinFeige', 'JimMorris', 'AviArad,KevinFeige', 'GaleAnneHurd', 'CarthewNeal,LeanneSaunders,TaikaWaititi,MattNoonan', 'S.P.Spiegel', 'B.H.McCampbell,JulesFurthman,LeighBrackett', 'KevinFeige', 'GabrielKatzka,EdgarJ.Scherick', 'BasilIwanyk,EricaLee', 'TimZajaros,ChristopherLemole,AlbertBerger,RonYerxa', 'GaleAnneHurd', 'GaryKurtz', 'ScottRudin,JoelCoen,EthanCoen', 'HumphreyCobb,StanleyKubrick,CalderWillingham,JimThompson', 'SamSpiegel', 'LaurenShulerDonner,BryanSinger,SimonKinberg,HutchParker', 'MacKinlayKantor,MacKinlayKantor,DaltonTrumbo', 'NealDodson,AnnaGerb,JustinNappi,TeddySchwarzman', 'RamBergman,JamesD.Stern', 'DanLin,PhilLord,ChrisMiller,RoyLee', 'TerrenceMalick', 'KevinFeige', 'AleksandraDemidova', 'PeterLord,NickPark,DavidSproxton', 'RobReiner,AndrewScheinman', 'BarbaraBroccoli,MichaelG.Wilson', 'JoelCoen,EthanCoen,ScottRudin', 'PeterChernin,DylanClark,RickJaffa,AmandaSilver', 'MasatoHara,SergeSilberman', 'KevinFeige', 'BasilIwanyk,EdwardL.McDonnell,MollySmith,ThadLuckinbill,TrentLuckinbill', 'KathleenKennedy,GeraldR.Molen', 'ArrigoColombo,GiorgioPapi', 'IvanReitman', 'BruceSharman', 'KoriRae', 'TimSanders,PeterJackson,BarrieM.Osborne,FranWalsh', 'KevinFeige', 'J.SteinKaplan', 'RyanReynolds,SimonKinberg,LaurenShulerDonner', 'BobGale,NeilCanton', 'AlanLeMay,FrankS.Nugent', 'ArnoldKopelson', 'Li-KongHsu,WilliamKong,AngLee', 'WernerHerzog', \"PhilipD'Antoni\", 'BrianGrazer', 'DonHahn', 'ScottRudin,AndrewMacdonald,AllonReich,EliBush', 'WalterF.Parkes,StevenSpielberg']\n"
     ]
    }
   ],
   "source": [
    "print(genre)\n",
    "print(' ')\n",
    "print(language)\n",
    "print(' ')\n",
    "print(directors)\n",
    "print(' ')\n",
    "print(writers)"
   ]
  },
  {
   "cell_type": "code",
   "execution_count": 55,
   "metadata": {},
   "outputs": [
    {
     "data": {
      "text/plain": [
       "(100, 100, 100, 100)"
      ]
     },
     "execution_count": 55,
     "metadata": {},
     "output_type": "execute_result"
    }
   ],
   "source": [
    "len(genre),len(language),len(directors),len(writers)"
   ]
  },
  {
   "cell_type": "code",
   "execution_count": 56,
   "metadata": {},
   "outputs": [
    {
     "data": {
      "text/html": [
       "<div>\n",
       "<style scoped>\n",
       "    .dataframe tbody tr th:only-of-type {\n",
       "        vertical-align: middle;\n",
       "    }\n",
       "\n",
       "    .dataframe tbody tr th {\n",
       "        vertical-align: top;\n",
       "    }\n",
       "\n",
       "    .dataframe thead th {\n",
       "        text-align: right;\n",
       "    }\n",
       "</style>\n",
       "<table border=\"1\" class=\"dataframe\">\n",
       "  <thead>\n",
       "    <tr style=\"text-align: right;\">\n",
       "      <th></th>\n",
       "      <th>film_name</th>\n",
       "      <th>year_of_release</th>\n",
       "      <th>film_rating</th>\n",
       "      <th>film_reviews</th>\n",
       "      <th>film_genre</th>\n",
       "      <th>film_lang</th>\n",
       "      <th>film_directors</th>\n",
       "      <th>film_writers</th>\n",
       "    </tr>\n",
       "  </thead>\n",
       "  <tbody>\n",
       "    <tr>\n",
       "      <th>0</th>\n",
       "      <td>Black Panther</td>\n",
       "      <td>2018</td>\n",
       "      <td>96</td>\n",
       "      <td>525</td>\n",
       "      <td>action,adventure,fantasy</td>\n",
       "      <td>English</td>\n",
       "      <td>RyanCoogler</td>\n",
       "      <td>KevinFeige</td>\n",
       "    </tr>\n",
       "    <tr>\n",
       "      <th>1</th>\n",
       "      <td>Avengers: Endgame</td>\n",
       "      <td>2019</td>\n",
       "      <td>94</td>\n",
       "      <td>544</td>\n",
       "      <td>action,sci-fi,adventure,fantasy</td>\n",
       "      <td>English</td>\n",
       "      <td>AnthonyRusso,JoeRusso</td>\n",
       "      <td>KevinFeige</td>\n",
       "    </tr>\n",
       "    <tr>\n",
       "      <th>2</th>\n",
       "      <td>Mission: Impossible - Fallout</td>\n",
       "      <td>2018</td>\n",
       "      <td>93</td>\n",
       "      <td>435</td>\n",
       "      <td>action,mystery&amp;thriller,adventure</td>\n",
       "      <td>English</td>\n",
       "      <td>ChristopherMcQuarrie</td>\n",
       "      <td>TomCruise,ChristopherMcQuarrie,JakeMyers,J.J.A...</td>\n",
       "    </tr>\n",
       "    <tr>\n",
       "      <th>3</th>\n",
       "      <td>Mad Max: Fury Road</td>\n",
       "      <td>2015</td>\n",
       "      <td>85</td>\n",
       "      <td>427</td>\n",
       "      <td>action,adventure</td>\n",
       "      <td>English</td>\n",
       "      <td>GeorgeMiller</td>\n",
       "      <td>DougMitchell,GeorgeMiller,P.J.Voeten</td>\n",
       "    </tr>\n",
       "    <tr>\n",
       "      <th>4</th>\n",
       "      <td>Spider-Man: Into the Spider-Verse</td>\n",
       "      <td>2018</td>\n",
       "      <td>78</td>\n",
       "      <td>391</td>\n",
       "      <td>animation,fantasy,kids&amp;family,comedy,action,ad...</td>\n",
       "      <td>English</td>\n",
       "      <td>BobPersichetti,PeterRamsey,RodneyRothman</td>\n",
       "      <td>AviArad,AmyPascal,PhilLord,ChrisMiller,Christi...</td>\n",
       "    </tr>\n",
       "  </tbody>\n",
       "</table>\n",
       "</div>"
      ],
      "text/plain": [
       "                           film_name year_of_release film_rating  \\\n",
       "0                      Black Panther            2018          96   \n",
       "1                  Avengers: Endgame            2019          94   \n",
       "2      Mission: Impossible - Fallout            2018          93   \n",
       "3                 Mad Max: Fury Road            2015          85   \n",
       "4  Spider-Man: Into the Spider-Verse            2018          78   \n",
       "\n",
       "   film_reviews                                         film_genre film_lang  \\\n",
       "0           525                           action,adventure,fantasy   English   \n",
       "1           544                    action,sci-fi,adventure,fantasy   English   \n",
       "2           435                  action,mystery&thriller,adventure   English   \n",
       "3           427                                   action,adventure   English   \n",
       "4           391  animation,fantasy,kids&family,comedy,action,ad...   English   \n",
       "\n",
       "                             film_directors  \\\n",
       "0                               RyanCoogler   \n",
       "1                     AnthonyRusso,JoeRusso   \n",
       "2                      ChristopherMcQuarrie   \n",
       "3                              GeorgeMiller   \n",
       "4  BobPersichetti,PeterRamsey,RodneyRothman   \n",
       "\n",
       "                                        film_writers  \n",
       "0                                         KevinFeige  \n",
       "1                                         KevinFeige  \n",
       "2  TomCruise,ChristopherMcQuarrie,JakeMyers,J.J.A...  \n",
       "3               DougMitchell,GeorgeMiller,P.J.Voeten  \n",
       "4  AviArad,AmyPascal,PhilLord,ChrisMiller,Christi...  "
      ]
     },
     "execution_count": 56,
     "metadata": {},
     "output_type": "execute_result"
    }
   ],
   "source": [
    "film_dict = {\n",
    "    'film_name':film_title,\n",
    "    'year_of_release':year,\n",
    "    'film_rating':film_rating_perc,\n",
    "    'film_reviews':no_of_reviews,\n",
    "    'film_genre':genre,\n",
    "    'film_lang':language,\n",
    "    'film_directors':directors,\n",
    "    'film_writers':writers\n",
    "}\n",
    "films = pd.DataFrame(data=film_dict)\n",
    "films.head()"
   ]
  },
  {
   "cell_type": "code",
   "execution_count": 57,
   "metadata": {},
   "outputs": [],
   "source": [
    "films.to_csv('films.csv', index=False)"
   ]
  },
  {
   "cell_type": "markdown",
   "metadata": {},
   "source": [
    "**Importing the created dataset**"
   ]
  },
  {
   "cell_type": "code",
   "execution_count": 58,
   "metadata": {},
   "outputs": [],
   "source": [
    "dataset= pd.read_csv('films.csv')"
   ]
  },
  {
   "cell_type": "code",
   "execution_count": 60,
   "metadata": {},
   "outputs": [
    {
     "name": "stdout",
     "output_type": "stream",
     "text": [
      "<class 'pandas.core.frame.DataFrame'>\n",
      "RangeIndex: 100 entries, 0 to 99\n",
      "Data columns (total 8 columns):\n",
      " #   Column           Non-Null Count  Dtype \n",
      "---  ------           --------------  ----- \n",
      " 0   film_name        100 non-null    object\n",
      " 1   year_of_release  100 non-null    int64 \n",
      " 2   film_rating      100 non-null    int64 \n",
      " 3   film_reviews     100 non-null    int64 \n",
      " 4   film_genre       100 non-null    object\n",
      " 5   film_lang        100 non-null    object\n",
      " 6   film_directors   100 non-null    object\n",
      " 7   film_writers     100 non-null    object\n",
      "dtypes: int64(3), object(5)\n",
      "memory usage: 4.4+ KB\n"
     ]
    }
   ],
   "source": [
    "dataset.info()"
   ]
  },
  {
   "cell_type": "code",
   "execution_count": 61,
   "metadata": {},
   "outputs": [
    {
     "data": {
      "text/html": [
       "<div>\n",
       "<style scoped>\n",
       "    .dataframe tbody tr th:only-of-type {\n",
       "        vertical-align: middle;\n",
       "    }\n",
       "\n",
       "    .dataframe tbody tr th {\n",
       "        vertical-align: top;\n",
       "    }\n",
       "\n",
       "    .dataframe thead th {\n",
       "        text-align: right;\n",
       "    }\n",
       "</style>\n",
       "<table border=\"1\" class=\"dataframe\">\n",
       "  <thead>\n",
       "    <tr style=\"text-align: right;\">\n",
       "      <th></th>\n",
       "      <th>film_name</th>\n",
       "      <th>year_of_release</th>\n",
       "      <th>film_rating</th>\n",
       "      <th>film_reviews</th>\n",
       "      <th>film_genre</th>\n",
       "      <th>film_lang</th>\n",
       "      <th>film_directors</th>\n",
       "      <th>film_writers</th>\n",
       "    </tr>\n",
       "  </thead>\n",
       "  <tbody>\n",
       "    <tr>\n",
       "      <th>43</th>\n",
       "      <td>Isle of Dogs</td>\n",
       "      <td>2018</td>\n",
       "      <td>100</td>\n",
       "      <td>366</td>\n",
       "      <td>animation,comedy,adventure</td>\n",
       "      <td>English</td>\n",
       "      <td>WesAnderson</td>\n",
       "      <td>WesAnderson,ScottRudin,StevenRales,JeremyDawson</td>\n",
       "    </tr>\n",
       "    <tr>\n",
       "      <th>2</th>\n",
       "      <td>Mission: Impossible - Fallout</td>\n",
       "      <td>2018</td>\n",
       "      <td>93</td>\n",
       "      <td>435</td>\n",
       "      <td>action,mystery&amp;thriller,adventure</td>\n",
       "      <td>English</td>\n",
       "      <td>ChristopherMcQuarrie</td>\n",
       "      <td>TomCruise,ChristopherMcQuarrie,JakeMyers,J.J.A...</td>\n",
       "    </tr>\n",
       "    <tr>\n",
       "      <th>16</th>\n",
       "      <td>Zootopia</td>\n",
       "      <td>2016</td>\n",
       "      <td>98</td>\n",
       "      <td>294</td>\n",
       "      <td>adventure,comedy,animation,kids&amp;family</td>\n",
       "      <td>English</td>\n",
       "      <td>ByronHoward,RichMoore</td>\n",
       "      <td>ClarkSpencer</td>\n",
       "    </tr>\n",
       "    <tr>\n",
       "      <th>38</th>\n",
       "      <td>The LEGO Movie</td>\n",
       "      <td>2014</td>\n",
       "      <td>97</td>\n",
       "      <td>253</td>\n",
       "      <td>adventure,comedy,kids&amp;family,animation</td>\n",
       "      <td>English</td>\n",
       "      <td>PhilLord,ChrisMiller</td>\n",
       "      <td>DanLin,RoyLee</td>\n",
       "    </tr>\n",
       "    <tr>\n",
       "      <th>71</th>\n",
       "      <td>Guardians of the Galaxy Vol. 2</td>\n",
       "      <td>2017</td>\n",
       "      <td>98</td>\n",
       "      <td>421</td>\n",
       "      <td>action,comedy,adventure,sci-fi,fantasy</td>\n",
       "      <td>English</td>\n",
       "      <td>JamesGunn</td>\n",
       "      <td>KevinFeige</td>\n",
       "    </tr>\n",
       "    <tr>\n",
       "      <th>52</th>\n",
       "      <td>The Terminator</td>\n",
       "      <td>1984</td>\n",
       "      <td>94</td>\n",
       "      <td>65</td>\n",
       "      <td>action,sci-fi,mystery&amp;thriller</td>\n",
       "      <td>English</td>\n",
       "      <td>JamesCameron</td>\n",
       "      <td>GaleAnneHurd</td>\n",
       "    </tr>\n",
       "    <tr>\n",
       "      <th>41</th>\n",
       "      <td>Ant-Man and the Wasp</td>\n",
       "      <td>2018</td>\n",
       "      <td>90</td>\n",
       "      <td>435</td>\n",
       "      <td>action,comedy,adventure,fantasy</td>\n",
       "      <td>English</td>\n",
       "      <td>PeytonReed</td>\n",
       "      <td>KevinFeige,StephenBroussard</td>\n",
       "    </tr>\n",
       "    <tr>\n",
       "      <th>94</th>\n",
       "      <td>Aguirre, the Wrath of God</td>\n",
       "      <td>1972</td>\n",
       "      <td>90</td>\n",
       "      <td>50</td>\n",
       "      <td>English</td>\n",
       "      <td>WernerHerzog</td>\n",
       "      <td>WernerHerzog</td>\n",
       "      <td>WernerHerzog</td>\n",
       "    </tr>\n",
       "    <tr>\n",
       "      <th>51</th>\n",
       "      <td>Iron Man</td>\n",
       "      <td>2008</td>\n",
       "      <td>98</td>\n",
       "      <td>281</td>\n",
       "      <td>sci-fi,action,fantasy,adventure</td>\n",
       "      <td>English</td>\n",
       "      <td>JonFavreau</td>\n",
       "      <td>AviArad,KevinFeige</td>\n",
       "    </tr>\n",
       "    <tr>\n",
       "      <th>87</th>\n",
       "      <td>Captain America: The Winter Soldier</td>\n",
       "      <td>2014</td>\n",
       "      <td>97</td>\n",
       "      <td>306</td>\n",
       "      <td>action,adventure,fantasy</td>\n",
       "      <td>English</td>\n",
       "      <td>AnthonyRusso,JoeRusso</td>\n",
       "      <td>KevinFeige</td>\n",
       "    </tr>\n",
       "  </tbody>\n",
       "</table>\n",
       "</div>"
      ],
      "text/plain": [
       "                              film_name  year_of_release  film_rating  \\\n",
       "43                         Isle of Dogs             2018          100   \n",
       "2         Mission: Impossible - Fallout             2018           93   \n",
       "16                             Zootopia             2016           98   \n",
       "38                       The LEGO Movie             2014           97   \n",
       "71       Guardians of the Galaxy Vol. 2             2017           98   \n",
       "52                       The Terminator             1984           94   \n",
       "41                 Ant-Man and the Wasp             2018           90   \n",
       "94            Aguirre, the Wrath of God             1972           90   \n",
       "51                             Iron Man             2008           98   \n",
       "87  Captain America: The Winter Soldier             2014           97   \n",
       "\n",
       "    film_reviews                              film_genre     film_lang  \\\n",
       "43           366              animation,comedy,adventure       English   \n",
       "2            435       action,mystery&thriller,adventure       English   \n",
       "16           294  adventure,comedy,animation,kids&family       English   \n",
       "38           253  adventure,comedy,kids&family,animation       English   \n",
       "71           421  action,comedy,adventure,sci-fi,fantasy       English   \n",
       "52            65          action,sci-fi,mystery&thriller       English   \n",
       "41           435         action,comedy,adventure,fantasy       English   \n",
       "94            50                                 English  WernerHerzog   \n",
       "51           281         sci-fi,action,fantasy,adventure       English   \n",
       "87           306                action,adventure,fantasy       English   \n",
       "\n",
       "           film_directors                                       film_writers  \n",
       "43            WesAnderson    WesAnderson,ScottRudin,StevenRales,JeremyDawson  \n",
       "2    ChristopherMcQuarrie  TomCruise,ChristopherMcQuarrie,JakeMyers,J.J.A...  \n",
       "16  ByronHoward,RichMoore                                       ClarkSpencer  \n",
       "38   PhilLord,ChrisMiller                                      DanLin,RoyLee  \n",
       "71              JamesGunn                                         KevinFeige  \n",
       "52           JamesCameron                                       GaleAnneHurd  \n",
       "41             PeytonReed                        KevinFeige,StephenBroussard  \n",
       "94           WernerHerzog                                       WernerHerzog  \n",
       "51             JonFavreau                                 AviArad,KevinFeige  \n",
       "87  AnthonyRusso,JoeRusso                                         KevinFeige  "
      ]
     },
     "execution_count": 61,
     "metadata": {},
     "output_type": "execute_result"
    }
   ],
   "source": [
    "dataset.sample(10)"
   ]
  },
  {
   "cell_type": "markdown",
   "metadata": {},
   "source": [
    "**Now as we can see that there are some mistakes in columns and we can correct them by visiting the site and changing the values.**"
   ]
  },
  {
   "cell_type": "code",
   "execution_count": null,
   "metadata": {},
   "outputs": [],
   "source": []
  }
 ],
 "metadata": {
  "kernelspec": {
   "display_name": "Python 3",
   "language": "python",
   "name": "python3"
  },
  "language_info": {
   "codemirror_mode": {
    "name": "ipython",
    "version": 3
   },
   "file_extension": ".py",
   "mimetype": "text/x-python",
   "name": "python",
   "nbconvert_exporter": "python",
   "pygments_lexer": "ipython3",
   "version": "3.8.5"
  }
 },
 "nbformat": 4,
 "nbformat_minor": 4
}
