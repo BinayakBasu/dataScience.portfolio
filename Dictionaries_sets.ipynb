{
 "cells": [
  {
   "cell_type": "markdown",
   "metadata": {},
   "source": [
    "## Dictionary"
   ]
  },
  {
   "cell_type": "code",
   "execution_count": 1,
   "metadata": {},
   "outputs": [
    {
     "data": {
      "text/plain": [
       "{'India': 'Rupee', 'Japan': 'Yen', 'USA': 'Dollar'}"
      ]
     },
     "execution_count": 1,
     "metadata": {},
     "output_type": "execute_result"
    }
   ],
   "source": [
    "currency = {'India':'Rupee','Japan':'Yen','USA':'Dollar'}\n",
    "currency"
   ]
  },
  {
   "cell_type": "code",
   "execution_count": 2,
   "metadata": {},
   "outputs": [
    {
     "data": {
      "text/plain": [
       "'Dollar'"
      ]
     },
     "execution_count": 2,
     "metadata": {},
     "output_type": "execute_result"
    }
   ],
   "source": [
    "currency['USA']"
   ]
  },
  {
   "cell_type": "code",
   "execution_count": 3,
   "metadata": {},
   "outputs": [
    {
     "data": {
      "text/plain": [
       "{'India': 'Rupee', 'Japan': 'Yen', 'USA': 'Dollar', 'France': 'Euro'}"
      ]
     },
     "execution_count": 3,
     "metadata": {},
     "output_type": "execute_result"
    }
   ],
   "source": [
    "currency['France']='Euro'  # since the keys are unique\n",
    "currency"
   ]
  },
  {
   "cell_type": "code",
   "execution_count": 4,
   "metadata": {},
   "outputs": [
    {
     "data": {
      "text/plain": [
       "{'India': 'Rupee', 'Japan': 'Yen', 'USA': 'Dollar'}"
      ]
     },
     "execution_count": 4,
     "metadata": {},
     "output_type": "execute_result"
    }
   ],
   "source": [
    "del currency['France']\n",
    "currency"
   ]
  },
  {
   "cell_type": "code",
   "execution_count": 7,
   "metadata": {},
   "outputs": [
    {
     "ename": "KeyError",
     "evalue": "'France'",
     "output_type": "error",
     "traceback": [
      "\u001b[1;31m---------------------------------------------------------------------------\u001b[0m",
      "\u001b[1;31mKeyError\u001b[0m                                  Traceback (most recent call last)",
      "\u001b[1;32m<ipython-input-7-53fa7a5ee6ce>\u001b[0m in \u001b[0;36m<module>\u001b[1;34m\u001b[0m\n\u001b[1;32m----> 1\u001b[1;33m \u001b[0mcurrency\u001b[0m\u001b[1;33m[\u001b[0m\u001b[1;34m'France'\u001b[0m\u001b[1;33m]\u001b[0m\u001b[1;33m\u001b[0m\u001b[1;33m\u001b[0m\u001b[0m\n\u001b[0m",
      "\u001b[1;31mKeyError\u001b[0m: 'France'"
     ]
    }
   ],
   "source": [
    "currency['France']  # shows error "
   ]
  },
  {
   "cell_type": "code",
   "execution_count": 6,
   "metadata": {},
   "outputs": [
    {
     "name": "stdout",
     "output_type": "stream",
     "text": [
      "Enter the name of the country: USA\n",
      "Dollar\n",
      "Enter the name of the country: India\n",
      "Rupee\n",
      "Enter the name of the country: France\n",
      "None\n",
      "Enter the name of the country: quit\n"
     ]
    }
   ],
   "source": [
    "while True:\n",
    "    dict_key = input(\"Enter the name of the country: \")\n",
    "    if dict_key == 'quit':\n",
    "        break\n",
    "    else:\n",
    "        definition = currency.get(dict_key)\n",
    "        print(definition) # does not show error if a key not present is typed "
   ]
  },
  {
   "cell_type": "code",
   "execution_count": 10,
   "metadata": {},
   "outputs": [
    {
     "name": "stdout",
     "output_type": "stream",
     "text": [
      "Enter the name of the country: India\n",
      "Rupee\n",
      "Enter the name of the country: USA\n",
      "Dollar\n",
      "Enter the name of the country: France\n",
      "There is no key\n"
     ]
    }
   ],
   "source": [
    "while True:\n",
    "    dict_key = input(\"Enter the name of the country: \")\n",
    "    if dict_key in currency:\n",
    "        print(currency[dict_key])\n",
    "    else:\n",
    "        print(\"There is no key\")\n",
    "        break"
   ]
  },
  {
   "cell_type": "markdown",
   "metadata": {},
   "source": [
    "### Methods"
   ]
  },
  {
   "cell_type": "markdown",
   "metadata": {},
   "source": [
    "The syntax of clear() is:\n",
    "\n",
    "dict.clear()\n",
    "clear() Parameters\n",
    "clear() method doesn't take any parameters.\n",
    "\n",
    "Return Value from clear()\n",
    "clear() method doesn't return any value (returns None).\n",
    "\n",
    "Example 1: How clear() method works for dictionaries?"
   ]
  },
  {
   "cell_type": "code",
   "execution_count": 11,
   "metadata": {},
   "outputs": [
    {
     "name": "stdout",
     "output_type": "stream",
     "text": [
      "d = {}\n"
     ]
    }
   ],
   "source": [
    "d = {1: \"one\", 2: \"two\"}\n",
    "\n",
    "d.clear()\n",
    "print('d =', d)"
   ]
  },
  {
   "cell_type": "markdown",
   "metadata": {},
   "source": [
    "They copy() method returns a shallow copy of the dictionary.\n",
    "The syntax of copy() is:\n",
    "\n",
    "dict.copy()\n",
    "copy() Parameters\n",
    "copy() method doesn't take any parameters.\n",
    "\n",
    "Return Value from copy()\n",
    "This method returns a shallow copy of the dictionary. It doesn't modify the original dictionary."
   ]
  },
  {
   "cell_type": "code",
   "execution_count": 13,
   "metadata": {},
   "outputs": [
    {
     "name": "stdout",
     "output_type": "stream",
     "text": [
      "Orignal:  {1: 'one', 2: 'two'}\n",
      "New:  {1: 'one', 2: 'two', 3: 'three'}\n"
     ]
    }
   ],
   "source": [
    "original = {1:'one', 2:'two'}\n",
    "new = original.copy()\n",
    "new[3]= 'three'\n",
    "\n",
    "print('Orignal: ', original)\n",
    "print('New: ', new)"
   ]
  },
  {
   "cell_type": "markdown",
   "metadata": {},
   "source": [
    "The fromkeys() method creates a new dictionary from the given sequence of elements with a value provided by the user.\n",
    "The syntax of fromkeys() method is:\n",
    "\n",
    "dictionary.fromkeys(sequence[, value])\n",
    "\n",
    "fromkeys() Parameters\n",
    "fromkeys() method takes two parameters:\n",
    "\n",
    "sequence - sequence of elements which is to be used as keys for the new dictionary\n",
    "value (Optional) - value which is set to each each element of the dictionary\n",
    "Return value from fromkeys()\n",
    "fromkeys() method returns a new dictionary with the given sequence of elements as the keys of the dictionary.\n",
    "\n",
    "If the value argument is set, each element of the newly created dictionary is set to the provided value."
   ]
  },
  {
   "cell_type": "code",
   "execution_count": 14,
   "metadata": {},
   "outputs": [
    {
     "name": "stdout",
     "output_type": "stream",
     "text": [
      "{'e': None, 'u': None, 'a': None, 'o': None, 'i': None}\n"
     ]
    }
   ],
   "source": [
    "# vowels keys\n",
    "keys = {'a', 'e', 'i', 'o', 'u' }\n",
    "\n",
    "vowels = dict.fromkeys(keys)\n",
    "print(vowels)"
   ]
  },
  {
   "cell_type": "code",
   "execution_count": 15,
   "metadata": {},
   "outputs": [
    {
     "name": "stdout",
     "output_type": "stream",
     "text": [
      "{'e': 'vowel', 'u': 'vowel', 'a': 'vowel', 'o': 'vowel', 'i': 'vowel'}\n"
     ]
    }
   ],
   "source": [
    "# vowels keys\n",
    "keys = {'a', 'e', 'i', 'o', 'u' }\n",
    "value = 'vowel'\n",
    "\n",
    "vowels = dict.fromkeys(keys, value)\n",
    "print(vowels)"
   ]
  },
  {
   "cell_type": "code",
   "execution_count": 21,
   "metadata": {},
   "outputs": [
    {
     "name": "stdout",
     "output_type": "stream",
     "text": [
      "{'e': [1], 'u': [1], 'a': [1], 'o': [1], 'i': [1]}\n",
      "{'e': [1, 2], 'u': [1, 2], 'a': [1, 2], 'o': [1, 2], 'i': [1, 2]}\n"
     ]
    }
   ],
   "source": [
    "# vowels keys\n",
    "keys = {'a', 'e', 'i', 'o', 'u' }\n",
    "value = [1]\n",
    "\n",
    "vowels = dict.fromkeys(keys, value)\n",
    "print(vowels)\n",
    "\n",
    "# updating the value\n",
    "value.append(2)\n",
    "print(vowels)"
   ]
  },
  {
   "cell_type": "markdown",
   "metadata": {},
   "source": [
    "The get() method returns the value for the specified key if key is in dictionary.\n",
    "\n",
    "The syntax of get() is:\n",
    "\n",
    "dict.get(key[, value]) \n",
    "get() Parameters\n",
    "get() method takes maximum of two parameters:\n",
    "\n",
    "key - key to be searched in the dictionary\n",
    "value (optional) - Value to be returned if the key is not found. The default value is None.\n",
    "\n",
    "Return Value from get()\n",
    "get() method returns:\n",
    "\n",
    "the value for the specified key if key is in dictionary.\n",
    "None if the key is not found and value is not specified.\n",
    "value if the key is not found and value is specified."
   ]
  },
  {
   "cell_type": "code",
   "execution_count": 22,
   "metadata": {},
   "outputs": [
    {
     "name": "stdout",
     "output_type": "stream",
     "text": [
      "Name:  Phill\n",
      "Age:  22\n",
      "Salary:  None\n",
      "Salary:  0.0\n"
     ]
    }
   ],
   "source": [
    "person = {'name': 'Phill', 'age': 22}\n",
    "\n",
    "print('Name: ', person.get('name'))\n",
    "print('Age: ', person.get('age'))\n",
    "\n",
    "# value is not provided\n",
    "print('Salary: ', person.get('salary'))\n",
    "\n",
    "# value is provided\n",
    "print('Salary: ', person.get('salary', 0.0))"
   ]
  },
  {
   "cell_type": "code",
   "execution_count": 23,
   "metadata": {},
   "outputs": [
    {
     "name": "stdout",
     "output_type": "stream",
     "text": [
      "Salary:  None\n"
     ]
    },
    {
     "ename": "KeyError",
     "evalue": "'salary'",
     "output_type": "error",
     "traceback": [
      "\u001b[1;31m---------------------------------------------------------------------------\u001b[0m",
      "\u001b[1;31mKeyError\u001b[0m                                  Traceback (most recent call last)",
      "\u001b[1;32m<ipython-input-23-d45ec723e8c4>\u001b[0m in \u001b[0;36m<module>\u001b[1;34m\u001b[0m\n\u001b[0;32m     11\u001b[0m \u001b[1;33m\u001b[0m\u001b[0m\n\u001b[0;32m     12\u001b[0m \u001b[1;31m# Using [] results in KeyError\u001b[0m\u001b[1;33m\u001b[0m\u001b[1;33m\u001b[0m\u001b[1;33m\u001b[0m\u001b[0m\n\u001b[1;32m---> 13\u001b[1;33m \u001b[0mprint\u001b[0m\u001b[1;33m(\u001b[0m\u001b[0mperson\u001b[0m\u001b[1;33m[\u001b[0m\u001b[1;34m'salary'\u001b[0m\u001b[1;33m]\u001b[0m\u001b[1;33m)\u001b[0m\u001b[1;33m\u001b[0m\u001b[1;33m\u001b[0m\u001b[0m\n\u001b[0m",
      "\u001b[1;31mKeyError\u001b[0m: 'salary'"
     ]
    }
   ],
   "source": [
    "#Python get() method Vs dict[key] to Access Elements\n",
    "#get() method returns a default value if the key is missing.\n",
    "\n",
    "#However, if the key is not found when you use dict[key], \n",
    "#KeyError exception is raised.\n",
    "\n",
    "person = {}\n",
    "\n",
    "# Using get() results in None\n",
    "print('Salary: ', person.get('salary'))\n",
    "\n",
    "# Using [] results in KeyError\n",
    "print(person['salary'])"
   ]
  },
  {
   "cell_type": "markdown",
   "metadata": {},
   "source": [
    "The items() method returns a view object that displays a list of dictionary's (key, value) tuple pairs.\n",
    "The syntax of items() method is:\n",
    "\n",
    "dictionary.items()\n",
    "items() method is similar to dictionary's viewitems() method in Python 2.7.\n",
    "\n",
    "items() Parameters\n",
    "items() method doesn't take any parameters.\n",
    "\n",
    "Return value from items()\n",
    "items() method returns a view object that displays a list of a given dictionary's (key, value) tuple pair."
   ]
  },
  {
   "cell_type": "code",
   "execution_count": 24,
   "metadata": {},
   "outputs": [
    {
     "name": "stdout",
     "output_type": "stream",
     "text": [
      "dict_items([('apple', 2), ('orange', 3), ('grapes', 4)])\n"
     ]
    }
   ],
   "source": [
    "# random sales dictionary\n",
    "sales = { 'apple': 2, 'orange': 3, 'grapes': 4 }\n",
    "\n",
    "print(sales.items())"
   ]
  },
  {
   "cell_type": "code",
   "execution_count": 25,
   "metadata": {},
   "outputs": [
    {
     "name": "stdout",
     "output_type": "stream",
     "text": [
      "Original items: dict_items([('apple', 2), ('orange', 3), ('grapes', 4)])\n",
      "Updated items: dict_items([('orange', 3), ('grapes', 4)])\n"
     ]
    }
   ],
   "source": [
    "# random sales dictionary\n",
    "sales = { 'apple': 2, 'orange': 3, 'grapes': 4 }\n",
    "\n",
    "items = sales.items()\n",
    "print('Original items:', items)\n",
    "\n",
    "# delete an item from dictionary\n",
    "del[sales['apple']]\n",
    "print('Updated items:', items)"
   ]
  },
  {
   "cell_type": "markdown",
   "metadata": {},
   "source": [
    "The view object items doesn't itself return a list of sales items but it returns a view of sales's (key, value) pair.\n",
    "\n",
    "If the list is updated at any time, the changes are reflected on the view object itself, as shown in the above program."
   ]
  },
  {
   "cell_type": "markdown",
   "metadata": {},
   "source": [
    "The keys() method returns a view object that displays a list of all the keys in the dictionary\n",
    "\n",
    "The syntax of keys() is:\n",
    "\n",
    "dict.keys()\n",
    "keys() Parameters\n",
    "keys() doesn't take any parameters.\n",
    "\n",
    "Return Value from keys()\n",
    "keys() returns a view object that displays a list of all the keys.\n",
    "\n",
    "When the dictionary is changed, the view object also reflects these changes."
   ]
  },
  {
   "cell_type": "code",
   "execution_count": 31,
   "metadata": {},
   "outputs": [
    {
     "data": {
      "text/plain": [
       "dict_keys(['India', 'Japan', 'USA'])"
      ]
     },
     "execution_count": 31,
     "metadata": {},
     "output_type": "execute_result"
    }
   ],
   "source": [
    "keys = currency.keys()\n",
    "keys"
   ]
  },
  {
   "cell_type": "code",
   "execution_count": 32,
   "metadata": {},
   "outputs": [
    {
     "name": "stdout",
     "output_type": "stream",
     "text": [
      "Before dictionary is updated\n",
      "dict_keys(['name', 'age'])\n",
      "\n",
      "After dictionary is updated\n",
      "dict_keys(['name', 'age', 'salary'])\n"
     ]
    }
   ],
   "source": [
    "person = {'name': 'Phill', 'age': 22, }\n",
    "\n",
    "print('Before dictionary is updated')\n",
    "keys = person.keys()\n",
    "print(keys)\n",
    "\n",
    "# adding an element to the dictionary\n",
    "person.update({'salary': 3500.0})\n",
    "print('\\nAfter dictionary is updated')\n",
    "print(keys)"
   ]
  },
  {
   "cell_type": "markdown",
   "metadata": {},
   "source": [
    "Here, when the dictionary is updated, keys is also automatically updated to reflect changes."
   ]
  },
  {
   "cell_type": "markdown",
   "metadata": {},
   "source": [
    "The values() method returns a view object that displays a list of all the values in the dictionary.\n",
    "\n",
    "The syntax of values() is:\n",
    "\n",
    "dictionary.values()\n",
    "values() Parameters\n",
    "values() method doesn't take any parameters.\n",
    "\n",
    "Return value from values()\n",
    "values() method returns a view object that displays a list of all values in a given dictionary."
   ]
  },
  {
   "cell_type": "code",
   "execution_count": 33,
   "metadata": {},
   "outputs": [
    {
     "data": {
      "text/plain": [
       "dict_values(['Rupee', 'Yen', 'Dollar'])"
      ]
     },
     "execution_count": 33,
     "metadata": {},
     "output_type": "execute_result"
    }
   ],
   "source": [
    "currency.values()"
   ]
  },
  {
   "cell_type": "code",
   "execution_count": 34,
   "metadata": {},
   "outputs": [
    {
     "name": "stdout",
     "output_type": "stream",
     "text": [
      "Original items: dict_values([2, 3, 4])\n",
      "Updated items: dict_values([3, 4])\n"
     ]
    }
   ],
   "source": [
    "# random sales dictionary\n",
    "sales = { 'apple': 2, 'orange': 3, 'grapes': 4 }\n",
    "\n",
    "values = sales.values()\n",
    "print('Original items:', values)\n",
    "\n",
    "# delete an item from dictionary\n",
    "del[sales['apple']]\n",
    "print('Updated items:', values)"
   ]
  },
  {
   "cell_type": "markdown",
   "metadata": {},
   "source": [
    "The view object values doesn't itself return a list of sales item values but it returns a view of all values of the dictionary.\n",
    "\n",
    "If the list is updated at any time, the changes are reflected on the view object itself, as shown in the above program."
   ]
  },
  {
   "cell_type": "markdown",
   "metadata": {},
   "source": [
    "The Python popitem() method removes and returns the last element (key, value) pair inserted into the dictionary.\n",
    "\n",
    "The syntax of popitem() is:\n",
    "\n",
    "dict.popitem()\n",
    "Parameters for popitem() method\n",
    "The popitem() doesn't take any parameters.\n",
    "\n",
    "Return Value from popitem() method\n",
    "The popitem() method removes and returns the (key, value) pair from the dictionary in the Last In, First Out (LIFO) order.\n",
    "\n",
    "Returns the latest inserted element (key,value) pair from the dictionary.\n",
    "Removes the returned element pair from the dictionary.\n",
    "Note: Before Python 3.7, the popitem() method returned and removed an arbitrary element (key, value) pair from the dictionary.\n",
    "\n"
   ]
  },
  {
   "cell_type": "code",
   "execution_count": 35,
   "metadata": {},
   "outputs": [
    {
     "data": {
      "text/plain": [
       "('USA', 'Dollar')"
      ]
     },
     "execution_count": 35,
     "metadata": {},
     "output_type": "execute_result"
    }
   ],
   "source": [
    "currency.popitem()"
   ]
  },
  {
   "cell_type": "code",
   "execution_count": 36,
   "metadata": {},
   "outputs": [
    {
     "name": "stdout",
     "output_type": "stream",
     "text": [
      "Return Value =  ('salary', 3500.0)\n",
      "person =  {'name': 'Phill', 'age': 22}\n",
      "Return Value =  ('profession', 'Plumber')\n",
      "person =  {'name': 'Phill', 'age': 22}\n"
     ]
    }
   ],
   "source": [
    "person = {'name': 'Phill', 'age': 22, 'salary': 3500.0}\n",
    "\n",
    "# ('salary', 3500.0) is inserted at the last, so it is removed.\n",
    "result = person.popitem()\n",
    "\n",
    "print('Return Value = ', result)\n",
    "print('person = ', person)\n",
    "\n",
    "# inserting a new element pair\n",
    "person['profession'] = 'Plumber'\n",
    "\n",
    "# now ('profession', 'Plumber') is the latest element\n",
    "result = person.popitem()\n",
    "\n",
    "print('Return Value = ', result)\n",
    "print('person = ', person)"
   ]
  },
  {
   "cell_type": "markdown",
   "metadata": {},
   "source": [
    "The pop() method removes and returns an element from a dictionary having the given key.\n",
    "\n",
    "The syntax of pop() method is\n",
    "\n",
    "dictionary.pop(key[, default])\n",
    "pop() Parameters\n",
    "pop() method takes two parameters:\n",
    "\n",
    "key - key which is to be searched for removal\n",
    "default - value which is to be returned when the key is not in the dictionary\n",
    "Return value from pop()\n",
    "The pop() method returns:\n",
    "\n",
    "If key is found - removed/popped element from the dictionary\n",
    "If key is not found - value specified as the second argument (default)\n",
    "If key is not found and default argument is not specified - KeyError exception is raised"
   ]
  },
  {
   "cell_type": "code",
   "execution_count": 37,
   "metadata": {},
   "outputs": [
    {
     "name": "stdout",
     "output_type": "stream",
     "text": [
      "The popped element is: 2\n",
      "The dictionary is: {'orange': 3, 'grapes': 4}\n"
     ]
    }
   ],
   "source": [
    "# random sales dictionary\n",
    "sales = { 'apple': 2, 'orange': 3, 'grapes': 4 }\n",
    "\n",
    "element = sales.pop('apple')\n",
    "print('The popped element is:', element)\n",
    "print('The dictionary is:', sales)"
   ]
  },
  {
   "cell_type": "code",
   "execution_count": 38,
   "metadata": {},
   "outputs": [
    {
     "ename": "KeyError",
     "evalue": "'guava'",
     "output_type": "error",
     "traceback": [
      "\u001b[1;31m---------------------------------------------------------------------------\u001b[0m",
      "\u001b[1;31mKeyError\u001b[0m                                  Traceback (most recent call last)",
      "\u001b[1;32m<ipython-input-38-f34f1913eb7e>\u001b[0m in \u001b[0;36m<module>\u001b[1;34m\u001b[0m\n\u001b[0;32m      2\u001b[0m \u001b[0msales\u001b[0m \u001b[1;33m=\u001b[0m \u001b[1;33m{\u001b[0m \u001b[1;34m'apple'\u001b[0m\u001b[1;33m:\u001b[0m \u001b[1;36m2\u001b[0m\u001b[1;33m,\u001b[0m \u001b[1;34m'orange'\u001b[0m\u001b[1;33m:\u001b[0m \u001b[1;36m3\u001b[0m\u001b[1;33m,\u001b[0m \u001b[1;34m'grapes'\u001b[0m\u001b[1;33m:\u001b[0m \u001b[1;36m4\u001b[0m \u001b[1;33m}\u001b[0m\u001b[1;33m\u001b[0m\u001b[1;33m\u001b[0m\u001b[0m\n\u001b[0;32m      3\u001b[0m \u001b[1;33m\u001b[0m\u001b[0m\n\u001b[1;32m----> 4\u001b[1;33m \u001b[0melement\u001b[0m \u001b[1;33m=\u001b[0m \u001b[0msales\u001b[0m\u001b[1;33m.\u001b[0m\u001b[0mpop\u001b[0m\u001b[1;33m(\u001b[0m\u001b[1;34m'guava'\u001b[0m\u001b[1;33m)\u001b[0m\u001b[1;33m\u001b[0m\u001b[1;33m\u001b[0m\u001b[0m\n\u001b[0m",
      "\u001b[1;31mKeyError\u001b[0m: 'guava'"
     ]
    }
   ],
   "source": [
    "# random sales dictionary\n",
    "sales = { 'apple': 2, 'orange': 3, 'grapes': 4 }\n",
    "\n",
    "element = sales.pop('guava')"
   ]
  },
  {
   "cell_type": "code",
   "execution_count": 39,
   "metadata": {},
   "outputs": [
    {
     "name": "stdout",
     "output_type": "stream",
     "text": [
      "The popped element is: banana\n",
      "The dictionary is: {'apple': 2, 'orange': 3, 'grapes': 4}\n"
     ]
    }
   ],
   "source": [
    "# random sales dictionary\n",
    "sales = { 'apple': 2, 'orange': 3, 'grapes': 4 }\n",
    "\n",
    "element = sales.pop('guava', 'banana')\n",
    "print('The popped element is:', element)\n",
    "print('The dictionary is:', sales)"
   ]
  },
  {
   "cell_type": "markdown",
   "metadata": {},
   "source": [
    "The setdefault() method returns the value of a key (if the key is in dictionary). If not, it inserts key with a value to the dictionary.\n",
    "\n",
    "The syntax of setdefault() is:\n",
    "\n",
    "dict.setdefault(key[, default_value])\n",
    "setdefault() Parameters\n",
    "setdefault() takes a maximum of two parameters:\n",
    "\n",
    "key - the key to be searched in the dictionary\n",
    "default_value (optional) - key with a value default_value is inserted to the dictionary if the key is not in the dictionary.\n",
    "If not provided, the default_value will be None.\n",
    "Return Value from setdefault()\n",
    "setdefault() returns:\n",
    "\n",
    "value of the key if it is in the dictionary\n",
    "None if the key is not in the dictionary and default_value is not specified\n",
    "default_value if key is not in the dictionary and default_value is specified"
   ]
  },
  {
   "cell_type": "code",
   "execution_count": 40,
   "metadata": {},
   "outputs": [
    {
     "name": "stdout",
     "output_type": "stream",
     "text": [
      "person =  {'name': 'Phill', 'age': 22}\n",
      "Age =  22\n"
     ]
    }
   ],
   "source": [
    "person = {'name': 'Phill', 'age': 22}\n",
    "\n",
    "age = person.setdefault('age')\n",
    "print('person = ',person)\n",
    "print('Age = ',age)"
   ]
  },
  {
   "cell_type": "code",
   "execution_count": 41,
   "metadata": {},
   "outputs": [
    {
     "name": "stdout",
     "output_type": "stream",
     "text": [
      "person =  {'name': 'Phill', 'salary': None}\n",
      "salary =  None\n",
      "person =  {'name': 'Phill', 'salary': None, 'age': 22}\n",
      "age =  22\n"
     ]
    }
   ],
   "source": [
    "person = {'name': 'Phill'}\n",
    "\n",
    "# key is not in the dictionary\n",
    "salary = person.setdefault('salary')\n",
    "print('person = ',person)\n",
    "print('salary = ',salary)\n",
    "\n",
    "# key is not in the dictionary\n",
    "# default_value is provided\n",
    "age = person.setdefault('age', 22)\n",
    "print('person = ',person)\n",
    "print('age = ',age)"
   ]
  },
  {
   "cell_type": "markdown",
   "metadata": {},
   "source": [
    "The update() method updates the dictionary with the elements from the another dictionary object or from an iterable of key/value pairs.\n",
    "\n",
    "update() method adds element(s) to the dictionary if the key is not in the dictionary. If the key is in the dictionary, it updates the key with the new value.\n",
    "\n",
    "The syntax of update() is:\n",
    "\n",
    "dict.update([other])\n",
    "update() Parameters\n",
    "The update() method takes either a dictionary or an iterable object of key/value pairs (generally tuples).\n",
    "\n",
    "If update() is called without passing parameters, the dictionary remains unchanged.\n",
    "\n",
    "Return Value from update()\n",
    "update() method updates the dictionary with elements from a dictionary object or an iterable object of key/value pairs.\n",
    "\n",
    "It doesn't return any value (returns None)."
   ]
  },
  {
   "cell_type": "code",
   "execution_count": 42,
   "metadata": {},
   "outputs": [
    {
     "name": "stdout",
     "output_type": "stream",
     "text": [
      "{1: 'one', 2: 'two'}\n",
      "{1: 'one', 2: 'two', 3: 'three'}\n"
     ]
    }
   ],
   "source": [
    "d = {1: \"one\", 2: \"three\"}\n",
    "d1 = {2: \"two\"}\n",
    "\n",
    "# updates the value of key 2\n",
    "d.update(d1)\n",
    "print(d)\n",
    "\n",
    "d1 = {3: \"three\"}\n",
    "\n",
    "# adds element with key 3\n",
    "d.update(d1)\n",
    "print(d)"
   ]
  },
  {
   "cell_type": "code",
   "execution_count": 43,
   "metadata": {},
   "outputs": [
    {
     "name": "stdout",
     "output_type": "stream",
     "text": [
      "{'x': 2, 'y': 3, 'z': 0}\n"
     ]
    }
   ],
   "source": [
    "d = {'x': 2}\n",
    "\n",
    "d.update(y = 3, z = 0)\n",
    "print(d)"
   ]
  },
  {
   "cell_type": "markdown",
   "metadata": {},
   "source": [
    "## Sets"
   ]
  },
  {
   "cell_type": "markdown",
   "metadata": {},
   "source": [
    "The remove() method removes the specified element from the set.\n",
    "\n",
    "The syntax of the remove() method is:\n",
    "\n",
    "set.remove(element)\n",
    "\n",
    "remove() Parameters\n",
    "The remove() method takes a single element as an argument and removes it from the set.\n",
    "\n",
    "Return Value from remove()\n",
    "The remove() removes the specified element from the set and updates the set. It doesn't return any value.\n",
    "\n",
    "If the element passed to remove() doesn't exist, KeyError exception is thrown."
   ]
  },
  {
   "cell_type": "code",
   "execution_count": 44,
   "metadata": {},
   "outputs": [
    {
     "name": "stdout",
     "output_type": "stream",
     "text": [
      "Updated language set: {'French', 'English'}\n"
     ]
    }
   ],
   "source": [
    "# language set\n",
    "language = {'English', 'French', 'German'}\n",
    "\n",
    "# removing 'German' from language\n",
    "language.remove('German')\n",
    "\n",
    "# Updated language set\n",
    "print('Updated language set:', language)"
   ]
  },
  {
   "cell_type": "code",
   "execution_count": 45,
   "metadata": {},
   "outputs": [
    {
     "ename": "KeyError",
     "evalue": "'fish'",
     "output_type": "error",
     "traceback": [
      "\u001b[1;31m---------------------------------------------------------------------------\u001b[0m",
      "\u001b[1;31mKeyError\u001b[0m                                  Traceback (most recent call last)",
      "\u001b[1;32m<ipython-input-45-f77d9a9a12c2>\u001b[0m in \u001b[0;36m<module>\u001b[1;34m\u001b[0m\n\u001b[0;32m      3\u001b[0m \u001b[1;33m\u001b[0m\u001b[0m\n\u001b[0;32m      4\u001b[0m \u001b[1;31m# Deleting 'fish' element\u001b[0m\u001b[1;33m\u001b[0m\u001b[1;33m\u001b[0m\u001b[1;33m\u001b[0m\u001b[0m\n\u001b[1;32m----> 5\u001b[1;33m \u001b[0manimal\u001b[0m\u001b[1;33m.\u001b[0m\u001b[0mremove\u001b[0m\u001b[1;33m(\u001b[0m\u001b[1;34m'fish'\u001b[0m\u001b[1;33m)\u001b[0m\u001b[1;33m\u001b[0m\u001b[1;33m\u001b[0m\u001b[0m\n\u001b[0m\u001b[0;32m      6\u001b[0m \u001b[1;33m\u001b[0m\u001b[0m\n\u001b[0;32m      7\u001b[0m \u001b[1;31m# Updated animal\u001b[0m\u001b[1;33m\u001b[0m\u001b[1;33m\u001b[0m\u001b[1;33m\u001b[0m\u001b[0m\n",
      "\u001b[1;31mKeyError\u001b[0m: 'fish'"
     ]
    }
   ],
   "source": [
    "# animal set\n",
    "animal = {'cat', 'dog', 'rabbit', 'guinea pig'}\n",
    "\n",
    "# Deleting 'fish' element\n",
    "animal.remove('fish')\n",
    "\n",
    "# Updated animal\n",
    "print('Updated animal set:', animal)"
   ]
  },
  {
   "cell_type": "markdown",
   "metadata": {},
   "source": [
    "You can use the set discard() method if you do not want this error.\n",
    "\n",
    "The discard() method removes the specified element from the set. However, if the element doesn't exist, the set remains unchanged; you will not get an error."
   ]
  },
  {
   "cell_type": "markdown",
   "metadata": {},
   "source": [
    "The discard() method removes a specified element from the set (if present).\n",
    "\n",
    "The syntax of discard() in Python is:\n",
    "\n",
    "s.discard(x)\n",
    "\n",
    "discard() Parameters\n",
    "discard() method takes a single element x and removes it from the set (if present).\n",
    "\n",
    "Return Value from discard()\n",
    "discard() removes element x from the set if the element is present.\n",
    "\n",
    "This method returns None (meaning, absence of a return value)."
   ]
  },
  {
   "cell_type": "code",
   "execution_count": 46,
   "metadata": {},
   "outputs": [
    {
     "name": "stdout",
     "output_type": "stream",
     "text": [
      "numbers =  {2, 4, 5}\n",
      "numbers =  {2, 4, 5}\n"
     ]
    }
   ],
   "source": [
    "numbers = {2, 3, 4, 5}\n",
    "\n",
    "numbers.discard(3)\n",
    "print('numbers = ', numbers)\n",
    "\n",
    "numbers.discard(10)\n",
    "print('numbers = ', numbers)"
   ]
  },
  {
   "cell_type": "code",
   "execution_count": 47,
   "metadata": {},
   "outputs": [
    {
     "name": "stdout",
     "output_type": "stream",
     "text": [
      "None\n",
      "numbers = {2, 4, 5}\n"
     ]
    }
   ],
   "source": [
    "numbers = {2, 3, 5, 4}\n",
    "\n",
    "# Returns None\n",
    "# Meaning, absence of a return value \n",
    "print(numbers.discard(3))\n",
    "\n",
    "print('numbers =', numbers)"
   ]
  },
  {
   "cell_type": "markdown",
   "metadata": {},
   "source": [
    "The set add() method adds a given element to a set. If the element is already present, it doesn't add any element.\n",
    "\n",
    "The syntax of set add() method is:\n",
    "\n",
    "set.add(elem)\n",
    "add() method doesn't add an element to the set if it's already present in it.\n",
    "\n",
    "Also, you don't get back a set if you use add() method when creating a set object.\n",
    "\n",
    "noneValue = set().add(elem)\n",
    "The above statement doesn't return a reference to the set but 'None', because the statement returns the return type of add which is None.\n",
    "\n",
    "Set add() Parameters\n",
    "add() method takes a single parameter:\n",
    "\n",
    "elem - the element that is added to the set\n",
    "Return Value from Set add()\n",
    "add() method doesn't return any value and returns None."
   ]
  },
  {
   "cell_type": "code",
   "execution_count": 48,
   "metadata": {},
   "outputs": [
    {
     "name": "stdout",
     "output_type": "stream",
     "text": [
      "Vowels are: {'e', 'u', 'a', 'o', 'i'}\n",
      "Vowels are: {'e', 'u', 'a', 'o', 'i'}\n"
     ]
    }
   ],
   "source": [
    "# set of vowels\n",
    "vowels = {'a', 'e', 'i', 'u'}\n",
    "\n",
    "# adding 'o'\n",
    "vowels.add('o')\n",
    "print('Vowels are:', vowels)\n",
    "\n",
    "# adding 'a' again\n",
    "vowels.add('a')\n",
    "print('Vowels are:', vowels)"
   ]
  },
  {
   "cell_type": "code",
   "execution_count": 49,
   "metadata": {},
   "outputs": [
    {
     "name": "stdout",
     "output_type": "stream",
     "text": [
      "Vowels are: {('i', 'o'), 'a', 'e', 'u'}\n",
      "Vowels are: {('i', 'o'), 'a', 'e', 'u'}\n"
     ]
    }
   ],
   "source": [
    "# set of vowels\n",
    "vowels = {'a', 'e', 'u'}\n",
    "\n",
    "# a tuple ('i', 'o')\n",
    "tup = ('i', 'o')\n",
    "\n",
    "# adding tuple\n",
    "vowels.add(tup)\n",
    "print('Vowels are:', vowels)\n",
    "\n",
    "# adding same tuple again\n",
    "vowels.add(tup)\n",
    "print('Vowels are:', vowels)"
   ]
  },
  {
   "cell_type": "markdown",
   "metadata": {},
   "source": [
    "You can also add tuples to a set. And like normal elements, you can add the same tuple only once."
   ]
  },
  {
   "cell_type": "code",
   "execution_count": 51,
   "metadata": {},
   "outputs": [
    {
     "name": "stdout",
     "output_type": "stream",
     "text": [
      "{1, 2, 3, 4, 5}\n",
      "{1, 2, 3, 4, 5, 6}\n"
     ]
    }
   ],
   "source": [
    "set1 = {1,2,3,4,5}\n",
    "\n",
    "set2 = set1.copy()\n",
    "set2.add(6)\n",
    "\n",
    "print(set1)\n",
    "print(set2)"
   ]
  },
  {
   "cell_type": "code",
   "execution_count": 52,
   "metadata": {},
   "outputs": [
    {
     "data": {
      "text/plain": [
       "set()"
      ]
     },
     "execution_count": 52,
     "metadata": {},
     "output_type": "execute_result"
    }
   ],
   "source": [
    "set1.clear()\n",
    "set1"
   ]
  },
  {
   "cell_type": "code",
   "execution_count": 57,
   "metadata": {},
   "outputs": [
    {
     "name": "stdout",
     "output_type": "stream",
     "text": [
      "{0, 8, 6}\n",
      "{0, 8, 6}\n",
      "{1, 3, 5}\n"
     ]
    }
   ],
   "source": [
    "set1 = {0,2,4,6,8}\n",
    "set2 ={1,2,3,4,5}\n",
    "\n",
    "print(set1-set2)\n",
    "\n",
    "print(set1.difference(set2))\n",
    "\n",
    "print(set2.difference(set1)) # elements which are present in set2 but not in set1"
   ]
  },
  {
   "cell_type": "code",
   "execution_count": 60,
   "metadata": {},
   "outputs": [
    {
     "name": "stdout",
     "output_type": "stream",
     "text": [
      "None\n",
      "{0, 2, 4, 6, 8}\n",
      "{1, 3, 5}\n"
     ]
    }
   ],
   "source": [
    "print(set2.difference_update(set1))\n",
    "\n",
    "print(set1)\n",
    "\n",
    "print(set2) # the application of defference_update() method has updated the set2 with the values of set2-set1"
   ]
  },
  {
   "cell_type": "code",
   "execution_count": 63,
   "metadata": {},
   "outputs": [],
   "source": [
    "#Just like thus we have 2 similar methods:\n",
    "\n",
    "set1.intersection(set2)\n",
    "set1 & set2\n",
    "\n",
    "set1.intersection_update(set2)\n",
    "\n",
    "set1.symmetric_difference(set2)\n",
    "set1 ^ set2 # elements excepting the intersection elements\n",
    "\n",
    "set1.symmetric_difference_update(set2)\n",
    "\n",
    "set1.union(set2)\n",
    "set1 | set2\n",
    "\n",
    "set1.update(set2)\n",
    "\n",
    "pass"
   ]
  },
  {
   "cell_type": "code",
   "execution_count": 65,
   "metadata": {},
   "outputs": [
    {
     "name": "stdout",
     "output_type": "stream",
     "text": [
      "{0, 1, 2, 3, 4, 5, 6, 8}\n",
      "{0, 1, 2, 3, 4, 5, 6, 8}\n",
      "{0, 1, 2, 3, 4, 5, 6, 8}\n"
     ]
    }
   ],
   "source": [
    "set1 = {0,2,4,6,8}\n",
    "set2 = {1,2,3,4,5}\n",
    "\n",
    "print(set1.union(set2))\n",
    "\n",
    "print(set1 | set2)\n",
    "\n",
    "set1.update(set2)\n",
    "print(set1)"
   ]
  },
  {
   "cell_type": "code",
   "execution_count": 66,
   "metadata": {},
   "outputs": [
    {
     "data": {
      "text/plain": [
       "False"
      ]
     },
     "execution_count": 66,
     "metadata": {},
     "output_type": "execute_result"
    }
   ],
   "source": [
    "set1.isdisjoint(set2)"
   ]
  },
  {
   "cell_type": "code",
   "execution_count": 67,
   "metadata": {},
   "outputs": [
    {
     "data": {
      "text/plain": [
       "False"
      ]
     },
     "execution_count": 67,
     "metadata": {},
     "output_type": "execute_result"
    }
   ],
   "source": [
    "set1.issubset(set2)"
   ]
  },
  {
   "cell_type": "raw",
   "metadata": {},
   "source": [
    "REMEMBER:\n",
    "\n",
    "1. Sets are Unordered\n",
    "2. Sets do not allow duplication \n",
    "3. The above 2 points are similar for the dictionaries too. \n",
    "4. {} represents an empty dictionary while set({}) represents an empty set. "
   ]
  },
  {
   "cell_type": "code",
   "execution_count": 6,
   "metadata": {},
   "outputs": [
    {
     "name": "stdout",
     "output_type": "stream",
     "text": [
      "Enter the list of duplicates: [3,4,4,4,5,5,7,8,7,9,8]\n",
      "[3, 4, 5, 7, 8, 9]\n",
      "{3: 1, 4: 3, 5: 2, 7: 2, 8: 2, 9: 1}\n"
     ]
    }
   ],
   "source": [
    "# remove duplicates\n",
    "import ast\n",
    "\n",
    "input_list = input(\"Enter the list of duplicates: \")\n",
    "my_list = ast.literal_eval(input_list)\n",
    "\n",
    "d = {}\n",
    "\n",
    "for i in my_list:\n",
    "    if i not in d:\n",
    "        d[i]=1 \n",
    "    else:\n",
    "        d[i]+=1 # to count the number of times the number has ocurred \n",
    "        \n",
    "print(list(d.keys()))\n",
    "print(d)\n"
   ]
  },
  {
   "cell_type": "code",
   "execution_count": 19,
   "metadata": {},
   "outputs": [
    {
     "name": "stdout",
     "output_type": "stream",
     "text": [
      "['Mobile_Redmi', 'Mobile_Samsung', 'Mobile_Realme', 'Laptop_Dell', 'Laptop_HP', 'TV_Videocon', 'TV_Sony']\n"
     ]
    }
   ],
   "source": [
    "d = {'Mobile': ['Redmi', 'Samsung', 'Realme'], \n",
    "     'Laptop': ['Dell', 'HP'],\n",
    "     'TV': ['Videocon', 'Sony'] }\n",
    "\n",
    "list_output=[]\n",
    "\n",
    "for keys in d:\n",
    "    for j in range(len(d[keys])): \n",
    "        list_output.append([keys,'_',d[keys][j]])\n",
    "\n",
    "final_list=[]\n",
    "for items in list_output:\n",
    "    final_list.append(''.join(items))\n",
    "    \n",
    "print(final_list)"
   ]
  },
  {
   "cell_type": "code",
   "execution_count": 20,
   "metadata": {},
   "outputs": [
    {
     "name": "stdout",
     "output_type": "stream",
     "text": [
      "{'Mobile': ['Redmi', 'Samsung', 'Realme'],       'Laptop': ['Dell', 'HP'],      'TV': ['Videocon', 'Sony'] }\n",
      "['Mobile_Redmi', 'Mobile_Samsung', 'Mobile_Realme', 'Laptop_Dell', 'Laptop_HP', 'TV_Videocon', 'TV_Sony']\n"
     ]
    }
   ],
   "source": [
    "#input has been taken for you\n",
    "import ast\n",
    "input_str = input()\n",
    "#input dictionary has been received in input_dict\n",
    "input_dict = ast.literal_eval(input_str)\n",
    "\n",
    "\n",
    "#start writing your code here\n",
    "list_output=[]\n",
    "\n",
    "for keys in input_dict:\n",
    "    for j in range(len(input_dict[keys])): \n",
    "        list_output.append([keys,'_',input_dict[keys][j]])\n",
    "\n",
    "final_list=[]\n",
    "for items in list_output:\n",
    "    final_list.append(''.join(items))\n",
    "    \n",
    "print(final_list)\n",
    "\n"
   ]
  },
  {
   "cell_type": "code",
   "execution_count": 22,
   "metadata": {},
   "outputs": [
    {
     "name": "stdout",
     "output_type": "stream",
     "text": [
      "{'Mobile': ['Redmi', 'Samsung', 'Realme'],       'Laptop': ['Dell', 'HP'],      'TV': ['Videocon', 'Sony'] }\n",
      "['Mobile_Redmi', 'Mobile_Samsung', 'Mobile_Realme', 'Laptop_Dell', 'Laptop_HP', 'TV_Videocon', 'TV_Sony']\n"
     ]
    }
   ],
   "source": [
    "import ast\n",
    "input_str = input()\n",
    "#input dictionary has been received in input_dict\n",
    "input_dict = ast.literal_eval(input_str)\n",
    "\n",
    "\n",
    "#start writing your code here\n",
    "final_list=[]\n",
    "\n",
    "for keys in input_dict.keys():\n",
    "    for j in input_dict[keys]:\n",
    "        var = keys+'_'+j  # concatenating the keys and the values with underscore in between \n",
    "        final_list.append(var)\n",
    "    \n",
    "print(final_list)\n"
   ]
  },
  {
   "cell_type": "code",
   "execution_count": 44,
   "metadata": {},
   "outputs": [
    {
     "name": "stdout",
     "output_type": "stream",
     "text": [
      "Enter a string:$yrr$ssrsr%\n",
      "{'$': 2, 'y': 1, 'r': 4, 's': 3, '%': 1}\n",
      "False\n"
     ]
    }
   ],
   "source": [
    "input_string = input(\"Enter a string:\")\n",
    "\n",
    "# Consider the string be \"$yrr$ssrsr\"\n",
    "\n",
    "list_1 = list(input_string)\n",
    "d = {}\n",
    "\n",
    "for i in list_1:\n",
    "    if i not in d:\n",
    "        d[i]=1\n",
    "    else:\n",
    "        d[i]+=1\n",
    "print(d)\n",
    "vals = d.values()\n",
    "n = len(d)\n",
    "def upGrad_string(vals):\n",
    "    for i in range(1,n+1):\n",
    "        if i not in vals:\n",
    "            return False\n",
    "    return True\n",
    "\n",
    "print(upGrad_string(vals))"
   ]
  },
  {
   "cell_type": "code",
   "execution_count": 11,
   "metadata": {},
   "outputs": [
    {
     "name": "stdout",
     "output_type": "stream",
     "text": [
      "[](){[]()(){}}\n"
     ]
    },
    {
     "data": {
      "text/plain": [
       "'Yes'"
      ]
     },
     "execution_count": 11,
     "metadata": {},
     "output_type": "execute_result"
    }
   ],
   "source": [
    "# barcket count\n",
    "inp=input()\n",
    "\n",
    "def bracket_count(s):\n",
    "        if s.count('[') == s.count(']') and s.count('{') == s.count('}') and s.count('(') == s.count(')'):\n",
    "            return \"Yes\"\n",
    "        else:\n",
    "            return \"No\"\n",
    "\n",
    "bracket_count(inp)"
   ]
  },
  {
   "cell_type": "code",
   "execution_count": 15,
   "metadata": {},
   "outputs": [
    {
     "name": "stdout",
     "output_type": "stream",
     "text": [
      "[](){[]()(){}}\n",
      "Yes\n",
      "[][][{]}(\n",
      "No\n",
      "quit\n",
      "Quitted\n"
     ]
    }
   ],
   "source": [
    "#take input\n",
    "while True:\n",
    "    inp=input()\n",
    "    \n",
    "    if inp == 'quit':\n",
    "        break\n",
    "\n",
    "    stack = []\n",
    "\n",
    "    for i in inp:\n",
    "        if len(stack)==0:\n",
    "            stack.append(i)\n",
    "        else:\n",
    "            if i==')' and stack[-1]=='(':\n",
    "                stack.pop()\n",
    "            elif i=='}' and stack[-1]=='{':\n",
    "                stack.pop()\n",
    "            elif i==']' and stack[-1]=='[':\n",
    "                stack.pop()\n",
    "            else:\n",
    "                stack.append(i)\n",
    "\n",
    "    if stack:\n",
    "        print('No')\n",
    "    else:\n",
    "        print('Yes')\n",
    "\n",
    "print(\"Quitted\")"
   ]
  },
  {
   "cell_type": "code",
   "execution_count": 24,
   "metadata": {},
   "outputs": [
    {
     "name": "stdout",
     "output_type": "stream",
     "text": [
      "mobile3: 9000\n"
     ]
    }
   ],
   "source": [
    "#You will be given a dictionary with keys as items and values as their prices. \n",
    "#You have to print the cheapest item. \n",
    "#Note: in case of a tie, whichever item came first should be the output.\n",
    "\n",
    "d = {'mobile1':10000, 'mobile2':11000, 'mobile3':9000, 'mobile4':9000, \n",
    "     'mobile5':15000, 'mobile6':16000, 'mobile7':17000, 'mobile8':18000, \n",
    "     'mobile9':19000}\n",
    "\n",
    "count = 0\n",
    "for item in d:\n",
    "    if d[item] == min(d.values()):\n",
    "        count+=1\n",
    "        if count > 1:\n",
    "            continue\n",
    "        print(item+':',d[item])\n",
    "\n"
   ]
  },
  {
   "cell_type": "code",
   "execution_count": 25,
   "metadata": {},
   "outputs": [
    {
     "name": "stdout",
     "output_type": "stream",
     "text": [
      "{'mobile1':10000, 'mobile2':11000, 'mobile3':9000, 'mobile4':9000,       'mobile5':15000, 'mobile6':16000, 'mobile7':17000, 'mobile8':18000,       'mobile9':19000}\n",
      "mobile3: 9000\n"
     ]
    }
   ],
   "source": [
    "# another way \n",
    "\n",
    "#take input here\n",
    "import ast\n",
    "items=ast.literal_eval(input())\n",
    "\n",
    "#start writing your code here\n",
    "\n",
    "#we assign cheapest_item as first key of the items\n",
    "cheapest_item=list(items.keys())[0]\n",
    "\n",
    "#we check every key and see if its cheaper than our cheapest_item\n",
    "for key in items.keys():\n",
    "    if items[key]<items[cheapest_item]:\n",
    "        cheapest_item=key #it its cheaper then we update out cheapest_item\n",
    "\n",
    "#print it\n",
    "print('{0}: {1}'.format(cheapest_item, items[cheapest_item]))"
   ]
  },
  {
   "cell_type": "code",
   "execution_count": 44,
   "metadata": {},
   "outputs": [
    {
     "name": "stdout",
     "output_type": "stream",
     "text": [
      "[160, 103, 173, 195, 102, 174, 164, 180, 162, 176, 153, 187, 147, 106, 112, 189, 194, 188, 169, 189, 199, 127, 113, 103, 173, 120, 134, 189, 137, 144, 103, 152, 171, 180, 141, 166, 195, 153, 186, 104, 160, 100, 154, 185, 183, 168, 133, 115, 148, 164, 150, 179, 122, 145, 106, 110, 134, 130, 104, 141, 198, 191, 159, 127, 108, 146, 114, 182, 169, 152, 183, 102, 190, 162, 147, 173, 168, 176, 131, 181, 104, 176, 113, 100, 161, 184, 167, 176, 121, 155, 152, 141, 136, 113, 189, 173, 112, 114, 115, 191, 109, 149, 159, 200, 195, 114, 128, 161, 106, 156, 160, 123, 142, 162, 128, 146, 102, 174, 197, 132, 106, 139, 163, 190, 108, 184, 186, 150, 193, 111, 179, 128, 200, 126, 164, 145, 103, 152, 117, 149, 188, 165, 181, 159, 179, 200, 154, 172, 168, 107, 121, 136, 136, 128, 113, 146, 140, 165, 112, 130, 112, 105, 153, 115, 101, 149, 107, 163, 170, 166, 114, 151, 102, 174, 198, 110, 138, 176, 130, 130, 180, 179, 128, 162, 147, 161, 179, 141, 117, 102, 130, 170, 173, 175, 188, 101, 162, 146, 170, 190, 182, 159, 138, 123, 130, 140, 120, 116, 182, 118, 112, 154, 147, 106, 149, 125, 107, 117, 191, 145, 190, 124, 141, 177, 161, 106, 153, 108, 178, 107, 185, 157, 181, 193, 162, 180, 131, 138, 161, 162, 178, 173, 130, 131, 142, 199, 117, 132, 137, 121, 151, 166, 157, 173, 106, 118, 179, 167, 191, 149, 134, 174, 181, 136, 165, 112, 115, 165, 192, 119, 114, 145, 195, 171, 132, 168, 100, 156, 187, 100, 200, 179, 189, 163, 133, 200, 197, 195, 117, 165, 115, 178, 169, 157, 110, 177, 130, 123, 200, 199]\n",
      "284\n"
     ]
    }
   ],
   "source": [
    "# You will be given a list of repeated elements. You have to find the maximum \n",
    "#distance between two same elements. The answer will be zero if there are no \n",
    "#repeated elements.\n",
    "\n",
    "#input has been taken for you\n",
    "import ast\n",
    "input_list= ast.literal_eval(input())\n",
    "\n",
    "#start writing your code from here\n",
    "#we will make a dictionary with keys as the elements of the list\n",
    "#and values as a list of the indices of occurances of the the elements\n",
    "\n",
    "d={}\n",
    "for i in range(len(input_list)):\n",
    "    if input_list[i] in d:\n",
    "        d[input_list[i]].append(i)\n",
    "    else:\n",
    "        d[input_list[i]]=[i]\n",
    "\n",
    "#now we just find the difference of first and last element of all the lists in d.values()\n",
    "#the maximum difference will be out answer\n",
    "answer=0\n",
    "\n",
    "for v in d.values():\n",
    "    difference=v[-1] - v[0]\n",
    "    if difference > answer:\n",
    "        answer=difference\n",
    "\n",
    "print(answer)"
   ]
  }
 ],
 "metadata": {
  "kernelspec": {
   "display_name": "Python 3",
   "language": "python",
   "name": "python3"
  },
  "language_info": {
   "codemirror_mode": {
    "name": "ipython",
    "version": 3
   },
   "file_extension": ".py",
   "mimetype": "text/x-python",
   "name": "python",
   "nbconvert_exporter": "python",
   "pygments_lexer": "ipython3",
   "version": "3.8.5"
  }
 },
 "nbformat": 4,
 "nbformat_minor": 4
}
