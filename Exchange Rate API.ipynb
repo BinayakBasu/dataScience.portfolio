{
 "cells": [
  {
   "cell_type": "markdown",
   "metadata": {},
   "source": [
    "# Pulling Data from Public APIs - GET request"
   ]
  },
  {
   "cell_type": "markdown",
   "metadata": {},
   "source": [
    "API : Application Programming Interface \n",
    "\n",
    "API can be thought of as a contract between the Client and the Server. Every API has some form of documentation. "
   ]
  },
  {
   "cell_type": "code",
   "execution_count": 171,
   "metadata": {},
   "outputs": [],
   "source": [
    "base_url = \"http://api.exchangeratesapi.io/v1/latest?access_key=8045132d************************&format=1\""
   ]
  },
  {
   "cell_type": "markdown",
   "metadata": {},
   "source": [
    "#### base_url is the variable to store the address of the API endpoint\n",
    "\n",
    "#### The base_url can be written as:"
   ]
  },
  {
   "cell_type": "raw",
   "metadata": {},
   "source": [
    "base_url = \"http://api.exchangeratesapi.io/v1\"+\"/latest\"+\"?access_key=8045132d************************&format=1\""
   ]
  },
  {
   "cell_type": "markdown",
   "metadata": {},
   "source": [
    "####  The above representation gives us a definite meaning which will be clear in the later part of the code."
   ]
  },
  {
   "cell_type": "markdown",
   "metadata": {},
   "source": [
    "## Extracting data from Currency exchange rate "
   ]
  },
  {
   "cell_type": "markdown",
   "metadata": {},
   "source": [
    "### Sending a GET request\n",
    "\n",
    "The Client sends a request to a server and the Server processes the requests and responds accordingly."
   ]
  },
  {
   "cell_type": "code",
   "execution_count": 172,
   "metadata": {},
   "outputs": [],
   "source": [
    "import requests # import request module of Python "
   ]
  },
  {
   "cell_type": "code",
   "execution_count": 173,
   "metadata": {},
   "outputs": [],
   "source": [
    "response = requests.get(base_url) # The get() method submits the GET request to the indicated URL and returns the response from the SERVER"
   ]
  },
  {
   "cell_type": "markdown",
   "metadata": {},
   "source": [
    "### Investigating the response \n",
    "\n",
    "To understand whether our request was successful every response contains a STATUS CODE. Every Status Code has a definitive meaning."
   ]
  },
  {
   "cell_type": "code",
   "execution_count": 67,
   "metadata": {},
   "outputs": [
    {
     "data": {
      "text/plain": [
       "True"
      ]
     },
     "execution_count": 67,
     "metadata": {},
     "output_type": "execute_result"
    }
   ],
   "source": [
    "response.ok"
   ]
  },
  {
   "cell_type": "code",
   "execution_count": 18,
   "metadata": {},
   "outputs": [
    {
     "data": {
      "text/plain": [
       "200"
      ]
     },
     "execution_count": 18,
     "metadata": {},
     "output_type": "execute_result"
    }
   ],
   "source": [
    "response.status_code # Status code : 200 indicates the request was processed successfully"
   ]
  },
  {
   "cell_type": "code",
   "execution_count": 20,
   "metadata": {},
   "outputs": [
    {
     "data": {
      "text/plain": [
       "'{\\n  \"success\":true,\\n  \"timestamp\":1624693444,\\n  \"base\":\"EUR\",\\n  \"date\":\"2021-06-26\",\\n  \"rates\":{\\n    \"AED\":4.384179,\\n    \"AFN\":94.896759,\\n    \"ALL\":122.792678,\\n    \"AMD\":596.065442,\\n    \"ANG\":2.142855,\\n    \"AOA\":773.459717,\\n    \"ARS\":114.0019,\\n    \"AUD\":1.573231,\\n    \"AWG\":2.149095,\\n    \"AZN\":2.033876,\\n    \"BAM\":1.954438,\\n    \"BBD\":2.410354,\\n    \"BDT\":101.169502,\\n    \"BGN\":1.955784,\\n    \"BHD\":0.4499,\\n    \"BIF\":2369.315844,\\n    \"BMD\":1.19361,\\n    \"BND\":1.601873,\\n    \"BOB\":8.242799,\\n    \"BRL\":5.889874,\\n    \"BSD\":1.193785,\\n    \"BTC\":3.8566421e-5,\\n    \"BTN\":88.571368,\\n    \"BWP\":12.919787,\\n    \"BYN\":3.015353,\\n    \"BYR\":23394.755939,\\n    \"BZD\":2.406166,\\n    \"CAD\":1.467429,\\n    \"CDF\":2384.240648,\\n    \"CHF\":1.094485,\\n    \"CLF\":0.031716,\\n    \"CLP\":875.159519,\\n    \"CNY\":7.70619,\\n    \"COP\":4470.24848,\\n    \"CRC\":739.694932,\\n    \"CUC\":1.19361,\\n    \"CUP\":31.630665,\\n    \"CVE\":110.779414,\\n    \"CZK\":25.479098,\\n    \"DJF\":212.128839,\\n    \"DKK\":7.436441,\\n    \"DOP\":68.215281,\\n    \"DZD\":159.941,\\n    \"EGP\":18.702,\\n    \"ERN\":17.906536,\\n    \"ETB\":52.077672,\\n    \"EUR\":1,\\n    \"FJD\":2.461523,\\n    \"FKP\":0.846082,\\n    \"GBP\":0.85964,\\n    \"GEL\":3.742015,\\n    \"GGP\":0.846082,\\n    \"GHS\":6.971148,\\n    \"GIP\":0.846082,\\n    \"GMD\":61.053617,\\n    \"GNF\":11715.282544,\\n    \"GTQ\":9.245687,\\n    \"GYD\":249.654306,\\n    \"HKD\":9.264002,\\n    \"HNL\":28.623231,\\n    \"HRK\":7.498143,\\n    \"HTG\":110.717228,\\n    \"HUF\":351.073529,\\n    \"IDR\":17256.61653,\\n    \"ILS\":3.881358,\\n    \"IMP\":0.846082,\\n    \"INR\":88.595749,\\n    \"IQD\":1744.46101,\\n    \"IRR\":50256.94934,\\n    \"ISK\":147.30387,\\n    \"JEP\":0.846082,\\n    \"JMD\":178.971049,\\n    \"JOD\":0.846317,\\n    \"JPY\":132.222195,\\n    \"KES\":128.675698,\\n    \"KGS\":101.051624,\\n    \"KHR\":4871.122816,\\n    \"KMF\":492.368655,\\n    \"KPW\":1074.249415,\\n    \"KRW\":1345.592816,\\n    \"KWD\":0.359265,\\n    \"KYD\":0.9948,\\n    \"KZT\":509.117443,\\n    \"LAK\":11330.940117,\\n    \"LBP\":1817.999995,\\n    \"LKR\":237.554221,\\n    \"LRD\":204.589259,\\n    \"LSL\":16.878101,\\n    \"LTL\":3.52442,\\n    \"LVL\":0.722003,\\n    \"LYD\":5.375739,\\n    \"MAD\":10.633279,\\n    \"MDL\":21.522973,\\n    \"MGA\":4550.642598,\\n    \"MKD\":61.581146,\\n    \"MMK\":1964.896004,\\n    \"MNT\":3397.011991,\\n    \"MOP\":9.543184,\\n    \"MRO\":426.118564,\\n    \"MUR\":48.87,\\n    \"MVR\":18.386059,\\n    \"MWK\":954.888409,\\n    \"MXN\":23.652039,\\n    \"MYR\":4.960689,\\n    \"MZN\":75.525719,\\n    \"NAD\":16.878096,\\n    \"NGN\":491.174962,\\n    \"NIO\":42.075202,\\n    \"NOK\":10.140212,\\n    \"NPR\":141.714269,\\n    \"NZD\":1.689113,\\n    \"OMR\":0.45952,\\n    \"PAB\":1.193785,\\n    \"PEN\":4.749976,\\n    \"PGK\":4.180624,\\n    \"PHP\":57.944,\\n    \"PKR\":188.117356,\\n    \"PLN\":4.515193,\\n    \"PYG\":8089.644124,\\n    \"QAR\":4.34598,\\n    \"RON\":4.928778,\\n    \"RSD\":117.520326,\\n    \"RUB\":86.191817,\\n    \"RWF\":1173.915432,\\n    \"SAR\":4.476,\\n    \"SBD\":9.57573,\\n    \"SCR\":17.685,\\n    \"SDG\":532.350464,\\n    \"SEK\":10.133021,\\n    \"SGD\":1.602665,\\n    \"SHP\":0.846082,\\n    \"SLL\":12240.470922,\\n    \"SOS\":698.262252,\\n    \"SRD\":24.942276,\\n    \"STD\":24359.784999,\\n    \"SVC\":10.445474,\\n    \"SYP\":1501.372423,\\n    \"SZL\":16.878087,\\n    \"THB\":37.979522,\\n    \"TJS\":13.614505,\\n    \"TMT\":4.189571,\\n    \"TND\":3.292578,\\n    \"TOP\":2.677805,\\n    \"TRY\":10.46307,\\n    \"TTD\":8.102867,\\n    \"TWD\":33.278806,\\n    \"TZS\":2767.981983,\\n    \"UAH\":32.631962,\\n    \"UGX\":4243.64243,\\n    \"USD\":1.19361,\\n    \"UYU\":51.85051,\\n    \"UZS\":12609.296407,\\n    \"VEF\":255229891021.59518,\\n    \"VND\":27482.870179,\\n    \"VUV\":129.436028,\\n    \"WST\":3.010252,\\n    \"XAF\":655.495695,\\n    \"XAG\":0.045703,\\n    \"XAU\":0.00067,\\n    \"XCD\":3.225791,\\n    \"XDR\":0.835412,\\n    \"XOF\":654.699382,\\n    \"XPF\":119.779198,\\n    \"YER\":298.764876,\\n    \"ZAR\":16.893151,\\n    \"ZMK\":10743.926593,\\n    \"ZMW\":26.972066,\\n    \"ZWL\":384.342814\\n  }\\n}'"
      ]
     },
     "execution_count": 20,
     "metadata": {},
     "output_type": "execute_result"
    }
   ],
   "source": [
    "response.text # text method returns the response as a string which can be verifies using the command: type(response.text)"
   ]
  },
  {
   "cell_type": "code",
   "execution_count": 42,
   "metadata": {},
   "outputs": [
    {
     "data": {
      "text/plain": [
       "str"
      ]
     },
     "execution_count": 42,
     "metadata": {},
     "output_type": "execute_result"
    }
   ],
   "source": [
    "type(response.text)"
   ]
  },
  {
   "cell_type": "code",
   "execution_count": 21,
   "metadata": {},
   "outputs": [
    {
     "data": {
      "text/plain": [
       "b'{\\n  \"success\":true,\\n  \"timestamp\":1624693444,\\n  \"base\":\"EUR\",\\n  \"date\":\"2021-06-26\",\\n  \"rates\":{\\n    \"AED\":4.384179,\\n    \"AFN\":94.896759,\\n    \"ALL\":122.792678,\\n    \"AMD\":596.065442,\\n    \"ANG\":2.142855,\\n    \"AOA\":773.459717,\\n    \"ARS\":114.0019,\\n    \"AUD\":1.573231,\\n    \"AWG\":2.149095,\\n    \"AZN\":2.033876,\\n    \"BAM\":1.954438,\\n    \"BBD\":2.410354,\\n    \"BDT\":101.169502,\\n    \"BGN\":1.955784,\\n    \"BHD\":0.4499,\\n    \"BIF\":2369.315844,\\n    \"BMD\":1.19361,\\n    \"BND\":1.601873,\\n    \"BOB\":8.242799,\\n    \"BRL\":5.889874,\\n    \"BSD\":1.193785,\\n    \"BTC\":3.8566421e-5,\\n    \"BTN\":88.571368,\\n    \"BWP\":12.919787,\\n    \"BYN\":3.015353,\\n    \"BYR\":23394.755939,\\n    \"BZD\":2.406166,\\n    \"CAD\":1.467429,\\n    \"CDF\":2384.240648,\\n    \"CHF\":1.094485,\\n    \"CLF\":0.031716,\\n    \"CLP\":875.159519,\\n    \"CNY\":7.70619,\\n    \"COP\":4470.24848,\\n    \"CRC\":739.694932,\\n    \"CUC\":1.19361,\\n    \"CUP\":31.630665,\\n    \"CVE\":110.779414,\\n    \"CZK\":25.479098,\\n    \"DJF\":212.128839,\\n    \"DKK\":7.436441,\\n    \"DOP\":68.215281,\\n    \"DZD\":159.941,\\n    \"EGP\":18.702,\\n    \"ERN\":17.906536,\\n    \"ETB\":52.077672,\\n    \"EUR\":1,\\n    \"FJD\":2.461523,\\n    \"FKP\":0.846082,\\n    \"GBP\":0.85964,\\n    \"GEL\":3.742015,\\n    \"GGP\":0.846082,\\n    \"GHS\":6.971148,\\n    \"GIP\":0.846082,\\n    \"GMD\":61.053617,\\n    \"GNF\":11715.282544,\\n    \"GTQ\":9.245687,\\n    \"GYD\":249.654306,\\n    \"HKD\":9.264002,\\n    \"HNL\":28.623231,\\n    \"HRK\":7.498143,\\n    \"HTG\":110.717228,\\n    \"HUF\":351.073529,\\n    \"IDR\":17256.61653,\\n    \"ILS\":3.881358,\\n    \"IMP\":0.846082,\\n    \"INR\":88.595749,\\n    \"IQD\":1744.46101,\\n    \"IRR\":50256.94934,\\n    \"ISK\":147.30387,\\n    \"JEP\":0.846082,\\n    \"JMD\":178.971049,\\n    \"JOD\":0.846317,\\n    \"JPY\":132.222195,\\n    \"KES\":128.675698,\\n    \"KGS\":101.051624,\\n    \"KHR\":4871.122816,\\n    \"KMF\":492.368655,\\n    \"KPW\":1074.249415,\\n    \"KRW\":1345.592816,\\n    \"KWD\":0.359265,\\n    \"KYD\":0.9948,\\n    \"KZT\":509.117443,\\n    \"LAK\":11330.940117,\\n    \"LBP\":1817.999995,\\n    \"LKR\":237.554221,\\n    \"LRD\":204.589259,\\n    \"LSL\":16.878101,\\n    \"LTL\":3.52442,\\n    \"LVL\":0.722003,\\n    \"LYD\":5.375739,\\n    \"MAD\":10.633279,\\n    \"MDL\":21.522973,\\n    \"MGA\":4550.642598,\\n    \"MKD\":61.581146,\\n    \"MMK\":1964.896004,\\n    \"MNT\":3397.011991,\\n    \"MOP\":9.543184,\\n    \"MRO\":426.118564,\\n    \"MUR\":48.87,\\n    \"MVR\":18.386059,\\n    \"MWK\":954.888409,\\n    \"MXN\":23.652039,\\n    \"MYR\":4.960689,\\n    \"MZN\":75.525719,\\n    \"NAD\":16.878096,\\n    \"NGN\":491.174962,\\n    \"NIO\":42.075202,\\n    \"NOK\":10.140212,\\n    \"NPR\":141.714269,\\n    \"NZD\":1.689113,\\n    \"OMR\":0.45952,\\n    \"PAB\":1.193785,\\n    \"PEN\":4.749976,\\n    \"PGK\":4.180624,\\n    \"PHP\":57.944,\\n    \"PKR\":188.117356,\\n    \"PLN\":4.515193,\\n    \"PYG\":8089.644124,\\n    \"QAR\":4.34598,\\n    \"RON\":4.928778,\\n    \"RSD\":117.520326,\\n    \"RUB\":86.191817,\\n    \"RWF\":1173.915432,\\n    \"SAR\":4.476,\\n    \"SBD\":9.57573,\\n    \"SCR\":17.685,\\n    \"SDG\":532.350464,\\n    \"SEK\":10.133021,\\n    \"SGD\":1.602665,\\n    \"SHP\":0.846082,\\n    \"SLL\":12240.470922,\\n    \"SOS\":698.262252,\\n    \"SRD\":24.942276,\\n    \"STD\":24359.784999,\\n    \"SVC\":10.445474,\\n    \"SYP\":1501.372423,\\n    \"SZL\":16.878087,\\n    \"THB\":37.979522,\\n    \"TJS\":13.614505,\\n    \"TMT\":4.189571,\\n    \"TND\":3.292578,\\n    \"TOP\":2.677805,\\n    \"TRY\":10.46307,\\n    \"TTD\":8.102867,\\n    \"TWD\":33.278806,\\n    \"TZS\":2767.981983,\\n    \"UAH\":32.631962,\\n    \"UGX\":4243.64243,\\n    \"USD\":1.19361,\\n    \"UYU\":51.85051,\\n    \"UZS\":12609.296407,\\n    \"VEF\":255229891021.59518,\\n    \"VND\":27482.870179,\\n    \"VUV\":129.436028,\\n    \"WST\":3.010252,\\n    \"XAF\":655.495695,\\n    \"XAG\":0.045703,\\n    \"XAU\":0.00067,\\n    \"XCD\":3.225791,\\n    \"XDR\":0.835412,\\n    \"XOF\":654.699382,\\n    \"XPF\":119.779198,\\n    \"YER\":298.764876,\\n    \"ZAR\":16.893151,\\n    \"ZMK\":10743.926593,\\n    \"ZMW\":26.972066,\\n    \"ZWL\":384.342814\\n  }\\n}'"
      ]
     },
     "execution_count": 21,
     "metadata": {},
     "output_type": "execute_result"
    }
   ],
   "source": [
    "response.content # content method returns data in bytes format "
   ]
  },
  {
   "cell_type": "markdown",
   "metadata": {},
   "source": [
    "#### However the data is in JSON format which consists of lists and dictionaries "
   ]
  },
  {
   "cell_type": "markdown",
   "metadata": {},
   "source": [
    "### Handling the JSON"
   ]
  },
  {
   "cell_type": "markdown",
   "metadata": {},
   "source": [
    "The requests library provides us with the .json method which converts a JSON formatted response to a Python object "
   ]
  },
  {
   "cell_type": "code",
   "execution_count": 174,
   "metadata": {},
   "outputs": [
    {
     "data": {
      "text/plain": [
       "{'success': True,\n",
       " 'timestamp': 1624703345,\n",
       " 'base': 'EUR',\n",
       " 'date': '2021-06-26',\n",
       " 'rates': {'AED': 4.384179,\n",
       "  'AFN': 94.896759,\n",
       "  'ALL': 122.792678,\n",
       "  'AMD': 596.065442,\n",
       "  'ANG': 2.142855,\n",
       "  'AOA': 773.459717,\n",
       "  'ARS': 114.0019,\n",
       "  'AUD': 1.573231,\n",
       "  'AWG': 2.149095,\n",
       "  'AZN': 2.033876,\n",
       "  'BAM': 1.954438,\n",
       "  'BBD': 2.410354,\n",
       "  'BDT': 101.169502,\n",
       "  'BGN': 1.955784,\n",
       "  'BHD': 0.4499,\n",
       "  'BIF': 2369.315844,\n",
       "  'BMD': 1.19361,\n",
       "  'BND': 1.601873,\n",
       "  'BOB': 8.242799,\n",
       "  'BRL': 5.889874,\n",
       "  'BSD': 1.193785,\n",
       "  'BTC': 3.838852e-05,\n",
       "  'BTN': 88.571368,\n",
       "  'BWP': 12.919787,\n",
       "  'BYN': 3.015353,\n",
       "  'BYR': 23394.755939,\n",
       "  'BZD': 2.406166,\n",
       "  'CAD': 1.467429,\n",
       "  'CDF': 2384.240648,\n",
       "  'CHF': 1.094485,\n",
       "  'CLF': 0.031716,\n",
       "  'CLP': 875.159519,\n",
       "  'CNY': 7.70619,\n",
       "  'COP': 4470.24848,\n",
       "  'CRC': 739.694932,\n",
       "  'CUC': 1.19361,\n",
       "  'CUP': 31.630665,\n",
       "  'CVE': 110.779414,\n",
       "  'CZK': 25.479098,\n",
       "  'DJF': 212.128839,\n",
       "  'DKK': 7.436441,\n",
       "  'DOP': 68.215281,\n",
       "  'DZD': 159.941,\n",
       "  'EGP': 18.702,\n",
       "  'ERN': 17.906536,\n",
       "  'ETB': 52.077672,\n",
       "  'EUR': 1,\n",
       "  'FJD': 2.461523,\n",
       "  'FKP': 0.846082,\n",
       "  'GBP': 0.85964,\n",
       "  'GEL': 3.742015,\n",
       "  'GGP': 0.846082,\n",
       "  'GHS': 6.971148,\n",
       "  'GIP': 0.846082,\n",
       "  'GMD': 61.053617,\n",
       "  'GNF': 11715.282544,\n",
       "  'GTQ': 9.245687,\n",
       "  'GYD': 249.654306,\n",
       "  'HKD': 9.264002,\n",
       "  'HNL': 28.623231,\n",
       "  'HRK': 7.498143,\n",
       "  'HTG': 110.717228,\n",
       "  'HUF': 351.073529,\n",
       "  'IDR': 17256.61653,\n",
       "  'ILS': 3.881358,\n",
       "  'IMP': 0.846082,\n",
       "  'INR': 88.595749,\n",
       "  'IQD': 1744.46101,\n",
       "  'IRR': 50256.94934,\n",
       "  'ISK': 147.30387,\n",
       "  'JEP': 0.846082,\n",
       "  'JMD': 178.971049,\n",
       "  'JOD': 0.846317,\n",
       "  'JPY': 132.222195,\n",
       "  'KES': 128.675698,\n",
       "  'KGS': 101.051624,\n",
       "  'KHR': 4871.122816,\n",
       "  'KMF': 492.368655,\n",
       "  'KPW': 1074.249415,\n",
       "  'KRW': 1345.592816,\n",
       "  'KWD': 0.359265,\n",
       "  'KYD': 0.9948,\n",
       "  'KZT': 509.117443,\n",
       "  'LAK': 11330.940117,\n",
       "  'LBP': 1817.999995,\n",
       "  'LKR': 237.554221,\n",
       "  'LRD': 204.589259,\n",
       "  'LSL': 16.878101,\n",
       "  'LTL': 3.52442,\n",
       "  'LVL': 0.722003,\n",
       "  'LYD': 5.375739,\n",
       "  'MAD': 10.633279,\n",
       "  'MDL': 21.522973,\n",
       "  'MGA': 4550.642598,\n",
       "  'MKD': 61.581146,\n",
       "  'MMK': 1964.896004,\n",
       "  'MNT': 3397.011991,\n",
       "  'MOP': 9.543184,\n",
       "  'MRO': 426.118564,\n",
       "  'MUR': 48.87,\n",
       "  'MVR': 18.386059,\n",
       "  'MWK': 954.888409,\n",
       "  'MXN': 23.652039,\n",
       "  'MYR': 4.960689,\n",
       "  'MZN': 75.525719,\n",
       "  'NAD': 16.878096,\n",
       "  'NGN': 491.174962,\n",
       "  'NIO': 42.075202,\n",
       "  'NOK': 10.140212,\n",
       "  'NPR': 141.714269,\n",
       "  'NZD': 1.689113,\n",
       "  'OMR': 0.45952,\n",
       "  'PAB': 1.193785,\n",
       "  'PEN': 4.749976,\n",
       "  'PGK': 4.180624,\n",
       "  'PHP': 57.944,\n",
       "  'PKR': 188.117356,\n",
       "  'PLN': 4.515193,\n",
       "  'PYG': 8089.644124,\n",
       "  'QAR': 4.34598,\n",
       "  'RON': 4.928778,\n",
       "  'RSD': 117.520326,\n",
       "  'RUB': 86.191817,\n",
       "  'RWF': 1173.915432,\n",
       "  'SAR': 4.476,\n",
       "  'SBD': 9.57573,\n",
       "  'SCR': 17.685,\n",
       "  'SDG': 532.350464,\n",
       "  'SEK': 10.133021,\n",
       "  'SGD': 1.602665,\n",
       "  'SHP': 0.846082,\n",
       "  'SLL': 12240.470922,\n",
       "  'SOS': 698.262252,\n",
       "  'SRD': 24.942276,\n",
       "  'STD': 24359.784999,\n",
       "  'SVC': 10.445474,\n",
       "  'SYP': 1501.372423,\n",
       "  'SZL': 16.878087,\n",
       "  'THB': 37.979522,\n",
       "  'TJS': 13.614505,\n",
       "  'TMT': 4.189571,\n",
       "  'TND': 3.292578,\n",
       "  'TOP': 2.677805,\n",
       "  'TRY': 10.46307,\n",
       "  'TTD': 8.102867,\n",
       "  'TWD': 33.278806,\n",
       "  'TZS': 2767.981983,\n",
       "  'UAH': 32.631962,\n",
       "  'UGX': 4243.64243,\n",
       "  'USD': 1.19361,\n",
       "  'UYU': 51.85051,\n",
       "  'UZS': 12609.296407,\n",
       "  'VEF': 255229891021.59518,\n",
       "  'VND': 27482.870179,\n",
       "  'VUV': 129.436028,\n",
       "  'WST': 3.010252,\n",
       "  'XAF': 655.495695,\n",
       "  'XAG': 0.045703,\n",
       "  'XAU': 0.00067,\n",
       "  'XCD': 3.225791,\n",
       "  'XDR': 0.835412,\n",
       "  'XOF': 654.699382,\n",
       "  'XPF': 119.779198,\n",
       "  'YER': 298.764876,\n",
       "  'ZAR': 16.893151,\n",
       "  'ZMK': 10743.926593,\n",
       "  'ZMW': 26.972066,\n",
       "  'ZWL': 384.342814}}"
      ]
     },
     "execution_count": 174,
     "metadata": {},
     "output_type": "execute_result"
    }
   ],
   "source": [
    "response.json()"
   ]
  },
  {
   "cell_type": "code",
   "execution_count": 31,
   "metadata": {},
   "outputs": [
    {
     "data": {
      "text/plain": [
       "dict"
      ]
     },
     "execution_count": 31,
     "metadata": {},
     "output_type": "execute_result"
    }
   ],
   "source": [
    "type(response.json()) # converted to a dictionary "
   ]
  },
  {
   "cell_type": "markdown",
   "metadata": {},
   "source": [
    "#### To make the data more readable we will use the inbuilt json package \n",
    "import json \n",
    "#### it provides methods for JSON manipulation \n",
    "\n",
    "#### Two of the main ones are loads and dumps \n",
    "loads converts a string to a python object, whereas dumps converts the python object back to a string but in doing so, however, we have some options to make it a good looking string.\n",
    "\n",
    "For example, we can set an indentation for nested elements and choose the amount of white space with the indent parameter."
   ]
  },
  {
   "cell_type": "code",
   "execution_count": 175,
   "metadata": {},
   "outputs": [],
   "source": [
    "import json "
   ]
  },
  {
   "cell_type": "code",
   "execution_count": 178,
   "metadata": {},
   "outputs": [
    {
     "name": "stdout",
     "output_type": "stream",
     "text": [
      "{\n",
      "    \"success\": true,\n",
      "    \"timestamp\": 1624703345,\n",
      "    \"base\": \"EUR\",\n",
      "    \"date\": \"2021-06-26\",\n",
      "    \"rates\": {\n",
      "        \"AED\": 4.384179,\n",
      "        \"AFN\": 94.896759,\n",
      "        \"ALL\": 122.792678,\n",
      "        \"AMD\": 596.065442,\n",
      "        \"ANG\": 2.142855,\n",
      "        \"AOA\": 773.459717,\n",
      "        \"ARS\": 114.0019,\n",
      "        \"AUD\": 1.573231,\n",
      "        \"AWG\": 2.149095,\n",
      "        \"AZN\": 2.033876,\n",
      "        \"BAM\": 1.954438,\n",
      "        \"BBD\": 2.410354,\n",
      "        \"BDT\": 101.169502,\n",
      "        \"BGN\": 1.955784,\n",
      "        \"BHD\": 0.4499,\n",
      "        \"BIF\": 2369.315844,\n",
      "        \"BMD\": 1.19361,\n",
      "        \"BND\": 1.601873,\n",
      "        \"BOB\": 8.242799,\n",
      "        \"BRL\": 5.889874,\n",
      "        \"BSD\": 1.193785,\n",
      "        \"BTC\": 3.838852e-05,\n",
      "        \"BTN\": 88.571368,\n",
      "        \"BWP\": 12.919787,\n",
      "        \"BYN\": 3.015353,\n",
      "        \"BYR\": 23394.755939,\n",
      "        \"BZD\": 2.406166,\n",
      "        \"CAD\": 1.467429,\n",
      "        \"CDF\": 2384.240648,\n",
      "        \"CHF\": 1.094485,\n",
      "        \"CLF\": 0.031716,\n",
      "        \"CLP\": 875.159519,\n",
      "        \"CNY\": 7.70619,\n",
      "        \"COP\": 4470.24848,\n",
      "        \"CRC\": 739.694932,\n",
      "        \"CUC\": 1.19361,\n",
      "        \"CUP\": 31.630665,\n",
      "        \"CVE\": 110.779414,\n",
      "        \"CZK\": 25.479098,\n",
      "        \"DJF\": 212.128839,\n",
      "        \"DKK\": 7.436441,\n",
      "        \"DOP\": 68.215281,\n",
      "        \"DZD\": 159.941,\n",
      "        \"EGP\": 18.702,\n",
      "        \"ERN\": 17.906536,\n",
      "        \"ETB\": 52.077672,\n",
      "        \"EUR\": 1,\n",
      "        \"FJD\": 2.461523,\n",
      "        \"FKP\": 0.846082,\n",
      "        \"GBP\": 0.85964,\n",
      "        \"GEL\": 3.742015,\n",
      "        \"GGP\": 0.846082,\n",
      "        \"GHS\": 6.971148,\n",
      "        \"GIP\": 0.846082,\n",
      "        \"GMD\": 61.053617,\n",
      "        \"GNF\": 11715.282544,\n",
      "        \"GTQ\": 9.245687,\n",
      "        \"GYD\": 249.654306,\n",
      "        \"HKD\": 9.264002,\n",
      "        \"HNL\": 28.623231,\n",
      "        \"HRK\": 7.498143,\n",
      "        \"HTG\": 110.717228,\n",
      "        \"HUF\": 351.073529,\n",
      "        \"IDR\": 17256.61653,\n",
      "        \"ILS\": 3.881358,\n",
      "        \"IMP\": 0.846082,\n",
      "        \"INR\": 88.595749,\n",
      "        \"IQD\": 1744.46101,\n",
      "        \"IRR\": 50256.94934,\n",
      "        \"ISK\": 147.30387,\n",
      "        \"JEP\": 0.846082,\n",
      "        \"JMD\": 178.971049,\n",
      "        \"JOD\": 0.846317,\n",
      "        \"JPY\": 132.222195,\n",
      "        \"KES\": 128.675698,\n",
      "        \"KGS\": 101.051624,\n",
      "        \"KHR\": 4871.122816,\n",
      "        \"KMF\": 492.368655,\n",
      "        \"KPW\": 1074.249415,\n",
      "        \"KRW\": 1345.592816,\n",
      "        \"KWD\": 0.359265,\n",
      "        \"KYD\": 0.9948,\n",
      "        \"KZT\": 509.117443,\n",
      "        \"LAK\": 11330.940117,\n",
      "        \"LBP\": 1817.999995,\n",
      "        \"LKR\": 237.554221,\n",
      "        \"LRD\": 204.589259,\n",
      "        \"LSL\": 16.878101,\n",
      "        \"LTL\": 3.52442,\n",
      "        \"LVL\": 0.722003,\n",
      "        \"LYD\": 5.375739,\n",
      "        \"MAD\": 10.633279,\n",
      "        \"MDL\": 21.522973,\n",
      "        \"MGA\": 4550.642598,\n",
      "        \"MKD\": 61.581146,\n",
      "        \"MMK\": 1964.896004,\n",
      "        \"MNT\": 3397.011991,\n",
      "        \"MOP\": 9.543184,\n",
      "        \"MRO\": 426.118564,\n",
      "        \"MUR\": 48.87,\n",
      "        \"MVR\": 18.386059,\n",
      "        \"MWK\": 954.888409,\n",
      "        \"MXN\": 23.652039,\n",
      "        \"MYR\": 4.960689,\n",
      "        \"MZN\": 75.525719,\n",
      "        \"NAD\": 16.878096,\n",
      "        \"NGN\": 491.174962,\n",
      "        \"NIO\": 42.075202,\n",
      "        \"NOK\": 10.140212,\n",
      "        \"NPR\": 141.714269,\n",
      "        \"NZD\": 1.689113,\n",
      "        \"OMR\": 0.45952,\n",
      "        \"PAB\": 1.193785,\n",
      "        \"PEN\": 4.749976,\n",
      "        \"PGK\": 4.180624,\n",
      "        \"PHP\": 57.944,\n",
      "        \"PKR\": 188.117356,\n",
      "        \"PLN\": 4.515193,\n",
      "        \"PYG\": 8089.644124,\n",
      "        \"QAR\": 4.34598,\n",
      "        \"RON\": 4.928778,\n",
      "        \"RSD\": 117.520326,\n",
      "        \"RUB\": 86.191817,\n",
      "        \"RWF\": 1173.915432,\n",
      "        \"SAR\": 4.476,\n",
      "        \"SBD\": 9.57573,\n",
      "        \"SCR\": 17.685,\n",
      "        \"SDG\": 532.350464,\n",
      "        \"SEK\": 10.133021,\n",
      "        \"SGD\": 1.602665,\n",
      "        \"SHP\": 0.846082,\n",
      "        \"SLL\": 12240.470922,\n",
      "        \"SOS\": 698.262252,\n",
      "        \"SRD\": 24.942276,\n",
      "        \"STD\": 24359.784999,\n",
      "        \"SVC\": 10.445474,\n",
      "        \"SYP\": 1501.372423,\n",
      "        \"SZL\": 16.878087,\n",
      "        \"THB\": 37.979522,\n",
      "        \"TJS\": 13.614505,\n",
      "        \"TMT\": 4.189571,\n",
      "        \"TND\": 3.292578,\n",
      "        \"TOP\": 2.677805,\n",
      "        \"TRY\": 10.46307,\n",
      "        \"TTD\": 8.102867,\n",
      "        \"TWD\": 33.278806,\n",
      "        \"TZS\": 2767.981983,\n",
      "        \"UAH\": 32.631962,\n",
      "        \"UGX\": 4243.64243,\n",
      "        \"USD\": 1.19361,\n",
      "        \"UYU\": 51.85051,\n",
      "        \"UZS\": 12609.296407,\n",
      "        \"VEF\": 255229891021.59518,\n",
      "        \"VND\": 27482.870179,\n",
      "        \"VUV\": 129.436028,\n",
      "        \"WST\": 3.010252,\n",
      "        \"XAF\": 655.495695,\n",
      "        \"XAG\": 0.045703,\n",
      "        \"XAU\": 0.00067,\n",
      "        \"XCD\": 3.225791,\n",
      "        \"XDR\": 0.835412,\n",
      "        \"XOF\": 654.699382,\n",
      "        \"XPF\": 119.779198,\n",
      "        \"YER\": 298.764876,\n",
      "        \"ZAR\": 16.893151,\n",
      "        \"ZMK\": 10743.926593,\n",
      "        \"ZMW\": 26.972066,\n",
      "        \"ZWL\": 384.342814\n",
      "    }\n",
      "}\n"
     ]
    }
   ],
   "source": [
    "print(json.dumps(response.json(), indent = 4)) # for better indentation"
   ]
  },
  {
   "cell_type": "code",
   "execution_count": 36,
   "metadata": {},
   "outputs": [
    {
     "data": {
      "text/plain": [
       "str"
      ]
     },
     "execution_count": 36,
     "metadata": {},
     "output_type": "execute_result"
    }
   ],
   "source": [
    "type(json.dumps(response.json(), indent = 4)) # converts the Pyhton object back to string , but the string is now indented "
   ]
  },
  {
   "cell_type": "code",
   "execution_count": 50,
   "metadata": {},
   "outputs": [
    {
     "data": {
      "text/plain": [
       "dict_keys(['success', 'timestamp', 'base', 'date', 'rates'])"
      ]
     },
     "execution_count": 50,
     "metadata": {},
     "output_type": "execute_result"
    }
   ],
   "source": [
    "response.json().keys()\n",
    "\n",
    "# since response.json() provides reponse in form of a dictionary, it must have keys"
   ]
  },
  {
   "cell_type": "markdown",
   "metadata": {},
   "source": [
    "So far, we have managed to connect to the API, extract the response data and understand its contents.\n",
    "\n",
    "There is still a lot more functionality left to explore for this API.\n",
    "\n",
    "And in the next section, I will deal with sending parameters to filter the response."
   ]
  },
  {
   "cell_type": "markdown",
   "metadata": {},
   "source": [
    "### Incorporating parameters in the GET request\n",
    "\n",
    "#### Syntax for parameters \n",
    "### http://...?par1=value&par2=value&...\n",
    "Each API has its own documentation and thus its possible parameters and values \n",
    "\n",
    "Here two parameters : symbols , base "
   ]
  },
  {
   "cell_type": "markdown",
   "metadata": {},
   "source": [
    "**symbols parameter**"
   ]
  },
  {
   "cell_type": "code",
   "execution_count": 1,
   "metadata": {},
   "outputs": [],
   "source": [
    "param_url = \"http://api.exchangeratesapi.io/v1/latest?access_key=8045132d************************&format=1&symbols=USD,GBP\""
   ]
  },
  {
   "cell_type": "code",
   "execution_count": 146,
   "metadata": {},
   "outputs": [],
   "source": [
    "response = requests.get(param_url)"
   ]
  },
  {
   "cell_type": "code",
   "execution_count": 147,
   "metadata": {},
   "outputs": [
    {
     "data": {
      "text/plain": [
       "200"
      ]
     },
     "execution_count": 147,
     "metadata": {},
     "output_type": "execute_result"
    }
   ],
   "source": [
    "response.status_code"
   ]
  },
  {
   "cell_type": "code",
   "execution_count": 148,
   "metadata": {},
   "outputs": [
    {
     "data": {
      "text/plain": [
       "{'success': True,\n",
       " 'timestamp': 1624700043,\n",
       " 'base': 'EUR',\n",
       " 'date': '2021-06-26',\n",
       " 'rates': {'USD': 1.19361, 'GBP': 0.85964}}"
      ]
     },
     "execution_count": 148,
     "metadata": {},
     "output_type": "execute_result"
    }
   ],
   "source": [
    "data= response.json()\n",
    "data # data is now filtered according to paramters given i.e. data only shows for symbols: 'USD' & 'GBP'"
   ]
  },
  {
   "cell_type": "code",
   "execution_count": 79,
   "metadata": {},
   "outputs": [
    {
     "name": "stdout",
     "output_type": "stream",
     "text": [
      "success : True\n",
      "timestamp : 1624700043\n",
      "base : EUR\n",
      "date : 2021-06-26\n",
      "rates : {'USD': 1.19361, 'GBP': 0.85964}\n"
     ]
    }
   ],
   "source": [
    "for keys in data:\n",
    "    print(\"{} : {}\".format(keys,data[keys]))"
   ]
  },
  {
   "cell_type": "markdown",
   "metadata": {},
   "source": [
    "**base parameter**"
   ]
  },
  {
   "cell_type": "markdown",
   "metadata": {},
   "source": [
    "Given those two rates, we could in principle calculate the conversion rate of dollar to pound, according to the documentation, though, we do not need to perform this calculation as the API provides a base parameter just in that case.\n",
    "\n",
    "So this time we have only GBP as symbols and USD in base.\n",
    "\n",
    "Recall that we separate two or more parameters with & sign\n",
    "\n",
    "Now we have to make a request to that URL and collect the response information. We can combine these steps into one by appending the Json method to the end of the request.\n",
    "\n",
    "Thus, after obtaining the response data, we can find the desired rate by accessing the rates dictionary and then the currency key."
   ]
  },
  {
   "cell_type": "code",
   "execution_count": 139,
   "metadata": {},
   "outputs": [],
   "source": [
    "param_url = \"http://api.exchangeratesapi.io/v1/latest?access_key=8045132d************************&base=USD&symbols=GBP&format=1\""
   ]
  },
  {
   "cell_type": "code",
   "execution_count": 141,
   "metadata": {},
   "outputs": [],
   "source": [
    "data = requests.get(param_url).json()"
   ]
  },
  {
   "cell_type": "markdown",
   "metadata": {},
   "source": [
    "Sadly, access to the base parameter is restricted dur to my current subscription plan and hence the result cannot be displayed but the above code will work properly for someone who has the access. "
   ]
  },
  {
   "cell_type": "markdown",
   "metadata": {},
   "source": [
    "**Using the convert endpoint to convert**"
   ]
  },
  {
   "cell_type": "raw",
   "metadata": {},
   "source": [
    "// \"convert\" endpoint - convert any amount from one currency to another\n",
    "// using real-time exchange rates\n",
    "\n",
    "http://api.exchangeratesapi.io/v1/convert\n",
    "\n",
    "    ? access_key = YOUR_ACCESS_KEY\n",
    "    & from = USD\n",
    "    & to = EUR\n",
    "    & amount = 25\n",
    "\n",
    "\n",
    "// append an additional \"date\" parameter if you want to use\n",
    "// historical rates for your conversion\n",
    "\n",
    "    & date = YYYY-MM-DD\n",
    "    \n",
    "//The above text is taken from the API"
   ]
  },
  {
   "cell_type": "code",
   "execution_count": 163,
   "metadata": {},
   "outputs": [
    {
     "data": {
      "text/plain": [
       "'http://api.exchangeratesapi.io/v1'"
      ]
     },
     "execution_count": 163,
     "metadata": {},
     "output_type": "execute_result"
    }
   ],
   "source": [
    "base_url"
   ]
  },
  {
   "cell_type": "code",
   "execution_count": 167,
   "metadata": {},
   "outputs": [],
   "source": [
    "param_url = base_url+\"/convert\"+\"?access_key=8045132d************************&format=1\"+\"from=USD\"+\"to=GBP\"+\"amount=100\""
   ]
  },
  {
   "cell_type": "code",
   "execution_count": 169,
   "metadata": {},
   "outputs": [
    {
     "data": {
      "text/plain": [
       "{'error': {'code': 'function_access_restricted',\n",
       "  'message': 'Access Restricted - Your current Subscription Plan does not support this API Function.'}}"
      ]
     },
     "execution_count": 169,
     "metadata": {},
     "output_type": "execute_result"
    }
   ],
   "source": [
    "response = requests.get(param_url)\n",
    "data = response.json()\n",
    "data"
   ]
  },
  {
   "cell_type": "markdown",
   "metadata": {},
   "source": [
    "Again , unfortunately I do not have access but this code will work for anyone who has."
   ]
  },
  {
   "cell_type": "markdown",
   "metadata": {},
   "source": [
    "**Obtaining historical exchange rates**"
   ]
  },
  {
   "cell_type": "markdown",
   "metadata": {},
   "source": [
    "So far, we've been using only one end point of the API latest for the latest exchange rates.\n",
    "\n",
    "In addition to that, the documentation mentions a couple more endpoints about historical data historical rates for a single day since nineteen ninety nine and historical rates for a time period."
   ]
  },
  {
   "cell_type": "raw",
   "metadata": {},
   "source": [
    "\n",
    " \"historical\" endpoint - request historical rates for a specific day\n",
    "\n",
    " http://api.exchangeratesapi.io/v1/YYYY-MM-DD\n",
    "\n",
    "    ? access_key = YOUR_ACCESS_KEY\n",
    "    & base = JPY\n",
    "    & symbols = USD,AUD,CAD,PLN,MXN"
   ]
  },
  {
   "cell_type": "markdown",
   "metadata": {},
   "source": [
    "There are 5 main API Endpoints (listed below) through which you can access \n",
    "different kinds of data, all starting out with this Base URL:\n",
    "\n",
    "**http://api.exchangeratesapi.io/v1/**\n",
    "\n",
    "Simply attach your unique Access Key to one of the endpoints as a query parameter:"
   ]
  },
  {
   "cell_type": "markdown",
   "metadata": {},
   "source": [
    "**Let the historical date be 2016-01-26**\n",
    "\n",
    "http://api.exchangeratesapi.io/v1/ **2016-01-26**"
   ]
  },
  {
   "cell_type": "code",
   "execution_count": 179,
   "metadata": {},
   "outputs": [],
   "source": [
    "base_url = \"http://api.exchangeratesapi.io/v1\"\n",
    "param_url = base_url+\"/2016-01-26\"+\"?access_key=8045132d************************&format=1\""
   ]
  },
  {
   "cell_type": "code",
   "execution_count": 162,
   "metadata": {},
   "outputs": [
    {
     "data": {
      "text/plain": [
       "{'success': True,\n",
       " 'timestamp': 1453852799,\n",
       " 'historical': True,\n",
       " 'base': 'EUR',\n",
       " 'date': '2016-01-26',\n",
       " 'rates': {'AED': 3.991061,\n",
       "  'AFN': 74.58154,\n",
       "  'ALL': 137.965795,\n",
       "  'AMD': 530.247142,\n",
       "  'ANG': 1.943586,\n",
       "  'AOA': 168.999693,\n",
       "  'ARS': 14.990112,\n",
       "  'AUD': 1.55192,\n",
       "  'AWG': 1.948565,\n",
       "  'AZN': 1.738253,\n",
       "  'BAM': 1.958195,\n",
       "  'BBD': 2.173122,\n",
       "  'BDT': 85.139638,\n",
       "  'BGN': 1.959586,\n",
       "  'BHD': 0.409556,\n",
       "  'BIF': 1701.160447,\n",
       "  'BMD': 1.086561,\n",
       "  'BND': 1.550257,\n",
       "  'BOB': 7.503896,\n",
       "  'BRL': 4.430875,\n",
       "  'BSD': 1.086561,\n",
       "  'BTC': 0.002759,\n",
       "  'BTN': 73.608145,\n",
       "  'BWP': 12.59286,\n",
       "  'BYR': 22823.99887,\n",
       "  'BZD': 2.166505,\n",
       "  'CAD': 1.536042,\n",
       "  'CDF': 1008.769361,\n",
       "  'CHF': 1.104771,\n",
       "  'CLF': 0.026732,\n",
       "  'CLP': 780.130471,\n",
       "  'CNY': 7.136479,\n",
       "  'COP': 3643.349976,\n",
       "  'CRC': 581.502935,\n",
       "  'CUC': 1.086561,\n",
       "  'CUP': 1.08504,\n",
       "  'CVE': 110.692846,\n",
       "  'CZK': 27.049648,\n",
       "  'DJF': 193.049679,\n",
       "  'DKK': 7.470534,\n",
       "  'DOP': 49.597361,\n",
       "  'DZD': 116.607946,\n",
       "  'EGP': 8.510282,\n",
       "  'ERN': 16.300043,\n",
       "  'ETB': 23.082356,\n",
       "  'EUR': 1,\n",
       "  'FJD': 2.351843,\n",
       "  'FKP': 0.757253,\n",
       "  'GBP': 0.757253,\n",
       "  'GEL': 2.699126,\n",
       "  'GGP': 0.757253,\n",
       "  'GHS': 4.331521,\n",
       "  'GIP': 0.757253,\n",
       "  'GMD': 42.997577,\n",
       "  'GNF': 8411.849927,\n",
       "  'GTQ': 8.309943,\n",
       "  'GYD': 223.994889,\n",
       "  'HKD': 8.469703,\n",
       "  'HNL': 24.454289,\n",
       "  'HRK': 7.67416,\n",
       "  'HTG': 63.815513,\n",
       "  'HUF': 312.357732,\n",
       "  'IDR': 15029.907588,\n",
       "  'ILS': 4.311148,\n",
       "  'IMP': 0.757253,\n",
       "  'INR': 73.56411,\n",
       "  'IQD': 1182.775824,\n",
       "  'IRR': 32594.109754,\n",
       "  'ISK': 141.807466,\n",
       "  'JEP': 0.757253,\n",
       "  'JMD': 130.925561,\n",
       "  'JOD': 0.770478,\n",
       "  'JPY': 128.708432,\n",
       "  'KES': 110.981463,\n",
       "  'KGS': 82.466493,\n",
       "  'KHR': 4414.51754,\n",
       "  'KMF': 492.857326,\n",
       "  'KPW': 978.002575,\n",
       "  'KRW': 1301.9281,\n",
       "  'KWD': 0.330032,\n",
       "  'KYD': 0.896274,\n",
       "  'KZT': 411.653349,\n",
       "  'LAK': 8845.300949,\n",
       "  'LBP': 1643.659616,\n",
       "  'LKR': 156.368877,\n",
       "  'LRD': 92.172961,\n",
       "  'LSL': 17.833525,\n",
       "  'LTL': 3.36406,\n",
       "  'LVL': 0.690078,\n",
       "  'LYD': 1.515605,\n",
       "  'MAD': 10.771797,\n",
       "  'MDL': 22.343864,\n",
       "  'MGA': 3478.168258,\n",
       "  'MKD': 61.675488,\n",
       "  'MMK': 1407.859638,\n",
       "  'MNT': 2176.200332,\n",
       "  'MOP': 8.720062,\n",
       "  'MRO': 366.985934,\n",
       "  'MUR': 39.243944,\n",
       "  'MVR': 16.666576,\n",
       "  'MWK': 770.837583,\n",
       "  'MXN': 20.044516,\n",
       "  'MYR': 4.636976,\n",
       "  'MZN': 49.53631,\n",
       "  'NAD': 17.833691,\n",
       "  'NGN': 216.20171,\n",
       "  'NIO': 30.061684,\n",
       "  'NOK': 9.466752,\n",
       "  'NPR': 117.805364,\n",
       "  'NZD': 1.673047,\n",
       "  'OMR': 0.418382,\n",
       "  'PAB': 1.086561,\n",
       "  'PEN': 3.761785,\n",
       "  'PGK': 3.27321,\n",
       "  'PHP': 52.177077,\n",
       "  'PKR': 114.032,\n",
       "  'PLN': 4.454915,\n",
       "  'PYG': 6453.313196,\n",
       "  'QAR': 3.958007,\n",
       "  'RON': 4.534513,\n",
       "  'RSD': 123.273591,\n",
       "  'RUB': 85.537408,\n",
       "  'RWF': 811.845415,\n",
       "  'SAR': 4.076612,\n",
       "  'SBD': 8.871363,\n",
       "  'SCR': 14.265227,\n",
       "  'SDG': 6.630971,\n",
       "  'SEK': 9.289385,\n",
       "  'SGD': 1.550432,\n",
       "  'SHP': 0.757253,\n",
       "  'SLL': 4478.803914,\n",
       "  'SOS': 671.150318,\n",
       "  'SRD': 4.338094,\n",
       "  'STD': 24561.436868,\n",
       "  'SVC': 9.495542,\n",
       "  'SYP': 238.934734,\n",
       "  'SZL': 17.83619,\n",
       "  'THB': 38.950752,\n",
       "  'TJS': 8.364998,\n",
       "  'TMT': 3.804557,\n",
       "  'TND': 2.219164,\n",
       "  'TOP': 2.493078,\n",
       "  'TRY': 3.269079,\n",
       "  'TTD': 6.999677,\n",
       "  'TWD': 36.408514,\n",
       "  'TZS': 2378.121408,\n",
       "  'UAH': 27.008644,\n",
       "  'UGX': 3775.58715,\n",
       "  'USD': 1.086561,\n",
       "  'UYU': 33.701902,\n",
       "  'UZS': 3064.356985,\n",
       "  'VEF': 6.867559,\n",
       "  'VND': 24267.775683,\n",
       "  'VUV': 124.236012,\n",
       "  'WST': 2.849591,\n",
       "  'XAF': 658.116362,\n",
       "  'XAG': 0.074814,\n",
       "  'XAU': 0.000969,\n",
       "  'XCD': 2.934823,\n",
       "  'XDR': 0.787598,\n",
       "  'XOF': 660.390925,\n",
       "  'XPF': 119.468985,\n",
       "  'YER': 233.667416,\n",
       "  'ZAR': 17.829127,\n",
       "  'ZMK': 5707.786029,\n",
       "  'ZMW': 12.228889,\n",
       "  'ZWL': 350.293368}}"
      ]
     },
     "execution_count": 162,
     "metadata": {},
     "output_type": "execute_result"
    }
   ],
   "source": [
    "data = requests.get(param_url).json()\n",
    "data"
   ]
  },
  {
   "cell_type": "markdown",
   "metadata": {},
   "source": [
    "**Using time series endpoint**"
   ]
  },
  {
   "cell_type": "raw",
   "metadata": {},
   "source": [
    "\n",
    "// \"timeseries\" endpoint - request exchange rates for a specific period of time\n",
    "\n",
    "http://api.exchangeratesapi.io/v1/timeseries\n",
    "\n",
    "    ? access_key = YOUR_ACCESS_KEY\n",
    "    & start_date = YYYY-MM-DD\n",
    "    & end_date = YYYY-MM-DD\n",
    "    & base = EUR\n",
    "    & symbols = USD,AUD,CAD,PLN,MXN"
   ]
  },
  {
   "cell_type": "markdown",
   "metadata": {},
   "source": [
    "### Create a simple currency converter "
   ]
  },
  {
   "cell_type": "code",
   "execution_count": 189,
   "metadata": {},
   "outputs": [
    {
     "name": "stdout",
     "output_type": "stream",
     "text": [
      "Please enter the date (in yyyy-mm-dd format or latest :)2009-07-03\n",
      "convert from (currency) :GBP\n",
      "convert to (currency) :USD\n",
      "How much GBP you want to convert :26\n",
      "\n",
      "{'success': True, 'timestamp': 1246665599, 'historical': True, 'base': 'EUR', 'date': '2009-07-03', 'rates': {'GBP': 0.855718}}\n",
      "\n",
      "{'success': True, 'timestamp': 1246665599, 'historical': True, 'base': 'EUR', 'date': '2009-07-03', 'rates': {'USD': 1.399369}}\n",
      "\n",
      " 26.0 GBP is equal to 42.51820576404844 USD based on exchange rates on 2009-07-03\n"
     ]
    }
   ],
   "source": [
    "date = input(\"Please enter the date (in yyyy-mm-dd format or latest :)\")\n",
    "base = input(\"convert from (currency) :\")\n",
    "curr = input(\"convert to (currency) :\")\n",
    "quan = float(input(\"How much {} you want to convert :\".format(base)))\n",
    "\n",
    "param_url_1 = \"{}/{}?access_key=8045132d************************&format=1&symbols={}\".format(base_url,date,base)\n",
    "param_url_2 = \"{}/{}?access_key=8045132d************************&format=1&symbols={}\".format(base_url,date,curr)\n",
    "\n",
    "response_base = requests.get(param_url_1)\n",
    "response_curr = requests.get(param_url_2)\n",
    "\n",
    "if(response_base.ok is True and response_curr.ok is True):\n",
    "    data_base = response_base.json()\n",
    "    print(\"\\n{}\".format(data_base))\n",
    "    data_curr = response_curr.json()\n",
    "    print(\"\\n{}\".format(data_curr))\n",
    "    \n",
    "    rate = data_curr['rates'][curr]/data_base['rates'][base]\n",
    "    result = quan*rate\n",
    "\n",
    "print(\"\\n {0} {1} is equal to {2} {3} based on exchange rates on {4}\".format(quan,base,result,curr,date))"
   ]
  }
 ],
 "metadata": {
  "kernelspec": {
   "display_name": "Python 3",
   "language": "python",
   "name": "python3"
  },
  "language_info": {
   "codemirror_mode": {
    "name": "ipython",
    "version": 3
   },
   "file_extension": ".py",
   "mimetype": "text/x-python",
   "name": "python",
   "nbconvert_exporter": "python",
   "pygments_lexer": "ipython3",
   "version": "3.8.5"
  }
 },
 "nbformat": 4,
 "nbformat_minor": 4
}
